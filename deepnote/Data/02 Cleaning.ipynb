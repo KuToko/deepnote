{
  "cells": [
    {
      "cell_type": "markdown",
      "source": "Import module and library used",
      "metadata": {
        "formattedRanges": [],
        "cell_id": "9684684fcee341ff86f3d22e13c6801a",
        "deepnote_cell_type": "text-cell-p"
      }
    },
    {
      "cell_type": "code",
      "source": "import pandas as pd\nimport json\nimport os\nimport uuid\nfrom icecream import ic\nimport datetime\nimport re",
      "metadata": {
        "source_hash": "d8d42844",
        "execution_start": 1686869182684,
        "execution_millis": 2,
        "deepnote_to_be_reexecuted": false,
        "cell_id": "6af5158449ec4eb598eee1435e84e78e",
        "deepnote_cell_type": "code"
      },
      "outputs": [],
      "execution_count": 1
    },
    {
      "cell_type": "markdown",
      "source": "Call directory path business_details",
      "metadata": {
        "formattedRanges": [
          {
            "type": "marks",
            "marks": {
              "bold": true
            },
            "toCodePoint": 36,
            "fromCodePoint": 20
          }
        ],
        "cell_id": "33ef6a7e192e48ca8aa4848e1ebad65b",
        "deepnote_cell_type": "text-cell-p"
      }
    },
    {
      "cell_type": "code",
      "source": "directory = 'business_details'",
      "metadata": {
        "source_hash": "cc80aed8",
        "execution_start": 1686869182685,
        "execution_millis": 1,
        "deepnote_to_be_reexecuted": false,
        "cell_id": "f7ffb32288984246b8d24e719618d5e0",
        "deepnote_cell_type": "code"
      },
      "outputs": [],
      "execution_count": 2
    },
    {
      "cell_type": "markdown",
      "source": "Determine each column in business_details ",
      "metadata": {
        "formattedRanges": [
          {
            "type": "marks",
            "marks": {
              "bold": true
            },
            "toCodePoint": 41,
            "fromCodePoint": 25
          }
        ],
        "cell_id": "244364dce2554d0d921f559f4296c735",
        "deepnote_cell_type": "text-cell-p"
      }
    },
    {
      "cell_type": "code",
      "source": "columns = [\"id\", \"claim_by\", \"created_by\", \"province_id\", \"province_name\", \"regency_id\", \"regency_name\", \"district_id\", \"district_name\", \"village_id\", \"village_name\", \"username\", \"name\", \"latitude\", \"longitude\", \"address\", \"postal_code\", \"avatar\", \"description\", \"released_at\", \"google_maps_rating\", \"created_at\", \"updated_at\", \"deleted_at\", \"is_monday_open\", \"monday_start_time\", \"monday_end_time\", \"monday_notes\", \"is_tuesday_open\", \"tuesday_start_time\", \"tuesday_end_time\", \"tuesday_notes\", \"is_wednesday_open\", \"wednesday_start_time\", \"wednesday_end_time\", \"wednesday_notes\", \"is_thursday_open\", \"thursday_start_time\", \"thursday_end_time\", \"thursday_notes\", \"is_friday_open\", \"friday_start_time\", \"friday_end_time\", \"friday_notes\", \"is_saturday_open\", \"saturday_start_time\", \"saturday_end_time\", \"saturday_notes\", \"is_sunday_open\", \"sunday_start_time\", \"sunday_end_time\", \"sunday_notes\", \"place_id\", \"added_from_system\", \"google_maps_link\", \"categories\"]",
      "metadata": {
        "source_hash": "66ed0951",
        "execution_start": 1686869182702,
        "execution_millis": 1,
        "deepnote_to_be_reexecuted": false,
        "cell_id": "3ff9c31f52d64c2eab94108516e4d7ff",
        "deepnote_cell_type": "code"
      },
      "outputs": [],
      "execution_count": 3
    },
    {
      "cell_type": "markdown",
      "source": "Cleaning and extracting each feature from JSON file to CSV file",
      "metadata": {
        "formattedRanges": [],
        "cell_id": "67899402ec224e06ad6c0c19c4277bd3",
        "deepnote_cell_type": "text-cell-p"
      }
    },
    {
      "cell_type": "code",
      "source": "businesses = pd.DataFrame(columns=columns)\nfor filename in os.listdir(directory):\n    if filename.endswith('.json'):\n        file_path = os.path.join(directory, filename)\n        with open(file_path, 'r')as file:\n            json_data = file.read()\n\n        try:\n            data = json.loads(json_data)\n            result = data[\"result\"]\n        except json.JSONDecodeError as e:\n            ic(\"JSON string is not valid:\", e)\n            ic(f\"file: {filename}\")\n            os.remove(file_path)\n            continue\n\n        # if filename == 'ChIJ_XHpnKPl2S0Rp02-zEYeSbI.json':\n        #     ic(data)\n        \n        for item in result:\n            id = str(uuid.uuid4())\n            name = result[\"name\"]\n            address = result[\"vicinity\"]\n            latitude = result[\"geometry\"][\"location\"][\"lat\"]\n            longitude = result[\"geometry\"][\"location\"][\"lng\"]\n            rating = result.get(\"rating\", 0)\n            categories = \", \".join(result.get(\"types\", []))\n            opening_hours = result.get(\"opening_hours\", {})\n            url = result[\"url\"]\n\n        for component in result[\"address_components\"]:\n            if \"administrative_area_level_1\" in component[\"types\"]:\n                province = component[\"long_name\"]\n                if \"Java\" in province:\n                    if \"East Java\" in province:\n                        province = \"Jawa Timur\"\n                    elif \"Central Java\" in province:\n                        province = \"Jawa Tengah\"\n                elif \"Yogyakarta\" in province:\n                    province = \"DI Yogyakarta\"\n            elif \"administrative_area_level_2\" in component[\"types\"]:\n                regency = component[\"long_name\"]\n                if \"Regency\" in regency:\n                    regency = regency.replace(\"Regency \", \"\")\n                    regency = \"Kabupaten \" + district\n                elif \"City\" in regency:\n                    regency = regency.replace(\" City\", \"\")\n                    regency = \"Kota \" + district\n            elif \"administrative_area_level_3\" in component[\"types\"]:\n                district = component[\"long_name\"].replace(\"Kecamatan \", \"\")\n            elif \"administrative_area_level_4\" in component[\"types\"]:\n                village = component[\"long_name\"]\n            elif \"postal_code\" in component[\"types\"]:\n                postal_code = component[\"long_name\"]\n        \n        created_at = datetime.datetime.now().strftime(\"%Y-%m-%d %H:%M:%S\")\n        place_id = result[\"place_id\"]\n\n        new_business = {'id': id,\n                        'claim_by': None,\n                        'created_by': None,\n                        'province_id': None,\n                        'province_name': province,\n                        'regency_id': None,\n                        'regency_name': regency,\n                        'district_id': None,\n                        'district_name': district,\n                        'village_id': None,\n                        'village_name': village,\n                        'username': None,\n                        'name': name,\n                        'latitude': latitude,\n                        'longitude': longitude,\n                        'address': address,\n                        'postal_code': postal_code,\n                        'avatar': None,\n                        'description': None,\n                        'released_at': None,\n                        'google_maps_rating': rating,\n                        'created_at': created_at,\n                        'updated_at': None,\n                        'deleted_at': None,\n                        'place_id': place_id,\n                        'added_from_system': True,\n                        'google_maps_link': url,\n                        'categories': categories\n                        }\n        \n        days_open = {}\n        weekday_text = opening_hours[\"weekday_text\"] if opening_hours else {}\n        days = ['Monday', 'Tuesday', 'Wednesday', 'Thursday', 'Friday', 'Saturday', 'Sunday']\n        for i, day in enumerate(days):\n            open_key = f'is_{day.lower()}_open'\n            start_key = f'{day.lower()}_start_time'\n            end_key = f'{day.lower()}_end_time'\n            notes_key = f'{day.lower()}_notes'\n            if weekday_text:\n                data_day = weekday_text[i]\n                is_open = True if re.search(r'–\\u2009', data_day) else False\n                try:\n                    start_time, end_time = re.findall(r'\\d{1,2}:\\d{2}\\u202f\\w{2}', data_day)\n                    start_time_hour = int(re.findall(r'\\d{1,2}', start_time)[0])\n                    end_time_hour = int(re.findall(r'\\d{1,2}', end_time)[0])\n\n                    if 'PM' in start_time:\n                        start_time_hour += 12\n                    if 'PM' in end_time:\n                        end_time_hour += 12\n\n                    start_time = '{:02d}:{}'.format(start_time_hour, re.findall(r':\\d{2}', start_time)[0][1:3])\n                    end_time = '{:02d}:{}'.format(end_time_hour, re.findall(r':\\d{2}', end_time)[0][1:3])\n                except:\n                    start_time = None\n                    end_time = None\n                \n                days_open[open_key] = is_open\n                days_open[start_key] = start_time\n                days_open[end_key] = end_time\n                days_open[notes_key] = None\n            else:\n                days_open[open_key] = None\n                days_open[start_key] = None\n                days_open[end_key] = None\n                days_open[notes_key] = None\n        \n        new_business.update(days_open)\n        businesses = businesses.append(new_business,  ignore_index=True)",
      "metadata": {
        "source_hash": "6f40ba8d",
        "execution_start": 1686869182702,
        "execution_millis": 14957,
        "deepnote_to_be_reexecuted": false,
        "cell_id": "1efe9f8932f14e2b93cae48715c6b2fe",
        "deepnote_cell_type": "code"
      },
      "outputs": [],
      "execution_count": 4
    },
    {
      "cell_type": "code",
      "source": "businesses.to_csv('businesses.csv', index=False)",
      "metadata": {
        "source_hash": "d659fa21",
        "execution_start": 1686869197660,
        "execution_millis": 41,
        "deepnote_to_be_reexecuted": false,
        "cell_id": "7c5c8027a24f4264b5391a87d34a006f",
        "deepnote_cell_type": "code"
      },
      "outputs": [],
      "execution_count": 5
    },
    {
      "cell_type": "markdown",
      "source": "<a style='text-decoration:none;line-height:16px;display:flex;color:#5B5B62;padding:10px;justify-content:end;' href='https://deepnote.com?utm_source=created-in-deepnote-cell&projectId=fa0ff5c2-b244-406d-b1f4-a2f4cd653e27' target=\"_blank\">\n<img alt='Created in deepnote.com' style='display:inline;max-height:16px;margin:0px;margin-right:7.5px;' src='data:image/svg+xml;base64,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' > </img>\nCreated in <span style='font-weight:600;margin-left:4px;'>Deepnote</span></a>",
      "metadata": {
        "created_in_deepnote_cell": true,
        "deepnote_cell_type": "markdown"
      }
    }
  ],
  "nbformat": 4,
  "nbformat_minor": 0,
  "metadata": {
    "deepnote": {},
    "orig_nbformat": 2,
    "deepnote_notebook_id": "6500b22eb24c4334a273c6746826e4cc",
    "deepnote_persisted_session": {
      "createdAt": "2023-05-31T15:21:45.189Z"
    },
    "deepnote_execution_queue": []
  }
}