{
  "cells": [
    {
      "cell_type": "code",
      "source": "import pandas as pd",
      "metadata": {
        "source_hash": "9b82ee11",
        "execution_start": 1686869206549,
        "execution_millis": 2,
        "deepnote_to_be_reexecuted": false,
        "cell_id": "4054b77703554edbaaed570ffe65d06b",
        "deepnote_cell_type": "code"
      },
      "outputs": [],
      "execution_count": 1
    },
    {
      "cell_type": "markdown",
      "source": "Get provinsi dari database",
      "metadata": {
        "formattedRanges": [],
        "cell_id": "0d3cb17082b640c48e9ed2664b183424",
        "deepnote_cell_type": "text-cell-p"
      }
    },
    {
      "cell_type": "code",
      "source": "provinces = _deepnote_execute_sql('SELECT * FROM provinces', 'SQL_5C5D2FB1_2915_47AF_A658_34E9F21C61A9', audit_sql_comment='', sql_cache_mode='cache_disabled')\nprovinces",
      "metadata": {
        "source_hash": "bc4ee343",
        "execution_start": 1686869206550,
        "execution_millis": 4753,
        "sql_integration_id": "5c5d2fb1-2915-47af-a658-34e9f21c61a9",
        "deepnote_variable_name": "provinces",
        "deepnote_to_be_reexecuted": false,
        "cell_id": "a7670a7046ad4ee285e5ec442c543ab7",
        "deepnote_cell_type": "sql",
        "deepnote_sql_source": "SELECT * FROM provinces"
      },
      "outputs": [
        {
          "data": {
            "application/vnd.deepnote.sql-output-metadata+json": {
              "status": "success_no_cache",
              "size_in_bytes": 5644
            }
          },
          "metadata": {},
          "output_type": "display_data"
        },
        {
          "output_type": "execute_result",
          "execution_count": 2,
          "data": {
            "application/vnd.deepnote.dataframe.v3+json": {
              "column_count": 2,
              "row_count": 34,
              "columns": [
                {
                  "name": "id",
                  "dtype": "object",
                  "stats": {
                    "unique_count": 34,
                    "nan_count": 0,
                    "categories": [
                      {
                        "name": "95b50b84-fc5d-40f3-8b8b-6d176a5815d0",
                        "count": 1
                      },
                      {
                        "name": "4a47a7dc-69ef-455c-af9e-154b4b7abed8",
                        "count": 1
                      },
                      {
                        "name": "32 others",
                        "count": 32
                      }
                    ]
                  }
                },
                {
                  "name": "name",
                  "dtype": "object",
                  "stats": {
                    "unique_count": 34,
                    "nan_count": 0,
                    "categories": [
                      {
                        "name": "ACEH",
                        "count": 1
                      },
                      {
                        "name": "SUMATERA UTARA",
                        "count": 1
                      },
                      {
                        "name": "32 others",
                        "count": 32
                      }
                    ]
                  }
                },
                {
                  "name": "_deepnote_index_column",
                  "dtype": "int64"
                }
              ],
              "rows": [
                {
                  "id": "95b50b84-fc5d-40f3-8b8b-6d176a5815d0",
                  "name": "ACEH",
                  "_deepnote_index_column": 0
                },
                {
                  "id": "4a47a7dc-69ef-455c-af9e-154b4b7abed8",
                  "name": "SUMATERA UTARA",
                  "_deepnote_index_column": 1
                },
                {
                  "id": "aa28fb87-42c6-4f26-b509-b97aac689100",
                  "name": "SUMATERA BARAT",
                  "_deepnote_index_column": 2
                },
                {
                  "id": "66a63120-626a-46bd-b499-a2ad5b2e97a3",
                  "name": "RIAU",
                  "_deepnote_index_column": 3
                },
                {
                  "id": "5bfdc4f3-c147-40b6-9f14-39b3f47b8ddb",
                  "name": "JAMBI",
                  "_deepnote_index_column": 4
                },
                {
                  "id": "e8f33d77-01fa-4f69-85d4-230acc1bd01b",
                  "name": "SUMATERA SELATAN",
                  "_deepnote_index_column": 5
                },
                {
                  "id": "65bc279f-24dd-4467-ba88-c1fd86849ce5",
                  "name": "BENGKULU",
                  "_deepnote_index_column": 6
                },
                {
                  "id": "e3e556e3-b513-482c-95d4-8dcae2aeca39",
                  "name": "LAMPUNG",
                  "_deepnote_index_column": 7
                },
                {
                  "id": "e652f9cf-69ec-4e09-ab32-52aa395cb4c8",
                  "name": "KEPULAUAN BANGKA BELITUNG",
                  "_deepnote_index_column": 8
                },
                {
                  "id": "9f0a0204-d2f3-49d0-9ad2-3f525f9b2097",
                  "name": "KEPULAUAN RIAU",
                  "_deepnote_index_column": 9
                }
              ]
            },
            "text/plain": "                                      id                       name\n0   95b50b84-fc5d-40f3-8b8b-6d176a5815d0                       ACEH\n1   4a47a7dc-69ef-455c-af9e-154b4b7abed8             SUMATERA UTARA\n2   aa28fb87-42c6-4f26-b509-b97aac689100             SUMATERA BARAT\n3   66a63120-626a-46bd-b499-a2ad5b2e97a3                       RIAU\n4   5bfdc4f3-c147-40b6-9f14-39b3f47b8ddb                      JAMBI\n5   e8f33d77-01fa-4f69-85d4-230acc1bd01b           SUMATERA SELATAN\n6   65bc279f-24dd-4467-ba88-c1fd86849ce5                   BENGKULU\n7   e3e556e3-b513-482c-95d4-8dcae2aeca39                    LAMPUNG\n8   e652f9cf-69ec-4e09-ab32-52aa395cb4c8  KEPULAUAN BANGKA BELITUNG\n9   9f0a0204-d2f3-49d0-9ad2-3f525f9b2097             KEPULAUAN RIAU\n10  566064f5-26b4-436e-9c2d-1909eb09bf4b                DKI JAKARTA\n11  493a82c0-34e2-4574-b329-a156095e75e9                 JAWA BARAT\n12  f3502b89-a312-4a51-afad-64c005540214                JAWA TENGAH\n13  ece42b5b-932f-421d-88e9-91d632e58f73              DI YOGYAKARTA\n14  bfe06315-c043-4c34-a77d-d8d365b2777b                 JAWA TIMUR\n15  5b38a8e5-27a3-497b-bbad-bdbdae174f5f                     BANTEN\n16  bff780f3-2166-4bba-a579-2ecd6ca32c12                       BALI\n17  ff37362d-4bfa-4bb0-8e8a-67ff12e8d6fd        NUSA TENGGARA BARAT\n18  d566bfc8-8c62-4b1d-afb5-2d43b65480a4        NUSA TENGGARA TIMUR\n19  6f2412eb-e670-4c9d-890c-f2d6e6a03419           KALIMANTAN BARAT\n20  1f67be32-2a57-4242-8272-a3980c36d202          KALIMANTAN TENGAH\n21  7f524659-6889-49fc-9ec1-4f66ab571385         KALIMANTAN SELATAN\n22  2f822a7a-d5c5-4a73-a63a-4d855891dfe2           KALIMANTAN TIMUR\n23  bfb2ab3b-c0fd-434a-8d97-e241d572305e           KALIMANTAN UTARA\n24  f0f5c981-0131-4b14-8c2b-35f327b9a428             SULAWESI UTARA\n25  1df8d5f3-c271-43a8-a6e6-5f8cfcf0f2b3            SULAWESI TENGAH\n26  7015c285-6fbc-4d4c-adf6-bbe5d4bee484           SULAWESI SELATAN\n27  b4bc1174-d235-48b1-8c3a-114b426b45a8          SULAWESI TENGGARA\n28  37f433ef-28f6-476a-ae87-5c60528b53e2                  GORONTALO\n29  51812db9-8f68-46fb-891d-f55199c21b8f             SULAWESI BARAT\n30  d8d6c880-3083-40d5-9831-54a0973e7994                     MALUKU\n31  9c41c98e-755c-4640-bffe-a1a3dd48ed21               MALUKU UTARA\n32  a143fc1a-0711-44d7-9ec0-3c30cb76addd                PAPUA BARAT\n33  dbcbabe0-b7b7-4d12-b215-536e8fb66d7d                      PAPUA",
            "text/html": "<div>\n<style scoped>\n    .dataframe tbody tr th:only-of-type {\n        vertical-align: middle;\n    }\n\n    .dataframe tbody tr th {\n        vertical-align: top;\n    }\n\n    .dataframe thead th {\n        text-align: right;\n    }\n</style>\n<table border=\"1\" class=\"dataframe\">\n  <thead>\n    <tr style=\"text-align: right;\">\n      <th></th>\n      <th>id</th>\n      <th>name</th>\n    </tr>\n  </thead>\n  <tbody>\n    <tr>\n      <th>0</th>\n      <td>95b50b84-fc5d-40f3-8b8b-6d176a5815d0</td>\n      <td>ACEH</td>\n    </tr>\n    <tr>\n      <th>1</th>\n      <td>4a47a7dc-69ef-455c-af9e-154b4b7abed8</td>\n      <td>SUMATERA UTARA</td>\n    </tr>\n    <tr>\n      <th>2</th>\n      <td>aa28fb87-42c6-4f26-b509-b97aac689100</td>\n      <td>SUMATERA BARAT</td>\n    </tr>\n    <tr>\n      <th>3</th>\n      <td>66a63120-626a-46bd-b499-a2ad5b2e97a3</td>\n      <td>RIAU</td>\n    </tr>\n    <tr>\n      <th>4</th>\n      <td>5bfdc4f3-c147-40b6-9f14-39b3f47b8ddb</td>\n      <td>JAMBI</td>\n    </tr>\n    <tr>\n      <th>5</th>\n      <td>e8f33d77-01fa-4f69-85d4-230acc1bd01b</td>\n      <td>SUMATERA SELATAN</td>\n    </tr>\n    <tr>\n      <th>6</th>\n      <td>65bc279f-24dd-4467-ba88-c1fd86849ce5</td>\n      <td>BENGKULU</td>\n    </tr>\n    <tr>\n      <th>7</th>\n      <td>e3e556e3-b513-482c-95d4-8dcae2aeca39</td>\n      <td>LAMPUNG</td>\n    </tr>\n    <tr>\n      <th>8</th>\n      <td>e652f9cf-69ec-4e09-ab32-52aa395cb4c8</td>\n      <td>KEPULAUAN BANGKA BELITUNG</td>\n    </tr>\n    <tr>\n      <th>9</th>\n      <td>9f0a0204-d2f3-49d0-9ad2-3f525f9b2097</td>\n      <td>KEPULAUAN RIAU</td>\n    </tr>\n    <tr>\n      <th>10</th>\n      <td>566064f5-26b4-436e-9c2d-1909eb09bf4b</td>\n      <td>DKI JAKARTA</td>\n    </tr>\n    <tr>\n      <th>11</th>\n      <td>493a82c0-34e2-4574-b329-a156095e75e9</td>\n      <td>JAWA BARAT</td>\n    </tr>\n    <tr>\n      <th>12</th>\n      <td>f3502b89-a312-4a51-afad-64c005540214</td>\n      <td>JAWA TENGAH</td>\n    </tr>\n    <tr>\n      <th>13</th>\n      <td>ece42b5b-932f-421d-88e9-91d632e58f73</td>\n      <td>DI YOGYAKARTA</td>\n    </tr>\n    <tr>\n      <th>14</th>\n      <td>bfe06315-c043-4c34-a77d-d8d365b2777b</td>\n      <td>JAWA TIMUR</td>\n    </tr>\n    <tr>\n      <th>15</th>\n      <td>5b38a8e5-27a3-497b-bbad-bdbdae174f5f</td>\n      <td>BANTEN</td>\n    </tr>\n    <tr>\n      <th>16</th>\n      <td>bff780f3-2166-4bba-a579-2ecd6ca32c12</td>\n      <td>BALI</td>\n    </tr>\n    <tr>\n      <th>17</th>\n      <td>ff37362d-4bfa-4bb0-8e8a-67ff12e8d6fd</td>\n      <td>NUSA TENGGARA BARAT</td>\n    </tr>\n    <tr>\n      <th>18</th>\n      <td>d566bfc8-8c62-4b1d-afb5-2d43b65480a4</td>\n      <td>NUSA TENGGARA TIMUR</td>\n    </tr>\n    <tr>\n      <th>19</th>\n      <td>6f2412eb-e670-4c9d-890c-f2d6e6a03419</td>\n      <td>KALIMANTAN BARAT</td>\n    </tr>\n    <tr>\n      <th>20</th>\n      <td>1f67be32-2a57-4242-8272-a3980c36d202</td>\n      <td>KALIMANTAN TENGAH</td>\n    </tr>\n    <tr>\n      <th>21</th>\n      <td>7f524659-6889-49fc-9ec1-4f66ab571385</td>\n      <td>KALIMANTAN SELATAN</td>\n    </tr>\n    <tr>\n      <th>22</th>\n      <td>2f822a7a-d5c5-4a73-a63a-4d855891dfe2</td>\n      <td>KALIMANTAN TIMUR</td>\n    </tr>\n    <tr>\n      <th>23</th>\n      <td>bfb2ab3b-c0fd-434a-8d97-e241d572305e</td>\n      <td>KALIMANTAN UTARA</td>\n    </tr>\n    <tr>\n      <th>24</th>\n      <td>f0f5c981-0131-4b14-8c2b-35f327b9a428</td>\n      <td>SULAWESI UTARA</td>\n    </tr>\n    <tr>\n      <th>25</th>\n      <td>1df8d5f3-c271-43a8-a6e6-5f8cfcf0f2b3</td>\n      <td>SULAWESI TENGAH</td>\n    </tr>\n    <tr>\n      <th>26</th>\n      <td>7015c285-6fbc-4d4c-adf6-bbe5d4bee484</td>\n      <td>SULAWESI SELATAN</td>\n    </tr>\n    <tr>\n      <th>27</th>\n      <td>b4bc1174-d235-48b1-8c3a-114b426b45a8</td>\n      <td>SULAWESI TENGGARA</td>\n    </tr>\n    <tr>\n      <th>28</th>\n      <td>37f433ef-28f6-476a-ae87-5c60528b53e2</td>\n      <td>GORONTALO</td>\n    </tr>\n    <tr>\n      <th>29</th>\n      <td>51812db9-8f68-46fb-891d-f55199c21b8f</td>\n      <td>SULAWESI BARAT</td>\n    </tr>\n    <tr>\n      <th>30</th>\n      <td>d8d6c880-3083-40d5-9831-54a0973e7994</td>\n      <td>MALUKU</td>\n    </tr>\n    <tr>\n      <th>31</th>\n      <td>9c41c98e-755c-4640-bffe-a1a3dd48ed21</td>\n      <td>MALUKU UTARA</td>\n    </tr>\n    <tr>\n      <th>32</th>\n      <td>a143fc1a-0711-44d7-9ec0-3c30cb76addd</td>\n      <td>PAPUA BARAT</td>\n    </tr>\n    <tr>\n      <th>33</th>\n      <td>dbcbabe0-b7b7-4d12-b215-536e8fb66d7d</td>\n      <td>PAPUA</td>\n    </tr>\n  </tbody>\n</table>\n</div>"
          },
          "metadata": {}
        }
      ],
      "execution_count": 2
    },
    {
      "cell_type": "code",
      "source": "regencies = _deepnote_execute_sql('SELECT * FROM regencies', 'SQL_5C5D2FB1_2915_47AF_A658_34E9F21C61A9', audit_sql_comment='', sql_cache_mode='cache_disabled')\nregencies",
      "metadata": {
        "source_hash": "345b2a8f",
        "execution_start": 1686869211307,
        "execution_millis": 4854,
        "sql_integration_id": "5c5d2fb1-2915-47af-a658-34e9f21c61a9",
        "deepnote_variable_name": "regencies",
        "deepnote_to_be_reexecuted": false,
        "cell_id": "83b930d309b245c0bd6c217024af8bd0",
        "deepnote_cell_type": "sql",
        "deepnote_sql_source": "SELECT * FROM regencies"
      },
      "outputs": [
        {
          "data": {
            "application/vnd.deepnote.sql-output-metadata+json": {
              "status": "success_no_cache",
              "size_in_bytes": 134780
            }
          },
          "metadata": {},
          "output_type": "display_data"
        },
        {
          "output_type": "execute_result",
          "execution_count": 3,
          "data": {
            "application/vnd.deepnote.dataframe.v3+json": {
              "column_count": 3,
              "row_count": 514,
              "columns": [
                {
                  "name": "id",
                  "dtype": "object",
                  "stats": {
                    "unique_count": 514,
                    "nan_count": 0,
                    "categories": [
                      {
                        "name": "8bb5d094-9de2-487e-b663-72fe5885397d",
                        "count": 1
                      },
                      {
                        "name": "42d8cddb-5bc3-46e5-aba9-906952e7674c",
                        "count": 1
                      },
                      {
                        "name": "512 others",
                        "count": 512
                      }
                    ]
                  }
                },
                {
                  "name": "province_id",
                  "dtype": "object",
                  "stats": {
                    "unique_count": 34,
                    "nan_count": 0,
                    "categories": [
                      {
                        "name": "bfe06315-c043-4c34-a77d-d8d365b2777b",
                        "count": 38
                      },
                      {
                        "name": "f3502b89-a312-4a51-afad-64c005540214",
                        "count": 35
                      },
                      {
                        "name": "32 others",
                        "count": 441
                      }
                    ]
                  }
                },
                {
                  "name": "name",
                  "dtype": "object",
                  "stats": {
                    "unique_count": 514,
                    "nan_count": 0,
                    "categories": [
                      {
                        "name": "KABUPATEN SIMEULUE",
                        "count": 1
                      },
                      {
                        "name": "KABUPATEN ACEH SINGKIL",
                        "count": 1
                      },
                      {
                        "name": "512 others",
                        "count": 512
                      }
                    ]
                  }
                },
                {
                  "name": "_deepnote_index_column",
                  "dtype": "int64"
                }
              ],
              "rows": [
                {
                  "id": "8bb5d094-9de2-487e-b663-72fe5885397d",
                  "province_id": "95b50b84-fc5d-40f3-8b8b-6d176a5815d0",
                  "name": "KABUPATEN SIMEULUE",
                  "_deepnote_index_column": 0
                },
                {
                  "id": "42d8cddb-5bc3-46e5-aba9-906952e7674c",
                  "province_id": "95b50b84-fc5d-40f3-8b8b-6d176a5815d0",
                  "name": "KABUPATEN ACEH SINGKIL",
                  "_deepnote_index_column": 1
                },
                {
                  "id": "35f701e1-8a0d-43e1-844b-a3c430b2d338",
                  "province_id": "95b50b84-fc5d-40f3-8b8b-6d176a5815d0",
                  "name": "KABUPATEN ACEH SELATAN",
                  "_deepnote_index_column": 2
                },
                {
                  "id": "57108966-01d0-4aaf-b5bb-faa61a19857c",
                  "province_id": "95b50b84-fc5d-40f3-8b8b-6d176a5815d0",
                  "name": "KABUPATEN ACEH TENGGARA",
                  "_deepnote_index_column": 3
                },
                {
                  "id": "e87009c2-dce0-4f54-8113-13a1da1f8df0",
                  "province_id": "95b50b84-fc5d-40f3-8b8b-6d176a5815d0",
                  "name": "KABUPATEN ACEH TIMUR",
                  "_deepnote_index_column": 4
                },
                {
                  "id": "784dc80c-1092-425a-a3b5-a2fa87d5c360",
                  "province_id": "95b50b84-fc5d-40f3-8b8b-6d176a5815d0",
                  "name": "KABUPATEN ACEH TENGAH",
                  "_deepnote_index_column": 5
                },
                {
                  "id": "c1b6c532-dfdb-4896-bbc5-d863331cb30d",
                  "province_id": "95b50b84-fc5d-40f3-8b8b-6d176a5815d0",
                  "name": "KABUPATEN ACEH BARAT",
                  "_deepnote_index_column": 6
                },
                {
                  "id": "623eee53-66df-434a-b747-8edba9216810",
                  "province_id": "95b50b84-fc5d-40f3-8b8b-6d176a5815d0",
                  "name": "KABUPATEN ACEH BESAR",
                  "_deepnote_index_column": 7
                },
                {
                  "id": "1005fe3b-29e3-4e42-8790-0b270a16eb55",
                  "province_id": "95b50b84-fc5d-40f3-8b8b-6d176a5815d0",
                  "name": "KABUPATEN PIDIE",
                  "_deepnote_index_column": 8
                },
                {
                  "id": "d63e8181-fbef-495f-aa97-5edc6a4cda4f",
                  "province_id": "95b50b84-fc5d-40f3-8b8b-6d176a5815d0",
                  "name": "KABUPATEN BIREUEN",
                  "_deepnote_index_column": 9
                }
              ]
            },
            "text/plain": "                                       id  \\\n0    8bb5d094-9de2-487e-b663-72fe5885397d   \n1    42d8cddb-5bc3-46e5-aba9-906952e7674c   \n2    35f701e1-8a0d-43e1-844b-a3c430b2d338   \n3    57108966-01d0-4aaf-b5bb-faa61a19857c   \n4    e87009c2-dce0-4f54-8113-13a1da1f8df0   \n..                                    ...   \n509  4381513b-8c85-4a18-9d9b-a9b492189bd3   \n510  ff1cf0f1-48a8-496e-9c18-e2a1ddf11032   \n511  d20008cb-c7a2-4d7e-b3c3-8d41f864066c   \n512  a75981e3-8c2f-4044-ba40-d5513654204a   \n513  e71b38f0-7ec4-4455-b7e5-1db9f09fc5b5   \n\n                              province_id                     name  \n0    95b50b84-fc5d-40f3-8b8b-6d176a5815d0       KABUPATEN SIMEULUE  \n1    95b50b84-fc5d-40f3-8b8b-6d176a5815d0   KABUPATEN ACEH SINGKIL  \n2    95b50b84-fc5d-40f3-8b8b-6d176a5815d0   KABUPATEN ACEH SELATAN  \n3    95b50b84-fc5d-40f3-8b8b-6d176a5815d0  KABUPATEN ACEH TENGGARA  \n4    95b50b84-fc5d-40f3-8b8b-6d176a5815d0     KABUPATEN ACEH TIMUR  \n..                                    ...                      ...  \n509  dbcbabe0-b7b7-4d12-b215-536e8fb66d7d         KABUPATEN PUNCAK  \n510  dbcbabe0-b7b7-4d12-b215-536e8fb66d7d        KABUPATEN DOGIYAI  \n511  dbcbabe0-b7b7-4d12-b215-536e8fb66d7d     KABUPATEN INTAN JAYA  \n512  dbcbabe0-b7b7-4d12-b215-536e8fb66d7d         KABUPATEN DEIYAI  \n513  dbcbabe0-b7b7-4d12-b215-536e8fb66d7d            KOTA JAYAPURA  \n\n[514 rows x 3 columns]",
            "text/html": "<div>\n<style scoped>\n    .dataframe tbody tr th:only-of-type {\n        vertical-align: middle;\n    }\n\n    .dataframe tbody tr th {\n        vertical-align: top;\n    }\n\n    .dataframe thead th {\n        text-align: right;\n    }\n</style>\n<table border=\"1\" class=\"dataframe\">\n  <thead>\n    <tr style=\"text-align: right;\">\n      <th></th>\n      <th>id</th>\n      <th>province_id</th>\n      <th>name</th>\n    </tr>\n  </thead>\n  <tbody>\n    <tr>\n      <th>0</th>\n      <td>8bb5d094-9de2-487e-b663-72fe5885397d</td>\n      <td>95b50b84-fc5d-40f3-8b8b-6d176a5815d0</td>\n      <td>KABUPATEN SIMEULUE</td>\n    </tr>\n    <tr>\n      <th>1</th>\n      <td>42d8cddb-5bc3-46e5-aba9-906952e7674c</td>\n      <td>95b50b84-fc5d-40f3-8b8b-6d176a5815d0</td>\n      <td>KABUPATEN ACEH SINGKIL</td>\n    </tr>\n    <tr>\n      <th>2</th>\n      <td>35f701e1-8a0d-43e1-844b-a3c430b2d338</td>\n      <td>95b50b84-fc5d-40f3-8b8b-6d176a5815d0</td>\n      <td>KABUPATEN ACEH SELATAN</td>\n    </tr>\n    <tr>\n      <th>3</th>\n      <td>57108966-01d0-4aaf-b5bb-faa61a19857c</td>\n      <td>95b50b84-fc5d-40f3-8b8b-6d176a5815d0</td>\n      <td>KABUPATEN ACEH TENGGARA</td>\n    </tr>\n    <tr>\n      <th>4</th>\n      <td>e87009c2-dce0-4f54-8113-13a1da1f8df0</td>\n      <td>95b50b84-fc5d-40f3-8b8b-6d176a5815d0</td>\n      <td>KABUPATEN ACEH TIMUR</td>\n    </tr>\n    <tr>\n      <th>...</th>\n      <td>...</td>\n      <td>...</td>\n      <td>...</td>\n    </tr>\n    <tr>\n      <th>509</th>\n      <td>4381513b-8c85-4a18-9d9b-a9b492189bd3</td>\n      <td>dbcbabe0-b7b7-4d12-b215-536e8fb66d7d</td>\n      <td>KABUPATEN PUNCAK</td>\n    </tr>\n    <tr>\n      <th>510</th>\n      <td>ff1cf0f1-48a8-496e-9c18-e2a1ddf11032</td>\n      <td>dbcbabe0-b7b7-4d12-b215-536e8fb66d7d</td>\n      <td>KABUPATEN DOGIYAI</td>\n    </tr>\n    <tr>\n      <th>511</th>\n      <td>d20008cb-c7a2-4d7e-b3c3-8d41f864066c</td>\n      <td>dbcbabe0-b7b7-4d12-b215-536e8fb66d7d</td>\n      <td>KABUPATEN INTAN JAYA</td>\n    </tr>\n    <tr>\n      <th>512</th>\n      <td>a75981e3-8c2f-4044-ba40-d5513654204a</td>\n      <td>dbcbabe0-b7b7-4d12-b215-536e8fb66d7d</td>\n      <td>KABUPATEN DEIYAI</td>\n    </tr>\n    <tr>\n      <th>513</th>\n      <td>e71b38f0-7ec4-4455-b7e5-1db9f09fc5b5</td>\n      <td>dbcbabe0-b7b7-4d12-b215-536e8fb66d7d</td>\n      <td>KOTA JAYAPURA</td>\n    </tr>\n  </tbody>\n</table>\n<p>514 rows × 3 columns</p>\n</div>"
          },
          "metadata": {}
        }
      ],
      "execution_count": 3
    },
    {
      "cell_type": "code",
      "source": "districts = _deepnote_execute_sql('SELECT * FROM districts', 'SQL_5C5D2FB1_2915_47AF_A658_34E9F21C61A9', audit_sql_comment='', sql_cache_mode='cache_disabled')\ndistricts",
      "metadata": {
        "source_hash": "1df7399c",
        "execution_start": 1686869216208,
        "execution_millis": 5863,
        "sql_integration_id": "5c5d2fb1-2915-47af-a658-34e9f21c61a9",
        "deepnote_variable_name": "districts",
        "deepnote_to_be_reexecuted": false,
        "cell_id": "7fd42ed6a00547b49d6e88871c2ccb91",
        "deepnote_cell_type": "sql",
        "deepnote_sql_source": "SELECT * FROM districts"
      },
      "outputs": [
        {
          "data": {
            "application/vnd.deepnote.sql-output-metadata+json": {
              "status": "success_no_cache",
              "size_in_bytes": 1822337
            }
          },
          "metadata": {},
          "output_type": "display_data"
        },
        {
          "output_type": "execute_result",
          "execution_count": 4,
          "data": {
            "application/vnd.deepnote.dataframe.v3+json": {
              "column_count": 3,
              "row_count": 7215,
              "columns": [
                {
                  "name": "id",
                  "dtype": "object",
                  "stats": {
                    "unique_count": 7215,
                    "nan_count": 0,
                    "categories": [
                      {
                        "name": "801835c4-5302-4d69-8e8a-fdd4be1af6be",
                        "count": 1
                      },
                      {
                        "name": "f70acdb1-cd71-467b-9e20-79d0a7ae7273",
                        "count": 1
                      },
                      {
                        "name": "7213 others",
                        "count": 7213
                      }
                    ]
                  }
                },
                {
                  "name": "regency_id",
                  "dtype": "object",
                  "stats": {
                    "unique_count": 514,
                    "nan_count": 0,
                    "categories": [
                      {
                        "name": "1735bfce-f82a-473c-996b-5cb37bda77f0",
                        "count": 51
                      },
                      {
                        "name": "f269c37f-7939-416f-976f-38f067c3fd78",
                        "count": 47
                      },
                      {
                        "name": "512 others",
                        "count": 7117
                      }
                    ]
                  }
                },
                {
                  "name": "name",
                  "dtype": "object",
                  "stats": {
                    "unique_count": 6839,
                    "nan_count": 0,
                    "categories": [
                      {
                        "name": "KARANGANYAR",
                        "count": 6
                      },
                      {
                        "name": "BATU AMPAR",
                        "count": 5
                      },
                      {
                        "name": "6837 others",
                        "count": 7204
                      }
                    ]
                  }
                },
                {
                  "name": "_deepnote_index_column",
                  "dtype": "int64"
                }
              ],
              "rows": [
                {
                  "id": "801835c4-5302-4d69-8e8a-fdd4be1af6be",
                  "regency_id": "8bb5d094-9de2-487e-b663-72fe5885397d",
                  "name": "TEUPAH SELATAN",
                  "_deepnote_index_column": 0
                },
                {
                  "id": "f70acdb1-cd71-467b-9e20-79d0a7ae7273",
                  "regency_id": "8bb5d094-9de2-487e-b663-72fe5885397d",
                  "name": "SIMEULUE TIMUR",
                  "_deepnote_index_column": 1
                },
                {
                  "id": "05e789e2-5126-4761-b066-9112770c6b7b",
                  "regency_id": "8bb5d094-9de2-487e-b663-72fe5885397d",
                  "name": "TEUPAH BARAT",
                  "_deepnote_index_column": 2
                },
                {
                  "id": "ea813b09-75f8-4449-a4e6-3f909c0f8fa9",
                  "regency_id": "8bb5d094-9de2-487e-b663-72fe5885397d",
                  "name": "TEUPAH TENGAH",
                  "_deepnote_index_column": 3
                },
                {
                  "id": "dec63d83-6683-46fb-b740-3b08de234935",
                  "regency_id": "8bb5d094-9de2-487e-b663-72fe5885397d",
                  "name": "SIMEULUE TENGAH",
                  "_deepnote_index_column": 4
                },
                {
                  "id": "4bf4a26f-4a13-457f-aca5-8f88abe78e3a",
                  "regency_id": "8bb5d094-9de2-487e-b663-72fe5885397d",
                  "name": "TELUK DALAM",
                  "_deepnote_index_column": 5
                },
                {
                  "id": "dfba3309-d0af-46dd-8ccb-4deb79531226",
                  "regency_id": "8bb5d094-9de2-487e-b663-72fe5885397d",
                  "name": "SIMEULUE CUT",
                  "_deepnote_index_column": 6
                },
                {
                  "id": "e0569759-0bf2-4b57-966d-ae89333e8159",
                  "regency_id": "8bb5d094-9de2-487e-b663-72fe5885397d",
                  "name": "SALANG",
                  "_deepnote_index_column": 7
                },
                {
                  "id": "018fb1df-b3a4-4c12-a9cf-162638d62aed",
                  "regency_id": "8bb5d094-9de2-487e-b663-72fe5885397d",
                  "name": "SIMEULUE BARAT",
                  "_deepnote_index_column": 8
                },
                {
                  "id": "3ebdf45c-0e75-42eb-964b-6ed032b01f20",
                  "regency_id": "8bb5d094-9de2-487e-b663-72fe5885397d",
                  "name": "ALAFAN",
                  "_deepnote_index_column": 9
                }
              ]
            },
            "text/plain": "                                        id  \\\n0     801835c4-5302-4d69-8e8a-fdd4be1af6be   \n1     f70acdb1-cd71-467b-9e20-79d0a7ae7273   \n2     05e789e2-5126-4761-b066-9112770c6b7b   \n3     ea813b09-75f8-4449-a4e6-3f909c0f8fa9   \n4     dec63d83-6683-46fb-b740-3b08de234935   \n...                                    ...   \n7210  2e888826-287d-4fd2-af9a-94ffbc7c0441   \n7211  83d4f6db-4ea8-4f4f-aef0-ce17fbb0c589   \n7212  fee1de13-51a2-49a0-85e4-a6a8146ef2d2   \n7213  dc2a33b5-d7b3-4f5d-b518-18d6326bfc30   \n7214  07cceeb4-afb9-4004-bef7-e76c7767d213   \n\n                                regency_id              name  \n0     8bb5d094-9de2-487e-b663-72fe5885397d    TEUPAH SELATAN  \n1     8bb5d094-9de2-487e-b663-72fe5885397d    SIMEULUE TIMUR  \n2     8bb5d094-9de2-487e-b663-72fe5885397d      TEUPAH BARAT  \n3     8bb5d094-9de2-487e-b663-72fe5885397d     TEUPAH TENGAH  \n4     8bb5d094-9de2-487e-b663-72fe5885397d   SIMEULUE TENGAH  \n...                                    ...               ...  \n7210  e71b38f0-7ec4-4455-b7e5-1db9f09fc5b5        MUARA TAMI  \n7211  e71b38f0-7ec4-4455-b7e5-1db9f09fc5b5           ABEPURA  \n7212  e71b38f0-7ec4-4455-b7e5-1db9f09fc5b5             HERAM  \n7213  e71b38f0-7ec4-4455-b7e5-1db9f09fc5b5  JAYAPURA SELATAN  \n7214  e71b38f0-7ec4-4455-b7e5-1db9f09fc5b5    JAYAPURA UTARA  \n\n[7215 rows x 3 columns]",
            "text/html": "<div>\n<style scoped>\n    .dataframe tbody tr th:only-of-type {\n        vertical-align: middle;\n    }\n\n    .dataframe tbody tr th {\n        vertical-align: top;\n    }\n\n    .dataframe thead th {\n        text-align: right;\n    }\n</style>\n<table border=\"1\" class=\"dataframe\">\n  <thead>\n    <tr style=\"text-align: right;\">\n      <th></th>\n      <th>id</th>\n      <th>regency_id</th>\n      <th>name</th>\n    </tr>\n  </thead>\n  <tbody>\n    <tr>\n      <th>0</th>\n      <td>801835c4-5302-4d69-8e8a-fdd4be1af6be</td>\n      <td>8bb5d094-9de2-487e-b663-72fe5885397d</td>\n      <td>TEUPAH SELATAN</td>\n    </tr>\n    <tr>\n      <th>1</th>\n      <td>f70acdb1-cd71-467b-9e20-79d0a7ae7273</td>\n      <td>8bb5d094-9de2-487e-b663-72fe5885397d</td>\n      <td>SIMEULUE TIMUR</td>\n    </tr>\n    <tr>\n      <th>2</th>\n      <td>05e789e2-5126-4761-b066-9112770c6b7b</td>\n      <td>8bb5d094-9de2-487e-b663-72fe5885397d</td>\n      <td>TEUPAH BARAT</td>\n    </tr>\n    <tr>\n      <th>3</th>\n      <td>ea813b09-75f8-4449-a4e6-3f909c0f8fa9</td>\n      <td>8bb5d094-9de2-487e-b663-72fe5885397d</td>\n      <td>TEUPAH TENGAH</td>\n    </tr>\n    <tr>\n      <th>4</th>\n      <td>dec63d83-6683-46fb-b740-3b08de234935</td>\n      <td>8bb5d094-9de2-487e-b663-72fe5885397d</td>\n      <td>SIMEULUE TENGAH</td>\n    </tr>\n    <tr>\n      <th>...</th>\n      <td>...</td>\n      <td>...</td>\n      <td>...</td>\n    </tr>\n    <tr>\n      <th>7210</th>\n      <td>2e888826-287d-4fd2-af9a-94ffbc7c0441</td>\n      <td>e71b38f0-7ec4-4455-b7e5-1db9f09fc5b5</td>\n      <td>MUARA TAMI</td>\n    </tr>\n    <tr>\n      <th>7211</th>\n      <td>83d4f6db-4ea8-4f4f-aef0-ce17fbb0c589</td>\n      <td>e71b38f0-7ec4-4455-b7e5-1db9f09fc5b5</td>\n      <td>ABEPURA</td>\n    </tr>\n    <tr>\n      <th>7212</th>\n      <td>fee1de13-51a2-49a0-85e4-a6a8146ef2d2</td>\n      <td>e71b38f0-7ec4-4455-b7e5-1db9f09fc5b5</td>\n      <td>HERAM</td>\n    </tr>\n    <tr>\n      <th>7213</th>\n      <td>dc2a33b5-d7b3-4f5d-b518-18d6326bfc30</td>\n      <td>e71b38f0-7ec4-4455-b7e5-1db9f09fc5b5</td>\n      <td>JAYAPURA SELATAN</td>\n    </tr>\n    <tr>\n      <th>7214</th>\n      <td>07cceeb4-afb9-4004-bef7-e76c7767d213</td>\n      <td>e71b38f0-7ec4-4455-b7e5-1db9f09fc5b5</td>\n      <td>JAYAPURA UTARA</td>\n    </tr>\n  </tbody>\n</table>\n<p>7215 rows × 3 columns</p>\n</div>"
          },
          "metadata": {}
        }
      ],
      "execution_count": 4
    },
    {
      "cell_type": "code",
      "source": "villages = _deepnote_execute_sql('SELECT * FROM villages', 'SQL_5C5D2FB1_2915_47AF_A658_34E9F21C61A9', audit_sql_comment='', sql_cache_mode='cache_disabled')\nvillages",
      "metadata": {
        "source_hash": "cf249ef3",
        "execution_start": 1686869222075,
        "execution_millis": 7730,
        "sql_integration_id": "5c5d2fb1-2915-47af-a658-34e9f21c61a9",
        "deepnote_variable_name": "villages",
        "deepnote_to_be_reexecuted": false,
        "cell_id": "69709766f72b483780bdf19cb3e00d86",
        "deepnote_cell_type": "sql",
        "deepnote_sql_source": "SELECT * FROM villages"
      },
      "outputs": [
        {
          "data": {
            "application/vnd.deepnote.sql-output-metadata+json": {
              "status": "success_no_cache",
              "size_in_bytes": 20351323
            }
          },
          "metadata": {},
          "output_type": "display_data"
        },
        {
          "output_type": "execute_result",
          "execution_count": 5,
          "data": {
            "application/vnd.deepnote.dataframe.v3+json": {
              "column_count": 3,
              "row_count": 80534,
              "columns": [
                {
                  "name": "id",
                  "dtype": "object",
                  "stats": {
                    "unique_count": 80534,
                    "nan_count": 0,
                    "categories": [
                      {
                        "name": "7955fb66-78de-4c94-bf3d-7ab1407668cc",
                        "count": 1
                      },
                      {
                        "name": "7d6f16db-697a-486b-8d49-e7feae6557de",
                        "count": 1
                      },
                      {
                        "name": "80532 others",
                        "count": 80532
                      }
                    ]
                  }
                },
                {
                  "name": "district_id",
                  "dtype": "object"
                },
                {
                  "name": "name",
                  "dtype": "object"
                },
                {
                  "name": "_deepnote_index_column",
                  "dtype": "int64"
                }
              ],
              "rows": [
                {
                  "id": "7955fb66-78de-4c94-bf3d-7ab1407668cc",
                  "district_id": "801835c4-5302-4d69-8e8a-fdd4be1af6be",
                  "name": "LATIUNG",
                  "_deepnote_index_column": 0
                },
                {
                  "id": "7d6f16db-697a-486b-8d49-e7feae6557de",
                  "district_id": "801835c4-5302-4d69-8e8a-fdd4be1af6be",
                  "name": "LABUHAN BAJAU",
                  "_deepnote_index_column": 1
                },
                {
                  "id": "33406bcd-5f13-4a83-87d6-954bd07d32d6",
                  "district_id": "801835c4-5302-4d69-8e8a-fdd4be1af6be",
                  "name": "SUAK LAMATAN",
                  "_deepnote_index_column": 2
                },
                {
                  "id": "65d74559-df1c-4930-9a6e-12f6900007eb",
                  "district_id": "801835c4-5302-4d69-8e8a-fdd4be1af6be",
                  "name": "ANA AO",
                  "_deepnote_index_column": 3
                },
                {
                  "id": "29f1df17-bb07-4d3f-b352-36cb908636f9",
                  "district_id": "801835c4-5302-4d69-8e8a-fdd4be1af6be",
                  "name": "LATALING",
                  "_deepnote_index_column": 4
                },
                {
                  "id": "565278d7-74d1-490e-aae8-f1f727ea269e",
                  "district_id": "801835c4-5302-4d69-8e8a-fdd4be1af6be",
                  "name": "PULAU BENGKALAK",
                  "_deepnote_index_column": 5
                },
                {
                  "id": "309d97b3-7528-46ed-bcb5-8a40910524b7",
                  "district_id": "801835c4-5302-4d69-8e8a-fdd4be1af6be",
                  "name": "BADEGONG",
                  "_deepnote_index_column": 6
                },
                {
                  "id": "12d198ae-90e7-434a-8cbc-2d5888f1c0e3",
                  "district_id": "801835c4-5302-4d69-8e8a-fdd4be1af6be",
                  "name": "KEBUN BARU",
                  "_deepnote_index_column": 7
                },
                {
                  "id": "24eb39f1-0b7b-4351-92b1-859192b70dc7",
                  "district_id": "801835c4-5302-4d69-8e8a-fdd4be1af6be",
                  "name": "ULUL MAYANG",
                  "_deepnote_index_column": 8
                },
                {
                  "id": "f0853bb4-9307-4453-b471-2c5668fe63a4",
                  "district_id": "801835c4-5302-4d69-8e8a-fdd4be1af6be",
                  "name": "PASIR TINGGI",
                  "_deepnote_index_column": 9
                }
              ]
            },
            "text/plain": "                                         id  \\\n0      7955fb66-78de-4c94-bf3d-7ab1407668cc   \n1      7d6f16db-697a-486b-8d49-e7feae6557de   \n2      33406bcd-5f13-4a83-87d6-954bd07d32d6   \n3      65d74559-df1c-4930-9a6e-12f6900007eb   \n4      29f1df17-bb07-4d3f-b352-36cb908636f9   \n...                                     ...   \n80529  f2bbac76-3982-47f5-af0c-f6675a98734f   \n80530  7e76b90d-5eea-4034-bc2b-e7a3ba160f52   \n80531  e5006922-25e7-4b18-9bfb-dd35e2924970   \n80532  e61af022-971f-46e7-8958-af60fbee843c   \n80533  dc2708ca-13f1-4707-ae6c-380e4c63eb37   \n\n                                district_id              name  \n0      801835c4-5302-4d69-8e8a-fdd4be1af6be           LATIUNG  \n1      801835c4-5302-4d69-8e8a-fdd4be1af6be     LABUHAN BAJAU  \n2      801835c4-5302-4d69-8e8a-fdd4be1af6be      SUAK LAMATAN  \n3      801835c4-5302-4d69-8e8a-fdd4be1af6be            ANA AO  \n4      801835c4-5302-4d69-8e8a-fdd4be1af6be          LATALING  \n...                                     ...               ...  \n80529  07cceeb4-afb9-4004-bef7-e76c7767d213           MANDALA  \n80530  07cceeb4-afb9-4004-bef7-e76c7767d213           TRIKORA  \n80531  07cceeb4-afb9-4004-bef7-e76c7767d213       ANGKASAPURA  \n80532  07cceeb4-afb9-4004-bef7-e76c7767d213       TANJUNG RIA  \n80533  07cceeb4-afb9-4004-bef7-e76c7767d213  KAMPUNG KAYOBATU  \n\n[80534 rows x 3 columns]",
            "text/html": "<div>\n<style scoped>\n    .dataframe tbody tr th:only-of-type {\n        vertical-align: middle;\n    }\n\n    .dataframe tbody tr th {\n        vertical-align: top;\n    }\n\n    .dataframe thead th {\n        text-align: right;\n    }\n</style>\n<table border=\"1\" class=\"dataframe\">\n  <thead>\n    <tr style=\"text-align: right;\">\n      <th></th>\n      <th>id</th>\n      <th>district_id</th>\n      <th>name</th>\n    </tr>\n  </thead>\n  <tbody>\n    <tr>\n      <th>0</th>\n      <td>7955fb66-78de-4c94-bf3d-7ab1407668cc</td>\n      <td>801835c4-5302-4d69-8e8a-fdd4be1af6be</td>\n      <td>LATIUNG</td>\n    </tr>\n    <tr>\n      <th>1</th>\n      <td>7d6f16db-697a-486b-8d49-e7feae6557de</td>\n      <td>801835c4-5302-4d69-8e8a-fdd4be1af6be</td>\n      <td>LABUHAN BAJAU</td>\n    </tr>\n    <tr>\n      <th>2</th>\n      <td>33406bcd-5f13-4a83-87d6-954bd07d32d6</td>\n      <td>801835c4-5302-4d69-8e8a-fdd4be1af6be</td>\n      <td>SUAK LAMATAN</td>\n    </tr>\n    <tr>\n      <th>3</th>\n      <td>65d74559-df1c-4930-9a6e-12f6900007eb</td>\n      <td>801835c4-5302-4d69-8e8a-fdd4be1af6be</td>\n      <td>ANA AO</td>\n    </tr>\n    <tr>\n      <th>4</th>\n      <td>29f1df17-bb07-4d3f-b352-36cb908636f9</td>\n      <td>801835c4-5302-4d69-8e8a-fdd4be1af6be</td>\n      <td>LATALING</td>\n    </tr>\n    <tr>\n      <th>...</th>\n      <td>...</td>\n      <td>...</td>\n      <td>...</td>\n    </tr>\n    <tr>\n      <th>80529</th>\n      <td>f2bbac76-3982-47f5-af0c-f6675a98734f</td>\n      <td>07cceeb4-afb9-4004-bef7-e76c7767d213</td>\n      <td>MANDALA</td>\n    </tr>\n    <tr>\n      <th>80530</th>\n      <td>7e76b90d-5eea-4034-bc2b-e7a3ba160f52</td>\n      <td>07cceeb4-afb9-4004-bef7-e76c7767d213</td>\n      <td>TRIKORA</td>\n    </tr>\n    <tr>\n      <th>80531</th>\n      <td>e5006922-25e7-4b18-9bfb-dd35e2924970</td>\n      <td>07cceeb4-afb9-4004-bef7-e76c7767d213</td>\n      <td>ANGKASAPURA</td>\n    </tr>\n    <tr>\n      <th>80532</th>\n      <td>e61af022-971f-46e7-8958-af60fbee843c</td>\n      <td>07cceeb4-afb9-4004-bef7-e76c7767d213</td>\n      <td>TANJUNG RIA</td>\n    </tr>\n    <tr>\n      <th>80533</th>\n      <td>dc2708ca-13f1-4707-ae6c-380e4c63eb37</td>\n      <td>07cceeb4-afb9-4004-bef7-e76c7767d213</td>\n      <td>KAMPUNG KAYOBATU</td>\n    </tr>\n  </tbody>\n</table>\n<p>80534 rows × 3 columns</p>\n</div>"
          },
          "metadata": {}
        }
      ],
      "execution_count": 5
    },
    {
      "cell_type": "code",
      "source": "businesses = _deepnote_execute_sql('SELECT * FROM \\'businesses.csv\\'', 'SQL_DEEPNOTE_DATAFRAME_SQL', audit_sql_comment='', sql_cache_mode='cache_disabled')\nbusinesses",
      "metadata": {
        "source_hash": "4fd49d25",
        "execution_start": 1686869229808,
        "execution_millis": 450,
        "sql_integration_id": "deepnote-dataframe-sql",
        "deepnote_variable_name": "businesses",
        "deepnote_to_be_reexecuted": false,
        "cell_id": "8fb271123b9a4ed5904a2cad8ecf4f02",
        "deepnote_cell_type": "sql",
        "deepnote_sql_source": "SELECT * FROM 'businesses.csv'"
      },
      "outputs": [
        {
          "data": {
            "application/vnd.deepnote.sql-output-metadata+json": {
              "status": "success_no_cache",
              "size_in_bytes": 2645578
            }
          },
          "metadata": {},
          "output_type": "display_data"
        },
        {
          "output_type": "execute_result",
          "execution_count": 6,
          "data": {
            "application/vnd.deepnote.dataframe.v3+json": {
              "column_count": 56,
              "row_count": 1203,
              "columns": [
                {
                  "name": "id",
                  "dtype": "object",
                  "stats": {
                    "unique_count": 1203,
                    "nan_count": 0,
                    "categories": [
                      {
                        "name": "93868007-55f6-439e-8b2c-4c25bf7f488c",
                        "count": 1
                      },
                      {
                        "name": "4a910efc-1d10-46d8-acac-ffedba04fa97",
                        "count": 1
                      },
                      {
                        "name": "1201 others",
                        "count": 1201
                      }
                    ]
                  }
                },
                {
                  "name": "claim_by",
                  "dtype": "object",
                  "stats": {
                    "unique_count": 0,
                    "nan_count": 1203,
                    "categories": [
                      {
                        "name": "Missing",
                        "count": 1203
                      }
                    ]
                  }
                },
                {
                  "name": "created_by",
                  "dtype": "object",
                  "stats": {
                    "unique_count": 0,
                    "nan_count": 1203,
                    "categories": [
                      {
                        "name": "Missing",
                        "count": 1203
                      }
                    ]
                  }
                },
                {
                  "name": "province_id",
                  "dtype": "object",
                  "stats": {
                    "unique_count": 0,
                    "nan_count": 1203,
                    "categories": [
                      {
                        "name": "Missing",
                        "count": 1203
                      }
                    ]
                  }
                },
                {
                  "name": "province_name",
                  "dtype": "object",
                  "stats": {
                    "unique_count": 4,
                    "nan_count": 0,
                    "categories": [
                      {
                        "name": "Jawa Tengah",
                        "count": 550
                      },
                      {
                        "name": "DI Yogyakarta",
                        "count": 430
                      },
                      {
                        "name": "2 others",
                        "count": 223
                      }
                    ]
                  }
                },
                {
                  "name": "regency_id",
                  "dtype": "object",
                  "stats": {
                    "unique_count": 0,
                    "nan_count": 1203,
                    "categories": [
                      {
                        "name": "Missing",
                        "count": 1203
                      }
                    ]
                  }
                },
                {
                  "name": "regency_name",
                  "dtype": "object",
                  "stats": {
                    "unique_count": 27,
                    "nan_count": 0,
                    "categories": [
                      {
                        "name": "Kabupaten Jepara",
                        "count": 291
                      },
                      {
                        "name": "Kabupaten Sleman",
                        "count": 229
                      },
                      {
                        "name": "25 others",
                        "count": 683
                      }
                    ]
                  }
                },
                {
                  "name": "district_id",
                  "dtype": "object",
                  "stats": {
                    "unique_count": 0,
                    "nan_count": 1203,
                    "categories": [
                      {
                        "name": "Missing",
                        "count": 1203
                      }
                    ]
                  }
                },
                {
                  "name": "district_name",
                  "dtype": "object",
                  "stats": {
                    "unique_count": 41,
                    "nan_count": 0,
                    "categories": [
                      {
                        "name": "Depok",
                        "count": 224
                      },
                      {
                        "name": "Batang",
                        "count": 207
                      },
                      {
                        "name": "39 others",
                        "count": 772
                      }
                    ]
                  }
                },
                {
                  "name": "village_id",
                  "dtype": "object",
                  "stats": {
                    "unique_count": 0,
                    "nan_count": 1203,
                    "categories": [
                      {
                        "name": "Missing",
                        "count": 1203
                      }
                    ]
                  }
                },
                {
                  "name": "village_name",
                  "dtype": "object",
                  "stats": {
                    "unique_count": 96,
                    "nan_count": 0,
                    "categories": [
                      {
                        "name": "Condongcatur",
                        "count": 132
                      },
                      {
                        "name": "Caturtunggal",
                        "count": 110
                      },
                      {
                        "name": "94 others",
                        "count": 961
                      }
                    ]
                  }
                },
                {
                  "name": "username",
                  "dtype": "object",
                  "stats": {
                    "unique_count": 0,
                    "nan_count": 1203,
                    "categories": [
                      {
                        "name": "Missing",
                        "count": 1203
                      }
                    ]
                  }
                },
                {
                  "name": "name",
                  "dtype": "object",
                  "stats": {
                    "unique_count": 1174,
                    "nan_count": 0,
                    "categories": [
                      {
                        "name": "Alfamart",
                        "count": 16
                      },
                      {
                        "name": "Indomaret",
                        "count": 5
                      },
                      {
                        "name": "1172 others",
                        "count": 1182
                      }
                    ]
                  }
                },
                {
                  "name": "latitude",
                  "dtype": "float64",
                  "stats": {
                    "unique_count": 1174,
                    "nan_count": 0,
                    "min": "-7.8009104",
                    "max": "-6.470847699999999",
                    "histogram": [
                      {
                        "bin_start": -7.8009104,
                        "bin_end": -7.66790413,
                        "count": 433
                      },
                      {
                        "bin_start": -7.66790413,
                        "bin_end": -7.53489786,
                        "count": 0
                      },
                      {
                        "bin_start": -7.53489786,
                        "bin_end": -7.40189159,
                        "count": 0
                      },
                      {
                        "bin_start": -7.40189159,
                        "bin_end": -7.26888532,
                        "count": 0
                      },
                      {
                        "bin_start": -7.26888532,
                        "bin_end": -7.13587905,
                        "count": 0
                      },
                      {
                        "bin_start": -7.13587905,
                        "bin_end": -7.00287278,
                        "count": 219
                      },
                      {
                        "bin_start": -7.00287278,
                        "bin_end": -6.86986651,
                        "count": 240
                      },
                      {
                        "bin_start": -6.86986651,
                        "bin_end": -6.7368602399999995,
                        "count": 0
                      },
                      {
                        "bin_start": -6.7368602399999995,
                        "bin_end": -6.603853969999999,
                        "count": 7
                      },
                      {
                        "bin_start": -6.603853969999999,
                        "bin_end": -6.470847699999999,
                        "count": 304
                      }
                    ]
                  }
                },
                {
                  "name": "longitude",
                  "dtype": "float64",
                  "stats": {
                    "unique_count": 1173,
                    "nan_count": 0,
                    "min": "109.677778",
                    "max": "113.8766619",
                    "histogram": [
                      {
                        "bin_start": 109.677778,
                        "bin_end": 110.09766639,
                        "count": 228
                      },
                      {
                        "bin_start": 110.09766639,
                        "bin_end": 110.51755478,
                        "count": 433
                      },
                      {
                        "bin_start": 110.51755478,
                        "bin_end": 110.93744317000001,
                        "count": 320
                      },
                      {
                        "bin_start": 110.93744317000001,
                        "bin_end": 111.35733156,
                        "count": 0
                      },
                      {
                        "bin_start": 111.35733156,
                        "bin_end": 111.77721995,
                        "count": 0
                      },
                      {
                        "bin_start": 111.77721995,
                        "bin_end": 112.19710834,
                        "count": 0
                      },
                      {
                        "bin_start": 112.19710834,
                        "bin_end": 112.61699673,
                        "count": 0
                      },
                      {
                        "bin_start": 112.61699673,
                        "bin_end": 113.03688512000001,
                        "count": 0
                      },
                      {
                        "bin_start": 113.03688512000001,
                        "bin_end": 113.45677351,
                        "count": 0
                      },
                      {
                        "bin_start": 113.45677351,
                        "bin_end": 113.8766619,
                        "count": 222
                      }
                    ]
                  }
                },
                {
                  "name": "address",
                  "dtype": "object",
                  "stats": {
                    "unique_count": 1138,
                    "nan_count": 1,
                    "categories": [
                      {
                        "name": "Indonesia",
                        "count": 15
                      },
                      {
                        "name": "1137 others",
                        "count": 1187
                      },
                      {
                        "name": "Missing",
                        "count": 1
                      }
                    ]
                  }
                },
                {
                  "name": "postal_code",
                  "dtype": "int64",
                  "stats": {
                    "unique_count": 75,
                    "nan_count": 0,
                    "min": "45455",
                    "max": "69493",
                    "histogram": [
                      {
                        "bin_start": 45455,
                        "bin_end": 47858.8,
                        "count": 1
                      },
                      {
                        "bin_start": 47858.8,
                        "bin_end": 50262.6,
                        "count": 0
                      },
                      {
                        "bin_start": 50262.6,
                        "bin_end": 52666.4,
                        "count": 230
                      },
                      {
                        "bin_start": 52666.4,
                        "bin_end": 55070.2,
                        "count": 1
                      },
                      {
                        "bin_start": 55070.2,
                        "bin_end": 57474,
                        "count": 445
                      },
                      {
                        "bin_start": 57474,
                        "bin_end": 59877.8,
                        "count": 314
                      },
                      {
                        "bin_start": 59877.8,
                        "bin_end": 62281.600000000006,
                        "count": 1
                      },
                      {
                        "bin_start": 62281.600000000006,
                        "bin_end": 64685.4,
                        "count": 0
                      },
                      {
                        "bin_start": 64685.4,
                        "bin_end": 67089.2,
                        "count": 0
                      },
                      {
                        "bin_start": 67089.2,
                        "bin_end": 69493,
                        "count": 211
                      }
                    ]
                  }
                },
                {
                  "name": "avatar",
                  "dtype": "object",
                  "stats": {
                    "unique_count": 0,
                    "nan_count": 1203,
                    "categories": [
                      {
                        "name": "Missing",
                        "count": 1203
                      }
                    ]
                  }
                },
                {
                  "name": "description",
                  "dtype": "object",
                  "stats": {
                    "unique_count": 0,
                    "nan_count": 1203,
                    "categories": [
                      {
                        "name": "Missing",
                        "count": 1203
                      }
                    ]
                  }
                },
                {
                  "name": "released_at",
                  "dtype": "object",
                  "stats": {
                    "unique_count": 0,
                    "nan_count": 1203,
                    "categories": [
                      {
                        "name": "Missing",
                        "count": 1203
                      }
                    ]
                  }
                },
                {
                  "name": "google_maps_rating",
                  "dtype": "float64",
                  "stats": {
                    "unique_count": 29,
                    "nan_count": 0,
                    "min": "0.0",
                    "max": "5.0",
                    "histogram": [
                      {
                        "bin_start": 0,
                        "bin_end": 0.5,
                        "count": 357
                      },
                      {
                        "bin_start": 0.5,
                        "bin_end": 1,
                        "count": 0
                      },
                      {
                        "bin_start": 1,
                        "bin_end": 1.5,
                        "count": 10
                      },
                      {
                        "bin_start": 1.5,
                        "bin_end": 2,
                        "count": 0
                      },
                      {
                        "bin_start": 2,
                        "bin_end": 2.5,
                        "count": 2
                      },
                      {
                        "bin_start": 2.5,
                        "bin_end": 3,
                        "count": 9
                      },
                      {
                        "bin_start": 3,
                        "bin_end": 3.5,
                        "count": 37
                      },
                      {
                        "bin_start": 3.5,
                        "bin_end": 4,
                        "count": 68
                      },
                      {
                        "bin_start": 4,
                        "bin_end": 4.5,
                        "count": 223
                      },
                      {
                        "bin_start": 4.5,
                        "bin_end": 5,
                        "count": 497
                      }
                    ]
                  }
                },
                {
                  "name": "created_at",
                  "dtype": "datetime64[ns]",
                  "stats": {
                    "unique_count": 16,
                    "nan_count": 0,
                    "min": "2023-06-15 22:46:22",
                    "max": "2023-06-15 22:46:37",
                    "histogram": [
                      {
                        "bin_start": 1686869182000000000,
                        "bin_end": 1686869183500000000,
                        "count": 111
                      },
                      {
                        "bin_start": 1686869183500000000,
                        "bin_end": 1686869185000000000,
                        "count": 82
                      },
                      {
                        "bin_start": 1686869185000000000,
                        "bin_end": 1686869186500000000,
                        "count": 165
                      },
                      {
                        "bin_start": 1686869186500000000,
                        "bin_end": 1686869188000000000,
                        "count": 84
                      },
                      {
                        "bin_start": 1686869188000000000,
                        "bin_end": 1686869189500000000,
                        "count": 169
                      },
                      {
                        "bin_start": 1686869189500000000,
                        "bin_end": 1686869191000000000,
                        "count": 84
                      },
                      {
                        "bin_start": 1686869191000000000,
                        "bin_end": 1686869192500000000,
                        "count": 170
                      },
                      {
                        "bin_start": 1686869192500000000,
                        "bin_end": 1686869194000000000,
                        "count": 81
                      },
                      {
                        "bin_start": 1686869194000000000,
                        "bin_end": 1686869195500000000,
                        "count": 156
                      },
                      {
                        "bin_start": 1686869195500000000,
                        "bin_end": 1686869197000000000,
                        "count": 101
                      }
                    ]
                  }
                },
                {
                  "name": "updated_at",
                  "dtype": "object",
                  "stats": {
                    "unique_count": 0,
                    "nan_count": 1203,
                    "categories": [
                      {
                        "name": "Missing",
                        "count": 1203
                      }
                    ]
                  }
                },
                {
                  "name": "deleted_at",
                  "dtype": "object",
                  "stats": {
                    "unique_count": 0,
                    "nan_count": 1203,
                    "categories": [
                      {
                        "name": "Missing",
                        "count": 1203
                      }
                    ]
                  }
                },
                {
                  "name": "is_monday_open",
                  "dtype": "object",
                  "stats": {
                    "unique_count": 2,
                    "nan_count": 381,
                    "categories": [
                      {
                        "name": "True",
                        "count": 728
                      },
                      {
                        "name": "False",
                        "count": 94
                      },
                      {
                        "name": "Missing",
                        "count": 381
                      }
                    ]
                  }
                },
                {
                  "name": "monday_start_time",
                  "dtype": "object",
                  "stats": {
                    "unique_count": 29,
                    "nan_count": 523,
                    "categories": [
                      {
                        "name": "08:00",
                        "count": 207
                      },
                      {
                        "name": "28 others",
                        "count": 473
                      },
                      {
                        "name": "Missing",
                        "count": 523
                      }
                    ]
                  }
                },
                {
                  "name": "monday_end_time",
                  "dtype": "object",
                  "stats": {
                    "unique_count": 37,
                    "nan_count": 523,
                    "categories": [
                      {
                        "name": "21:00",
                        "count": 181
                      },
                      {
                        "name": "36 others",
                        "count": 499
                      },
                      {
                        "name": "Missing",
                        "count": 523
                      }
                    ]
                  }
                },
                {
                  "name": "monday_notes",
                  "dtype": "object",
                  "stats": {
                    "unique_count": 0,
                    "nan_count": 1203,
                    "categories": [
                      {
                        "name": "Missing",
                        "count": 1203
                      }
                    ]
                  }
                },
                {
                  "name": "is_tuesday_open",
                  "dtype": "object",
                  "stats": {
                    "unique_count": 2,
                    "nan_count": 381,
                    "categories": [
                      {
                        "name": "True",
                        "count": 733
                      },
                      {
                        "name": "False",
                        "count": 89
                      },
                      {
                        "name": "Missing",
                        "count": 381
                      }
                    ]
                  }
                },
                {
                  "name": "tuesday_start_time",
                  "dtype": "object",
                  "stats": {
                    "unique_count": 29,
                    "nan_count": 518,
                    "categories": [
                      {
                        "name": "08:00",
                        "count": 210
                      },
                      {
                        "name": "28 others",
                        "count": 475
                      },
                      {
                        "name": "Missing",
                        "count": 518
                      }
                    ]
                  }
                },
                {
                  "name": "tuesday_end_time",
                  "dtype": "object",
                  "stats": {
                    "unique_count": 36,
                    "nan_count": 518,
                    "categories": [
                      {
                        "name": "21:00",
                        "count": 182
                      },
                      {
                        "name": "35 others",
                        "count": 503
                      },
                      {
                        "name": "Missing",
                        "count": 518
                      }
                    ]
                  }
                },
                {
                  "name": "tuesday_notes",
                  "dtype": "object",
                  "stats": {
                    "unique_count": 0,
                    "nan_count": 1203,
                    "categories": [
                      {
                        "name": "Missing",
                        "count": 1203
                      }
                    ]
                  }
                },
                {
                  "name": "is_wednesday_open",
                  "dtype": "object",
                  "stats": {
                    "unique_count": 2,
                    "nan_count": 381,
                    "categories": [
                      {
                        "name": "True",
                        "count": 732
                      },
                      {
                        "name": "False",
                        "count": 90
                      },
                      {
                        "name": "Missing",
                        "count": 381
                      }
                    ]
                  }
                },
                {
                  "name": "wednesday_start_time",
                  "dtype": "object",
                  "stats": {
                    "unique_count": 30,
                    "nan_count": 518,
                    "categories": [
                      {
                        "name": "08:00",
                        "count": 208
                      },
                      {
                        "name": "29 others",
                        "count": 477
                      },
                      {
                        "name": "Missing",
                        "count": 518
                      }
                    ]
                  }
                },
                {
                  "name": "wednesday_end_time",
                  "dtype": "object",
                  "stats": {
                    "unique_count": 36,
                    "nan_count": 518,
                    "categories": [
                      {
                        "name": "21:00",
                        "count": 183
                      },
                      {
                        "name": "35 others",
                        "count": 502
                      },
                      {
                        "name": "Missing",
                        "count": 518
                      }
                    ]
                  }
                },
                {
                  "name": "wednesday_notes",
                  "dtype": "object",
                  "stats": {
                    "unique_count": 0,
                    "nan_count": 1203,
                    "categories": [
                      {
                        "name": "Missing",
                        "count": 1203
                      }
                    ]
                  }
                },
                {
                  "name": "is_thursday_open",
                  "dtype": "object",
                  "stats": {
                    "unique_count": 2,
                    "nan_count": 381,
                    "categories": [
                      {
                        "name": "True",
                        "count": 733
                      },
                      {
                        "name": "False",
                        "count": 89
                      },
                      {
                        "name": "Missing",
                        "count": 381
                      }
                    ]
                  }
                },
                {
                  "name": "thursday_start_time",
                  "dtype": "object",
                  "stats": {
                    "unique_count": 30,
                    "nan_count": 519,
                    "categories": [
                      {
                        "name": "08:00",
                        "count": 208
                      },
                      {
                        "name": "29 others",
                        "count": 476
                      },
                      {
                        "name": "Missing",
                        "count": 519
                      }
                    ]
                  }
                },
                {
                  "name": "thursday_end_time",
                  "dtype": "object",
                  "stats": {
                    "unique_count": 39,
                    "nan_count": 519,
                    "categories": [
                      {
                        "name": "21:00",
                        "count": 183
                      },
                      {
                        "name": "38 others",
                        "count": 501
                      },
                      {
                        "name": "Missing",
                        "count": 519
                      }
                    ]
                  }
                },
                {
                  "name": "thursday_notes",
                  "dtype": "object",
                  "stats": {
                    "unique_count": 0,
                    "nan_count": 1203,
                    "categories": [
                      {
                        "name": "Missing",
                        "count": 1203
                      }
                    ]
                  }
                },
                {
                  "name": "is_friday_open",
                  "dtype": "object",
                  "stats": {
                    "unique_count": 2,
                    "nan_count": 381,
                    "categories": [
                      {
                        "name": "True",
                        "count": 728
                      },
                      {
                        "name": "False",
                        "count": 94
                      },
                      {
                        "name": "Missing",
                        "count": 381
                      }
                    ]
                  }
                },
                {
                  "name": "friday_start_time",
                  "dtype": "object",
                  "stats": {
                    "unique_count": 30,
                    "nan_count": 535,
                    "categories": [
                      {
                        "name": "08:00",
                        "count": 203
                      },
                      {
                        "name": "29 others",
                        "count": 465
                      },
                      {
                        "name": "Missing",
                        "count": 535
                      }
                    ]
                  }
                },
                {
                  "name": "friday_end_time",
                  "dtype": "object",
                  "stats": {
                    "unique_count": 36,
                    "nan_count": 535,
                    "categories": [
                      {
                        "name": "21:00",
                        "count": 179
                      },
                      {
                        "name": "35 others",
                        "count": 489
                      },
                      {
                        "name": "Missing",
                        "count": 535
                      }
                    ]
                  }
                },
                {
                  "name": "friday_notes",
                  "dtype": "object",
                  "stats": {
                    "unique_count": 0,
                    "nan_count": 1203,
                    "categories": [
                      {
                        "name": "Missing",
                        "count": 1203
                      }
                    ]
                  }
                },
                {
                  "name": "is_saturday_open",
                  "dtype": "object",
                  "stats": {
                    "unique_count": 2,
                    "nan_count": 381,
                    "categories": [
                      {
                        "name": "True",
                        "count": 724
                      },
                      {
                        "name": "False",
                        "count": 98
                      },
                      {
                        "name": "Missing",
                        "count": 381
                      }
                    ]
                  }
                },
                {
                  "name": "saturday_start_time",
                  "dtype": "object",
                  "stats": {
                    "unique_count": 31,
                    "nan_count": 525,
                    "categories": [
                      {
                        "name": "08:00",
                        "count": 207
                      },
                      {
                        "name": "30 others",
                        "count": 471
                      },
                      {
                        "name": "Missing",
                        "count": 525
                      }
                    ]
                  }
                },
                {
                  "name": "saturday_end_time",
                  "dtype": "object",
                  "stats": {
                    "unique_count": 39,
                    "nan_count": 525,
                    "categories": [
                      {
                        "name": "21:00",
                        "count": 178
                      },
                      {
                        "name": "38 others",
                        "count": 500
                      },
                      {
                        "name": "Missing",
                        "count": 525
                      }
                    ]
                  }
                },
                {
                  "name": "saturday_notes",
                  "dtype": "object",
                  "stats": {
                    "unique_count": 0,
                    "nan_count": 1203,
                    "categories": [
                      {
                        "name": "Missing",
                        "count": 1203
                      }
                    ]
                  }
                },
                {
                  "name": "is_sunday_open",
                  "dtype": "object",
                  "stats": {
                    "unique_count": 2,
                    "nan_count": 381,
                    "categories": [
                      {
                        "name": "True",
                        "count": 627
                      },
                      {
                        "name": "False",
                        "count": 195
                      },
                      {
                        "name": "Missing",
                        "count": 381
                      }
                    ]
                  }
                },
                {
                  "name": "sunday_start_time",
                  "dtype": "object",
                  "stats": {
                    "unique_count": 29,
                    "nan_count": 618,
                    "categories": [
                      {
                        "name": "08:00",
                        "count": 163
                      },
                      {
                        "name": "28 others",
                        "count": 422
                      },
                      {
                        "name": "Missing",
                        "count": 618
                      }
                    ]
                  }
                },
                {
                  "name": "sunday_end_time",
                  "dtype": "object",
                  "stats": {
                    "unique_count": 36,
                    "nan_count": 618,
                    "categories": [
                      {
                        "name": "21:00",
                        "count": 169
                      },
                      {
                        "name": "35 others",
                        "count": 416
                      },
                      {
                        "name": "Missing",
                        "count": 618
                      }
                    ]
                  }
                },
                {
                  "name": "sunday_notes",
                  "dtype": "object",
                  "stats": {
                    "unique_count": 0,
                    "nan_count": 1203,
                    "categories": [
                      {
                        "name": "Missing",
                        "count": 1203
                      }
                    ]
                  }
                },
                {
                  "name": "place_id",
                  "dtype": "object",
                  "stats": {
                    "unique_count": 1203,
                    "nan_count": 0,
                    "categories": [
                      {
                        "name": "ChIJvT-QyexZei4RvBozzZRlkZM",
                        "count": 1
                      },
                      {
                        "name": "ChIJJ370qObl2S0R0zXlllRmiFE",
                        "count": 1
                      },
                      {
                        "name": "1201 others",
                        "count": 1201
                      }
                    ]
                  }
                },
                {
                  "name": "added_from_system",
                  "dtype": "bool",
                  "stats": {
                    "unique_count": 1,
                    "nan_count": 0,
                    "categories": [
                      {
                        "name": "True",
                        "count": 1203
                      }
                    ]
                  }
                },
                {
                  "name": "google_maps_link",
                  "dtype": "object",
                  "stats": {
                    "unique_count": 1203,
                    "nan_count": 0,
                    "categories": [
                      {
                        "name": "https://maps.google.com/?cid=10633391884970695356",
                        "count": 1
                      },
                      {
                        "name": "https://maps.google.com/?cid=5875058227399701971",
                        "count": 1
                      },
                      {
                        "name": "1201 others",
                        "count": 1201
                      }
                    ]
                  }
                },
                {
                  "name": "categories",
                  "dtype": "object",
                  "stats": {
                    "unique_count": 127,
                    "nan_count": 0,
                    "categories": [
                      {
                        "name": "laundry, point_of_interest, establishment",
                        "count": 107
                      },
                      {
                        "name": "clothing_store, store, point_of_interest, establishment",
                        "count": 81
                      },
                      {
                        "name": "125 others",
                        "count": 1015
                      }
                    ]
                  }
                },
                {
                  "name": "_deepnote_index_column",
                  "dtype": "int64"
                }
              ],
              "rows": [
                {
                  "id": "93868007-55f6-439e-8b2c-4c25bf7f488c",
                  "claim_by": "None",
                  "created_by": "None",
                  "province_id": "None",
                  "province_name": "DI Yogyakarta",
                  "regency_id": "None",
                  "regency_name": "Kabupaten Sleman",
                  "district_id": "None",
                  "district_name": "Depok",
                  "village_id": "None",
                  "village_name": "Caturtunggal",
                  "username": "None",
                  "name": "Bonlie Cookies",
                  "latitude": -7.773639999999998,
                  "longitude": 110.409957,
                  "address": "JL Komplek AU Blok F No. 22, Babarsari, Kledokan, Caturtunggal",
                  "postal_code": 55281,
                  "avatar": "None",
                  "description": "None",
                  "released_at": "None",
                  "google_maps_rating": 0,
                  "created_at": "2023-06-15 22:46:22",
                  "updated_at": "None",
                  "deleted_at": "None",
                  "is_monday_open": "None",
                  "monday_start_time": "None",
                  "monday_end_time": "None",
                  "monday_notes": "None",
                  "is_tuesday_open": "None",
                  "tuesday_start_time": "None",
                  "tuesday_end_time": "None",
                  "tuesday_notes": "None",
                  "is_wednesday_open": "None",
                  "wednesday_start_time": "None",
                  "wednesday_end_time": "None",
                  "wednesday_notes": "None",
                  "is_thursday_open": "None",
                  "thursday_start_time": "None",
                  "thursday_end_time": "None",
                  "thursday_notes": "None",
                  "is_friday_open": "None",
                  "friday_start_time": "None",
                  "friday_end_time": "None",
                  "friday_notes": "None",
                  "is_saturday_open": "None",
                  "saturday_start_time": "None",
                  "saturday_end_time": "None",
                  "saturday_notes": "None",
                  "is_sunday_open": "None",
                  "sunday_start_time": "None",
                  "sunday_end_time": "None",
                  "sunday_notes": "None",
                  "place_id": "ChIJvT-QyexZei4RvBozzZRlkZM",
                  "added_from_system": "True",
                  "google_maps_link": "https://maps.google.com/?cid=10633391884970695356",
                  "categories": "bakery, food, store, point_of_interest, establishment",
                  "_deepnote_index_column": 0
                },
                {
                  "id": "4a910efc-1d10-46d8-acac-ffedba04fa97",
                  "claim_by": "None",
                  "created_by": "None",
                  "province_id": "None",
                  "province_name": "Jawa Timur",
                  "regency_id": "None",
                  "regency_name": "Kabupaten Sumenep",
                  "district_id": "None",
                  "district_name": "Kota Sumenep",
                  "village_id": "None",
                  "village_name": "Kepanjin",
                  "username": "None",
                  "name": "Milenia 21 (Aneka Bahan Kue)",
                  "latitude": -7.003470200000001,
                  "longitude": 113.8619124,
                  "address": "XVW6+JQ7, Pasar Sore, Kepanjin",
                  "postal_code": 69415,
                  "avatar": "None",
                  "description": "None",
                  "released_at": "None",
                  "google_maps_rating": 4.5,
                  "created_at": "2023-06-15 22:46:22",
                  "updated_at": "None",
                  "deleted_at": "None",
                  "is_monday_open": "True",
                  "monday_start_time": "07:00",
                  "monday_end_time": "21:00",
                  "monday_notes": "None",
                  "is_tuesday_open": "True",
                  "tuesday_start_time": "07:00",
                  "tuesday_end_time": "21:00",
                  "tuesday_notes": "None",
                  "is_wednesday_open": "True",
                  "wednesday_start_time": "07:00",
                  "wednesday_end_time": "21:00",
                  "wednesday_notes": "None",
                  "is_thursday_open": "True",
                  "thursday_start_time": "07:00",
                  "thursday_end_time": "21:00",
                  "thursday_notes": "None",
                  "is_friday_open": "True",
                  "friday_start_time": "07:00",
                  "friday_end_time": "21:00",
                  "friday_notes": "None",
                  "is_saturday_open": "True",
                  "saturday_start_time": "07:00",
                  "saturday_end_time": "21:00",
                  "saturday_notes": "None",
                  "is_sunday_open": "True",
                  "sunday_start_time": "07:00",
                  "sunday_end_time": "21:00",
                  "sunday_notes": "None",
                  "place_id": "ChIJJ370qObl2S0R0zXlllRmiFE",
                  "added_from_system": "True",
                  "google_maps_link": "https://maps.google.com/?cid=5875058227399701971",
                  "categories": "bakery, store, food, point_of_interest, establishment",
                  "_deepnote_index_column": 1
                },
                {
                  "id": "3b274f9d-7069-4cb5-a03a-f4601c41e800",
                  "claim_by": "None",
                  "created_by": "None",
                  "province_id": "None",
                  "province_name": "Jawa Tengah",
                  "regency_id": "None",
                  "regency_name": "Kabupaten Jepara",
                  "district_id": "None",
                  "district_name": "Jepara",
                  "village_id": "None",
                  "village_name": "Potroyudan",
                  "username": "None",
                  "name": "Kedai Arkan",
                  "latitude": -6.598306099999999,
                  "longitude": 110.6734605,
                  "address": "Gang Perintis no 86 Rt3 Rw2 Jepara, 59412, Potroyudan V, Potroyudan",
                  "postal_code": 59412,
                  "avatar": "None",
                  "description": "None",
                  "released_at": "None",
                  "google_maps_rating": 5,
                  "created_at": "2023-06-15 22:46:22",
                  "updated_at": "None",
                  "deleted_at": "None",
                  "is_monday_open": "None",
                  "monday_start_time": "None",
                  "monday_end_time": "None",
                  "monday_notes": "None",
                  "is_tuesday_open": "None",
                  "tuesday_start_time": "None",
                  "tuesday_end_time": "None",
                  "tuesday_notes": "None",
                  "is_wednesday_open": "None",
                  "wednesday_start_time": "None",
                  "wednesday_end_time": "None",
                  "wednesday_notes": "None",
                  "is_thursday_open": "None",
                  "thursday_start_time": "None",
                  "thursday_end_time": "None",
                  "thursday_notes": "None",
                  "is_friday_open": "None",
                  "friday_start_time": "None",
                  "friday_end_time": "None",
                  "friday_notes": "None",
                  "is_saturday_open": "None",
                  "saturday_start_time": "None",
                  "saturday_end_time": "None",
                  "saturday_notes": "None",
                  "is_sunday_open": "None",
                  "sunday_start_time": "None",
                  "sunday_end_time": "None",
                  "sunday_notes": "None",
                  "place_id": "ChIJCY2BCgUfcS4RVHJ0h7YYh1E",
                  "added_from_system": "True",
                  "google_maps_link": "https://maps.google.com/?cid=5874691411163771476",
                  "categories": "meal_takeaway, restaurant, food, point_of_interest, establishment",
                  "_deepnote_index_column": 2
                },
                {
                  "id": "6d1f0022-20ac-4edd-9181-bfc5810d9f0a",
                  "claim_by": "None",
                  "created_by": "None",
                  "province_id": "None",
                  "province_name": "DI Yogyakarta",
                  "regency_id": "None",
                  "regency_name": "Kabupaten Sleman",
                  "district_id": "None",
                  "district_name": "Depok",
                  "village_id": "None",
                  "village_name": "Caturtunggal",
                  "username": "None",
                  "name": "Rose Florist 2",
                  "latitude": -7.7627956,
                  "longitude": 110.3936716,
                  "address": "CTX, Gang Anyelir No.11, Karangasem Baru, Caturtunggal",
                  "postal_code": 55281,
                  "avatar": "None",
                  "description": "None",
                  "released_at": "None",
                  "google_maps_rating": 4.7,
                  "created_at": "2023-06-15 22:46:22",
                  "updated_at": "None",
                  "deleted_at": "None",
                  "is_monday_open": "True",
                  "monday_start_time": "08:00",
                  "monday_end_time": "19:00",
                  "monday_notes": "None",
                  "is_tuesday_open": "True",
                  "tuesday_start_time": "08:00",
                  "tuesday_end_time": "19:00",
                  "tuesday_notes": "None",
                  "is_wednesday_open": "True",
                  "wednesday_start_time": "08:00",
                  "wednesday_end_time": "19:00",
                  "wednesday_notes": "None",
                  "is_thursday_open": "True",
                  "thursday_start_time": "08:00",
                  "thursday_end_time": "19:00",
                  "thursday_notes": "None",
                  "is_friday_open": "True",
                  "friday_start_time": "08:00",
                  "friday_end_time": "17:00",
                  "friday_notes": "None",
                  "is_saturday_open": "True",
                  "saturday_start_time": "08:00",
                  "saturday_end_time": "17:00",
                  "saturday_notes": "None",
                  "is_sunday_open": "True",
                  "sunday_start_time": "09:00",
                  "sunday_end_time": "17:00",
                  "sunday_notes": "None",
                  "place_id": "ChIJpVbv3bBZei4RuO0trojLkDM",
                  "added_from_system": "True",
                  "google_maps_link": "https://maps.google.com/?cid=3715693480478895544",
                  "categories": "florist, point_of_interest, store, establishment",
                  "_deepnote_index_column": 3
                },
                {
                  "id": "b0d0eeaa-dae4-4084-85ee-9e9fa58f8c92",
                  "claim_by": "None",
                  "created_by": "None",
                  "province_id": "None",
                  "province_name": "Jawa Tengah",
                  "regency_id": "None",
                  "regency_name": "Kabupaten Batang",
                  "district_id": "None",
                  "district_name": "Batang",
                  "village_id": "None",
                  "village_name": "Proyonanggan Tengah",
                  "username": "None",
                  "name": "Batang Herbal",
                  "latitude": -6.907624999999999,
                  "longitude": 109.7327918,
                  "address": "Jalan Jendral Sudirman No.200, Batang, Proyonanggan Tengah",
                  "postal_code": 51216,
                  "avatar": "None",
                  "description": "None",
                  "released_at": "None",
                  "google_maps_rating": 5,
                  "created_at": "2023-06-15 22:46:22",
                  "updated_at": "None",
                  "deleted_at": "None",
                  "is_monday_open": "True",
                  "monday_start_time": "07:00",
                  "monday_end_time": "21:00",
                  "monday_notes": "None",
                  "is_tuesday_open": "True",
                  "tuesday_start_time": "07:00",
                  "tuesday_end_time": "21:00",
                  "tuesday_notes": "None",
                  "is_wednesday_open": "True",
                  "wednesday_start_time": "07:00",
                  "wednesday_end_time": "21:00",
                  "wednesday_notes": "None",
                  "is_thursday_open": "True",
                  "thursday_start_time": "07:00",
                  "thursday_end_time": "21:00",
                  "thursday_notes": "None",
                  "is_friday_open": "True",
                  "friday_start_time": "07:00",
                  "friday_end_time": "21:00",
                  "friday_notes": "None",
                  "is_saturday_open": "True",
                  "saturday_start_time": "07:00",
                  "saturday_end_time": "21:00",
                  "saturday_notes": "None",
                  "is_sunday_open": "True",
                  "sunday_start_time": "07:00",
                  "sunday_end_time": "18:00",
                  "sunday_notes": "None",
                  "place_id": "ChIJtV17tpUkcC4RuIMK5ZcsqkQ",
                  "added_from_system": "True",
                  "google_maps_link": "https://maps.google.com/?cid=4947816171514266552",
                  "categories": "convenience_store, store, food, point_of_interest, establishment",
                  "_deepnote_index_column": 4
                },
                {
                  "id": "8a7c90db-5fad-4720-ad5d-e6fefd5c0c37",
                  "claim_by": "None",
                  "created_by": "None",
                  "province_id": "None",
                  "province_name": "Jawa Tengah",
                  "regency_id": "None",
                  "regency_name": "Kabupaten Jepara",
                  "district_id": "None",
                  "district_name": "Keling",
                  "village_id": "None",
                  "village_name": "Gelang",
                  "username": "None",
                  "name": "Kampoeng Duren Nyos",
                  "latitude": -6.497047600000001,
                  "longitude": 110.8727792,
                  "address": "Krajan, Gelang",
                  "postal_code": 59454,
                  "avatar": "None",
                  "description": "None",
                  "released_at": "None",
                  "google_maps_rating": 4,
                  "created_at": "2023-06-15 22:46:22",
                  "updated_at": "None",
                  "deleted_at": "None",
                  "is_monday_open": "False",
                  "monday_start_time": "None",
                  "monday_end_time": "None",
                  "monday_notes": "None",
                  "is_tuesday_open": "False",
                  "tuesday_start_time": "None",
                  "tuesday_end_time": "None",
                  "tuesday_notes": "None",
                  "is_wednesday_open": "False",
                  "wednesday_start_time": "None",
                  "wednesday_end_time": "None",
                  "wednesday_notes": "None",
                  "is_thursday_open": "False",
                  "thursday_start_time": "None",
                  "thursday_end_time": "None",
                  "thursday_notes": "None",
                  "is_friday_open": "False",
                  "friday_start_time": "None",
                  "friday_end_time": "None",
                  "friday_notes": "None",
                  "is_saturday_open": "False",
                  "saturday_start_time": "None",
                  "saturday_end_time": "None",
                  "saturday_notes": "None",
                  "is_sunday_open": "False",
                  "sunday_start_time": "None",
                  "sunday_end_time": "None",
                  "sunday_notes": "None",
                  "place_id": "ChIJh1TjXRElcS4RIVmsVO2kCN8",
                  "added_from_system": "True",
                  "google_maps_link": "https://maps.google.com/?cid=16071276609506400545",
                  "categories": "cafe, food, point_of_interest, establishment",
                  "_deepnote_index_column": 5
                },
                {
                  "id": "ac522769-d521-4bbf-ac50-a8804c98f937",
                  "claim_by": "None",
                  "created_by": "None",
                  "province_id": "None",
                  "province_name": "Jawa Timur",
                  "regency_id": "None",
                  "regency_name": "Kabupaten Sumenep",
                  "district_id": "None",
                  "district_name": "Kota Sumenep",
                  "village_id": "None",
                  "village_name": "Bangselok",
                  "username": "None",
                  "name": "Indomaret",
                  "latitude": -7.0066744,
                  "longitude": 113.8585829,
                  "address": "Jalan Diponegoro No.41, Dalem Anyar, Bangselok",
                  "postal_code": 69416,
                  "avatar": "None",
                  "description": "None",
                  "released_at": "None",
                  "google_maps_rating": 4.1,
                  "created_at": "2023-06-15 22:46:22",
                  "updated_at": "None",
                  "deleted_at": "None",
                  "is_monday_open": "False",
                  "monday_start_time": "None",
                  "monday_end_time": "None",
                  "monday_notes": "None",
                  "is_tuesday_open": "False",
                  "tuesday_start_time": "None",
                  "tuesday_end_time": "None",
                  "tuesday_notes": "None",
                  "is_wednesday_open": "False",
                  "wednesday_start_time": "None",
                  "wednesday_end_time": "None",
                  "wednesday_notes": "None",
                  "is_thursday_open": "False",
                  "thursday_start_time": "None",
                  "thursday_end_time": "None",
                  "thursday_notes": "None",
                  "is_friday_open": "False",
                  "friday_start_time": "None",
                  "friday_end_time": "None",
                  "friday_notes": "None",
                  "is_saturday_open": "False",
                  "saturday_start_time": "None",
                  "saturday_end_time": "None",
                  "saturday_notes": "None",
                  "is_sunday_open": "False",
                  "sunday_start_time": "None",
                  "sunday_end_time": "None",
                  "sunday_notes": "None",
                  "place_id": "ChIJMQu-HCnk2S0R1sTt8j-pVPE",
                  "added_from_system": "True",
                  "google_maps_link": "https://maps.google.com/?cid=17389710153308030166",
                  "categories": "convenience_store, atm, finance, store, point_of_interest, food, establishment",
                  "_deepnote_index_column": 6
                },
                {
                  "id": "ec032565-056c-4271-b320-5a769fe4de77",
                  "claim_by": "None",
                  "created_by": "None",
                  "province_id": "None",
                  "province_name": "DI Yogyakarta",
                  "regency_id": "None",
                  "regency_name": "Kabupaten Sleman",
                  "district_id": "None",
                  "district_name": "Depok",
                  "village_id": "None",
                  "village_name": "Caturtunggal",
                  "username": "None",
                  "name": "Tirtamas Pet Shop",
                  "latitude": -7.764904100000001,
                  "longitude": 110.3924492,
                  "address": "Jalan Cempaka Deresan Blok C I X No.04, Karang Gayam, Caturtunggal",
                  "postal_code": 55281,
                  "avatar": "None",
                  "description": "None",
                  "released_at": "None",
                  "google_maps_rating": 4,
                  "created_at": "2023-06-15 22:46:22",
                  "updated_at": "None",
                  "deleted_at": "None",
                  "is_monday_open": "True",
                  "monday_start_time": "08:00",
                  "monday_end_time": "19:00",
                  "monday_notes": "None",
                  "is_tuesday_open": "True",
                  "tuesday_start_time": "08:00",
                  "tuesday_end_time": "19:00",
                  "tuesday_notes": "None",
                  "is_wednesday_open": "True",
                  "wednesday_start_time": "08:00",
                  "wednesday_end_time": "19:00",
                  "wednesday_notes": "None",
                  "is_thursday_open": "True",
                  "thursday_start_time": "08:00",
                  "thursday_end_time": "19:00",
                  "thursday_notes": "None",
                  "is_friday_open": "True",
                  "friday_start_time": "08:00",
                  "friday_end_time": "19:00",
                  "friday_notes": "None",
                  "is_saturday_open": "True",
                  "saturday_start_time": "08:00",
                  "saturday_end_time": "19:00",
                  "saturday_notes": "None",
                  "is_sunday_open": "True",
                  "sunday_start_time": "08:00",
                  "sunday_end_time": "19:00",
                  "sunday_notes": "None",
                  "place_id": "ChIJYyuWw7pZei4RHxfGVRuPuDo",
                  "added_from_system": "True",
                  "google_maps_link": "https://maps.google.com/?cid=4231289197480515359",
                  "categories": "pet_store, point_of_interest, store, establishment",
                  "_deepnote_index_column": 7
                },
                {
                  "id": "b7cd2b8e-9e16-4a09-981e-93f9ac5cb05b",
                  "claim_by": "None",
                  "created_by": "None",
                  "province_id": "None",
                  "province_name": "Jawa Tengah",
                  "regency_id": "None",
                  "regency_name": "Kabupaten Cluwak",
                  "district_id": "None",
                  "district_name": "Cluwak",
                  "village_id": "None",
                  "village_name": "Sirahan",
                  "username": "None",
                  "name": "Atin Laundry",
                  "latitude": -6.5215374,
                  "longitude": 110.9178789,
                  "address": "Sirahan",
                  "postal_code": 59157,
                  "avatar": "None",
                  "description": "None",
                  "released_at": "None",
                  "google_maps_rating": 0,
                  "created_at": "2023-06-15 22:46:22",
                  "updated_at": "None",
                  "deleted_at": "None",
                  "is_monday_open": "True",
                  "monday_start_time": "06:00",
                  "monday_end_time": "21:00",
                  "monday_notes": "None",
                  "is_tuesday_open": "True",
                  "tuesday_start_time": "06:00",
                  "tuesday_end_time": "21:00",
                  "tuesday_notes": "None",
                  "is_wednesday_open": "True",
                  "wednesday_start_time": "06:00",
                  "wednesday_end_time": "21:00",
                  "wednesday_notes": "None",
                  "is_thursday_open": "True",
                  "thursday_start_time": "06:00",
                  "thursday_end_time": "21:00",
                  "thursday_notes": "None",
                  "is_friday_open": "True",
                  "friday_start_time": "06:00",
                  "friday_end_time": "21:00",
                  "friday_notes": "None",
                  "is_saturday_open": "True",
                  "saturday_start_time": "06:00",
                  "saturday_end_time": "21:00",
                  "saturday_notes": "None",
                  "is_sunday_open": "True",
                  "sunday_start_time": "06:00",
                  "sunday_end_time": "21:00",
                  "sunday_notes": "None",
                  "place_id": "ChIJHRmAnl8vcS4RBmxxHb1R-3k",
                  "added_from_system": "True",
                  "google_maps_link": "https://maps.google.com/?cid=8789708970428296198",
                  "categories": "laundry, point_of_interest, establishment",
                  "_deepnote_index_column": 8
                },
                {
                  "id": "64b19727-22e8-4eff-a33f-5fe8827b2228",
                  "claim_by": "None",
                  "created_by": "None",
                  "province_id": "None",
                  "province_name": "Jawa Tengah",
                  "regency_id": "None",
                  "regency_name": "Kota Pekalongan",
                  "district_id": "None",
                  "district_name": "Pekalongan Timur",
                  "village_id": "None",
                  "village_name": "Keputran",
                  "username": "None",
                  "name": "Cava milkshake",
                  "latitude": -6.8973442,
                  "longitude": 109.6784991,
                  "address": "Jalan R.A. Kartini No.40, RW.6, Keputran",
                  "postal_code": 51128,
                  "avatar": "None",
                  "description": "None",
                  "released_at": "None",
                  "google_maps_rating": 0,
                  "created_at": "2023-06-15 22:46:22",
                  "updated_at": "None",
                  "deleted_at": "None",
                  "is_monday_open": "None",
                  "monday_start_time": "None",
                  "monday_end_time": "None",
                  "monday_notes": "None",
                  "is_tuesday_open": "None",
                  "tuesday_start_time": "None",
                  "tuesday_end_time": "None",
                  "tuesday_notes": "None",
                  "is_wednesday_open": "None",
                  "wednesday_start_time": "None",
                  "wednesday_end_time": "None",
                  "wednesday_notes": "None",
                  "is_thursday_open": "None",
                  "thursday_start_time": "None",
                  "thursday_end_time": "None",
                  "thursday_notes": "None",
                  "is_friday_open": "None",
                  "friday_start_time": "None",
                  "friday_end_time": "None",
                  "friday_notes": "None",
                  "is_saturday_open": "None",
                  "saturday_start_time": "None",
                  "saturday_end_time": "None",
                  "saturday_notes": "None",
                  "is_sunday_open": "None",
                  "sunday_start_time": "None",
                  "sunday_end_time": "None",
                  "sunday_notes": "None",
                  "place_id": "ChIJxVCUXCclcC4RNHd7B8RYVhA",
                  "added_from_system": "True",
                  "google_maps_link": "https://maps.google.com/?cid=1177225951566329652",
                  "categories": "cafe, food, point_of_interest, establishment",
                  "_deepnote_index_column": 9
                }
              ]
            },
            "text/plain": "                                        id claim_by created_by province_id  \\\n0     93868007-55f6-439e-8b2c-4c25bf7f488c     None       None        None   \n1     4a910efc-1d10-46d8-acac-ffedba04fa97     None       None        None   \n2     3b274f9d-7069-4cb5-a03a-f4601c41e800     None       None        None   \n3     6d1f0022-20ac-4edd-9181-bfc5810d9f0a     None       None        None   \n4     b0d0eeaa-dae4-4084-85ee-9e9fa58f8c92     None       None        None   \n...                                    ...      ...        ...         ...   \n1198  c8c7c817-e97c-4b56-adc0-460fbb24baca     None       None        None   \n1199  779db0ce-acee-4d34-9ec2-3df74fa063de     None       None        None   \n1200  8c395549-8f0f-447f-ae52-2d35a3bb4f73     None       None        None   \n1201  29b650ad-b8b8-48ff-b008-dc935f4a3be4     None       None        None   \n1202  82694d29-adf8-45a0-a554-7d86552bbbed     None       None        None   \n\n      province_name regency_id       regency_name district_id district_name  \\\n0     DI Yogyakarta       None   Kabupaten Sleman        None         Depok   \n1        Jawa Timur       None  Kabupaten Sumenep        None  Kota Sumenep   \n2       Jawa Tengah       None   Kabupaten Jepara        None        Jepara   \n3     DI Yogyakarta       None   Kabupaten Sleman        None         Depok   \n4       Jawa Tengah       None   Kabupaten Batang        None        Batang   \n...             ...        ...                ...         ...           ...   \n1198    Jawa Tengah       None   Kabupaten Batang        None        Batang   \n1199  DI Yogyakarta       None    Kota Yogyakarta        None  Gondokusuman   \n1200    Jawa Tengah       None   Kabupaten Batang        None        Batang   \n1201  DI Yogyakarta       None    Kota Yogyakarta        None    Umbulharjo   \n1202     Jawa Timur       None  Kabupaten Sumenep        None  Kota Sumenep   \n\n     village_id  ... saturday_end_time saturday_notes is_sunday_open  \\\n0          None  ...              None           None           None   \n1          None  ...             21:00           None           True   \n2          None  ...              None           None           None   \n3          None  ...             17:00           None           True   \n4          None  ...             21:00           None           True   \n...         ...  ...               ...            ...            ...   \n1198       None  ...             16:00           None          False   \n1199       None  ...              None           None           None   \n1200       None  ...              None           None           None   \n1201       None  ...             17:00           None           True   \n1202       None  ...              None           None           None   \n\n      sunday_start_time  sunday_end_time sunday_notes  \\\n0                  None             None         None   \n1                 07:00            21:00         None   \n2                  None             None         None   \n3                 09:00            17:00         None   \n4                 07:00            18:00         None   \n...                 ...              ...          ...   \n1198               None             None         None   \n1199               None             None         None   \n1200               None             None         None   \n1201              08:00            14:00         None   \n1202               None             None         None   \n\n                         place_id added_from_system  \\\n0     ChIJvT-QyexZei4RvBozzZRlkZM              True   \n1     ChIJJ370qObl2S0R0zXlllRmiFE              True   \n2     ChIJCY2BCgUfcS4RVHJ0h7YYh1E              True   \n3     ChIJpVbv3bBZei4RuO0trojLkDM              True   \n4     ChIJtV17tpUkcC4RuIMK5ZcsqkQ              True   \n...                           ...               ...   \n1198  ChIJA0T_EtUlcC4RbIQ2kB0ABDk              True   \n1199  ChIJ0d2oONVZei4RZ5ShR-dn5WA              True   \n1200  ChIJz6PzXUklcC4Rvc0GoIx51Bo              True   \n1201  ChIJmw7F09dZei4RVcdNDiTIb_4              True   \n1202  ChIJs4ELvUPn2S0RvLKMizX-IvE              True   \n\n                                       google_maps_link  \\\n0     https://maps.google.com/?cid=10633391884970695356   \n1      https://maps.google.com/?cid=5875058227399701971   \n2      https://maps.google.com/?cid=5874691411163771476   \n3      https://maps.google.com/?cid=3715693480478895544   \n4      https://maps.google.com/?cid=4947816171514266552   \n...                                                 ...   \n1198   https://maps.google.com/?cid=4108408887042278508   \n1199   https://maps.google.com/?cid=6982101040344700007   \n1200   https://maps.google.com/?cid=1933303784935968189   \n1201  https://maps.google.com/?cid=18334092665232934741   \n1202  https://maps.google.com/?cid=17375729818276770492   \n\n                                             categories  \n0     bakery, food, store, point_of_interest, establ...  \n1     bakery, store, food, point_of_interest, establ...  \n2     meal_takeaway, restaurant, food, point_of_inte...  \n3      florist, point_of_interest, store, establishment  \n4     convenience_store, store, food, point_of_inter...  \n...                                                 ...  \n1198   florist, store, point_of_interest, establishment  \n1199  pet_store, food, point_of_interest, store, est...  \n1200  meal_takeaway, restaurant, point_of_interest, ...  \n1201  hardware_store, store, point_of_interest, esta...  \n1202  bakery, food, store, point_of_interest, establ...  \n\n[1203 rows x 56 columns]",
            "text/html": "<div>\n<style scoped>\n    .dataframe tbody tr th:only-of-type {\n        vertical-align: middle;\n    }\n\n    .dataframe tbody tr th {\n        vertical-align: top;\n    }\n\n    .dataframe thead th {\n        text-align: right;\n    }\n</style>\n<table border=\"1\" class=\"dataframe\">\n  <thead>\n    <tr style=\"text-align: right;\">\n      <th></th>\n      <th>id</th>\n      <th>claim_by</th>\n      <th>created_by</th>\n      <th>province_id</th>\n      <th>province_name</th>\n      <th>regency_id</th>\n      <th>regency_name</th>\n      <th>district_id</th>\n      <th>district_name</th>\n      <th>village_id</th>\n      <th>...</th>\n      <th>saturday_end_time</th>\n      <th>saturday_notes</th>\n      <th>is_sunday_open</th>\n      <th>sunday_start_time</th>\n      <th>sunday_end_time</th>\n      <th>sunday_notes</th>\n      <th>place_id</th>\n      <th>added_from_system</th>\n      <th>google_maps_link</th>\n      <th>categories</th>\n    </tr>\n  </thead>\n  <tbody>\n    <tr>\n      <th>0</th>\n      <td>93868007-55f6-439e-8b2c-4c25bf7f488c</td>\n      <td>None</td>\n      <td>None</td>\n      <td>None</td>\n      <td>DI Yogyakarta</td>\n      <td>None</td>\n      <td>Kabupaten Sleman</td>\n      <td>None</td>\n      <td>Depok</td>\n      <td>None</td>\n      <td>...</td>\n      <td>None</td>\n      <td>None</td>\n      <td>None</td>\n      <td>None</td>\n      <td>None</td>\n      <td>None</td>\n      <td>ChIJvT-QyexZei4RvBozzZRlkZM</td>\n      <td>True</td>\n      <td>https://maps.google.com/?cid=10633391884970695356</td>\n      <td>bakery, food, store, point_of_interest, establ...</td>\n    </tr>\n    <tr>\n      <th>1</th>\n      <td>4a910efc-1d10-46d8-acac-ffedba04fa97</td>\n      <td>None</td>\n      <td>None</td>\n      <td>None</td>\n      <td>Jawa Timur</td>\n      <td>None</td>\n      <td>Kabupaten Sumenep</td>\n      <td>None</td>\n      <td>Kota Sumenep</td>\n      <td>None</td>\n      <td>...</td>\n      <td>21:00</td>\n      <td>None</td>\n      <td>True</td>\n      <td>07:00</td>\n      <td>21:00</td>\n      <td>None</td>\n      <td>ChIJJ370qObl2S0R0zXlllRmiFE</td>\n      <td>True</td>\n      <td>https://maps.google.com/?cid=5875058227399701971</td>\n      <td>bakery, store, food, point_of_interest, establ...</td>\n    </tr>\n    <tr>\n      <th>2</th>\n      <td>3b274f9d-7069-4cb5-a03a-f4601c41e800</td>\n      <td>None</td>\n      <td>None</td>\n      <td>None</td>\n      <td>Jawa Tengah</td>\n      <td>None</td>\n      <td>Kabupaten Jepara</td>\n      <td>None</td>\n      <td>Jepara</td>\n      <td>None</td>\n      <td>...</td>\n      <td>None</td>\n      <td>None</td>\n      <td>None</td>\n      <td>None</td>\n      <td>None</td>\n      <td>None</td>\n      <td>ChIJCY2BCgUfcS4RVHJ0h7YYh1E</td>\n      <td>True</td>\n      <td>https://maps.google.com/?cid=5874691411163771476</td>\n      <td>meal_takeaway, restaurant, food, point_of_inte...</td>\n    </tr>\n    <tr>\n      <th>3</th>\n      <td>6d1f0022-20ac-4edd-9181-bfc5810d9f0a</td>\n      <td>None</td>\n      <td>None</td>\n      <td>None</td>\n      <td>DI Yogyakarta</td>\n      <td>None</td>\n      <td>Kabupaten Sleman</td>\n      <td>None</td>\n      <td>Depok</td>\n      <td>None</td>\n      <td>...</td>\n      <td>17:00</td>\n      <td>None</td>\n      <td>True</td>\n      <td>09:00</td>\n      <td>17:00</td>\n      <td>None</td>\n      <td>ChIJpVbv3bBZei4RuO0trojLkDM</td>\n      <td>True</td>\n      <td>https://maps.google.com/?cid=3715693480478895544</td>\n      <td>florist, point_of_interest, store, establishment</td>\n    </tr>\n    <tr>\n      <th>4</th>\n      <td>b0d0eeaa-dae4-4084-85ee-9e9fa58f8c92</td>\n      <td>None</td>\n      <td>None</td>\n      <td>None</td>\n      <td>Jawa Tengah</td>\n      <td>None</td>\n      <td>Kabupaten Batang</td>\n      <td>None</td>\n      <td>Batang</td>\n      <td>None</td>\n      <td>...</td>\n      <td>21:00</td>\n      <td>None</td>\n      <td>True</td>\n      <td>07:00</td>\n      <td>18:00</td>\n      <td>None</td>\n      <td>ChIJtV17tpUkcC4RuIMK5ZcsqkQ</td>\n      <td>True</td>\n      <td>https://maps.google.com/?cid=4947816171514266552</td>\n      <td>convenience_store, store, food, point_of_inter...</td>\n    </tr>\n    <tr>\n      <th>...</th>\n      <td>...</td>\n      <td>...</td>\n      <td>...</td>\n      <td>...</td>\n      <td>...</td>\n      <td>...</td>\n      <td>...</td>\n      <td>...</td>\n      <td>...</td>\n      <td>...</td>\n      <td>...</td>\n      <td>...</td>\n      <td>...</td>\n      <td>...</td>\n      <td>...</td>\n      <td>...</td>\n      <td>...</td>\n      <td>...</td>\n      <td>...</td>\n      <td>...</td>\n      <td>...</td>\n    </tr>\n    <tr>\n      <th>1198</th>\n      <td>c8c7c817-e97c-4b56-adc0-460fbb24baca</td>\n      <td>None</td>\n      <td>None</td>\n      <td>None</td>\n      <td>Jawa Tengah</td>\n      <td>None</td>\n      <td>Kabupaten Batang</td>\n      <td>None</td>\n      <td>Batang</td>\n      <td>None</td>\n      <td>...</td>\n      <td>16:00</td>\n      <td>None</td>\n      <td>False</td>\n      <td>None</td>\n      <td>None</td>\n      <td>None</td>\n      <td>ChIJA0T_EtUlcC4RbIQ2kB0ABDk</td>\n      <td>True</td>\n      <td>https://maps.google.com/?cid=4108408887042278508</td>\n      <td>florist, store, point_of_interest, establishment</td>\n    </tr>\n    <tr>\n      <th>1199</th>\n      <td>779db0ce-acee-4d34-9ec2-3df74fa063de</td>\n      <td>None</td>\n      <td>None</td>\n      <td>None</td>\n      <td>DI Yogyakarta</td>\n      <td>None</td>\n      <td>Kota Yogyakarta</td>\n      <td>None</td>\n      <td>Gondokusuman</td>\n      <td>None</td>\n      <td>...</td>\n      <td>None</td>\n      <td>None</td>\n      <td>None</td>\n      <td>None</td>\n      <td>None</td>\n      <td>None</td>\n      <td>ChIJ0d2oONVZei4RZ5ShR-dn5WA</td>\n      <td>True</td>\n      <td>https://maps.google.com/?cid=6982101040344700007</td>\n      <td>pet_store, food, point_of_interest, store, est...</td>\n    </tr>\n    <tr>\n      <th>1200</th>\n      <td>8c395549-8f0f-447f-ae52-2d35a3bb4f73</td>\n      <td>None</td>\n      <td>None</td>\n      <td>None</td>\n      <td>Jawa Tengah</td>\n      <td>None</td>\n      <td>Kabupaten Batang</td>\n      <td>None</td>\n      <td>Batang</td>\n      <td>None</td>\n      <td>...</td>\n      <td>None</td>\n      <td>None</td>\n      <td>None</td>\n      <td>None</td>\n      <td>None</td>\n      <td>None</td>\n      <td>ChIJz6PzXUklcC4Rvc0GoIx51Bo</td>\n      <td>True</td>\n      <td>https://maps.google.com/?cid=1933303784935968189</td>\n      <td>meal_takeaway, restaurant, point_of_interest, ...</td>\n    </tr>\n    <tr>\n      <th>1201</th>\n      <td>29b650ad-b8b8-48ff-b008-dc935f4a3be4</td>\n      <td>None</td>\n      <td>None</td>\n      <td>None</td>\n      <td>DI Yogyakarta</td>\n      <td>None</td>\n      <td>Kota Yogyakarta</td>\n      <td>None</td>\n      <td>Umbulharjo</td>\n      <td>None</td>\n      <td>...</td>\n      <td>17:00</td>\n      <td>None</td>\n      <td>True</td>\n      <td>08:00</td>\n      <td>14:00</td>\n      <td>None</td>\n      <td>ChIJmw7F09dZei4RVcdNDiTIb_4</td>\n      <td>True</td>\n      <td>https://maps.google.com/?cid=18334092665232934741</td>\n      <td>hardware_store, store, point_of_interest, esta...</td>\n    </tr>\n    <tr>\n      <th>1202</th>\n      <td>82694d29-adf8-45a0-a554-7d86552bbbed</td>\n      <td>None</td>\n      <td>None</td>\n      <td>None</td>\n      <td>Jawa Timur</td>\n      <td>None</td>\n      <td>Kabupaten Sumenep</td>\n      <td>None</td>\n      <td>Kota Sumenep</td>\n      <td>None</td>\n      <td>...</td>\n      <td>None</td>\n      <td>None</td>\n      <td>None</td>\n      <td>None</td>\n      <td>None</td>\n      <td>None</td>\n      <td>ChIJs4ELvUPn2S0RvLKMizX-IvE</td>\n      <td>True</td>\n      <td>https://maps.google.com/?cid=17375729818276770492</td>\n      <td>bakery, food, store, point_of_interest, establ...</td>\n    </tr>\n  </tbody>\n</table>\n<p>1203 rows × 56 columns</p>\n</div>"
          },
          "metadata": {}
        }
      ],
      "execution_count": 6
    },
    {
      "cell_type": "code",
      "source": "businesses_normalized = _deepnote_execute_sql('SELECT\\nbusinesses.id,\\nbusinesses.claim_by,\\nbusinesses.created_by,\\nprovinces.id AS province_id,\\nregencies.id AS regency_id,\\ndistricts.id AS district_id,\\nvillages.id AS village_id,\\nbusinesses.username,\\nbusinesses.name,\\nbusinesses.latitude,\\nbusinesses.longitude,\\nbusinesses.address,\\nbusinesses.postal_code,\\nbusinesses.avatar,\\nbusinesses.description,\\nbusinesses.released_at,\\nbusinesses.google_maps_rating,\\nbusinesses.created_at,\\nbusinesses.updated_at,\\nbusinesses.deleted_at,\\nbusinesses.is_monday_open,\\nbusinesses.monday_start_time,\\nbusinesses.monday_end_time,\\nbusinesses.monday_notes,\\nbusinesses.is_tuesday_open,\\nbusinesses.tuesday_start_time,\\nbusinesses.tuesday_end_time,\\nbusinesses.tuesday_notes,\\nbusinesses.is_wednesday_open,\\nbusinesses.wednesday_start_time,\\nbusinesses.wednesday_end_time,\\nbusinesses.wednesday_notes,\\nbusinesses.is_thursday_open,\\nbusinesses.thursday_start_time,\\nbusinesses.thursday_end_time,\\nbusinesses.thursday_notes,\\nbusinesses.is_friday_open,\\nbusinesses.friday_start_time,\\nbusinesses.friday_end_time,\\nbusinesses.friday_notes,\\nbusinesses.is_saturday_open,\\nbusinesses.saturday_start_time,\\nbusinesses.saturday_end_time,\\nbusinesses.saturday_notes,\\nbusinesses.is_sunday_open,\\nbusinesses.sunday_start_time,\\nbusinesses.sunday_end_time,\\nbusinesses.sunday_notes,\\nbusinesses.place_id,\\nbusinesses.added_from_system,\\nbusinesses.google_maps_link,\\nbusinesses.categories\\nFROM businesses\\nINNER JOIN provinces ON LOWER(provinces.name) = LOWER(businesses.province_name)\\nINNER JOIN regencies ON LOWER(regencies.name) = LOWER(businesses.regency_name)\\nINNER JOIN districts ON LOWER(districts.name) = LOWER(businesses.district_name)\\nINNER JOIN villages ON LOWER(villages.name) = LOWER(businesses.village_name)', 'SQL_DEEPNOTE_DATAFRAME_SQL', audit_sql_comment='', sql_cache_mode='cache_disabled')\nbusinesses_normalized",
      "metadata": {
        "source_hash": "8c0b105b",
        "execution_start": 1686869230262,
        "execution_millis": 360,
        "sql_integration_id": "deepnote-dataframe-sql",
        "deepnote_table_state": {
          "sortBy": [],
          "filters": [],
          "pageSize": 100,
          "pageIndex": 0
        },
        "deepnote_table_loading": false,
        "deepnote_variable_name": "businesses_normalized",
        "deepnote_to_be_reexecuted": false,
        "cell_id": "a47d019332e74617a7fbc1fdbde3930a",
        "deepnote_cell_type": "sql",
        "deepnote_sql_source": "SELECT\nbusinesses.id,\nbusinesses.claim_by,\nbusinesses.created_by,\nprovinces.id AS province_id,\nregencies.id AS regency_id,\ndistricts.id AS district_id,\nvillages.id AS village_id,\nbusinesses.username,\nbusinesses.name,\nbusinesses.latitude,\nbusinesses.longitude,\nbusinesses.address,\nbusinesses.postal_code,\nbusinesses.avatar,\nbusinesses.description,\nbusinesses.released_at,\nbusinesses.google_maps_rating,\nbusinesses.created_at,\nbusinesses.updated_at,\nbusinesses.deleted_at,\nbusinesses.is_monday_open,\nbusinesses.monday_start_time,\nbusinesses.monday_end_time,\nbusinesses.monday_notes,\nbusinesses.is_tuesday_open,\nbusinesses.tuesday_start_time,\nbusinesses.tuesday_end_time,\nbusinesses.tuesday_notes,\nbusinesses.is_wednesday_open,\nbusinesses.wednesday_start_time,\nbusinesses.wednesday_end_time,\nbusinesses.wednesday_notes,\nbusinesses.is_thursday_open,\nbusinesses.thursday_start_time,\nbusinesses.thursday_end_time,\nbusinesses.thursday_notes,\nbusinesses.is_friday_open,\nbusinesses.friday_start_time,\nbusinesses.friday_end_time,\nbusinesses.friday_notes,\nbusinesses.is_saturday_open,\nbusinesses.saturday_start_time,\nbusinesses.saturday_end_time,\nbusinesses.saturday_notes,\nbusinesses.is_sunday_open,\nbusinesses.sunday_start_time,\nbusinesses.sunday_end_time,\nbusinesses.sunday_notes,\nbusinesses.place_id,\nbusinesses.added_from_system,\nbusinesses.google_maps_link,\nbusinesses.categories\nFROM businesses\nINNER JOIN provinces ON LOWER(provinces.name) = LOWER(businesses.province_name)\nINNER JOIN regencies ON LOWER(regencies.name) = LOWER(businesses.regency_name)\nINNER JOIN districts ON LOWER(districts.name) = LOWER(businesses.district_name)\nINNER JOIN villages ON LOWER(villages.name) = LOWER(businesses.village_name)"
      },
      "outputs": [
        {
          "data": {
            "application/vnd.deepnote.sql-output-metadata+json": {
              "status": "success_no_cache",
              "size_in_bytes": 14959635
            }
          },
          "metadata": {},
          "output_type": "display_data"
        },
        {
          "output_type": "execute_result",
          "execution_count": 7,
          "data": {
            "application/vnd.deepnote.dataframe.v3+json": {
              "column_count": 52,
              "row_count": 6869,
              "columns": [
                {
                  "name": "id",
                  "dtype": "object",
                  "stats": {
                    "unique_count": 808,
                    "nan_count": 0,
                    "categories": [
                      {
                        "name": "2907ff2c-abd7-4b7d-a56b-6c0d58a0f86f",
                        "count": 68
                      },
                      {
                        "name": "67015c48-876d-43d2-9c95-9f0eed10c40c",
                        "count": 68
                      },
                      {
                        "name": "806 others",
                        "count": 6733
                      }
                    ]
                  }
                },
                {
                  "name": "claim_by",
                  "dtype": "object",
                  "stats": {
                    "unique_count": 0,
                    "nan_count": 6869,
                    "categories": [
                      {
                        "name": "Missing",
                        "count": 6869
                      }
                    ]
                  }
                },
                {
                  "name": "created_by",
                  "dtype": "object",
                  "stats": {
                    "unique_count": 0,
                    "nan_count": 6869,
                    "categories": [
                      {
                        "name": "Missing",
                        "count": 6869
                      }
                    ]
                  }
                },
                {
                  "name": "province_id",
                  "dtype": "object",
                  "stats": {
                    "unique_count": 3,
                    "nan_count": 0,
                    "categories": [
                      {
                        "name": "f3502b89-a312-4a51-afad-64c005540214",
                        "count": 6190
                      },
                      {
                        "name": "ece42b5b-932f-421d-88e9-91d632e58f73",
                        "count": 463
                      },
                      {
                        "name": "bfe06315-c043-4c34-a77d-d8d365b2777b",
                        "count": 216
                      }
                    ]
                  }
                },
                {
                  "name": "regency_id",
                  "dtype": "object",
                  "stats": {
                    "unique_count": 9,
                    "nan_count": 0,
                    "categories": [
                      {
                        "name": "cdbd1f65-14a4-41c6-bca3-cdd9fc532e15",
                        "count": 4796
                      },
                      {
                        "name": "e15f9692-c4bb-4f39-8ed2-6f7ee16d8729",
                        "count": 1232
                      },
                      {
                        "name": "7 others",
                        "count": 841
                      }
                    ]
                  }
                },
                {
                  "name": "district_id",
                  "dtype": "object",
                  "stats": {
                    "unique_count": 33,
                    "nan_count": 0,
                    "categories": [
                      {
                        "name": "8234842e-3f02-45e6-8b7f-22af0e238c4f",
                        "count": 2398
                      },
                      {
                        "name": "a1bc7ef8-8cd2-4f63-bf0b-86bc05172b46",
                        "count": 2398
                      },
                      {
                        "name": "31 others",
                        "count": 2073
                      }
                    ]
                  }
                },
                {
                  "name": "village_id",
                  "dtype": "object",
                  "stats": {
                    "unique_count": 248,
                    "nan_count": 0,
                    "categories": [
                      {
                        "name": "3e787eb5-cbfa-412c-bf2e-15ac63bb97ba",
                        "count": 150
                      },
                      {
                        "name": "ba0f16fe-ac48-4154-a754-78f9d76b09ac",
                        "count": 150
                      },
                      {
                        "name": "246 others",
                        "count": 6569
                      }
                    ]
                  }
                },
                {
                  "name": "username",
                  "dtype": "object",
                  "stats": {
                    "unique_count": 0,
                    "nan_count": 6869,
                    "categories": [
                      {
                        "name": "Missing",
                        "count": 6869
                      }
                    ]
                  }
                },
                {
                  "name": "name",
                  "dtype": "object",
                  "stats": {
                    "unique_count": 793,
                    "nan_count": 0,
                    "categories": [
                      {
                        "name": "Struggleshoes",
                        "count": 68
                      },
                      {
                        "name": "Meubel Kartika",
                        "count": 68
                      },
                      {
                        "name": "791 others",
                        "count": 6733
                      }
                    ]
                  }
                },
                {
                  "name": "latitude",
                  "dtype": "float64",
                  "stats": {
                    "unique_count": 782,
                    "nan_count": 0,
                    "min": "-7.798692899999999",
                    "max": "-6.470847699999999",
                    "histogram": [
                      {
                        "bin_start": -7.798692899999999,
                        "bin_end": -7.665908379999999,
                        "count": 463
                      },
                      {
                        "bin_start": -7.665908379999999,
                        "bin_end": -7.533123859999999,
                        "count": 0
                      },
                      {
                        "bin_start": -7.533123859999999,
                        "bin_end": -7.400339339999999,
                        "count": 0
                      },
                      {
                        "bin_start": -7.400339339999999,
                        "bin_end": -7.267554819999999,
                        "count": 0
                      },
                      {
                        "bin_start": -7.267554819999999,
                        "bin_end": -7.1347703,
                        "count": 0
                      },
                      {
                        "bin_start": -7.1347703,
                        "bin_end": -7.001985779999999,
                        "count": 211
                      },
                      {
                        "bin_start": -7.001985779999999,
                        "bin_end": -6.869201259999999,
                        "count": 4862
                      },
                      {
                        "bin_start": -6.869201259999999,
                        "bin_end": -6.736416739999999,
                        "count": 0
                      },
                      {
                        "bin_start": -6.736416739999999,
                        "bin_end": -6.60363222,
                        "count": 14
                      },
                      {
                        "bin_start": -6.60363222,
                        "bin_end": -6.470847699999999,
                        "count": 1319
                      }
                    ]
                  }
                },
                {
                  "name": "longitude",
                  "dtype": "float64",
                  "stats": {
                    "unique_count": 781,
                    "nan_count": 0,
                    "min": "109.677778",
                    "max": "113.8766619",
                    "histogram": [
                      {
                        "bin_start": 109.677778,
                        "bin_end": 110.09766639,
                        "count": 4829
                      },
                      {
                        "bin_start": 110.09766639,
                        "bin_end": 110.51755478,
                        "count": 463
                      },
                      {
                        "bin_start": 110.51755478,
                        "bin_end": 110.93744317000001,
                        "count": 1361
                      },
                      {
                        "bin_start": 110.93744317000001,
                        "bin_end": 111.35733156,
                        "count": 0
                      },
                      {
                        "bin_start": 111.35733156,
                        "bin_end": 111.77721995,
                        "count": 0
                      },
                      {
                        "bin_start": 111.77721995,
                        "bin_end": 112.19710834,
                        "count": 0
                      },
                      {
                        "bin_start": 112.19710834,
                        "bin_end": 112.61699673,
                        "count": 0
                      },
                      {
                        "bin_start": 112.61699673,
                        "bin_end": 113.03688512000001,
                        "count": 0
                      },
                      {
                        "bin_start": 113.03688512000001,
                        "bin_end": 113.45677351,
                        "count": 0
                      },
                      {
                        "bin_start": 113.45677351,
                        "bin_end": 113.8766619,
                        "count": 216
                      }
                    ]
                  }
                },
                {
                  "name": "address",
                  "dtype": "object",
                  "stats": {
                    "unique_count": 769,
                    "nan_count": 0,
                    "categories": [
                      {
                        "name": "Jalan Doktor Sutomo No.26, Kauman, Kauman",
                        "count": 102
                      },
                      {
                        "name": "Jl. Ahmad Yani Gg. Mawar No.mor 16, Singosari, Kauman",
                        "count": 68
                      },
                      {
                        "name": "767 others",
                        "count": 6699
                      }
                    ]
                  }
                },
                {
                  "name": "postal_code",
                  "dtype": "int64",
                  "stats": {
                    "unique_count": 67,
                    "nan_count": 0,
                    "min": "51121",
                    "max": "69493",
                    "histogram": [
                      {
                        "bin_start": 51121,
                        "bin_end": 52958.2,
                        "count": 4833
                      },
                      {
                        "bin_start": 52958.2,
                        "bin_end": 54795.4,
                        "count": 0
                      },
                      {
                        "bin_start": 54795.4,
                        "bin_end": 56632.6,
                        "count": 491
                      },
                      {
                        "bin_start": 56632.6,
                        "bin_end": 58469.8,
                        "count": 0
                      },
                      {
                        "bin_start": 58469.8,
                        "bin_end": 60307,
                        "count": 1336
                      },
                      {
                        "bin_start": 60307,
                        "bin_end": 62144.2,
                        "count": 0
                      },
                      {
                        "bin_start": 62144.2,
                        "bin_end": 63981.4,
                        "count": 0
                      },
                      {
                        "bin_start": 63981.4,
                        "bin_end": 65818.6,
                        "count": 0
                      },
                      {
                        "bin_start": 65818.6,
                        "bin_end": 67655.8,
                        "count": 0
                      },
                      {
                        "bin_start": 67655.8,
                        "bin_end": 69493,
                        "count": 209
                      }
                    ]
                  }
                },
                {
                  "name": "avatar",
                  "dtype": "object",
                  "stats": {
                    "unique_count": 0,
                    "nan_count": 6869,
                    "categories": [
                      {
                        "name": "Missing",
                        "count": 6869
                      }
                    ]
                  }
                },
                {
                  "name": "description",
                  "dtype": "object"
                },
                {
                  "name": "released_at",
                  "dtype": "object"
                },
                {
                  "name": "google_maps_rating",
                  "dtype": "float64"
                },
                {
                  "name": "created_at",
                  "dtype": "datetime64[ns]"
                },
                {
                  "name": "updated_at",
                  "dtype": "object"
                },
                {
                  "name": "deleted_at",
                  "dtype": "object"
                },
                {
                  "name": "is_monday_open",
                  "dtype": "object"
                },
                {
                  "name": "monday_start_time",
                  "dtype": "object"
                },
                {
                  "name": "monday_end_time",
                  "dtype": "object"
                },
                {
                  "name": "monday_notes",
                  "dtype": "object"
                },
                {
                  "name": "is_tuesday_open",
                  "dtype": "object"
                },
                {
                  "name": "tuesday_start_time",
                  "dtype": "object"
                },
                {
                  "name": "tuesday_end_time",
                  "dtype": "object"
                },
                {
                  "name": "tuesday_notes",
                  "dtype": "object"
                },
                {
                  "name": "is_wednesday_open",
                  "dtype": "object"
                },
                {
                  "name": "wednesday_start_time",
                  "dtype": "object"
                },
                {
                  "name": "wednesday_end_time",
                  "dtype": "object"
                },
                {
                  "name": "wednesday_notes",
                  "dtype": "object"
                },
                {
                  "name": "is_thursday_open",
                  "dtype": "object"
                },
                {
                  "name": "thursday_start_time",
                  "dtype": "object"
                },
                {
                  "name": "thursday_end_time",
                  "dtype": "object"
                },
                {
                  "name": "thursday_notes",
                  "dtype": "object"
                },
                {
                  "name": "is_friday_open",
                  "dtype": "object"
                },
                {
                  "name": "friday_start_time",
                  "dtype": "object"
                },
                {
                  "name": "friday_end_time",
                  "dtype": "object"
                },
                {
                  "name": "friday_notes",
                  "dtype": "object"
                },
                {
                  "name": "is_saturday_open",
                  "dtype": "object"
                },
                {
                  "name": "saturday_start_time",
                  "dtype": "object"
                },
                {
                  "name": "saturday_end_time",
                  "dtype": "object"
                },
                {
                  "name": "saturday_notes",
                  "dtype": "object"
                },
                {
                  "name": "is_sunday_open",
                  "dtype": "object"
                },
                {
                  "name": "sunday_start_time",
                  "dtype": "object"
                },
                {
                  "name": "sunday_end_time",
                  "dtype": "object"
                },
                {
                  "name": "sunday_notes",
                  "dtype": "object"
                },
                {
                  "name": "place_id",
                  "dtype": "object"
                },
                {
                  "name": "added_from_system",
                  "dtype": "bool"
                },
                {
                  "name": "google_maps_link",
                  "dtype": "object"
                },
                {
                  "name": "categories",
                  "dtype": "object"
                },
                {
                  "name": "_deepnote_index_column",
                  "dtype": "int64"
                }
              ],
              "rows": [
                {
                  "id": "c42ff9d2-cb08-444b-9099-4ef2e94a276e",
                  "claim_by": "None",
                  "created_by": "None",
                  "province_id": "f3502b89-a312-4a51-afad-64c005540214",
                  "regency_id": "e15f9692-c4bb-4f39-8ed2-6f7ee16d8729",
                  "district_id": "dc4e7e74-5162-4963-8316-6f6ee1720f14",
                  "village_id": "aa154aa8-a76e-4bf9-b254-2ea96e9fa4ba",
                  "username": "None",
                  "name": "Natural bordir terminal kelet",
                  "latitude": -6.504130599999999,
                  "longitude": 110.9092122,
                  "address": "FWW5+8MW, Jalan Raya Kelet-Jepara, raya",
                  "postal_code": 55222,
                  "avatar": "None",
                  "description": "None",
                  "released_at": "None",
                  "google_maps_rating": 0,
                  "created_at": "2023-06-15 22:46:31",
                  "updated_at": "None",
                  "deleted_at": "None",
                  "is_monday_open": "None",
                  "monday_start_time": "None",
                  "monday_end_time": "None",
                  "monday_notes": "None",
                  "is_tuesday_open": "None",
                  "tuesday_start_time": "None",
                  "tuesday_end_time": "None",
                  "tuesday_notes": "None",
                  "is_wednesday_open": "None",
                  "wednesday_start_time": "None",
                  "wednesday_end_time": "None",
                  "wednesday_notes": "None",
                  "is_thursday_open": "None",
                  "thursday_start_time": "None",
                  "thursday_end_time": "None",
                  "thursday_notes": "None",
                  "is_friday_open": "None",
                  "friday_start_time": "None",
                  "friday_end_time": "None",
                  "friday_notes": "None",
                  "is_saturday_open": "None",
                  "saturday_start_time": "None",
                  "saturday_end_time": "None",
                  "saturday_notes": "None",
                  "is_sunday_open": "None",
                  "sunday_start_time": "None",
                  "sunday_end_time": "None",
                  "sunday_notes": "None",
                  "place_id": "ChIJzxaZ_Q8vcS4RTZ5pCVU7PW0",
                  "added_from_system": "True",
                  "google_maps_link": "https://maps.google.com/?cid=7871512960129670733",
                  "categories": "book_store, point_of_interest, store, establishment",
                  "_deepnote_index_column": 0
                },
                {
                  "id": "c42ff9d2-cb08-444b-9099-4ef2e94a276e",
                  "claim_by": "None",
                  "created_by": "None",
                  "province_id": "f3502b89-a312-4a51-afad-64c005540214",
                  "regency_id": "e15f9692-c4bb-4f39-8ed2-6f7ee16d8729",
                  "district_id": "dc4e7e74-5162-4963-8316-6f6ee1720f14",
                  "village_id": "5ee4ad5b-85e2-42ac-b9ca-214ec88dbe3f",
                  "username": "None",
                  "name": "Natural bordir terminal kelet",
                  "latitude": -6.504130599999999,
                  "longitude": 110.9092122,
                  "address": "FWW5+8MW, Jalan Raya Kelet-Jepara, raya",
                  "postal_code": 55222,
                  "avatar": "None",
                  "description": "None",
                  "released_at": "None",
                  "google_maps_rating": 0,
                  "created_at": "2023-06-15 22:46:31",
                  "updated_at": "None",
                  "deleted_at": "None",
                  "is_monday_open": "None",
                  "monday_start_time": "None",
                  "monday_end_time": "None",
                  "monday_notes": "None",
                  "is_tuesday_open": "None",
                  "tuesday_start_time": "None",
                  "tuesday_end_time": "None",
                  "tuesday_notes": "None",
                  "is_wednesday_open": "None",
                  "wednesday_start_time": "None",
                  "wednesday_end_time": "None",
                  "wednesday_notes": "None",
                  "is_thursday_open": "None",
                  "thursday_start_time": "None",
                  "thursday_end_time": "None",
                  "thursday_notes": "None",
                  "is_friday_open": "None",
                  "friday_start_time": "None",
                  "friday_end_time": "None",
                  "friday_notes": "None",
                  "is_saturday_open": "None",
                  "saturday_start_time": "None",
                  "saturday_end_time": "None",
                  "saturday_notes": "None",
                  "is_sunday_open": "None",
                  "sunday_start_time": "None",
                  "sunday_end_time": "None",
                  "sunday_notes": "None",
                  "place_id": "ChIJzxaZ_Q8vcS4RTZ5pCVU7PW0",
                  "added_from_system": "True",
                  "google_maps_link": "https://maps.google.com/?cid=7871512960129670733",
                  "categories": "book_store, point_of_interest, store, establishment",
                  "_deepnote_index_column": 1
                },
                {
                  "id": "d4422260-5b60-458f-a50b-b71eb07819c2",
                  "claim_by": "None",
                  "created_by": "None",
                  "province_id": "f3502b89-a312-4a51-afad-64c005540214",
                  "regency_id": "610d56dd-edc5-4364-950c-6dad41e49e50",
                  "district_id": "001043bb-a71c-4f80-8146-a4980c53ee5c",
                  "village_id": "f56628bd-78a8-4d1f-8059-c5b09c82abf0",
                  "username": "None",
                  "name": "Wr Bakso Mbak nurul",
                  "latitude": -6.9959271,
                  "longitude": 110.7150191,
                  "address": "2P38+J2C, Babad, Babat",
                  "postal_code": 59583,
                  "avatar": "None",
                  "description": "None",
                  "released_at": "None",
                  "google_maps_rating": 0,
                  "created_at": "2023-06-15 22:46:32",
                  "updated_at": "None",
                  "deleted_at": "None",
                  "is_monday_open": "None",
                  "monday_start_time": "None",
                  "monday_end_time": "None",
                  "monday_notes": "None",
                  "is_tuesday_open": "None",
                  "tuesday_start_time": "None",
                  "tuesday_end_time": "None",
                  "tuesday_notes": "None",
                  "is_wednesday_open": "None",
                  "wednesday_start_time": "None",
                  "wednesday_end_time": "None",
                  "wednesday_notes": "None",
                  "is_thursday_open": "None",
                  "thursday_start_time": "None",
                  "thursday_end_time": "None",
                  "thursday_notes": "None",
                  "is_friday_open": "None",
                  "friday_start_time": "None",
                  "friday_end_time": "None",
                  "friday_notes": "None",
                  "is_saturday_open": "None",
                  "saturday_start_time": "None",
                  "saturday_end_time": "None",
                  "saturday_notes": "None",
                  "is_sunday_open": "None",
                  "sunday_start_time": "None",
                  "sunday_end_time": "None",
                  "sunday_notes": "None",
                  "place_id": "ChIJQ305apS_cC4RNDPk4ErLn3Y",
                  "added_from_system": "True",
                  "google_maps_link": "https://maps.google.com/?cid=8547774140233560884",
                  "categories": "cafe, food, point_of_interest, establishment",
                  "_deepnote_index_column": 2
                },
                {
                  "id": "d4422260-5b60-458f-a50b-b71eb07819c2",
                  "claim_by": "None",
                  "created_by": "None",
                  "province_id": "f3502b89-a312-4a51-afad-64c005540214",
                  "regency_id": "610d56dd-edc5-4364-950c-6dad41e49e50",
                  "district_id": "001043bb-a71c-4f80-8146-a4980c53ee5c",
                  "village_id": "9ad27e5d-599a-4b1d-bcfe-4ae331b223d6",
                  "username": "None",
                  "name": "Wr Bakso Mbak nurul",
                  "latitude": -6.9959271,
                  "longitude": 110.7150191,
                  "address": "2P38+J2C, Babad, Babat",
                  "postal_code": 59583,
                  "avatar": "None",
                  "description": "None",
                  "released_at": "None",
                  "google_maps_rating": 0,
                  "created_at": "2023-06-15 22:46:32",
                  "updated_at": "None",
                  "deleted_at": "None",
                  "is_monday_open": "None",
                  "monday_start_time": "None",
                  "monday_end_time": "None",
                  "monday_notes": "None",
                  "is_tuesday_open": "None",
                  "tuesday_start_time": "None",
                  "tuesday_end_time": "None",
                  "tuesday_notes": "None",
                  "is_wednesday_open": "None",
                  "wednesday_start_time": "None",
                  "wednesday_end_time": "None",
                  "wednesday_notes": "None",
                  "is_thursday_open": "None",
                  "thursday_start_time": "None",
                  "thursday_end_time": "None",
                  "thursday_notes": "None",
                  "is_friday_open": "None",
                  "friday_start_time": "None",
                  "friday_end_time": "None",
                  "friday_notes": "None",
                  "is_saturday_open": "None",
                  "saturday_start_time": "None",
                  "saturday_end_time": "None",
                  "saturday_notes": "None",
                  "is_sunday_open": "None",
                  "sunday_start_time": "None",
                  "sunday_end_time": "None",
                  "sunday_notes": "None",
                  "place_id": "ChIJQ305apS_cC4RNDPk4ErLn3Y",
                  "added_from_system": "True",
                  "google_maps_link": "https://maps.google.com/?cid=8547774140233560884",
                  "categories": "cafe, food, point_of_interest, establishment",
                  "_deepnote_index_column": 3
                },
                {
                  "id": "d4422260-5b60-458f-a50b-b71eb07819c2",
                  "claim_by": "None",
                  "created_by": "None",
                  "province_id": "f3502b89-a312-4a51-afad-64c005540214",
                  "regency_id": "610d56dd-edc5-4364-950c-6dad41e49e50",
                  "district_id": "f201719f-8a39-45c2-bcbb-abc61c0cb971",
                  "village_id": "f56628bd-78a8-4d1f-8059-c5b09c82abf0",
                  "username": "None",
                  "name": "Wr Bakso Mbak nurul",
                  "latitude": -6.9959271,
                  "longitude": 110.7150191,
                  "address": "2P38+J2C, Babad, Babat",
                  "postal_code": 59583,
                  "avatar": "None",
                  "description": "None",
                  "released_at": "None",
                  "google_maps_rating": 0,
                  "created_at": "2023-06-15 22:46:32",
                  "updated_at": "None",
                  "deleted_at": "None",
                  "is_monday_open": "None",
                  "monday_start_time": "None",
                  "monday_end_time": "None",
                  "monday_notes": "None",
                  "is_tuesday_open": "None",
                  "tuesday_start_time": "None",
                  "tuesday_end_time": "None",
                  "tuesday_notes": "None",
                  "is_wednesday_open": "None",
                  "wednesday_start_time": "None",
                  "wednesday_end_time": "None",
                  "wednesday_notes": "None",
                  "is_thursday_open": "None",
                  "thursday_start_time": "None",
                  "thursday_end_time": "None",
                  "thursday_notes": "None",
                  "is_friday_open": "None",
                  "friday_start_time": "None",
                  "friday_end_time": "None",
                  "friday_notes": "None",
                  "is_saturday_open": "None",
                  "saturday_start_time": "None",
                  "saturday_end_time": "None",
                  "saturday_notes": "None",
                  "is_sunday_open": "None",
                  "sunday_start_time": "None",
                  "sunday_end_time": "None",
                  "sunday_notes": "None",
                  "place_id": "ChIJQ305apS_cC4RNDPk4ErLn3Y",
                  "added_from_system": "True",
                  "google_maps_link": "https://maps.google.com/?cid=8547774140233560884",
                  "categories": "cafe, food, point_of_interest, establishment",
                  "_deepnote_index_column": 4
                },
                {
                  "id": "d4422260-5b60-458f-a50b-b71eb07819c2",
                  "claim_by": "None",
                  "created_by": "None",
                  "province_id": "f3502b89-a312-4a51-afad-64c005540214",
                  "regency_id": "610d56dd-edc5-4364-950c-6dad41e49e50",
                  "district_id": "f201719f-8a39-45c2-bcbb-abc61c0cb971",
                  "village_id": "9ad27e5d-599a-4b1d-bcfe-4ae331b223d6",
                  "username": "None",
                  "name": "Wr Bakso Mbak nurul",
                  "latitude": -6.9959271,
                  "longitude": 110.7150191,
                  "address": "2P38+J2C, Babad, Babat",
                  "postal_code": 59583,
                  "avatar": "None",
                  "description": "None",
                  "released_at": "None",
                  "google_maps_rating": 0,
                  "created_at": "2023-06-15 22:46:32",
                  "updated_at": "None",
                  "deleted_at": "None",
                  "is_monday_open": "None",
                  "monday_start_time": "None",
                  "monday_end_time": "None",
                  "monday_notes": "None",
                  "is_tuesday_open": "None",
                  "tuesday_start_time": "None",
                  "tuesday_end_time": "None",
                  "tuesday_notes": "None",
                  "is_wednesday_open": "None",
                  "wednesday_start_time": "None",
                  "wednesday_end_time": "None",
                  "wednesday_notes": "None",
                  "is_thursday_open": "None",
                  "thursday_start_time": "None",
                  "thursday_end_time": "None",
                  "thursday_notes": "None",
                  "is_friday_open": "None",
                  "friday_start_time": "None",
                  "friday_end_time": "None",
                  "friday_notes": "None",
                  "is_saturday_open": "None",
                  "saturday_start_time": "None",
                  "saturday_end_time": "None",
                  "saturday_notes": "None",
                  "is_sunday_open": "None",
                  "sunday_start_time": "None",
                  "sunday_end_time": "None",
                  "sunday_notes": "None",
                  "place_id": "ChIJQ305apS_cC4RNDPk4ErLn3Y",
                  "added_from_system": "True",
                  "google_maps_link": "https://maps.google.com/?cid=8547774140233560884",
                  "categories": "cafe, food, point_of_interest, establishment",
                  "_deepnote_index_column": 5
                },
                {
                  "id": "d4422260-5b60-458f-a50b-b71eb07819c2",
                  "claim_by": "None",
                  "created_by": "None",
                  "province_id": "f3502b89-a312-4a51-afad-64c005540214",
                  "regency_id": "610d56dd-edc5-4364-950c-6dad41e49e50",
                  "district_id": "001043bb-a71c-4f80-8146-a4980c53ee5c",
                  "village_id": "753c7027-5746-4c9a-9bf1-1ab0c33b711a",
                  "username": "None",
                  "name": "Wr Bakso Mbak nurul",
                  "latitude": -6.9959271,
                  "longitude": 110.7150191,
                  "address": "2P38+J2C, Babad, Babat",
                  "postal_code": 59583,
                  "avatar": "None",
                  "description": "None",
                  "released_at": "None",
                  "google_maps_rating": 0,
                  "created_at": "2023-06-15 22:46:32",
                  "updated_at": "None",
                  "deleted_at": "None",
                  "is_monday_open": "None",
                  "monday_start_time": "None",
                  "monday_end_time": "None",
                  "monday_notes": "None",
                  "is_tuesday_open": "None",
                  "tuesday_start_time": "None",
                  "tuesday_end_time": "None",
                  "tuesday_notes": "None",
                  "is_wednesday_open": "None",
                  "wednesday_start_time": "None",
                  "wednesday_end_time": "None",
                  "wednesday_notes": "None",
                  "is_thursday_open": "None",
                  "thursday_start_time": "None",
                  "thursday_end_time": "None",
                  "thursday_notes": "None",
                  "is_friday_open": "None",
                  "friday_start_time": "None",
                  "friday_end_time": "None",
                  "friday_notes": "None",
                  "is_saturday_open": "None",
                  "saturday_start_time": "None",
                  "saturday_end_time": "None",
                  "saturday_notes": "None",
                  "is_sunday_open": "None",
                  "sunday_start_time": "None",
                  "sunday_end_time": "None",
                  "sunday_notes": "None",
                  "place_id": "ChIJQ305apS_cC4RNDPk4ErLn3Y",
                  "added_from_system": "True",
                  "google_maps_link": "https://maps.google.com/?cid=8547774140233560884",
                  "categories": "cafe, food, point_of_interest, establishment",
                  "_deepnote_index_column": 6
                },
                {
                  "id": "ebfba70b-c289-4d87-a452-0f60fc4adf85",
                  "claim_by": "None",
                  "created_by": "None",
                  "province_id": "f3502b89-a312-4a51-afad-64c005540214",
                  "regency_id": "e15f9692-c4bb-4f39-8ed2-6f7ee16d8729",
                  "district_id": "8727b4bb-9758-4303-a132-2e120a1f89bd",
                  "village_id": "02aa3521-f903-483e-9de5-b92b63550516",
                  "username": "None",
                  "name": "TB Lumintu",
                  "latitude": -6.586366099999998,
                  "longitude": 110.6604641,
                  "address": "CM76+F54, Jobokuto III, Jepara",
                  "postal_code": 59416,
                  "avatar": "None",
                  "description": "None",
                  "released_at": "None",
                  "google_maps_rating": 4.1,
                  "created_at": "2023-06-15 22:46:28",
                  "updated_at": "None",
                  "deleted_at": "None",
                  "is_monday_open": "True",
                  "monday_start_time": "08:30",
                  "monday_end_time": "16:00",
                  "monday_notes": "None",
                  "is_tuesday_open": "True",
                  "tuesday_start_time": "08:30",
                  "tuesday_end_time": "16:00",
                  "tuesday_notes": "None",
                  "is_wednesday_open": "True",
                  "wednesday_start_time": "08:30",
                  "wednesday_end_time": "16:00",
                  "wednesday_notes": "None",
                  "is_thursday_open": "True",
                  "thursday_start_time": "08:30",
                  "thursday_end_time": "16:00",
                  "thursday_notes": "None",
                  "is_friday_open": "True",
                  "friday_start_time": "08:30",
                  "friday_end_time": "16:00",
                  "friday_notes": "None",
                  "is_saturday_open": "True",
                  "saturday_start_time": "08:30",
                  "saturday_end_time": "16:00",
                  "saturday_notes": "None",
                  "is_sunday_open": "True",
                  "sunday_start_time": "08:30",
                  "sunday_end_time": "16:00",
                  "sunday_notes": "None",
                  "place_id": "ChIJUxddbhofcS4RnwwUjB4Kfhc",
                  "added_from_system": "True",
                  "google_maps_link": "https://maps.google.com/?cid=1692801636253306015",
                  "categories": "hardware_store, store, point_of_interest, establishment",
                  "_deepnote_index_column": 7
                },
                {
                  "id": "d4422260-5b60-458f-a50b-b71eb07819c2",
                  "claim_by": "None",
                  "created_by": "None",
                  "province_id": "f3502b89-a312-4a51-afad-64c005540214",
                  "regency_id": "610d56dd-edc5-4364-950c-6dad41e49e50",
                  "district_id": "001043bb-a71c-4f80-8146-a4980c53ee5c",
                  "village_id": "f94a6fd5-0838-4d48-842d-e753f36247de",
                  "username": "None",
                  "name": "Wr Bakso Mbak nurul",
                  "latitude": -6.9959271,
                  "longitude": 110.7150191,
                  "address": "2P38+J2C, Babad, Babat",
                  "postal_code": 59583,
                  "avatar": "None",
                  "description": "None",
                  "released_at": "None",
                  "google_maps_rating": 0,
                  "created_at": "2023-06-15 22:46:32",
                  "updated_at": "None",
                  "deleted_at": "None",
                  "is_monday_open": "None",
                  "monday_start_time": "None",
                  "monday_end_time": "None",
                  "monday_notes": "None",
                  "is_tuesday_open": "None",
                  "tuesday_start_time": "None",
                  "tuesday_end_time": "None",
                  "tuesday_notes": "None",
                  "is_wednesday_open": "None",
                  "wednesday_start_time": "None",
                  "wednesday_end_time": "None",
                  "wednesday_notes": "None",
                  "is_thursday_open": "None",
                  "thursday_start_time": "None",
                  "thursday_end_time": "None",
                  "thursday_notes": "None",
                  "is_friday_open": "None",
                  "friday_start_time": "None",
                  "friday_end_time": "None",
                  "friday_notes": "None",
                  "is_saturday_open": "None",
                  "saturday_start_time": "None",
                  "saturday_end_time": "None",
                  "saturday_notes": "None",
                  "is_sunday_open": "None",
                  "sunday_start_time": "None",
                  "sunday_end_time": "None",
                  "sunday_notes": "None",
                  "place_id": "ChIJQ305apS_cC4RNDPk4ErLn3Y",
                  "added_from_system": "True",
                  "google_maps_link": "https://maps.google.com/?cid=8547774140233560884",
                  "categories": "cafe, food, point_of_interest, establishment",
                  "_deepnote_index_column": 8
                },
                {
                  "id": "d4422260-5b60-458f-a50b-b71eb07819c2",
                  "claim_by": "None",
                  "created_by": "None",
                  "province_id": "f3502b89-a312-4a51-afad-64c005540214",
                  "regency_id": "610d56dd-edc5-4364-950c-6dad41e49e50",
                  "district_id": "f201719f-8a39-45c2-bcbb-abc61c0cb971",
                  "village_id": "753c7027-5746-4c9a-9bf1-1ab0c33b711a",
                  "username": "None",
                  "name": "Wr Bakso Mbak nurul",
                  "latitude": -6.9959271,
                  "longitude": 110.7150191,
                  "address": "2P38+J2C, Babad, Babat",
                  "postal_code": 59583,
                  "avatar": "None",
                  "description": "None",
                  "released_at": "None",
                  "google_maps_rating": 0,
                  "created_at": "2023-06-15 22:46:32",
                  "updated_at": "None",
                  "deleted_at": "None",
                  "is_monday_open": "None",
                  "monday_start_time": "None",
                  "monday_end_time": "None",
                  "monday_notes": "None",
                  "is_tuesday_open": "None",
                  "tuesday_start_time": "None",
                  "tuesday_end_time": "None",
                  "tuesday_notes": "None",
                  "is_wednesday_open": "None",
                  "wednesday_start_time": "None",
                  "wednesday_end_time": "None",
                  "wednesday_notes": "None",
                  "is_thursday_open": "None",
                  "thursday_start_time": "None",
                  "thursday_end_time": "None",
                  "thursday_notes": "None",
                  "is_friday_open": "None",
                  "friday_start_time": "None",
                  "friday_end_time": "None",
                  "friday_notes": "None",
                  "is_saturday_open": "None",
                  "saturday_start_time": "None",
                  "saturday_end_time": "None",
                  "saturday_notes": "None",
                  "is_sunday_open": "None",
                  "sunday_start_time": "None",
                  "sunday_end_time": "None",
                  "sunday_notes": "None",
                  "place_id": "ChIJQ305apS_cC4RNDPk4ErLn3Y",
                  "added_from_system": "True",
                  "google_maps_link": "https://maps.google.com/?cid=8547774140233560884",
                  "categories": "cafe, food, point_of_interest, establishment",
                  "_deepnote_index_column": 9
                },
                {
                  "id": "d4422260-5b60-458f-a50b-b71eb07819c2",
                  "claim_by": "None",
                  "created_by": "None",
                  "province_id": "f3502b89-a312-4a51-afad-64c005540214",
                  "regency_id": "610d56dd-edc5-4364-950c-6dad41e49e50",
                  "district_id": "f201719f-8a39-45c2-bcbb-abc61c0cb971",
                  "village_id": "f94a6fd5-0838-4d48-842d-e753f36247de",
                  "username": "None",
                  "name": "Wr Bakso Mbak nurul",
                  "latitude": -6.9959271,
                  "longitude": 110.7150191,
                  "address": "2P38+J2C, Babad, Babat",
                  "postal_code": 59583,
                  "avatar": "None",
                  "description": "None",
                  "released_at": "None",
                  "google_maps_rating": 0,
                  "created_at": "2023-06-15 22:46:32",
                  "updated_at": "None",
                  "deleted_at": "None",
                  "is_monday_open": "None",
                  "monday_start_time": "None",
                  "monday_end_time": "None",
                  "monday_notes": "None",
                  "is_tuesday_open": "None",
                  "tuesday_start_time": "None",
                  "tuesday_end_time": "None",
                  "tuesday_notes": "None",
                  "is_wednesday_open": "None",
                  "wednesday_start_time": "None",
                  "wednesday_end_time": "None",
                  "wednesday_notes": "None",
                  "is_thursday_open": "None",
                  "thursday_start_time": "None",
                  "thursday_end_time": "None",
                  "thursday_notes": "None",
                  "is_friday_open": "None",
                  "friday_start_time": "None",
                  "friday_end_time": "None",
                  "friday_notes": "None",
                  "is_saturday_open": "None",
                  "saturday_start_time": "None",
                  "saturday_end_time": "None",
                  "saturday_notes": "None",
                  "is_sunday_open": "None",
                  "sunday_start_time": "None",
                  "sunday_end_time": "None",
                  "sunday_notes": "None",
                  "place_id": "ChIJQ305apS_cC4RNDPk4ErLn3Y",
                  "added_from_system": "True",
                  "google_maps_link": "https://maps.google.com/?cid=8547774140233560884",
                  "categories": "cafe, food, point_of_interest, establishment",
                  "_deepnote_index_column": 10
                },
                {
                  "id": "d4422260-5b60-458f-a50b-b71eb07819c2",
                  "claim_by": "None",
                  "created_by": "None",
                  "province_id": "f3502b89-a312-4a51-afad-64c005540214",
                  "regency_id": "610d56dd-edc5-4364-950c-6dad41e49e50",
                  "district_id": "001043bb-a71c-4f80-8146-a4980c53ee5c",
                  "village_id": "f875bcde-e6db-42bd-bb2c-39b63b87b9a0",
                  "username": "None",
                  "name": "Wr Bakso Mbak nurul",
                  "latitude": -6.9959271,
                  "longitude": 110.7150191,
                  "address": "2P38+J2C, Babad, Babat",
                  "postal_code": 59583,
                  "avatar": "None",
                  "description": "None",
                  "released_at": "None",
                  "google_maps_rating": 0,
                  "created_at": "2023-06-15 22:46:32",
                  "updated_at": "None",
                  "deleted_at": "None",
                  "is_monday_open": "None",
                  "monday_start_time": "None",
                  "monday_end_time": "None",
                  "monday_notes": "None",
                  "is_tuesday_open": "None",
                  "tuesday_start_time": "None",
                  "tuesday_end_time": "None",
                  "tuesday_notes": "None",
                  "is_wednesday_open": "None",
                  "wednesday_start_time": "None",
                  "wednesday_end_time": "None",
                  "wednesday_notes": "None",
                  "is_thursday_open": "None",
                  "thursday_start_time": "None",
                  "thursday_end_time": "None",
                  "thursday_notes": "None",
                  "is_friday_open": "None",
                  "friday_start_time": "None",
                  "friday_end_time": "None",
                  "friday_notes": "None",
                  "is_saturday_open": "None",
                  "saturday_start_time": "None",
                  "saturday_end_time": "None",
                  "saturday_notes": "None",
                  "is_sunday_open": "None",
                  "sunday_start_time": "None",
                  "sunday_end_time": "None",
                  "sunday_notes": "None",
                  "place_id": "ChIJQ305apS_cC4RNDPk4ErLn3Y",
                  "added_from_system": "True",
                  "google_maps_link": "https://maps.google.com/?cid=8547774140233560884",
                  "categories": "cafe, food, point_of_interest, establishment",
                  "_deepnote_index_column": 11
                },
                {
                  "id": "d4422260-5b60-458f-a50b-b71eb07819c2",
                  "claim_by": "None",
                  "created_by": "None",
                  "province_id": "f3502b89-a312-4a51-afad-64c005540214",
                  "regency_id": "610d56dd-edc5-4364-950c-6dad41e49e50",
                  "district_id": "f201719f-8a39-45c2-bcbb-abc61c0cb971",
                  "village_id": "f875bcde-e6db-42bd-bb2c-39b63b87b9a0",
                  "username": "None",
                  "name": "Wr Bakso Mbak nurul",
                  "latitude": -6.9959271,
                  "longitude": 110.7150191,
                  "address": "2P38+J2C, Babad, Babat",
                  "postal_code": 59583,
                  "avatar": "None",
                  "description": "None",
                  "released_at": "None",
                  "google_maps_rating": 0,
                  "created_at": "2023-06-15 22:46:32",
                  "updated_at": "None",
                  "deleted_at": "None",
                  "is_monday_open": "None",
                  "monday_start_time": "None",
                  "monday_end_time": "None",
                  "monday_notes": "None",
                  "is_tuesday_open": "None",
                  "tuesday_start_time": "None",
                  "tuesday_end_time": "None",
                  "tuesday_notes": "None",
                  "is_wednesday_open": "None",
                  "wednesday_start_time": "None",
                  "wednesday_end_time": "None",
                  "wednesday_notes": "None",
                  "is_thursday_open": "None",
                  "thursday_start_time": "None",
                  "thursday_end_time": "None",
                  "thursday_notes": "None",
                  "is_friday_open": "None",
                  "friday_start_time": "None",
                  "friday_end_time": "None",
                  "friday_notes": "None",
                  "is_saturday_open": "None",
                  "saturday_start_time": "None",
                  "saturday_end_time": "None",
                  "saturday_notes": "None",
                  "is_sunday_open": "None",
                  "sunday_start_time": "None",
                  "sunday_end_time": "None",
                  "sunday_notes": "None",
                  "place_id": "ChIJQ305apS_cC4RNDPk4ErLn3Y",
                  "added_from_system": "True",
                  "google_maps_link": "https://maps.google.com/?cid=8547774140233560884",
                  "categories": "cafe, food, point_of_interest, establishment",
                  "_deepnote_index_column": 12
                },
                {
                  "id": "ab7876ed-ae89-4591-b286-f6a4b13e64b2",
                  "claim_by": "None",
                  "created_by": "None",
                  "province_id": "f3502b89-a312-4a51-afad-64c005540214",
                  "regency_id": "e15f9692-c4bb-4f39-8ed2-6f7ee16d8729",
                  "district_id": "8727b4bb-9758-4303-a132-2e120a1f89bd",
                  "village_id": "94724ff9-1814-4a3a-8ab2-b36e2921b17c",
                  "username": "None",
                  "name": "OCTAVIA ID",
                  "latitude": -6.600195499999999,
                  "longitude": 110.6834366,
                  "address": "9MXM+W9F, Juwetan, Kecapi",
                  "postal_code": 59429,
                  "avatar": "None",
                  "description": "None",
                  "released_at": "None",
                  "google_maps_rating": 0,
                  "created_at": "2023-06-15 22:46:34",
                  "updated_at": "None",
                  "deleted_at": "None",
                  "is_monday_open": "None",
                  "monday_start_time": "None",
                  "monday_end_time": "None",
                  "monday_notes": "None",
                  "is_tuesday_open": "None",
                  "tuesday_start_time": "None",
                  "tuesday_end_time": "None",
                  "tuesday_notes": "None",
                  "is_wednesday_open": "None",
                  "wednesday_start_time": "None",
                  "wednesday_end_time": "None",
                  "wednesday_notes": "None",
                  "is_thursday_open": "None",
                  "thursday_start_time": "None",
                  "thursday_end_time": "None",
                  "thursday_notes": "None",
                  "is_friday_open": "None",
                  "friday_start_time": "None",
                  "friday_end_time": "None",
                  "friday_notes": "None",
                  "is_saturday_open": "None",
                  "saturday_start_time": "None",
                  "saturday_end_time": "None",
                  "saturday_notes": "None",
                  "is_sunday_open": "None",
                  "sunday_start_time": "None",
                  "sunday_end_time": "None",
                  "sunday_notes": "None",
                  "place_id": "ChIJodKcbNAfcS4ROXnkMckPl-g",
                  "added_from_system": "True",
                  "google_maps_link": "https://maps.google.com/?cid=16759881895082490169",
                  "categories": "florist, point_of_interest, store, establishment",
                  "_deepnote_index_column": 13
                },
                {
                  "id": "ebfba70b-c289-4d87-a452-0f60fc4adf85",
                  "claim_by": "None",
                  "created_by": "None",
                  "province_id": "f3502b89-a312-4a51-afad-64c005540214",
                  "regency_id": "e15f9692-c4bb-4f39-8ed2-6f7ee16d8729",
                  "district_id": "8727b4bb-9758-4303-a132-2e120a1f89bd",
                  "village_id": "b7d34ffd-62cc-4e8c-8c8a-d39fe78bc87e",
                  "username": "None",
                  "name": "TB Lumintu",
                  "latitude": -6.586366099999998,
                  "longitude": 110.6604641,
                  "address": "CM76+F54, Jobokuto III, Jepara",
                  "postal_code": 59416,
                  "avatar": "None",
                  "description": "None",
                  "released_at": "None",
                  "google_maps_rating": 4.1,
                  "created_at": "2023-06-15 22:46:28",
                  "updated_at": "None",
                  "deleted_at": "None",
                  "is_monday_open": "True",
                  "monday_start_time": "08:30",
                  "monday_end_time": "16:00",
                  "monday_notes": "None",
                  "is_tuesday_open": "True",
                  "tuesday_start_time": "08:30",
                  "tuesday_end_time": "16:00",
                  "tuesday_notes": "None",
                  "is_wednesday_open": "True",
                  "wednesday_start_time": "08:30",
                  "wednesday_end_time": "16:00",
                  "wednesday_notes": "None",
                  "is_thursday_open": "True",
                  "thursday_start_time": "08:30",
                  "thursday_end_time": "16:00",
                  "thursday_notes": "None",
                  "is_friday_open": "True",
                  "friday_start_time": "08:30",
                  "friday_end_time": "16:00",
                  "friday_notes": "None",
                  "is_saturday_open": "True",
                  "saturday_start_time": "08:30",
                  "saturday_end_time": "16:00",
                  "saturday_notes": "None",
                  "is_sunday_open": "True",
                  "sunday_start_time": "08:30",
                  "sunday_end_time": "16:00",
                  "sunday_notes": "None",
                  "place_id": "ChIJUxddbhofcS4RnwwUjB4Kfhc",
                  "added_from_system": "True",
                  "google_maps_link": "https://maps.google.com/?cid=1692801636253306015",
                  "categories": "hardware_store, store, point_of_interest, establishment",
                  "_deepnote_index_column": 14
                },
                {
                  "id": "7b3c0d7b-d902-467b-ba6a-7e85dfb6ab84",
                  "claim_by": "None",
                  "created_by": "None",
                  "province_id": "f3502b89-a312-4a51-afad-64c005540214",
                  "regency_id": "a7369d7c-2cfa-45ea-b0ff-4dada6fc0097",
                  "district_id": "f5149f59-5733-4c2c-a90c-5672a3075b46",
                  "village_id": "d2eb25c6-ad46-40f7-9bce-b2783d669cfb",
                  "username": "None",
                  "name": "Bpk ngalawi (bkl. Kambing)",
                  "latitude": -6.5265653,
                  "longitude": 110.9325467,
                  "address": "Payak Tengah RT 11 RW 04, Jetir, Karangsari",
                  "postal_code": 59157,
                  "avatar": "None",
                  "description": "None",
                  "released_at": "None",
                  "google_maps_rating": 0,
                  "created_at": "2023-06-15 22:46:33",
                  "updated_at": "None",
                  "deleted_at": "None",
                  "is_monday_open": "False",
                  "monday_start_time": "None",
                  "monday_end_time": "None",
                  "monday_notes": "None",
                  "is_tuesday_open": "False",
                  "tuesday_start_time": "None",
                  "tuesday_end_time": "None",
                  "tuesday_notes": "None",
                  "is_wednesday_open": "False",
                  "wednesday_start_time": "None",
                  "wednesday_end_time": "None",
                  "wednesday_notes": "None",
                  "is_thursday_open": "False",
                  "thursday_start_time": "None",
                  "thursday_end_time": "None",
                  "thursday_notes": "None",
                  "is_friday_open": "False",
                  "friday_start_time": "None",
                  "friday_end_time": "None",
                  "friday_notes": "None",
                  "is_saturday_open": "False",
                  "saturday_start_time": "None",
                  "saturday_end_time": "None",
                  "saturday_notes": "None",
                  "is_sunday_open": "False",
                  "sunday_start_time": "None",
                  "sunday_end_time": "None",
                  "sunday_notes": "None",
                  "place_id": "ChIJoTW6xqwvcS4RDssFFrdac7s",
                  "added_from_system": "True",
                  "google_maps_link": "https://maps.google.com/?cid=13507239449809242894",
                  "categories": "pet_store, point_of_interest, store, establishment",
                  "_deepnote_index_column": 15
                },
                {
                  "id": "64b19727-22e8-4eff-a33f-5fe8827b2228",
                  "claim_by": "None",
                  "created_by": "None",
                  "province_id": "f3502b89-a312-4a51-afad-64c005540214",
                  "regency_id": "fb25f62d-ca2a-42fc-8f7f-f4cf96ba28f2",
                  "district_id": "25838c22-e295-45e3-afd6-6c39924a4297",
                  "village_id": "4e2e08be-733c-4210-bd21-db69606e4628",
                  "username": "None",
                  "name": "Cava milkshake",
                  "latitude": -6.8973442,
                  "longitude": 109.6784991,
                  "address": "Jalan R.A. Kartini No.40, RW.6, Keputran",
                  "postal_code": 51128,
                  "avatar": "None",
                  "description": "None",
                  "released_at": "None",
                  "google_maps_rating": 0,
                  "created_at": "2023-06-15 22:46:22",
                  "updated_at": "None",
                  "deleted_at": "None",
                  "is_monday_open": "None",
                  "monday_start_time": "None",
                  "monday_end_time": "None",
                  "monday_notes": "None",
                  "is_tuesday_open": "None",
                  "tuesday_start_time": "None",
                  "tuesday_end_time": "None",
                  "tuesday_notes": "None",
                  "is_wednesday_open": "None",
                  "wednesday_start_time": "None",
                  "wednesday_end_time": "None",
                  "wednesday_notes": "None",
                  "is_thursday_open": "None",
                  "thursday_start_time": "None",
                  "thursday_end_time": "None",
                  "thursday_notes": "None",
                  "is_friday_open": "None",
                  "friday_start_time": "None",
                  "friday_end_time": "None",
                  "friday_notes": "None",
                  "is_saturday_open": "None",
                  "saturday_start_time": "None",
                  "saturday_end_time": "None",
                  "saturday_notes": "None",
                  "is_sunday_open": "None",
                  "sunday_start_time": "None",
                  "sunday_end_time": "None",
                  "sunday_notes": "None",
                  "place_id": "ChIJxVCUXCclcC4RNHd7B8RYVhA",
                  "added_from_system": "True",
                  "google_maps_link": "https://maps.google.com/?cid=1177225951566329652",
                  "categories": "cafe, food, point_of_interest, establishment",
                  "_deepnote_index_column": 16
                },
                {
                  "id": "28af6bfd-3e3e-44b0-b41c-54dc4e7dbee8",
                  "claim_by": "None",
                  "created_by": "None",
                  "province_id": "f3502b89-a312-4a51-afad-64c005540214",
                  "regency_id": "e15f9692-c4bb-4f39-8ed2-6f7ee16d8729",
                  "district_id": "385a5a58-1c1f-44a4-948b-4ed912a4fe8d",
                  "village_id": "94724ff9-1814-4a3a-8ab2-b36e2921b17c",
                  "username": "None",
                  "name": "ayam bangkok jepara",
                  "latitude": -6.593909099999999,
                  "longitude": 110.684974,
                  "address": "CM4M+CXQ, Jalan RMP. Sosrokartono, Grombongan, Kecapi",
                  "postal_code": 59429,
                  "avatar": "None",
                  "description": "None",
                  "released_at": "None",
                  "google_maps_rating": 5,
                  "created_at": "2023-06-15 22:46:33",
                  "updated_at": "None",
                  "deleted_at": "None",
                  "is_monday_open": "False",
                  "monday_start_time": "None",
                  "monday_end_time": "None",
                  "monday_notes": "None",
                  "is_tuesday_open": "False",
                  "tuesday_start_time": "None",
                  "tuesday_end_time": "None",
                  "tuesday_notes": "None",
                  "is_wednesday_open": "False",
                  "wednesday_start_time": "None",
                  "wednesday_end_time": "None",
                  "wednesday_notes": "None",
                  "is_thursday_open": "False",
                  "thursday_start_time": "None",
                  "thursday_end_time": "None",
                  "thursday_notes": "None",
                  "is_friday_open": "False",
                  "friday_start_time": "None",
                  "friday_end_time": "None",
                  "friday_notes": "None",
                  "is_saturday_open": "False",
                  "saturday_start_time": "None",
                  "saturday_end_time": "None",
                  "saturday_notes": "None",
                  "is_sunday_open": "False",
                  "sunday_start_time": "None",
                  "sunday_end_time": "None",
                  "sunday_notes": "None",
                  "place_id": "ChIJ69hQewwfcS4Rt6kyQn36tb0",
                  "added_from_system": "True",
                  "google_maps_link": "https://maps.google.com/?cid=13670107659841481143",
                  "categories": "pet_store, point_of_interest, store, establishment",
                  "_deepnote_index_column": 17
                },
                {
                  "id": "cf8aa148-b239-4e13-957a-b5b5ba798ea0",
                  "claim_by": "None",
                  "created_by": "None",
                  "province_id": "f3502b89-a312-4a51-afad-64c005540214",
                  "regency_id": "fb25f62d-ca2a-42fc-8f7f-f4cf96ba28f2",
                  "district_id": "25838c22-e295-45e3-afd6-6c39924a4297",
                  "village_id": "4e2e08be-733c-4210-bd21-db69606e4628",
                  "username": "None",
                  "name": "Angkringan Memet",
                  "latitude": -6.897316099999999,
                  "longitude": 109.6784928,
                  "address": "Jalan R.A. Kartini No.40, RW.6, Keputran",
                  "postal_code": 51128,
                  "avatar": "None",
                  "description": "None",
                  "released_at": "None",
                  "google_maps_rating": 5,
                  "created_at": "2023-06-15 22:46:23",
                  "updated_at": "None",
                  "deleted_at": "None",
                  "is_monday_open": "True",
                  "monday_start_time": "15:00",
                  "monday_end_time": "12:00",
                  "monday_notes": "None",
                  "is_tuesday_open": "True",
                  "tuesday_start_time": "15:00",
                  "tuesday_end_time": "12:00",
                  "tuesday_notes": "None",
                  "is_wednesday_open": "True",
                  "wednesday_start_time": "15:00",
                  "wednesday_end_time": "12:00",
                  "wednesday_notes": "None",
                  "is_thursday_open": "True",
                  "thursday_start_time": "15:00",
                  "thursday_end_time": "12:00",
                  "thursday_notes": "None",
                  "is_friday_open": "True",
                  "friday_start_time": "15:00",
                  "friday_end_time": "12:00",
                  "friday_notes": "None",
                  "is_saturday_open": "True",
                  "saturday_start_time": "15:00",
                  "saturday_end_time": "12:00",
                  "saturday_notes": "None",
                  "is_sunday_open": "True",
                  "sunday_start_time": "15:00",
                  "sunday_end_time": "12:00",
                  "sunday_notes": "None",
                  "place_id": "ChIJ55voFBolcC4RcoFS4YZs-nA",
                  "added_from_system": "True",
                  "google_maps_link": "https://maps.google.com/?cid=8140938602987290994",
                  "categories": "cafe, food, point_of_interest, establishment",
                  "_deepnote_index_column": 18
                },
                {
                  "id": "93c3a0cf-0dae-458f-8387-573165d3c5df",
                  "claim_by": "None",
                  "created_by": "None",
                  "province_id": "f3502b89-a312-4a51-afad-64c005540214",
                  "regency_id": "fb25f62d-ca2a-42fc-8f7f-f4cf96ba28f2",
                  "district_id": "25838c22-e295-45e3-afd6-6c39924a4297",
                  "village_id": "4e2e08be-733c-4210-bd21-db69606e4628",
                  "username": "None",
                  "name": "Angkringan gondrong",
                  "latitude": -6.897316099999999,
                  "longitude": 109.6784928,
                  "address": "Jalan R.A. Kartini No.40, RW.6, Keputran",
                  "postal_code": 51128,
                  "avatar": "None",
                  "description": "None",
                  "released_at": "None",
                  "google_maps_rating": 0,
                  "created_at": "2023-06-15 22:46:23",
                  "updated_at": "None",
                  "deleted_at": "None",
                  "is_monday_open": "None",
                  "monday_start_time": "None",
                  "monday_end_time": "None",
                  "monday_notes": "None",
                  "is_tuesday_open": "None",
                  "tuesday_start_time": "None",
                  "tuesday_end_time": "None",
                  "tuesday_notes": "None",
                  "is_wednesday_open": "None",
                  "wednesday_start_time": "None",
                  "wednesday_end_time": "None",
                  "wednesday_notes": "None",
                  "is_thursday_open": "None",
                  "thursday_start_time": "None",
                  "thursday_end_time": "None",
                  "thursday_notes": "None",
                  "is_friday_open": "None",
                  "friday_start_time": "None",
                  "friday_end_time": "None",
                  "friday_notes": "None",
                  "is_saturday_open": "None",
                  "saturday_start_time": "None",
                  "saturday_end_time": "None",
                  "saturday_notes": "None",
                  "is_sunday_open": "None",
                  "sunday_start_time": "None",
                  "sunday_end_time": "None",
                  "sunday_notes": "None",
                  "place_id": "ChIJrXKnU6glcC4R40dDi2AiGVc",
                  "added_from_system": "True",
                  "google_maps_link": "https://maps.google.com/?cid=6276085353766143971",
                  "categories": "cafe, food, point_of_interest, establishment",
                  "_deepnote_index_column": 19
                },
                {
                  "id": "012c3041-4af7-4489-b073-2e595f073ef7",
                  "claim_by": "None",
                  "created_by": "None",
                  "province_id": "f3502b89-a312-4a51-afad-64c005540214",
                  "regency_id": "fb25f62d-ca2a-42fc-8f7f-f4cf96ba28f2",
                  "district_id": "25838c22-e295-45e3-afd6-6c39924a4297",
                  "village_id": "4e2e08be-733c-4210-bd21-db69606e4628",
                  "username": "None",
                  "name": "Seblak food sundanese",
                  "latitude": -6.897263799999999,
                  "longitude": 109.6785206,
                  "address": "Jalan R.A. Kartini No.40, Keputran",
                  "postal_code": 51128,
                  "avatar": "None",
                  "description": "None",
                  "released_at": "None",
                  "google_maps_rating": 4,
                  "created_at": "2023-06-15 22:46:24",
                  "updated_at": "None",
                  "deleted_at": "None",
                  "is_monday_open": "None",
                  "monday_start_time": "None",
                  "monday_end_time": "None",
                  "monday_notes": "None",
                  "is_tuesday_open": "None",
                  "tuesday_start_time": "None",
                  "tuesday_end_time": "None",
                  "tuesday_notes": "None",
                  "is_wednesday_open": "None",
                  "wednesday_start_time": "None",
                  "wednesday_end_time": "None",
                  "wednesday_notes": "None",
                  "is_thursday_open": "None",
                  "thursday_start_time": "None",
                  "thursday_end_time": "None",
                  "thursday_notes": "None",
                  "is_friday_open": "None",
                  "friday_start_time": "None",
                  "friday_end_time": "None",
                  "friday_notes": "None",
                  "is_saturday_open": "None",
                  "saturday_start_time": "None",
                  "saturday_end_time": "None",
                  "saturday_notes": "None",
                  "is_sunday_open": "None",
                  "sunday_start_time": "None",
                  "sunday_end_time": "None",
                  "sunday_notes": "None",
                  "place_id": "ChIJrX1IizokcC4RlOXRvabIipY",
                  "added_from_system": "True",
                  "google_maps_link": "https://maps.google.com/?cid=10847703270950036884",
                  "categories": "cafe, food, point_of_interest, establishment",
                  "_deepnote_index_column": 20
                },
                {
                  "id": "5a3193fe-19f0-4035-a7fe-07f6bcade44c",
                  "claim_by": "None",
                  "created_by": "None",
                  "province_id": "f3502b89-a312-4a51-afad-64c005540214",
                  "regency_id": "fb25f62d-ca2a-42fc-8f7f-f4cf96ba28f2",
                  "district_id": "25838c22-e295-45e3-afd6-6c39924a4297",
                  "village_id": "4e2e08be-733c-4210-bd21-db69606e4628",
                  "username": "None",
                  "name": "brabuuz",
                  "latitude": -6.897158900000001,
                  "longitude": 109.6782694,
                  "address": "4M3H+48J, Jalan R.A. Kartini, Keputran",
                  "postal_code": 51128,
                  "avatar": "None",
                  "description": "None",
                  "released_at": "None",
                  "google_maps_rating": 0,
                  "created_at": "2023-06-15 22:46:26",
                  "updated_at": "None",
                  "deleted_at": "None",
                  "is_monday_open": "None",
                  "monday_start_time": "None",
                  "monday_end_time": "None",
                  "monday_notes": "None",
                  "is_tuesday_open": "None",
                  "tuesday_start_time": "None",
                  "tuesday_end_time": "None",
                  "tuesday_notes": "None",
                  "is_wednesday_open": "None",
                  "wednesday_start_time": "None",
                  "wednesday_end_time": "None",
                  "wednesday_notes": "None",
                  "is_thursday_open": "None",
                  "thursday_start_time": "None",
                  "thursday_end_time": "None",
                  "thursday_notes": "None",
                  "is_friday_open": "None",
                  "friday_start_time": "None",
                  "friday_end_time": "None",
                  "friday_notes": "None",
                  "is_saturday_open": "None",
                  "saturday_start_time": "None",
                  "saturday_end_time": "None",
                  "saturday_notes": "None",
                  "is_sunday_open": "None",
                  "sunday_start_time": "None",
                  "sunday_end_time": "None",
                  "sunday_notes": "None",
                  "place_id": "ChIJqa_VGSslcC4RJsDiEhyV7EE",
                  "added_from_system": "True",
                  "google_maps_link": "https://maps.google.com/?cid=4750335654777503782",
                  "categories": "cafe, food, point_of_interest, establishment",
                  "_deepnote_index_column": 21
                },
                {
                  "id": "50722baf-009c-4505-b985-bb4d8f155994",
                  "claim_by": "None",
                  "created_by": "None",
                  "province_id": "f3502b89-a312-4a51-afad-64c005540214",
                  "regency_id": "fb25f62d-ca2a-42fc-8f7f-f4cf96ba28f2",
                  "district_id": "25838c22-e295-45e3-afd6-6c39924a4297",
                  "village_id": "4e2e08be-733c-4210-bd21-db69606e4628",
                  "username": "None",
                  "name": "DUM THAI TEA KARTINI PEKALONGAN",
                  "latitude": -6.8964363,
                  "longitude": 109.6780516,
                  "address": "Jalan R.A. Kartini, Keputran",
                  "postal_code": 51128,
                  "avatar": "None",
                  "description": "None",
                  "released_at": "None",
                  "google_maps_rating": 5,
                  "created_at": "2023-06-15 22:46:28",
                  "updated_at": "None",
                  "deleted_at": "None",
                  "is_monday_open": "None",
                  "monday_start_time": "None",
                  "monday_end_time": "None",
                  "monday_notes": "None",
                  "is_tuesday_open": "None",
                  "tuesday_start_time": "None",
                  "tuesday_end_time": "None",
                  "tuesday_notes": "None",
                  "is_wednesday_open": "None",
                  "wednesday_start_time": "None",
                  "wednesday_end_time": "None",
                  "wednesday_notes": "None",
                  "is_thursday_open": "None",
                  "thursday_start_time": "None",
                  "thursday_end_time": "None",
                  "thursday_notes": "None",
                  "is_friday_open": "None",
                  "friday_start_time": "None",
                  "friday_end_time": "None",
                  "friday_notes": "None",
                  "is_saturday_open": "None",
                  "saturday_start_time": "None",
                  "saturday_end_time": "None",
                  "saturday_notes": "None",
                  "is_sunday_open": "None",
                  "sunday_start_time": "None",
                  "sunday_end_time": "None",
                  "sunday_notes": "None",
                  "place_id": "ChIJr-t4QHIlcC4RXYw3TASez1o",
                  "added_from_system": "True",
                  "google_maps_link": "https://maps.google.com/?cid=6543622524888386653",
                  "categories": "cafe, food, point_of_interest, establishment",
                  "_deepnote_index_column": 22
                },
                {
                  "id": "c403f801-3921-4564-95f2-e15c6010ec77",
                  "claim_by": "None",
                  "created_by": "None",
                  "province_id": "f3502b89-a312-4a51-afad-64c005540214",
                  "regency_id": "fb25f62d-ca2a-42fc-8f7f-f4cf96ba28f2",
                  "district_id": "25838c22-e295-45e3-afd6-6c39924a4297",
                  "village_id": "4e2e08be-733c-4210-bd21-db69606e4628",
                  "username": "None",
                  "name": "Kedai Rokok Dan Kopi Mirza",
                  "latitude": -6.896452900000001,
                  "longitude": 109.677778,
                  "address": "Jalan R.A. Kartini No.37-43, Keputran",
                  "postal_code": 51128,
                  "avatar": "None",
                  "description": "None",
                  "released_at": "None",
                  "google_maps_rating": 4,
                  "created_at": "2023-06-15 22:46:29",
                  "updated_at": "None",
                  "deleted_at": "None",
                  "is_monday_open": "True",
                  "monday_start_time": "08:00",
                  "monday_end_time": "17:00",
                  "monday_notes": "None",
                  "is_tuesday_open": "True",
                  "tuesday_start_time": "08:00",
                  "tuesday_end_time": "17:00",
                  "tuesday_notes": "None",
                  "is_wednesday_open": "True",
                  "wednesday_start_time": "08:00",
                  "wednesday_end_time": "17:00",
                  "wednesday_notes": "None",
                  "is_thursday_open": "True",
                  "thursday_start_time": "08:00",
                  "thursday_end_time": "17:00",
                  "thursday_notes": "None",
                  "is_friday_open": "True",
                  "friday_start_time": "08:00",
                  "friday_end_time": "17:00",
                  "friday_notes": "None",
                  "is_saturday_open": "True",
                  "saturday_start_time": "08:00",
                  "saturday_end_time": "17:00",
                  "saturday_notes": "None",
                  "is_sunday_open": "False",
                  "sunday_start_time": "None",
                  "sunday_end_time": "None",
                  "sunday_notes": "None",
                  "place_id": "ChIJo1qemzokcC4Rp8h2Yk5m91Y",
                  "added_from_system": "True",
                  "google_maps_link": "https://maps.google.com/?cid=6266589893354768551",
                  "categories": "cafe, food, point_of_interest, store, establishment",
                  "_deepnote_index_column": 23
                },
                {
                  "id": "eedcdd9e-c81f-4cf6-bc67-dd143a90cd72",
                  "claim_by": "None",
                  "created_by": "None",
                  "province_id": "f3502b89-a312-4a51-afad-64c005540214",
                  "regency_id": "fb25f62d-ca2a-42fc-8f7f-f4cf96ba28f2",
                  "district_id": "25838c22-e295-45e3-afd6-6c39924a4297",
                  "village_id": "4e2e08be-733c-4210-bd21-db69606e4628",
                  "username": "None",
                  "name": "Warung Es SELERA",
                  "latitude": -6.896546799999999,
                  "longitude": 109.6781243,
                  "address": "Jalan R.A. Kartini No.39, Keputran",
                  "postal_code": 51128,
                  "avatar": "None",
                  "description": "None",
                  "released_at": "None",
                  "google_maps_rating": 5,
                  "created_at": "2023-06-15 22:46:29",
                  "updated_at": "None",
                  "deleted_at": "None",
                  "is_monday_open": "None",
                  "monday_start_time": "None",
                  "monday_end_time": "None",
                  "monday_notes": "None",
                  "is_tuesday_open": "None",
                  "tuesday_start_time": "None",
                  "tuesday_end_time": "None",
                  "tuesday_notes": "None",
                  "is_wednesday_open": "None",
                  "wednesday_start_time": "None",
                  "wednesday_end_time": "None",
                  "wednesday_notes": "None",
                  "is_thursday_open": "None",
                  "thursday_start_time": "None",
                  "thursday_end_time": "None",
                  "thursday_notes": "None",
                  "is_friday_open": "None",
                  "friday_start_time": "None",
                  "friday_end_time": "None",
                  "friday_notes": "None",
                  "is_saturday_open": "None",
                  "saturday_start_time": "None",
                  "saturday_end_time": "None",
                  "saturday_notes": "None",
                  "is_sunday_open": "None",
                  "sunday_start_time": "None",
                  "sunday_end_time": "None",
                  "sunday_notes": "None",
                  "place_id": "ChIJL4gleAQlcC4RNBUHm5UCHyY",
                  "added_from_system": "True",
                  "google_maps_link": "https://maps.google.com/?cid=2746917139293607220",
                  "categories": "cafe, store, food, point_of_interest, establishment",
                  "_deepnote_index_column": 24
                },
                {
                  "id": "525af576-72c7-4c03-a14f-1a34225a2f8e",
                  "claim_by": "None",
                  "created_by": "None",
                  "province_id": "f3502b89-a312-4a51-afad-64c005540214",
                  "regency_id": "fb25f62d-ca2a-42fc-8f7f-f4cf96ba28f2",
                  "district_id": "25838c22-e295-45e3-afd6-6c39924a4297",
                  "village_id": "4e2e08be-733c-4210-bd21-db69606e4628",
                  "username": "None",
                  "name": "potato Tornado & Lesehan Pindang tetel Congor Ala Mak'e",
                  "latitude": -6.896198,
                  "longitude": 109.6778627,
                  "address": "Jalan R.A. Kartini No.32-34, Keputran",
                  "postal_code": 51128,
                  "avatar": "None",
                  "description": "None",
                  "released_at": "None",
                  "google_maps_rating": 5,
                  "created_at": "2023-06-15 22:46:30",
                  "updated_at": "None",
                  "deleted_at": "None",
                  "is_monday_open": "True",
                  "monday_start_time": "17:00",
                  "monday_end_time": "12:55",
                  "monday_notes": "None",
                  "is_tuesday_open": "True",
                  "tuesday_start_time": "17:00",
                  "tuesday_end_time": "12:55",
                  "tuesday_notes": "None",
                  "is_wednesday_open": "True",
                  "wednesday_start_time": "17:00",
                  "wednesday_end_time": "12:55",
                  "wednesday_notes": "None",
                  "is_thursday_open": "True",
                  "thursday_start_time": "17:00",
                  "thursday_end_time": "12:55",
                  "thursday_notes": "None",
                  "is_friday_open": "True",
                  "friday_start_time": "17:00",
                  "friday_end_time": "12:55",
                  "friday_notes": "None",
                  "is_saturday_open": "True",
                  "saturday_start_time": "17:00",
                  "saturday_end_time": "12:55",
                  "saturday_notes": "None",
                  "is_sunday_open": "True",
                  "sunday_start_time": "17:00",
                  "sunday_end_time": "12:55",
                  "sunday_notes": "None",
                  "place_id": "ChIJ8R9M5eolcC4Ronxmxp983Y8",
                  "added_from_system": "True",
                  "google_maps_link": "https://maps.google.com/?cid=10366578942946999458",
                  "categories": "cafe, food, point_of_interest, establishment",
                  "_deepnote_index_column": 25
                },
                {
                  "id": "067d18d1-dd08-4c1b-9d95-797bfd9796f8",
                  "claim_by": "None",
                  "created_by": "None",
                  "province_id": "f3502b89-a312-4a51-afad-64c005540214",
                  "regency_id": "fb25f62d-ca2a-42fc-8f7f-f4cf96ba28f2",
                  "district_id": "25838c22-e295-45e3-afd6-6c39924a4297",
                  "village_id": "4e2e08be-733c-4210-bd21-db69606e4628",
                  "username": "None",
                  "name": "Teh Kartini",
                  "latitude": -6.898119400000001,
                  "longitude": 109.6778527,
                  "address": "Jl, Jalan R.A. Kartini No.74, Keputran",
                  "postal_code": 51128,
                  "avatar": "None",
                  "description": "None",
                  "released_at": "None",
                  "google_maps_rating": 5,
                  "created_at": "2023-06-15 22:46:31",
                  "updated_at": "None",
                  "deleted_at": "None",
                  "is_monday_open": "True",
                  "monday_start_time": "10:00",
                  "monday_end_time": "23:00",
                  "monday_notes": "None",
                  "is_tuesday_open": "True",
                  "tuesday_start_time": "10:00",
                  "tuesday_end_time": "23:00",
                  "tuesday_notes": "None",
                  "is_wednesday_open": "True",
                  "wednesday_start_time": "10:00",
                  "wednesday_end_time": "23:00",
                  "wednesday_notes": "None",
                  "is_thursday_open": "True",
                  "thursday_start_time": "10:00",
                  "thursday_end_time": "23:00",
                  "thursday_notes": "None",
                  "is_friday_open": "True",
                  "friday_start_time": "10:00",
                  "friday_end_time": "23:00",
                  "friday_notes": "None",
                  "is_saturday_open": "True",
                  "saturday_start_time": "10:00",
                  "saturday_end_time": "23:00",
                  "saturday_notes": "None",
                  "is_sunday_open": "True",
                  "sunday_start_time": "10:00",
                  "sunday_end_time": "23:00",
                  "sunday_notes": "None",
                  "place_id": "ChIJx91u_jokcC4R7wBTGDwqI5w",
                  "added_from_system": "True",
                  "google_maps_link": "https://maps.google.com/?cid=11250882731696128239",
                  "categories": "cafe, food, point_of_interest, establishment",
                  "_deepnote_index_column": 26
                },
                {
                  "id": "e44b0370-5eef-4553-af76-36b02bd0f92e",
                  "claim_by": "None",
                  "created_by": "None",
                  "province_id": "f3502b89-a312-4a51-afad-64c005540214",
                  "regency_id": "fb25f62d-ca2a-42fc-8f7f-f4cf96ba28f2",
                  "district_id": "25838c22-e295-45e3-afd6-6c39924a4297",
                  "village_id": "4e2e08be-733c-4210-bd21-db69606e4628",
                  "username": "None",
                  "name": "Juragan Angkringan",
                  "latitude": -6.896132799999999,
                  "longitude": 109.6778454,
                  "address": "Jalan R.A. Kartini No.34, Keputran",
                  "postal_code": 51128,
                  "avatar": "None",
                  "description": "None",
                  "released_at": "None",
                  "google_maps_rating": 0,
                  "created_at": "2023-06-15 22:46:35",
                  "updated_at": "None",
                  "deleted_at": "None",
                  "is_monday_open": "None",
                  "monday_start_time": "None",
                  "monday_end_time": "None",
                  "monday_notes": "None",
                  "is_tuesday_open": "None",
                  "tuesday_start_time": "None",
                  "tuesday_end_time": "None",
                  "tuesday_notes": "None",
                  "is_wednesday_open": "None",
                  "wednesday_start_time": "None",
                  "wednesday_end_time": "None",
                  "wednesday_notes": "None",
                  "is_thursday_open": "None",
                  "thursday_start_time": "None",
                  "thursday_end_time": "None",
                  "thursday_notes": "None",
                  "is_friday_open": "None",
                  "friday_start_time": "None",
                  "friday_end_time": "None",
                  "friday_notes": "None",
                  "is_saturday_open": "None",
                  "saturday_start_time": "None",
                  "saturday_end_time": "None",
                  "saturday_notes": "None",
                  "is_sunday_open": "None",
                  "sunday_start_time": "None",
                  "sunday_end_time": "None",
                  "sunday_notes": "None",
                  "place_id": "ChIJ531H6wIlcC4Ril53IX65Ctc",
                  "added_from_system": "True",
                  "google_maps_link": "https://maps.google.com/?cid=15495401419300101770",
                  "categories": "cafe, food, point_of_interest, establishment",
                  "_deepnote_index_column": 27
                },
                {
                  "id": "7d6b0fa8-3a2d-499f-81ee-50d5b228e34a",
                  "claim_by": "None",
                  "created_by": "None",
                  "province_id": "f3502b89-a312-4a51-afad-64c005540214",
                  "regency_id": "a7369d7c-2cfa-45ea-b0ff-4dada6fc0097",
                  "district_id": "f5149f59-5733-4c2c-a90c-5672a3075b46",
                  "village_id": "72367127-fa21-4e06-abee-7bf746167e34",
                  "username": "None",
                  "name": "Megumi sandal",
                  "latitude": -6.532562500000001,
                  "longitude": 110.9323501,
                  "address": "Jalan Raya Tayu-Jepara No.112, Payak, Payak",
                  "postal_code": 59157,
                  "avatar": "None",
                  "description": "None",
                  "released_at": "None",
                  "google_maps_rating": 0,
                  "created_at": "2023-06-15 22:46:34",
                  "updated_at": "None",
                  "deleted_at": "None",
                  "is_monday_open": "None",
                  "monday_start_time": "None",
                  "monday_end_time": "None",
                  "monday_notes": "None",
                  "is_tuesday_open": "None",
                  "tuesday_start_time": "None",
                  "tuesday_end_time": "None",
                  "tuesday_notes": "None",
                  "is_wednesday_open": "None",
                  "wednesday_start_time": "None",
                  "wednesday_end_time": "None",
                  "wednesday_notes": "None",
                  "is_thursday_open": "None",
                  "thursday_start_time": "None",
                  "thursday_end_time": "None",
                  "thursday_notes": "None",
                  "is_friday_open": "None",
                  "friday_start_time": "None",
                  "friday_end_time": "None",
                  "friday_notes": "None",
                  "is_saturday_open": "None",
                  "saturday_start_time": "None",
                  "saturday_end_time": "None",
                  "saturday_notes": "None",
                  "is_sunday_open": "None",
                  "sunday_start_time": "None",
                  "sunday_end_time": "None",
                  "sunday_notes": "None",
                  "place_id": "ChIJqazQsjsvcS4RqxK_SHcBB7Y",
                  "added_from_system": "True",
                  "google_maps_link": "https://maps.google.com/?cid=13116454051573076651",
                  "categories": "shoe_store, point_of_interest, store, establishment",
                  "_deepnote_index_column": 28
                },
                {
                  "id": "c42ff9d2-cb08-444b-9099-4ef2e94a276e",
                  "claim_by": "None",
                  "created_by": "None",
                  "province_id": "f3502b89-a312-4a51-afad-64c005540214",
                  "regency_id": "e15f9692-c4bb-4f39-8ed2-6f7ee16d8729",
                  "district_id": "dc4e7e74-5162-4963-8316-6f6ee1720f14",
                  "village_id": "74febf61-b486-4b30-bfc0-889d6262eb81",
                  "username": "None",
                  "name": "Natural bordir terminal kelet",
                  "latitude": -6.504130599999999,
                  "longitude": 110.9092122,
                  "address": "FWW5+8MW, Jalan Raya Kelet-Jepara, raya",
                  "postal_code": 55222,
                  "avatar": "None",
                  "description": "None",
                  "released_at": "None",
                  "google_maps_rating": 0,
                  "created_at": "2023-06-15 22:46:31",
                  "updated_at": "None",
                  "deleted_at": "None",
                  "is_monday_open": "None",
                  "monday_start_time": "None",
                  "monday_end_time": "None",
                  "monday_notes": "None",
                  "is_tuesday_open": "None",
                  "tuesday_start_time": "None",
                  "tuesday_end_time": "None",
                  "tuesday_notes": "None",
                  "is_wednesday_open": "None",
                  "wednesday_start_time": "None",
                  "wednesday_end_time": "None",
                  "wednesday_notes": "None",
                  "is_thursday_open": "None",
                  "thursday_start_time": "None",
                  "thursday_end_time": "None",
                  "thursday_notes": "None",
                  "is_friday_open": "None",
                  "friday_start_time": "None",
                  "friday_end_time": "None",
                  "friday_notes": "None",
                  "is_saturday_open": "None",
                  "saturday_start_time": "None",
                  "saturday_end_time": "None",
                  "saturday_notes": "None",
                  "is_sunday_open": "None",
                  "sunday_start_time": "None",
                  "sunday_end_time": "None",
                  "sunday_notes": "None",
                  "place_id": "ChIJzxaZ_Q8vcS4RTZ5pCVU7PW0",
                  "added_from_system": "True",
                  "google_maps_link": "https://maps.google.com/?cid=7871512960129670733",
                  "categories": "book_store, point_of_interest, store, establishment",
                  "_deepnote_index_column": 29
                },
                {
                  "id": "7b3c0d7b-d902-467b-ba6a-7e85dfb6ab84",
                  "claim_by": "None",
                  "created_by": "None",
                  "province_id": "f3502b89-a312-4a51-afad-64c005540214",
                  "regency_id": "a7369d7c-2cfa-45ea-b0ff-4dada6fc0097",
                  "district_id": "f5149f59-5733-4c2c-a90c-5672a3075b46",
                  "village_id": "96fb7927-6b41-43de-b235-db48105d3371",
                  "username": "None",
                  "name": "Bpk ngalawi (bkl. Kambing)",
                  "latitude": -6.5265653,
                  "longitude": 110.9325467,
                  "address": "Payak Tengah RT 11 RW 04, Jetir, Karangsari",
                  "postal_code": 59157,
                  "avatar": "None",
                  "description": "None",
                  "released_at": "None",
                  "google_maps_rating": 0,
                  "created_at": "2023-06-15 22:46:33",
                  "updated_at": "None",
                  "deleted_at": "None",
                  "is_monday_open": "False",
                  "monday_start_time": "None",
                  "monday_end_time": "None",
                  "monday_notes": "None",
                  "is_tuesday_open": "False",
                  "tuesday_start_time": "None",
                  "tuesday_end_time": "None",
                  "tuesday_notes": "None",
                  "is_wednesday_open": "False",
                  "wednesday_start_time": "None",
                  "wednesday_end_time": "None",
                  "wednesday_notes": "None",
                  "is_thursday_open": "False",
                  "thursday_start_time": "None",
                  "thursday_end_time": "None",
                  "thursday_notes": "None",
                  "is_friday_open": "False",
                  "friday_start_time": "None",
                  "friday_end_time": "None",
                  "friday_notes": "None",
                  "is_saturday_open": "False",
                  "saturday_start_time": "None",
                  "saturday_end_time": "None",
                  "saturday_notes": "None",
                  "is_sunday_open": "False",
                  "sunday_start_time": "None",
                  "sunday_end_time": "None",
                  "sunday_notes": "None",
                  "place_id": "ChIJoTW6xqwvcS4RDssFFrdac7s",
                  "added_from_system": "True",
                  "google_maps_link": "https://maps.google.com/?cid=13507239449809242894",
                  "categories": "pet_store, point_of_interest, store, establishment",
                  "_deepnote_index_column": 30
                },
                {
                  "id": "c5b8d00b-2096-4a9a-b676-e3793cc8196a",
                  "claim_by": "None",
                  "created_by": "None",
                  "province_id": "f3502b89-a312-4a51-afad-64c005540214",
                  "regency_id": "a7369d7c-2cfa-45ea-b0ff-4dada6fc0097",
                  "district_id": "f5149f59-5733-4c2c-a90c-5672a3075b46",
                  "village_id": "72367127-fa21-4e06-abee-7bf746167e34",
                  "username": "None",
                  "name": "Lex'a Loundry",
                  "latitude": -6.5311512,
                  "longitude": 110.9237525,
                  "address": "Unnamed Road, Plaosan, Payak",
                  "postal_code": 59157,
                  "avatar": "None",
                  "description": "None",
                  "released_at": "None",
                  "google_maps_rating": 5,
                  "created_at": "2023-06-15 22:46:34",
                  "updated_at": "None",
                  "deleted_at": "None",
                  "is_monday_open": "True",
                  "monday_start_time": "06:00",
                  "monday_end_time": "19:00",
                  "monday_notes": "None",
                  "is_tuesday_open": "True",
                  "tuesday_start_time": "06:00",
                  "tuesday_end_time": "19:00",
                  "tuesday_notes": "None",
                  "is_wednesday_open": "True",
                  "wednesday_start_time": "06:00",
                  "wednesday_end_time": "19:00",
                  "wednesday_notes": "None",
                  "is_thursday_open": "True",
                  "thursday_start_time": "06:00",
                  "thursday_end_time": "19:00",
                  "thursday_notes": "None",
                  "is_friday_open": "True",
                  "friday_start_time": "06:00",
                  "friday_end_time": "19:00",
                  "friday_notes": "None",
                  "is_saturday_open": "True",
                  "saturday_start_time": "06:00",
                  "saturday_end_time": "19:00",
                  "saturday_notes": "None",
                  "is_sunday_open": "True",
                  "sunday_start_time": "None",
                  "sunday_end_time": "None",
                  "sunday_notes": "None",
                  "place_id": "ChIJl68yq0EvcS4RR4eD6QFDEhY",
                  "added_from_system": "True",
                  "google_maps_link": "https://maps.google.com/?cid=1590407293906945863",
                  "categories": "laundry, point_of_interest, establishment",
                  "_deepnote_index_column": 31
                },
                {
                  "id": "7b3c0d7b-d902-467b-ba6a-7e85dfb6ab84",
                  "claim_by": "None",
                  "created_by": "None",
                  "province_id": "f3502b89-a312-4a51-afad-64c005540214",
                  "regency_id": "a7369d7c-2cfa-45ea-b0ff-4dada6fc0097",
                  "district_id": "f5149f59-5733-4c2c-a90c-5672a3075b46",
                  "village_id": "5decbc72-19bf-4e8b-b648-be5dd910d686",
                  "username": "None",
                  "name": "Bpk ngalawi (bkl. Kambing)",
                  "latitude": -6.5265653,
                  "longitude": 110.9325467,
                  "address": "Payak Tengah RT 11 RW 04, Jetir, Karangsari",
                  "postal_code": 59157,
                  "avatar": "None",
                  "description": "None",
                  "released_at": "None",
                  "google_maps_rating": 0,
                  "created_at": "2023-06-15 22:46:33",
                  "updated_at": "None",
                  "deleted_at": "None",
                  "is_monday_open": "False",
                  "monday_start_time": "None",
                  "monday_end_time": "None",
                  "monday_notes": "None",
                  "is_tuesday_open": "False",
                  "tuesday_start_time": "None",
                  "tuesday_end_time": "None",
                  "tuesday_notes": "None",
                  "is_wednesday_open": "False",
                  "wednesday_start_time": "None",
                  "wednesday_end_time": "None",
                  "wednesday_notes": "None",
                  "is_thursday_open": "False",
                  "thursday_start_time": "None",
                  "thursday_end_time": "None",
                  "thursday_notes": "None",
                  "is_friday_open": "False",
                  "friday_start_time": "None",
                  "friday_end_time": "None",
                  "friday_notes": "None",
                  "is_saturday_open": "False",
                  "saturday_start_time": "None",
                  "saturday_end_time": "None",
                  "saturday_notes": "None",
                  "is_sunday_open": "False",
                  "sunday_start_time": "None",
                  "sunday_end_time": "None",
                  "sunday_notes": "None",
                  "place_id": "ChIJoTW6xqwvcS4RDssFFrdac7s",
                  "added_from_system": "True",
                  "google_maps_link": "https://maps.google.com/?cid=13507239449809242894",
                  "categories": "pet_store, point_of_interest, store, establishment",
                  "_deepnote_index_column": 32
                },
                {
                  "id": "7b3c0d7b-d902-467b-ba6a-7e85dfb6ab84",
                  "claim_by": "None",
                  "created_by": "None",
                  "province_id": "f3502b89-a312-4a51-afad-64c005540214",
                  "regency_id": "a7369d7c-2cfa-45ea-b0ff-4dada6fc0097",
                  "district_id": "f5149f59-5733-4c2c-a90c-5672a3075b46",
                  "village_id": "2f384a10-dd28-4b1a-9c9e-632aa7935d62",
                  "username": "None",
                  "name": "Bpk ngalawi (bkl. Kambing)",
                  "latitude": -6.5265653,
                  "longitude": 110.9325467,
                  "address": "Payak Tengah RT 11 RW 04, Jetir, Karangsari",
                  "postal_code": 59157,
                  "avatar": "None",
                  "description": "None",
                  "released_at": "None",
                  "google_maps_rating": 0,
                  "created_at": "2023-06-15 22:46:33",
                  "updated_at": "None",
                  "deleted_at": "None",
                  "is_monday_open": "False",
                  "monday_start_time": "None",
                  "monday_end_time": "None",
                  "monday_notes": "None",
                  "is_tuesday_open": "False",
                  "tuesday_start_time": "None",
                  "tuesday_end_time": "None",
                  "tuesday_notes": "None",
                  "is_wednesday_open": "False",
                  "wednesday_start_time": "None",
                  "wednesday_end_time": "None",
                  "wednesday_notes": "None",
                  "is_thursday_open": "False",
                  "thursday_start_time": "None",
                  "thursday_end_time": "None",
                  "thursday_notes": "None",
                  "is_friday_open": "False",
                  "friday_start_time": "None",
                  "friday_end_time": "None",
                  "friday_notes": "None",
                  "is_saturday_open": "False",
                  "saturday_start_time": "None",
                  "saturday_end_time": "None",
                  "saturday_notes": "None",
                  "is_sunday_open": "False",
                  "sunday_start_time": "None",
                  "sunday_end_time": "None",
                  "sunday_notes": "None",
                  "place_id": "ChIJoTW6xqwvcS4RDssFFrdac7s",
                  "added_from_system": "True",
                  "google_maps_link": "https://maps.google.com/?cid=13507239449809242894",
                  "categories": "pet_store, point_of_interest, store, establishment",
                  "_deepnote_index_column": 33
                },
                {
                  "id": "7b3c0d7b-d902-467b-ba6a-7e85dfb6ab84",
                  "claim_by": "None",
                  "created_by": "None",
                  "province_id": "f3502b89-a312-4a51-afad-64c005540214",
                  "regency_id": "a7369d7c-2cfa-45ea-b0ff-4dada6fc0097",
                  "district_id": "f5149f59-5733-4c2c-a90c-5672a3075b46",
                  "village_id": "623d4acc-6585-496b-9068-d33d22839c2e",
                  "username": "None",
                  "name": "Bpk ngalawi (bkl. Kambing)",
                  "latitude": -6.5265653,
                  "longitude": 110.9325467,
                  "address": "Payak Tengah RT 11 RW 04, Jetir, Karangsari",
                  "postal_code": 59157,
                  "avatar": "None",
                  "description": "None",
                  "released_at": "None",
                  "google_maps_rating": 0,
                  "created_at": "2023-06-15 22:46:33",
                  "updated_at": "None",
                  "deleted_at": "None",
                  "is_monday_open": "False",
                  "monday_start_time": "None",
                  "monday_end_time": "None",
                  "monday_notes": "None",
                  "is_tuesday_open": "False",
                  "tuesday_start_time": "None",
                  "tuesday_end_time": "None",
                  "tuesday_notes": "None",
                  "is_wednesday_open": "False",
                  "wednesday_start_time": "None",
                  "wednesday_end_time": "None",
                  "wednesday_notes": "None",
                  "is_thursday_open": "False",
                  "thursday_start_time": "None",
                  "thursday_end_time": "None",
                  "thursday_notes": "None",
                  "is_friday_open": "False",
                  "friday_start_time": "None",
                  "friday_end_time": "None",
                  "friday_notes": "None",
                  "is_saturday_open": "False",
                  "saturday_start_time": "None",
                  "saturday_end_time": "None",
                  "saturday_notes": "None",
                  "is_sunday_open": "False",
                  "sunday_start_time": "None",
                  "sunday_end_time": "None",
                  "sunday_notes": "None",
                  "place_id": "ChIJoTW6xqwvcS4RDssFFrdac7s",
                  "added_from_system": "True",
                  "google_maps_link": "https://maps.google.com/?cid=13507239449809242894",
                  "categories": "pet_store, point_of_interest, store, establishment",
                  "_deepnote_index_column": 34
                },
                {
                  "id": "7b3c0d7b-d902-467b-ba6a-7e85dfb6ab84",
                  "claim_by": "None",
                  "created_by": "None",
                  "province_id": "f3502b89-a312-4a51-afad-64c005540214",
                  "regency_id": "a7369d7c-2cfa-45ea-b0ff-4dada6fc0097",
                  "district_id": "f5149f59-5733-4c2c-a90c-5672a3075b46",
                  "village_id": "2a130dec-ebfe-4e23-92bf-c9ec3c5fa719",
                  "username": "None",
                  "name": "Bpk ngalawi (bkl. Kambing)",
                  "latitude": -6.5265653,
                  "longitude": 110.9325467,
                  "address": "Payak Tengah RT 11 RW 04, Jetir, Karangsari",
                  "postal_code": 59157,
                  "avatar": "None",
                  "description": "None",
                  "released_at": "None",
                  "google_maps_rating": 0,
                  "created_at": "2023-06-15 22:46:33",
                  "updated_at": "None",
                  "deleted_at": "None",
                  "is_monday_open": "False",
                  "monday_start_time": "None",
                  "monday_end_time": "None",
                  "monday_notes": "None",
                  "is_tuesday_open": "False",
                  "tuesday_start_time": "None",
                  "tuesday_end_time": "None",
                  "tuesday_notes": "None",
                  "is_wednesday_open": "False",
                  "wednesday_start_time": "None",
                  "wednesday_end_time": "None",
                  "wednesday_notes": "None",
                  "is_thursday_open": "False",
                  "thursday_start_time": "None",
                  "thursday_end_time": "None",
                  "thursday_notes": "None",
                  "is_friday_open": "False",
                  "friday_start_time": "None",
                  "friday_end_time": "None",
                  "friday_notes": "None",
                  "is_saturday_open": "False",
                  "saturday_start_time": "None",
                  "saturday_end_time": "None",
                  "saturday_notes": "None",
                  "is_sunday_open": "False",
                  "sunday_start_time": "None",
                  "sunday_end_time": "None",
                  "sunday_notes": "None",
                  "place_id": "ChIJoTW6xqwvcS4RDssFFrdac7s",
                  "added_from_system": "True",
                  "google_maps_link": "https://maps.google.com/?cid=13507239449809242894",
                  "categories": "pet_store, point_of_interest, store, establishment",
                  "_deepnote_index_column": 35
                },
                {
                  "id": "7b3c0d7b-d902-467b-ba6a-7e85dfb6ab84",
                  "claim_by": "None",
                  "created_by": "None",
                  "province_id": "f3502b89-a312-4a51-afad-64c005540214",
                  "regency_id": "a7369d7c-2cfa-45ea-b0ff-4dada6fc0097",
                  "district_id": "f5149f59-5733-4c2c-a90c-5672a3075b46",
                  "village_id": "0ef636a4-fbdc-4d28-89a2-d7c626cd9ad2",
                  "username": "None",
                  "name": "Bpk ngalawi (bkl. Kambing)",
                  "latitude": -6.5265653,
                  "longitude": 110.9325467,
                  "address": "Payak Tengah RT 11 RW 04, Jetir, Karangsari",
                  "postal_code": 59157,
                  "avatar": "None",
                  "description": "None",
                  "released_at": "None",
                  "google_maps_rating": 0,
                  "created_at": "2023-06-15 22:46:33",
                  "updated_at": "None",
                  "deleted_at": "None",
                  "is_monday_open": "False",
                  "monday_start_time": "None",
                  "monday_end_time": "None",
                  "monday_notes": "None",
                  "is_tuesday_open": "False",
                  "tuesday_start_time": "None",
                  "tuesday_end_time": "None",
                  "tuesday_notes": "None",
                  "is_wednesday_open": "False",
                  "wednesday_start_time": "None",
                  "wednesday_end_time": "None",
                  "wednesday_notes": "None",
                  "is_thursday_open": "False",
                  "thursday_start_time": "None",
                  "thursday_end_time": "None",
                  "thursday_notes": "None",
                  "is_friday_open": "False",
                  "friday_start_time": "None",
                  "friday_end_time": "None",
                  "friday_notes": "None",
                  "is_saturday_open": "False",
                  "saturday_start_time": "None",
                  "saturday_end_time": "None",
                  "saturday_notes": "None",
                  "is_sunday_open": "False",
                  "sunday_start_time": "None",
                  "sunday_end_time": "None",
                  "sunday_notes": "None",
                  "place_id": "ChIJoTW6xqwvcS4RDssFFrdac7s",
                  "added_from_system": "True",
                  "google_maps_link": "https://maps.google.com/?cid=13507239449809242894",
                  "categories": "pet_store, point_of_interest, store, establishment",
                  "_deepnote_index_column": 36
                },
                {
                  "id": "7b3c0d7b-d902-467b-ba6a-7e85dfb6ab84",
                  "claim_by": "None",
                  "created_by": "None",
                  "province_id": "f3502b89-a312-4a51-afad-64c005540214",
                  "regency_id": "a7369d7c-2cfa-45ea-b0ff-4dada6fc0097",
                  "district_id": "f5149f59-5733-4c2c-a90c-5672a3075b46",
                  "village_id": "0260f567-5ad4-4a63-941f-7754546822a9",
                  "username": "None",
                  "name": "Bpk ngalawi (bkl. Kambing)",
                  "latitude": -6.5265653,
                  "longitude": 110.9325467,
                  "address": "Payak Tengah RT 11 RW 04, Jetir, Karangsari",
                  "postal_code": 59157,
                  "avatar": "None",
                  "description": "None",
                  "released_at": "None",
                  "google_maps_rating": 0,
                  "created_at": "2023-06-15 22:46:33",
                  "updated_at": "None",
                  "deleted_at": "None",
                  "is_monday_open": "False",
                  "monday_start_time": "None",
                  "monday_end_time": "None",
                  "monday_notes": "None",
                  "is_tuesday_open": "False",
                  "tuesday_start_time": "None",
                  "tuesday_end_time": "None",
                  "tuesday_notes": "None",
                  "is_wednesday_open": "False",
                  "wednesday_start_time": "None",
                  "wednesday_end_time": "None",
                  "wednesday_notes": "None",
                  "is_thursday_open": "False",
                  "thursday_start_time": "None",
                  "thursday_end_time": "None",
                  "thursday_notes": "None",
                  "is_friday_open": "False",
                  "friday_start_time": "None",
                  "friday_end_time": "None",
                  "friday_notes": "None",
                  "is_saturday_open": "False",
                  "saturday_start_time": "None",
                  "saturday_end_time": "None",
                  "saturday_notes": "None",
                  "is_sunday_open": "False",
                  "sunday_start_time": "None",
                  "sunday_end_time": "None",
                  "sunday_notes": "None",
                  "place_id": "ChIJoTW6xqwvcS4RDssFFrdac7s",
                  "added_from_system": "True",
                  "google_maps_link": "https://maps.google.com/?cid=13507239449809242894",
                  "categories": "pet_store, point_of_interest, store, establishment",
                  "_deepnote_index_column": 37
                },
                {
                  "id": "7b3c0d7b-d902-467b-ba6a-7e85dfb6ab84",
                  "claim_by": "None",
                  "created_by": "None",
                  "province_id": "f3502b89-a312-4a51-afad-64c005540214",
                  "regency_id": "a7369d7c-2cfa-45ea-b0ff-4dada6fc0097",
                  "district_id": "f5149f59-5733-4c2c-a90c-5672a3075b46",
                  "village_id": "1d9ed538-5c97-42b0-8471-d38502916905",
                  "username": "None",
                  "name": "Bpk ngalawi (bkl. Kambing)",
                  "latitude": -6.5265653,
                  "longitude": 110.9325467,
                  "address": "Payak Tengah RT 11 RW 04, Jetir, Karangsari",
                  "postal_code": 59157,
                  "avatar": "None",
                  "description": "None",
                  "released_at": "None",
                  "google_maps_rating": 0,
                  "created_at": "2023-06-15 22:46:33",
                  "updated_at": "None",
                  "deleted_at": "None",
                  "is_monday_open": "False",
                  "monday_start_time": "None",
                  "monday_end_time": "None",
                  "monday_notes": "None",
                  "is_tuesday_open": "False",
                  "tuesday_start_time": "None",
                  "tuesday_end_time": "None",
                  "tuesday_notes": "None",
                  "is_wednesday_open": "False",
                  "wednesday_start_time": "None",
                  "wednesday_end_time": "None",
                  "wednesday_notes": "None",
                  "is_thursday_open": "False",
                  "thursday_start_time": "None",
                  "thursday_end_time": "None",
                  "thursday_notes": "None",
                  "is_friday_open": "False",
                  "friday_start_time": "None",
                  "friday_end_time": "None",
                  "friday_notes": "None",
                  "is_saturday_open": "False",
                  "saturday_start_time": "None",
                  "saturday_end_time": "None",
                  "saturday_notes": "None",
                  "is_sunday_open": "False",
                  "sunday_start_time": "None",
                  "sunday_end_time": "None",
                  "sunday_notes": "None",
                  "place_id": "ChIJoTW6xqwvcS4RDssFFrdac7s",
                  "added_from_system": "True",
                  "google_maps_link": "https://maps.google.com/?cid=13507239449809242894",
                  "categories": "pet_store, point_of_interest, store, establishment",
                  "_deepnote_index_column": 38
                },
                {
                  "id": "a150c761-bfdd-4cdd-90ae-065f91ef9887",
                  "claim_by": "None",
                  "created_by": "None",
                  "province_id": "f3502b89-a312-4a51-afad-64c005540214",
                  "regency_id": "e15f9692-c4bb-4f39-8ed2-6f7ee16d8729",
                  "district_id": "8727b4bb-9758-4303-a132-2e120a1f89bd",
                  "village_id": "beaecbd9-a2ad-4e53-b3d2-9888e3d70cfe",
                  "username": "None",
                  "name": "Onerr Aquatic",
                  "latitude": -6.567479100000001,
                  "longitude": 110.6693058,
                  "address": "CMJ9+XQJ, Rawa III, Bandengan",
                  "postal_code": 59432,
                  "avatar": "None",
                  "description": "None",
                  "released_at": "None",
                  "google_maps_rating": 5,
                  "created_at": "2023-06-15 22:46:31",
                  "updated_at": "None",
                  "deleted_at": "None",
                  "is_monday_open": "True",
                  "monday_start_time": "07:00",
                  "monday_end_time": "22:00",
                  "monday_notes": "None",
                  "is_tuesday_open": "True",
                  "tuesday_start_time": "07:00",
                  "tuesday_end_time": "22:00",
                  "tuesday_notes": "None",
                  "is_wednesday_open": "True",
                  "wednesday_start_time": "07:00",
                  "wednesday_end_time": "22:00",
                  "wednesday_notes": "None",
                  "is_thursday_open": "True",
                  "thursday_start_time": "07:00",
                  "thursday_end_time": "22:00",
                  "thursday_notes": "None",
                  "is_friday_open": "True",
                  "friday_start_time": "07:00",
                  "friday_end_time": "22:00",
                  "friday_notes": "None",
                  "is_saturday_open": "True",
                  "saturday_start_time": "07:00",
                  "saturday_end_time": "22:00",
                  "saturday_notes": "None",
                  "is_sunday_open": "True",
                  "sunday_start_time": "07:00",
                  "sunday_end_time": "22:00",
                  "sunday_notes": "None",
                  "place_id": "ChIJSxYOOb0fcS4RRyhvFCyRBUo",
                  "added_from_system": "True",
                  "google_maps_link": "https://maps.google.com/?cid=5333828952197638215",
                  "categories": "pet_store, store, point_of_interest, establishment",
                  "_deepnote_index_column": 39
                },
                {
                  "id": "192ae3ec-4453-42f9-88a5-a66f6f1a7fa6",
                  "claim_by": "None",
                  "created_by": "None",
                  "province_id": "f3502b89-a312-4a51-afad-64c005540214",
                  "regency_id": "e15f9692-c4bb-4f39-8ed2-6f7ee16d8729",
                  "district_id": "8727b4bb-9758-4303-a132-2e120a1f89bd",
                  "village_id": "beaecbd9-a2ad-4e53-b3d2-9888e3d70cfe",
                  "username": "None",
                  "name": "Vertikal Flora",
                  "latitude": -6.5675121,
                  "longitude": 110.6697668,
                  "address": "Jepara,Rt. 13, Rawa IV, Bandengan",
                  "postal_code": 59432,
                  "avatar": "None",
                  "description": "None",
                  "released_at": "None",
                  "google_maps_rating": 5,
                  "created_at": "2023-06-15 22:46:33",
                  "updated_at": "None",
                  "deleted_at": "None",
                  "is_monday_open": "None",
                  "monday_start_time": "None",
                  "monday_end_time": "None",
                  "monday_notes": "None",
                  "is_tuesday_open": "None",
                  "tuesday_start_time": "None",
                  "tuesday_end_time": "None",
                  "tuesday_notes": "None",
                  "is_wednesday_open": "None",
                  "wednesday_start_time": "None",
                  "wednesday_end_time": "None",
                  "wednesday_notes": "None",
                  "is_thursday_open": "None",
                  "thursday_start_time": "None",
                  "thursday_end_time": "None",
                  "thursday_notes": "None",
                  "is_friday_open": "None",
                  "friday_start_time": "None",
                  "friday_end_time": "None",
                  "friday_notes": "None",
                  "is_saturday_open": "None",
                  "saturday_start_time": "None",
                  "saturday_end_time": "None",
                  "saturday_notes": "None",
                  "is_sunday_open": "None",
                  "sunday_start_time": "None",
                  "sunday_end_time": "None",
                  "sunday_notes": "None",
                  "place_id": "ChIJAS5gF60fcS4RfEzMZbXIBF0",
                  "added_from_system": "True",
                  "google_maps_link": "https://maps.google.com/?cid=6702702826856664188",
                  "categories": "florist, store, point_of_interest, establishment",
                  "_deepnote_index_column": 40
                },
                {
                  "id": "7b3c0d7b-d902-467b-ba6a-7e85dfb6ab84",
                  "claim_by": "None",
                  "created_by": "None",
                  "province_id": "f3502b89-a312-4a51-afad-64c005540214",
                  "regency_id": "a7369d7c-2cfa-45ea-b0ff-4dada6fc0097",
                  "district_id": "f5149f59-5733-4c2c-a90c-5672a3075b46",
                  "village_id": "2550b2a7-6d51-4597-8f35-6fdb6bf53272",
                  "username": "None",
                  "name": "Bpk ngalawi (bkl. Kambing)",
                  "latitude": -6.5265653,
                  "longitude": 110.9325467,
                  "address": "Payak Tengah RT 11 RW 04, Jetir, Karangsari",
                  "postal_code": 59157,
                  "avatar": "None",
                  "description": "None",
                  "released_at": "None",
                  "google_maps_rating": 0,
                  "created_at": "2023-06-15 22:46:33",
                  "updated_at": "None",
                  "deleted_at": "None",
                  "is_monday_open": "False",
                  "monday_start_time": "None",
                  "monday_end_time": "None",
                  "monday_notes": "None",
                  "is_tuesday_open": "False",
                  "tuesday_start_time": "None",
                  "tuesday_end_time": "None",
                  "tuesday_notes": "None",
                  "is_wednesday_open": "False",
                  "wednesday_start_time": "None",
                  "wednesday_end_time": "None",
                  "wednesday_notes": "None",
                  "is_thursday_open": "False",
                  "thursday_start_time": "None",
                  "thursday_end_time": "None",
                  "thursday_notes": "None",
                  "is_friday_open": "False",
                  "friday_start_time": "None",
                  "friday_end_time": "None",
                  "friday_notes": "None",
                  "is_saturday_open": "False",
                  "saturday_start_time": "None",
                  "saturday_end_time": "None",
                  "saturday_notes": "None",
                  "is_sunday_open": "False",
                  "sunday_start_time": "None",
                  "sunday_end_time": "None",
                  "sunday_notes": "None",
                  "place_id": "ChIJoTW6xqwvcS4RDssFFrdac7s",
                  "added_from_system": "True",
                  "google_maps_link": "https://maps.google.com/?cid=13507239449809242894",
                  "categories": "pet_store, point_of_interest, store, establishment",
                  "_deepnote_index_column": 41
                },
                {
                  "id": "7b3c0d7b-d902-467b-ba6a-7e85dfb6ab84",
                  "claim_by": "None",
                  "created_by": "None",
                  "province_id": "f3502b89-a312-4a51-afad-64c005540214",
                  "regency_id": "a7369d7c-2cfa-45ea-b0ff-4dada6fc0097",
                  "district_id": "f5149f59-5733-4c2c-a90c-5672a3075b46",
                  "village_id": "45054581-149f-4976-9b68-e4c660451dc8",
                  "username": "None",
                  "name": "Bpk ngalawi (bkl. Kambing)",
                  "latitude": -6.5265653,
                  "longitude": 110.9325467,
                  "address": "Payak Tengah RT 11 RW 04, Jetir, Karangsari",
                  "postal_code": 59157,
                  "avatar": "None",
                  "description": "None",
                  "released_at": "None",
                  "google_maps_rating": 0,
                  "created_at": "2023-06-15 22:46:33",
                  "updated_at": "None",
                  "deleted_at": "None",
                  "is_monday_open": "False",
                  "monday_start_time": "None",
                  "monday_end_time": "None",
                  "monday_notes": "None",
                  "is_tuesday_open": "False",
                  "tuesday_start_time": "None",
                  "tuesday_end_time": "None",
                  "tuesday_notes": "None",
                  "is_wednesday_open": "False",
                  "wednesday_start_time": "None",
                  "wednesday_end_time": "None",
                  "wednesday_notes": "None",
                  "is_thursday_open": "False",
                  "thursday_start_time": "None",
                  "thursday_end_time": "None",
                  "thursday_notes": "None",
                  "is_friday_open": "False",
                  "friday_start_time": "None",
                  "friday_end_time": "None",
                  "friday_notes": "None",
                  "is_saturday_open": "False",
                  "saturday_start_time": "None",
                  "saturday_end_time": "None",
                  "saturday_notes": "None",
                  "is_sunday_open": "False",
                  "sunday_start_time": "None",
                  "sunday_end_time": "None",
                  "sunday_notes": "None",
                  "place_id": "ChIJoTW6xqwvcS4RDssFFrdac7s",
                  "added_from_system": "True",
                  "google_maps_link": "https://maps.google.com/?cid=13507239449809242894",
                  "categories": "pet_store, point_of_interest, store, establishment",
                  "_deepnote_index_column": 42
                },
                {
                  "id": "7b3c0d7b-d902-467b-ba6a-7e85dfb6ab84",
                  "claim_by": "None",
                  "created_by": "None",
                  "province_id": "f3502b89-a312-4a51-afad-64c005540214",
                  "regency_id": "a7369d7c-2cfa-45ea-b0ff-4dada6fc0097",
                  "district_id": "f5149f59-5733-4c2c-a90c-5672a3075b46",
                  "village_id": "1c5e93c9-8146-4924-82f3-0026b39ffd35",
                  "username": "None",
                  "name": "Bpk ngalawi (bkl. Kambing)",
                  "latitude": -6.5265653,
                  "longitude": 110.9325467,
                  "address": "Payak Tengah RT 11 RW 04, Jetir, Karangsari",
                  "postal_code": 59157,
                  "avatar": "None",
                  "description": "None",
                  "released_at": "None",
                  "google_maps_rating": 0,
                  "created_at": "2023-06-15 22:46:33",
                  "updated_at": "None",
                  "deleted_at": "None",
                  "is_monday_open": "False",
                  "monday_start_time": "None",
                  "monday_end_time": "None",
                  "monday_notes": "None",
                  "is_tuesday_open": "False",
                  "tuesday_start_time": "None",
                  "tuesday_end_time": "None",
                  "tuesday_notes": "None",
                  "is_wednesday_open": "False",
                  "wednesday_start_time": "None",
                  "wednesday_end_time": "None",
                  "wednesday_notes": "None",
                  "is_thursday_open": "False",
                  "thursday_start_time": "None",
                  "thursday_end_time": "None",
                  "thursday_notes": "None",
                  "is_friday_open": "False",
                  "friday_start_time": "None",
                  "friday_end_time": "None",
                  "friday_notes": "None",
                  "is_saturday_open": "False",
                  "saturday_start_time": "None",
                  "saturday_end_time": "None",
                  "saturday_notes": "None",
                  "is_sunday_open": "False",
                  "sunday_start_time": "None",
                  "sunday_end_time": "None",
                  "sunday_notes": "None",
                  "place_id": "ChIJoTW6xqwvcS4RDssFFrdac7s",
                  "added_from_system": "True",
                  "google_maps_link": "https://maps.google.com/?cid=13507239449809242894",
                  "categories": "pet_store, point_of_interest, store, establishment",
                  "_deepnote_index_column": 43
                },
                {
                  "id": "7b3c0d7b-d902-467b-ba6a-7e85dfb6ab84",
                  "claim_by": "None",
                  "created_by": "None",
                  "province_id": "f3502b89-a312-4a51-afad-64c005540214",
                  "regency_id": "a7369d7c-2cfa-45ea-b0ff-4dada6fc0097",
                  "district_id": "f5149f59-5733-4c2c-a90c-5672a3075b46",
                  "village_id": "299f16a0-1da9-48cf-bb2d-4153511bb418",
                  "username": "None",
                  "name": "Bpk ngalawi (bkl. Kambing)",
                  "latitude": -6.5265653,
                  "longitude": 110.9325467,
                  "address": "Payak Tengah RT 11 RW 04, Jetir, Karangsari",
                  "postal_code": 59157,
                  "avatar": "None",
                  "description": "None",
                  "released_at": "None",
                  "google_maps_rating": 0,
                  "created_at": "2023-06-15 22:46:33",
                  "updated_at": "None",
                  "deleted_at": "None",
                  "is_monday_open": "False",
                  "monday_start_time": "None",
                  "monday_end_time": "None",
                  "monday_notes": "None",
                  "is_tuesday_open": "False",
                  "tuesday_start_time": "None",
                  "tuesday_end_time": "None",
                  "tuesday_notes": "None",
                  "is_wednesday_open": "False",
                  "wednesday_start_time": "None",
                  "wednesday_end_time": "None",
                  "wednesday_notes": "None",
                  "is_thursday_open": "False",
                  "thursday_start_time": "None",
                  "thursday_end_time": "None",
                  "thursday_notes": "None",
                  "is_friday_open": "False",
                  "friday_start_time": "None",
                  "friday_end_time": "None",
                  "friday_notes": "None",
                  "is_saturday_open": "False",
                  "saturday_start_time": "None",
                  "saturday_end_time": "None",
                  "saturday_notes": "None",
                  "is_sunday_open": "False",
                  "sunday_start_time": "None",
                  "sunday_end_time": "None",
                  "sunday_notes": "None",
                  "place_id": "ChIJoTW6xqwvcS4RDssFFrdac7s",
                  "added_from_system": "True",
                  "google_maps_link": "https://maps.google.com/?cid=13507239449809242894",
                  "categories": "pet_store, point_of_interest, store, establishment",
                  "_deepnote_index_column": 44
                },
                {
                  "id": "7b3c0d7b-d902-467b-ba6a-7e85dfb6ab84",
                  "claim_by": "None",
                  "created_by": "None",
                  "province_id": "f3502b89-a312-4a51-afad-64c005540214",
                  "regency_id": "a7369d7c-2cfa-45ea-b0ff-4dada6fc0097",
                  "district_id": "f5149f59-5733-4c2c-a90c-5672a3075b46",
                  "village_id": "3f228ea9-14d6-4450-811f-4f9954972855",
                  "username": "None",
                  "name": "Bpk ngalawi (bkl. Kambing)",
                  "latitude": -6.5265653,
                  "longitude": 110.9325467,
                  "address": "Payak Tengah RT 11 RW 04, Jetir, Karangsari",
                  "postal_code": 59157,
                  "avatar": "None",
                  "description": "None",
                  "released_at": "None",
                  "google_maps_rating": 0,
                  "created_at": "2023-06-15 22:46:33",
                  "updated_at": "None",
                  "deleted_at": "None",
                  "is_monday_open": "False",
                  "monday_start_time": "None",
                  "monday_end_time": "None",
                  "monday_notes": "None",
                  "is_tuesday_open": "False",
                  "tuesday_start_time": "None",
                  "tuesday_end_time": "None",
                  "tuesday_notes": "None",
                  "is_wednesday_open": "False",
                  "wednesday_start_time": "None",
                  "wednesday_end_time": "None",
                  "wednesday_notes": "None",
                  "is_thursday_open": "False",
                  "thursday_start_time": "None",
                  "thursday_end_time": "None",
                  "thursday_notes": "None",
                  "is_friday_open": "False",
                  "friday_start_time": "None",
                  "friday_end_time": "None",
                  "friday_notes": "None",
                  "is_saturday_open": "False",
                  "saturday_start_time": "None",
                  "saturday_end_time": "None",
                  "saturday_notes": "None",
                  "is_sunday_open": "False",
                  "sunday_start_time": "None",
                  "sunday_end_time": "None",
                  "sunday_notes": "None",
                  "place_id": "ChIJoTW6xqwvcS4RDssFFrdac7s",
                  "added_from_system": "True",
                  "google_maps_link": "https://maps.google.com/?cid=13507239449809242894",
                  "categories": "pet_store, point_of_interest, store, establishment",
                  "_deepnote_index_column": 45
                },
                {
                  "id": "7b3c0d7b-d902-467b-ba6a-7e85dfb6ab84",
                  "claim_by": "None",
                  "created_by": "None",
                  "province_id": "f3502b89-a312-4a51-afad-64c005540214",
                  "regency_id": "a7369d7c-2cfa-45ea-b0ff-4dada6fc0097",
                  "district_id": "f5149f59-5733-4c2c-a90c-5672a3075b46",
                  "village_id": "5af9f782-fdfd-4143-acfc-fe525043458f",
                  "username": "None",
                  "name": "Bpk ngalawi (bkl. Kambing)",
                  "latitude": -6.5265653,
                  "longitude": 110.9325467,
                  "address": "Payak Tengah RT 11 RW 04, Jetir, Karangsari",
                  "postal_code": 59157,
                  "avatar": "None",
                  "description": "None",
                  "released_at": "None",
                  "google_maps_rating": 0,
                  "created_at": "2023-06-15 22:46:33",
                  "updated_at": "None",
                  "deleted_at": "None",
                  "is_monday_open": "False",
                  "monday_start_time": "None",
                  "monday_end_time": "None",
                  "monday_notes": "None",
                  "is_tuesday_open": "False",
                  "tuesday_start_time": "None",
                  "tuesday_end_time": "None",
                  "tuesday_notes": "None",
                  "is_wednesday_open": "False",
                  "wednesday_start_time": "None",
                  "wednesday_end_time": "None",
                  "wednesday_notes": "None",
                  "is_thursday_open": "False",
                  "thursday_start_time": "None",
                  "thursday_end_time": "None",
                  "thursday_notes": "None",
                  "is_friday_open": "False",
                  "friday_start_time": "None",
                  "friday_end_time": "None",
                  "friday_notes": "None",
                  "is_saturday_open": "False",
                  "saturday_start_time": "None",
                  "saturday_end_time": "None",
                  "saturday_notes": "None",
                  "is_sunday_open": "False",
                  "sunday_start_time": "None",
                  "sunday_end_time": "None",
                  "sunday_notes": "None",
                  "place_id": "ChIJoTW6xqwvcS4RDssFFrdac7s",
                  "added_from_system": "True",
                  "google_maps_link": "https://maps.google.com/?cid=13507239449809242894",
                  "categories": "pet_store, point_of_interest, store, establishment",
                  "_deepnote_index_column": 46
                },
                {
                  "id": "ab7876ed-ae89-4591-b286-f6a4b13e64b2",
                  "claim_by": "None",
                  "created_by": "None",
                  "province_id": "f3502b89-a312-4a51-afad-64c005540214",
                  "regency_id": "e15f9692-c4bb-4f39-8ed2-6f7ee16d8729",
                  "district_id": "8727b4bb-9758-4303-a132-2e120a1f89bd",
                  "village_id": "f8553d1a-4d60-44b3-9111-dbc9721bef88",
                  "username": "None",
                  "name": "OCTAVIA ID",
                  "latitude": -6.600195499999999,
                  "longitude": 110.6834366,
                  "address": "9MXM+W9F, Juwetan, Kecapi",
                  "postal_code": 59429,
                  "avatar": "None",
                  "description": "None",
                  "released_at": "None",
                  "google_maps_rating": 0,
                  "created_at": "2023-06-15 22:46:34",
                  "updated_at": "None",
                  "deleted_at": "None",
                  "is_monday_open": "None",
                  "monday_start_time": "None",
                  "monday_end_time": "None",
                  "monday_notes": "None",
                  "is_tuesday_open": "None",
                  "tuesday_start_time": "None",
                  "tuesday_end_time": "None",
                  "tuesday_notes": "None",
                  "is_wednesday_open": "None",
                  "wednesday_start_time": "None",
                  "wednesday_end_time": "None",
                  "wednesday_notes": "None",
                  "is_thursday_open": "None",
                  "thursday_start_time": "None",
                  "thursday_end_time": "None",
                  "thursday_notes": "None",
                  "is_friday_open": "None",
                  "friday_start_time": "None",
                  "friday_end_time": "None",
                  "friday_notes": "None",
                  "is_saturday_open": "None",
                  "saturday_start_time": "None",
                  "saturday_end_time": "None",
                  "saturday_notes": "None",
                  "is_sunday_open": "None",
                  "sunday_start_time": "None",
                  "sunday_end_time": "None",
                  "sunday_notes": "None",
                  "place_id": "ChIJodKcbNAfcS4ROXnkMckPl-g",
                  "added_from_system": "True",
                  "google_maps_link": "https://maps.google.com/?cid=16759881895082490169",
                  "categories": "florist, point_of_interest, store, establishment",
                  "_deepnote_index_column": 47
                },
                {
                  "id": "7409cbbd-c1ed-430d-bb5b-f4b4c644f215",
                  "claim_by": "None",
                  "created_by": "None",
                  "province_id": "ece42b5b-932f-421d-88e9-91d632e58f73",
                  "regency_id": "6e06f696-e9ca-4e41-bdc3-4b4bdd1a1550",
                  "district_id": "f1966882-a72c-4aaa-8628-079a3cb8224b",
                  "village_id": "0a196700-7f45-49b9-92a9-7500e602b6f8",
                  "username": "None",
                  "name": "Kantin Dinasty Raos",
                  "latitude": -7.783531799999999,
                  "longitude": 110.3768878,
                  "address": "Jalan Jendral Sudirman No.70, Kotabaru",
                  "postal_code": 55224,
                  "avatar": "None",
                  "description": "None",
                  "released_at": "None",
                  "google_maps_rating": 4.3,
                  "created_at": "2023-06-15 22:46:23",
                  "updated_at": "None",
                  "deleted_at": "None",
                  "is_monday_open": "True",
                  "monday_start_time": "06:00",
                  "monday_end_time": "19:00",
                  "monday_notes": "None",
                  "is_tuesday_open": "True",
                  "tuesday_start_time": "06:00",
                  "tuesday_end_time": "19:00",
                  "tuesday_notes": "None",
                  "is_wednesday_open": "True",
                  "wednesday_start_time": "06:00",
                  "wednesday_end_time": "19:00",
                  "wednesday_notes": "None",
                  "is_thursday_open": "True",
                  "thursday_start_time": "06:00",
                  "thursday_end_time": "19:00",
                  "thursday_notes": "None",
                  "is_friday_open": "True",
                  "friday_start_time": "06:00",
                  "friday_end_time": "19:00",
                  "friday_notes": "None",
                  "is_saturday_open": "True",
                  "saturday_start_time": "06:00",
                  "saturday_end_time": "19:00",
                  "saturday_notes": "None",
                  "is_sunday_open": "True",
                  "sunday_start_time": "06:00",
                  "sunday_end_time": "19:00",
                  "sunday_notes": "None",
                  "place_id": "ChIJAcLq6DJYei4RQDJKT5o183A",
                  "added_from_system": "True",
                  "google_maps_link": "https://maps.google.com/?cid=8138907888460116544",
                  "categories": "meal_takeaway, restaurant, food, point_of_interest, establishment",
                  "_deepnote_index_column": 48
                },
                {
                  "id": "7b3c0d7b-d902-467b-ba6a-7e85dfb6ab84",
                  "claim_by": "None",
                  "created_by": "None",
                  "province_id": "f3502b89-a312-4a51-afad-64c005540214",
                  "regency_id": "a7369d7c-2cfa-45ea-b0ff-4dada6fc0097",
                  "district_id": "f5149f59-5733-4c2c-a90c-5672a3075b46",
                  "village_id": "52315b95-ac12-4744-9a83-086b59c8a1fe",
                  "username": "None",
                  "name": "Bpk ngalawi (bkl. Kambing)",
                  "latitude": -6.5265653,
                  "longitude": 110.9325467,
                  "address": "Payak Tengah RT 11 RW 04, Jetir, Karangsari",
                  "postal_code": 59157,
                  "avatar": "None",
                  "description": "None",
                  "released_at": "None",
                  "google_maps_rating": 0,
                  "created_at": "2023-06-15 22:46:33",
                  "updated_at": "None",
                  "deleted_at": "None",
                  "is_monday_open": "False",
                  "monday_start_time": "None",
                  "monday_end_time": "None",
                  "monday_notes": "None",
                  "is_tuesday_open": "False",
                  "tuesday_start_time": "None",
                  "tuesday_end_time": "None",
                  "tuesday_notes": "None",
                  "is_wednesday_open": "False",
                  "wednesday_start_time": "None",
                  "wednesday_end_time": "None",
                  "wednesday_notes": "None",
                  "is_thursday_open": "False",
                  "thursday_start_time": "None",
                  "thursday_end_time": "None",
                  "thursday_notes": "None",
                  "is_friday_open": "False",
                  "friday_start_time": "None",
                  "friday_end_time": "None",
                  "friday_notes": "None",
                  "is_saturday_open": "False",
                  "saturday_start_time": "None",
                  "saturday_end_time": "None",
                  "saturday_notes": "None",
                  "is_sunday_open": "False",
                  "sunday_start_time": "None",
                  "sunday_end_time": "None",
                  "sunday_notes": "None",
                  "place_id": "ChIJoTW6xqwvcS4RDssFFrdac7s",
                  "added_from_system": "True",
                  "google_maps_link": "https://maps.google.com/?cid=13507239449809242894",
                  "categories": "pet_store, point_of_interest, store, establishment",
                  "_deepnote_index_column": 49
                },
                {
                  "id": "7b3c0d7b-d902-467b-ba6a-7e85dfb6ab84",
                  "claim_by": "None",
                  "created_by": "None",
                  "province_id": "f3502b89-a312-4a51-afad-64c005540214",
                  "regency_id": "a7369d7c-2cfa-45ea-b0ff-4dada6fc0097",
                  "district_id": "f5149f59-5733-4c2c-a90c-5672a3075b46",
                  "village_id": "d21c4d35-dc43-4e63-a3db-080065631ea5",
                  "username": "None",
                  "name": "Bpk ngalawi (bkl. Kambing)",
                  "latitude": -6.5265653,
                  "longitude": 110.9325467,
                  "address": "Payak Tengah RT 11 RW 04, Jetir, Karangsari",
                  "postal_code": 59157,
                  "avatar": "None",
                  "description": "None",
                  "released_at": "None",
                  "google_maps_rating": 0,
                  "created_at": "2023-06-15 22:46:33",
                  "updated_at": "None",
                  "deleted_at": "None",
                  "is_monday_open": "False",
                  "monday_start_time": "None",
                  "monday_end_time": "None",
                  "monday_notes": "None",
                  "is_tuesday_open": "False",
                  "tuesday_start_time": "None",
                  "tuesday_end_time": "None",
                  "tuesday_notes": "None",
                  "is_wednesday_open": "False",
                  "wednesday_start_time": "None",
                  "wednesday_end_time": "None",
                  "wednesday_notes": "None",
                  "is_thursday_open": "False",
                  "thursday_start_time": "None",
                  "thursday_end_time": "None",
                  "thursday_notes": "None",
                  "is_friday_open": "False",
                  "friday_start_time": "None",
                  "friday_end_time": "None",
                  "friday_notes": "None",
                  "is_saturday_open": "False",
                  "saturday_start_time": "None",
                  "saturday_end_time": "None",
                  "saturday_notes": "None",
                  "is_sunday_open": "False",
                  "sunday_start_time": "None",
                  "sunday_end_time": "None",
                  "sunday_notes": "None",
                  "place_id": "ChIJoTW6xqwvcS4RDssFFrdac7s",
                  "added_from_system": "True",
                  "google_maps_link": "https://maps.google.com/?cid=13507239449809242894",
                  "categories": "pet_store, point_of_interest, store, establishment",
                  "_deepnote_index_column": 50
                },
                {
                  "id": "0338b624-5fa0-40c6-a697-476c5c03b1aa",
                  "claim_by": "None",
                  "created_by": "None",
                  "province_id": "bfe06315-c043-4c34-a77d-d8d365b2777b",
                  "regency_id": "9b8e9781-5951-4fa7-b4a0-94990c7d5b65",
                  "district_id": "089c76ce-e389-44bf-acdc-a680f649914d",
                  "village_id": "4ec34b55-8a0e-4708-a0d5-a2b49cc90f2a",
                  "username": "None",
                  "name": "CV. GANESA ABADI",
                  "latitude": -7.000263099999999,
                  "longitude": 113.8717541,
                  "address": "Jln. Karangkongo, Jalan Sapeken No.07",
                  "postal_code": 69493,
                  "avatar": "None",
                  "description": "None",
                  "released_at": "None",
                  "google_maps_rating": 0,
                  "created_at": "2023-06-15 22:46:26",
                  "updated_at": "None",
                  "deleted_at": "None",
                  "is_monday_open": "None",
                  "monday_start_time": "None",
                  "monday_end_time": "None",
                  "monday_notes": "None",
                  "is_tuesday_open": "None",
                  "tuesday_start_time": "None",
                  "tuesday_end_time": "None",
                  "tuesday_notes": "None",
                  "is_wednesday_open": "None",
                  "wednesday_start_time": "None",
                  "wednesday_end_time": "None",
                  "wednesday_notes": "None",
                  "is_thursday_open": "None",
                  "thursday_start_time": "None",
                  "thursday_end_time": "None",
                  "thursday_notes": "None",
                  "is_friday_open": "None",
                  "friday_start_time": "None",
                  "friday_end_time": "None",
                  "friday_notes": "None",
                  "is_saturday_open": "None",
                  "saturday_start_time": "None",
                  "saturday_end_time": "None",
                  "saturday_notes": "None",
                  "is_sunday_open": "None",
                  "sunday_start_time": "None",
                  "sunday_end_time": "None",
                  "sunday_notes": "None",
                  "place_id": "ChIJh0oQRVnl2S0RnXiObRmKyAg",
                  "added_from_system": "True",
                  "google_maps_link": "https://maps.google.com/?cid=632907589462423709",
                  "categories": "hardware_store, store, point_of_interest, establishment",
                  "_deepnote_index_column": 51
                },
                {
                  "id": "7b3c0d7b-d902-467b-ba6a-7e85dfb6ab84",
                  "claim_by": "None",
                  "created_by": "None",
                  "province_id": "f3502b89-a312-4a51-afad-64c005540214",
                  "regency_id": "a7369d7c-2cfa-45ea-b0ff-4dada6fc0097",
                  "district_id": "f5149f59-5733-4c2c-a90c-5672a3075b46",
                  "village_id": "8f0577ec-f827-4812-be0c-1c0b794d32b0",
                  "username": "None",
                  "name": "Bpk ngalawi (bkl. Kambing)",
                  "latitude": -6.5265653,
                  "longitude": 110.9325467,
                  "address": "Payak Tengah RT 11 RW 04, Jetir, Karangsari",
                  "postal_code": 59157,
                  "avatar": "None",
                  "description": "None",
                  "released_at": "None",
                  "google_maps_rating": 0,
                  "created_at": "2023-06-15 22:46:33",
                  "updated_at": "None",
                  "deleted_at": "None",
                  "is_monday_open": "False",
                  "monday_start_time": "None",
                  "monday_end_time": "None",
                  "monday_notes": "None",
                  "is_tuesday_open": "False",
                  "tuesday_start_time": "None",
                  "tuesday_end_time": "None",
                  "tuesday_notes": "None",
                  "is_wednesday_open": "False",
                  "wednesday_start_time": "None",
                  "wednesday_end_time": "None",
                  "wednesday_notes": "None",
                  "is_thursday_open": "False",
                  "thursday_start_time": "None",
                  "thursday_end_time": "None",
                  "thursday_notes": "None",
                  "is_friday_open": "False",
                  "friday_start_time": "None",
                  "friday_end_time": "None",
                  "friday_notes": "None",
                  "is_saturday_open": "False",
                  "saturday_start_time": "None",
                  "saturday_end_time": "None",
                  "saturday_notes": "None",
                  "is_sunday_open": "False",
                  "sunday_start_time": "None",
                  "sunday_end_time": "None",
                  "sunday_notes": "None",
                  "place_id": "ChIJoTW6xqwvcS4RDssFFrdac7s",
                  "added_from_system": "True",
                  "google_maps_link": "https://maps.google.com/?cid=13507239449809242894",
                  "categories": "pet_store, point_of_interest, store, establishment",
                  "_deepnote_index_column": 52
                },
                {
                  "id": "7b3c0d7b-d902-467b-ba6a-7e85dfb6ab84",
                  "claim_by": "None",
                  "created_by": "None",
                  "province_id": "f3502b89-a312-4a51-afad-64c005540214",
                  "regency_id": "a7369d7c-2cfa-45ea-b0ff-4dada6fc0097",
                  "district_id": "f5149f59-5733-4c2c-a90c-5672a3075b46",
                  "village_id": "a707715d-dc5d-49bc-826d-806941934055",
                  "username": "None",
                  "name": "Bpk ngalawi (bkl. Kambing)",
                  "latitude": -6.5265653,
                  "longitude": 110.9325467,
                  "address": "Payak Tengah RT 11 RW 04, Jetir, Karangsari",
                  "postal_code": 59157,
                  "avatar": "None",
                  "description": "None",
                  "released_at": "None",
                  "google_maps_rating": 0,
                  "created_at": "2023-06-15 22:46:33",
                  "updated_at": "None",
                  "deleted_at": "None",
                  "is_monday_open": "False",
                  "monday_start_time": "None",
                  "monday_end_time": "None",
                  "monday_notes": "None",
                  "is_tuesday_open": "False",
                  "tuesday_start_time": "None",
                  "tuesday_end_time": "None",
                  "tuesday_notes": "None",
                  "is_wednesday_open": "False",
                  "wednesday_start_time": "None",
                  "wednesday_end_time": "None",
                  "wednesday_notes": "None",
                  "is_thursday_open": "False",
                  "thursday_start_time": "None",
                  "thursday_end_time": "None",
                  "thursday_notes": "None",
                  "is_friday_open": "False",
                  "friday_start_time": "None",
                  "friday_end_time": "None",
                  "friday_notes": "None",
                  "is_saturday_open": "False",
                  "saturday_start_time": "None",
                  "saturday_end_time": "None",
                  "saturday_notes": "None",
                  "is_sunday_open": "False",
                  "sunday_start_time": "None",
                  "sunday_end_time": "None",
                  "sunday_notes": "None",
                  "place_id": "ChIJoTW6xqwvcS4RDssFFrdac7s",
                  "added_from_system": "True",
                  "google_maps_link": "https://maps.google.com/?cid=13507239449809242894",
                  "categories": "pet_store, point_of_interest, store, establishment",
                  "_deepnote_index_column": 53
                },
                {
                  "id": "7b3c0d7b-d902-467b-ba6a-7e85dfb6ab84",
                  "claim_by": "None",
                  "created_by": "None",
                  "province_id": "f3502b89-a312-4a51-afad-64c005540214",
                  "regency_id": "a7369d7c-2cfa-45ea-b0ff-4dada6fc0097",
                  "district_id": "f5149f59-5733-4c2c-a90c-5672a3075b46",
                  "village_id": "0302a93c-103f-4c19-9adb-d92a80b697d4",
                  "username": "None",
                  "name": "Bpk ngalawi (bkl. Kambing)",
                  "latitude": -6.5265653,
                  "longitude": 110.9325467,
                  "address": "Payak Tengah RT 11 RW 04, Jetir, Karangsari",
                  "postal_code": 59157,
                  "avatar": "None",
                  "description": "None",
                  "released_at": "None",
                  "google_maps_rating": 0,
                  "created_at": "2023-06-15 22:46:33",
                  "updated_at": "None",
                  "deleted_at": "None",
                  "is_monday_open": "False",
                  "monday_start_time": "None",
                  "monday_end_time": "None",
                  "monday_notes": "None",
                  "is_tuesday_open": "False",
                  "tuesday_start_time": "None",
                  "tuesday_end_time": "None",
                  "tuesday_notes": "None",
                  "is_wednesday_open": "False",
                  "wednesday_start_time": "None",
                  "wednesday_end_time": "None",
                  "wednesday_notes": "None",
                  "is_thursday_open": "False",
                  "thursday_start_time": "None",
                  "thursday_end_time": "None",
                  "thursday_notes": "None",
                  "is_friday_open": "False",
                  "friday_start_time": "None",
                  "friday_end_time": "None",
                  "friday_notes": "None",
                  "is_saturday_open": "False",
                  "saturday_start_time": "None",
                  "saturday_end_time": "None",
                  "saturday_notes": "None",
                  "is_sunday_open": "False",
                  "sunday_start_time": "None",
                  "sunday_end_time": "None",
                  "sunday_notes": "None",
                  "place_id": "ChIJoTW6xqwvcS4RDssFFrdac7s",
                  "added_from_system": "True",
                  "google_maps_link": "https://maps.google.com/?cid=13507239449809242894",
                  "categories": "pet_store, point_of_interest, store, establishment",
                  "_deepnote_index_column": 54
                },
                {
                  "id": "7b3c0d7b-d902-467b-ba6a-7e85dfb6ab84",
                  "claim_by": "None",
                  "created_by": "None",
                  "province_id": "f3502b89-a312-4a51-afad-64c005540214",
                  "regency_id": "a7369d7c-2cfa-45ea-b0ff-4dada6fc0097",
                  "district_id": "f5149f59-5733-4c2c-a90c-5672a3075b46",
                  "village_id": "7cb99992-95eb-4b0f-bbdc-456834f500b6",
                  "username": "None",
                  "name": "Bpk ngalawi (bkl. Kambing)",
                  "latitude": -6.5265653,
                  "longitude": 110.9325467,
                  "address": "Payak Tengah RT 11 RW 04, Jetir, Karangsari",
                  "postal_code": 59157,
                  "avatar": "None",
                  "description": "None",
                  "released_at": "None",
                  "google_maps_rating": 0,
                  "created_at": "2023-06-15 22:46:33",
                  "updated_at": "None",
                  "deleted_at": "None",
                  "is_monday_open": "False",
                  "monday_start_time": "None",
                  "monday_end_time": "None",
                  "monday_notes": "None",
                  "is_tuesday_open": "False",
                  "tuesday_start_time": "None",
                  "tuesday_end_time": "None",
                  "tuesday_notes": "None",
                  "is_wednesday_open": "False",
                  "wednesday_start_time": "None",
                  "wednesday_end_time": "None",
                  "wednesday_notes": "None",
                  "is_thursday_open": "False",
                  "thursday_start_time": "None",
                  "thursday_end_time": "None",
                  "thursday_notes": "None",
                  "is_friday_open": "False",
                  "friday_start_time": "None",
                  "friday_end_time": "None",
                  "friday_notes": "None",
                  "is_saturday_open": "False",
                  "saturday_start_time": "None",
                  "saturday_end_time": "None",
                  "saturday_notes": "None",
                  "is_sunday_open": "False",
                  "sunday_start_time": "None",
                  "sunday_end_time": "None",
                  "sunday_notes": "None",
                  "place_id": "ChIJoTW6xqwvcS4RDssFFrdac7s",
                  "added_from_system": "True",
                  "google_maps_link": "https://maps.google.com/?cid=13507239449809242894",
                  "categories": "pet_store, point_of_interest, store, establishment",
                  "_deepnote_index_column": 55
                },
                {
                  "id": "8a7c90db-5fad-4720-ad5d-e6fefd5c0c37",
                  "claim_by": "None",
                  "created_by": "None",
                  "province_id": "f3502b89-a312-4a51-afad-64c005540214",
                  "regency_id": "e15f9692-c4bb-4f39-8ed2-6f7ee16d8729",
                  "district_id": "3825f155-8cea-49f0-a1c8-a1893c65688e",
                  "village_id": "0d239d86-4bca-4774-8e8a-672f12532dca",
                  "username": "None",
                  "name": "Kampoeng Duren Nyos",
                  "latitude": -6.497047600000001,
                  "longitude": 110.8727792,
                  "address": "Krajan, Gelang",
                  "postal_code": 59454,
                  "avatar": "None",
                  "description": "None",
                  "released_at": "None",
                  "google_maps_rating": 4,
                  "created_at": "2023-06-15 22:46:22",
                  "updated_at": "None",
                  "deleted_at": "None",
                  "is_monday_open": "False",
                  "monday_start_time": "None",
                  "monday_end_time": "None",
                  "monday_notes": "None",
                  "is_tuesday_open": "False",
                  "tuesday_start_time": "None",
                  "tuesday_end_time": "None",
                  "tuesday_notes": "None",
                  "is_wednesday_open": "False",
                  "wednesday_start_time": "None",
                  "wednesday_end_time": "None",
                  "wednesday_notes": "None",
                  "is_thursday_open": "False",
                  "thursday_start_time": "None",
                  "thursday_end_time": "None",
                  "thursday_notes": "None",
                  "is_friday_open": "False",
                  "friday_start_time": "None",
                  "friday_end_time": "None",
                  "friday_notes": "None",
                  "is_saturday_open": "False",
                  "saturday_start_time": "None",
                  "saturday_end_time": "None",
                  "saturday_notes": "None",
                  "is_sunday_open": "False",
                  "sunday_start_time": "None",
                  "sunday_end_time": "None",
                  "sunday_notes": "None",
                  "place_id": "ChIJh1TjXRElcS4RIVmsVO2kCN8",
                  "added_from_system": "True",
                  "google_maps_link": "https://maps.google.com/?cid=16071276609506400545",
                  "categories": "cafe, food, point_of_interest, establishment",
                  "_deepnote_index_column": 56
                },
                {
                  "id": "03e09f25-4774-490a-89f5-01f6d6213bd5",
                  "claim_by": "None",
                  "created_by": "None",
                  "province_id": "f3502b89-a312-4a51-afad-64c005540214",
                  "regency_id": "cdbd1f65-14a4-41c6-bca3-cdd9fc532e15",
                  "district_id": "8234842e-3f02-45e6-8b7f-22af0e238c4f",
                  "village_id": "b57cba2f-9fee-42c9-b594-9335354ddc13",
                  "username": "None",
                  "name": "Rebana Centre Batang | Toko Jual Rebana Hadrah Terbangan Murah",
                  "latitude": -6.913736399999999,
                  "longitude": 109.7408534,
                  "address": "rt 01/12 gang masjid, Jalan Kyai Sambong, Sambong Tengah, Sambong",
                  "postal_code": 51216,
                  "avatar": "None",
                  "description": "None",
                  "released_at": "None",
                  "google_maps_rating": 4.9,
                  "created_at": "2023-06-15 22:46:23",
                  "updated_at": "None",
                  "deleted_at": "None",
                  "is_monday_open": "True",
                  "monday_start_time": "08:00",
                  "monday_end_time": "20:00",
                  "monday_notes": "None",
                  "is_tuesday_open": "True",
                  "tuesday_start_time": "08:00",
                  "tuesday_end_time": "20:00",
                  "tuesday_notes": "None",
                  "is_wednesday_open": "True",
                  "wednesday_start_time": "08:00",
                  "wednesday_end_time": "20:00",
                  "wednesday_notes": "None",
                  "is_thursday_open": "True",
                  "thursday_start_time": "08:00",
                  "thursday_end_time": "20:00",
                  "thursday_notes": "None",
                  "is_friday_open": "True",
                  "friday_start_time": "08:00",
                  "friday_end_time": "20:00",
                  "friday_notes": "None",
                  "is_saturday_open": "True",
                  "saturday_start_time": "08:00",
                  "saturday_end_time": "20:00",
                  "saturday_notes": "None",
                  "is_sunday_open": "True",
                  "sunday_start_time": "08:00",
                  "sunday_end_time": "20:00",
                  "sunday_notes": "None",
                  "place_id": "ChIJM0Bnp7wkcC4RHoNn5uxJeJo",
                  "added_from_system": "True",
                  "google_maps_link": "https://maps.google.com/?cid=11130727760872833822",
                  "categories": "electronics_store, home_goods_store, store, point_of_interest, establishment",
                  "_deepnote_index_column": 57
                },
                {
                  "id": "7b3c0d7b-d902-467b-ba6a-7e85dfb6ab84",
                  "claim_by": "None",
                  "created_by": "None",
                  "province_id": "f3502b89-a312-4a51-afad-64c005540214",
                  "regency_id": "a7369d7c-2cfa-45ea-b0ff-4dada6fc0097",
                  "district_id": "f5149f59-5733-4c2c-a90c-5672a3075b46",
                  "village_id": "bd280704-43ae-4c99-a8ea-ea5e6c1a3f33",
                  "username": "None",
                  "name": "Bpk ngalawi (bkl. Kambing)",
                  "latitude": -6.5265653,
                  "longitude": 110.9325467,
                  "address": "Payak Tengah RT 11 RW 04, Jetir, Karangsari",
                  "postal_code": 59157,
                  "avatar": "None",
                  "description": "None",
                  "released_at": "None",
                  "google_maps_rating": 0,
                  "created_at": "2023-06-15 22:46:33",
                  "updated_at": "None",
                  "deleted_at": "None",
                  "is_monday_open": "False",
                  "monday_start_time": "None",
                  "monday_end_time": "None",
                  "monday_notes": "None",
                  "is_tuesday_open": "False",
                  "tuesday_start_time": "None",
                  "tuesday_end_time": "None",
                  "tuesday_notes": "None",
                  "is_wednesday_open": "False",
                  "wednesday_start_time": "None",
                  "wednesday_end_time": "None",
                  "wednesday_notes": "None",
                  "is_thursday_open": "False",
                  "thursday_start_time": "None",
                  "thursday_end_time": "None",
                  "thursday_notes": "None",
                  "is_friday_open": "False",
                  "friday_start_time": "None",
                  "friday_end_time": "None",
                  "friday_notes": "None",
                  "is_saturday_open": "False",
                  "saturday_start_time": "None",
                  "saturday_end_time": "None",
                  "saturday_notes": "None",
                  "is_sunday_open": "False",
                  "sunday_start_time": "None",
                  "sunday_end_time": "None",
                  "sunday_notes": "None",
                  "place_id": "ChIJoTW6xqwvcS4RDssFFrdac7s",
                  "added_from_system": "True",
                  "google_maps_link": "https://maps.google.com/?cid=13507239449809242894",
                  "categories": "pet_store, point_of_interest, store, establishment",
                  "_deepnote_index_column": 58
                },
                {
                  "id": "ac8f8b06-882d-4be7-83fc-980ec73a977c",
                  "claim_by": "None",
                  "created_by": "None",
                  "province_id": "f3502b89-a312-4a51-afad-64c005540214",
                  "regency_id": "e15f9692-c4bb-4f39-8ed2-6f7ee16d8729",
                  "district_id": "3825f155-8cea-49f0-a1c8-a1893c65688e",
                  "village_id": "ab0d02e7-6527-4bb8-a352-641f04b18759",
                  "username": "None",
                  "name": "INDUT BAKERY CATERING",
                  "latitude": -6.4855667,
                  "longitude": 110.8830901,
                  "address": "GV7M+Q6G, RT.04/RW.02, Krajan, Jlegong",
                  "postal_code": 59454,
                  "avatar": "None",
                  "description": "None",
                  "released_at": "None",
                  "google_maps_rating": 5,
                  "created_at": "2023-06-15 22:46:35",
                  "updated_at": "None",
                  "deleted_at": "None",
                  "is_monday_open": "True",
                  "monday_start_time": "08:00",
                  "monday_end_time": "04:00",
                  "monday_notes": "None",
                  "is_tuesday_open": "True",
                  "tuesday_start_time": "08:00",
                  "tuesday_end_time": "04:00",
                  "tuesday_notes": "None",
                  "is_wednesday_open": "True",
                  "wednesday_start_time": "08:00",
                  "wednesday_end_time": "04:00",
                  "wednesday_notes": "None",
                  "is_thursday_open": "True",
                  "thursday_start_time": "08:00",
                  "thursday_end_time": "04:00",
                  "thursday_notes": "None",
                  "is_friday_open": "True",
                  "friday_start_time": "08:00",
                  "friday_end_time": "04:00",
                  "friday_notes": "None",
                  "is_saturday_open": "True",
                  "saturday_start_time": "08:00",
                  "saturday_end_time": "04:00",
                  "saturday_notes": "None",
                  "is_sunday_open": "True",
                  "sunday_start_time": "08:00",
                  "sunday_end_time": "04:00",
                  "sunday_notes": "None",
                  "place_id": "ChIJdUzIEQklcS4RYvuh25cdNAo",
                  "added_from_system": "True",
                  "google_maps_link": "https://maps.google.com/?cid=735245177230326626",
                  "categories": "bakery, food, store, point_of_interest, establishment",
                  "_deepnote_index_column": 59
                },
                {
                  "id": "7b3c0d7b-d902-467b-ba6a-7e85dfb6ab84",
                  "claim_by": "None",
                  "created_by": "None",
                  "province_id": "f3502b89-a312-4a51-afad-64c005540214",
                  "regency_id": "a7369d7c-2cfa-45ea-b0ff-4dada6fc0097",
                  "district_id": "f5149f59-5733-4c2c-a90c-5672a3075b46",
                  "village_id": "f5469624-8b17-4f68-b448-53e35ba8eebb",
                  "username": "None",
                  "name": "Bpk ngalawi (bkl. Kambing)",
                  "latitude": -6.5265653,
                  "longitude": 110.9325467,
                  "address": "Payak Tengah RT 11 RW 04, Jetir, Karangsari",
                  "postal_code": 59157,
                  "avatar": "None",
                  "description": "None",
                  "released_at": "None",
                  "google_maps_rating": 0,
                  "created_at": "2023-06-15 22:46:33",
                  "updated_at": "None",
                  "deleted_at": "None",
                  "is_monday_open": "False",
                  "monday_start_time": "None",
                  "monday_end_time": "None",
                  "monday_notes": "None",
                  "is_tuesday_open": "False",
                  "tuesday_start_time": "None",
                  "tuesday_end_time": "None",
                  "tuesday_notes": "None",
                  "is_wednesday_open": "False",
                  "wednesday_start_time": "None",
                  "wednesday_end_time": "None",
                  "wednesday_notes": "None",
                  "is_thursday_open": "False",
                  "thursday_start_time": "None",
                  "thursday_end_time": "None",
                  "thursday_notes": "None",
                  "is_friday_open": "False",
                  "friday_start_time": "None",
                  "friday_end_time": "None",
                  "friday_notes": "None",
                  "is_saturday_open": "False",
                  "saturday_start_time": "None",
                  "saturday_end_time": "None",
                  "saturday_notes": "None",
                  "is_sunday_open": "False",
                  "sunday_start_time": "None",
                  "sunday_end_time": "None",
                  "sunday_notes": "None",
                  "place_id": "ChIJoTW6xqwvcS4RDssFFrdac7s",
                  "added_from_system": "True",
                  "google_maps_link": "https://maps.google.com/?cid=13507239449809242894",
                  "categories": "pet_store, point_of_interest, store, establishment",
                  "_deepnote_index_column": 60
                },
                {
                  "id": "7b3c0d7b-d902-467b-ba6a-7e85dfb6ab84",
                  "claim_by": "None",
                  "created_by": "None",
                  "province_id": "f3502b89-a312-4a51-afad-64c005540214",
                  "regency_id": "a7369d7c-2cfa-45ea-b0ff-4dada6fc0097",
                  "district_id": "f5149f59-5733-4c2c-a90c-5672a3075b46",
                  "village_id": "93e6d07b-fbae-4987-a8f5-1d14f7b26d6c",
                  "username": "None",
                  "name": "Bpk ngalawi (bkl. Kambing)",
                  "latitude": -6.5265653,
                  "longitude": 110.9325467,
                  "address": "Payak Tengah RT 11 RW 04, Jetir, Karangsari",
                  "postal_code": 59157,
                  "avatar": "None",
                  "description": "None",
                  "released_at": "None",
                  "google_maps_rating": 0,
                  "created_at": "2023-06-15 22:46:33",
                  "updated_at": "None",
                  "deleted_at": "None",
                  "is_monday_open": "False",
                  "monday_start_time": "None",
                  "monday_end_time": "None",
                  "monday_notes": "None",
                  "is_tuesday_open": "False",
                  "tuesday_start_time": "None",
                  "tuesday_end_time": "None",
                  "tuesday_notes": "None",
                  "is_wednesday_open": "False",
                  "wednesday_start_time": "None",
                  "wednesday_end_time": "None",
                  "wednesday_notes": "None",
                  "is_thursday_open": "False",
                  "thursday_start_time": "None",
                  "thursday_end_time": "None",
                  "thursday_notes": "None",
                  "is_friday_open": "False",
                  "friday_start_time": "None",
                  "friday_end_time": "None",
                  "friday_notes": "None",
                  "is_saturday_open": "False",
                  "saturday_start_time": "None",
                  "saturday_end_time": "None",
                  "saturday_notes": "None",
                  "is_sunday_open": "False",
                  "sunday_start_time": "None",
                  "sunday_end_time": "None",
                  "sunday_notes": "None",
                  "place_id": "ChIJoTW6xqwvcS4RDssFFrdac7s",
                  "added_from_system": "True",
                  "google_maps_link": "https://maps.google.com/?cid=13507239449809242894",
                  "categories": "pet_store, point_of_interest, store, establishment",
                  "_deepnote_index_column": 61
                },
                {
                  "id": "28af6bfd-3e3e-44b0-b41c-54dc4e7dbee8",
                  "claim_by": "None",
                  "created_by": "None",
                  "province_id": "f3502b89-a312-4a51-afad-64c005540214",
                  "regency_id": "e15f9692-c4bb-4f39-8ed2-6f7ee16d8729",
                  "district_id": "385a5a58-1c1f-44a4-948b-4ed912a4fe8d",
                  "village_id": "f8553d1a-4d60-44b3-9111-dbc9721bef88",
                  "username": "None",
                  "name": "ayam bangkok jepara",
                  "latitude": -6.593909099999999,
                  "longitude": 110.684974,
                  "address": "CM4M+CXQ, Jalan RMP. Sosrokartono, Grombongan, Kecapi",
                  "postal_code": 59429,
                  "avatar": "None",
                  "description": "None",
                  "released_at": "None",
                  "google_maps_rating": 5,
                  "created_at": "2023-06-15 22:46:33",
                  "updated_at": "None",
                  "deleted_at": "None",
                  "is_monday_open": "False",
                  "monday_start_time": "None",
                  "monday_end_time": "None",
                  "monday_notes": "None",
                  "is_tuesday_open": "False",
                  "tuesday_start_time": "None",
                  "tuesday_end_time": "None",
                  "tuesday_notes": "None",
                  "is_wednesday_open": "False",
                  "wednesday_start_time": "None",
                  "wednesday_end_time": "None",
                  "wednesday_notes": "None",
                  "is_thursday_open": "False",
                  "thursday_start_time": "None",
                  "thursday_end_time": "None",
                  "thursday_notes": "None",
                  "is_friday_open": "False",
                  "friday_start_time": "None",
                  "friday_end_time": "None",
                  "friday_notes": "None",
                  "is_saturday_open": "False",
                  "saturday_start_time": "None",
                  "saturday_end_time": "None",
                  "saturday_notes": "None",
                  "is_sunday_open": "False",
                  "sunday_start_time": "None",
                  "sunday_end_time": "None",
                  "sunday_notes": "None",
                  "place_id": "ChIJ69hQewwfcS4Rt6kyQn36tb0",
                  "added_from_system": "True",
                  "google_maps_link": "https://maps.google.com/?cid=13670107659841481143",
                  "categories": "pet_store, point_of_interest, store, establishment",
                  "_deepnote_index_column": 62
                },
                {
                  "id": "ba479f27-f7d6-423a-8836-4412a1a0caa1",
                  "claim_by": "None",
                  "created_by": "None",
                  "province_id": "ece42b5b-932f-421d-88e9-91d632e58f73",
                  "regency_id": "6e06f696-e9ca-4e41-bdc3-4b4bdd1a1550",
                  "district_id": "f1966882-a72c-4aaa-8628-079a3cb8224b",
                  "village_id": "0a196700-7f45-49b9-92a9-7500e602b6f8",
                  "username": "None",
                  "name": "Rumah Makan Bu Etik",
                  "latitude": -7.783816899999998,
                  "longitude": 110.3762159,
                  "address": "Jalan Jendral Sudirman No.70, Kotabaru",
                  "postal_code": 55224,
                  "avatar": "None",
                  "description": "None",
                  "released_at": "None",
                  "google_maps_rating": 3.3,
                  "created_at": "2023-06-15 22:46:24",
                  "updated_at": "None",
                  "deleted_at": "None",
                  "is_monday_open": "True",
                  "monday_start_time": "07:00",
                  "monday_end_time": "19:00",
                  "monday_notes": "None",
                  "is_tuesday_open": "True",
                  "tuesday_start_time": "07:00",
                  "tuesday_end_time": "19:00",
                  "tuesday_notes": "None",
                  "is_wednesday_open": "True",
                  "wednesday_start_time": "07:00",
                  "wednesday_end_time": "19:00",
                  "wednesday_notes": "None",
                  "is_thursday_open": "True",
                  "thursday_start_time": "07:00",
                  "thursday_end_time": "19:00",
                  "thursday_notes": "None",
                  "is_friday_open": "True",
                  "friday_start_time": "07:00",
                  "friday_end_time": "19:00",
                  "friday_notes": "None",
                  "is_saturday_open": "True",
                  "saturday_start_time": "07:00",
                  "saturday_end_time": "19:00",
                  "saturday_notes": "None",
                  "is_sunday_open": "True",
                  "sunday_start_time": "07:00",
                  "sunday_end_time": "19:00",
                  "sunday_notes": "None",
                  "place_id": "ChIJ_Qe_6DJYei4RFjtFcoYHic0",
                  "added_from_system": "True",
                  "google_maps_link": "https://maps.google.com/?cid=14810377123608738582",
                  "categories": "meal_takeaway, restaurant, food, point_of_interest, establishment",
                  "_deepnote_index_column": 63
                },
                {
                  "id": "63501089-b8a5-4ca6-a0cf-7b60cca494d7",
                  "claim_by": "None",
                  "created_by": "None",
                  "province_id": "bfe06315-c043-4c34-a77d-d8d365b2777b",
                  "regency_id": "9b8e9781-5951-4fa7-b4a0-94990c7d5b65",
                  "district_id": "089c76ce-e389-44bf-acdc-a680f649914d",
                  "village_id": "4ec34b55-8a0e-4708-a0d5-a2b49cc90f2a",
                  "username": "None",
                  "name": "Toko Slamet Shoes",
                  "latitude": -7.0005074,
                  "longitude": 113.8721008,
                  "address": "XVXC+QRX, Jalan Raya Gapura, Paranggan, Bangkal",
                  "postal_code": 69417,
                  "avatar": "None",
                  "description": "None",
                  "released_at": "None",
                  "google_maps_rating": 0,
                  "created_at": "2023-06-15 22:46:32",
                  "updated_at": "None",
                  "deleted_at": "None",
                  "is_monday_open": "None",
                  "monday_start_time": "None",
                  "monday_end_time": "None",
                  "monday_notes": "None",
                  "is_tuesday_open": "None",
                  "tuesday_start_time": "None",
                  "tuesday_end_time": "None",
                  "tuesday_notes": "None",
                  "is_wednesday_open": "None",
                  "wednesday_start_time": "None",
                  "wednesday_end_time": "None",
                  "wednesday_notes": "None",
                  "is_thursday_open": "None",
                  "thursday_start_time": "None",
                  "thursday_end_time": "None",
                  "thursday_notes": "None",
                  "is_friday_open": "None",
                  "friday_start_time": "None",
                  "friday_end_time": "None",
                  "friday_notes": "None",
                  "is_saturday_open": "None",
                  "saturday_start_time": "None",
                  "saturday_end_time": "None",
                  "saturday_notes": "None",
                  "is_sunday_open": "None",
                  "sunday_start_time": "None",
                  "sunday_end_time": "None",
                  "sunday_notes": "None",
                  "place_id": "ChIJG8hdas7l2S0RnrGRUU73UZ8",
                  "added_from_system": "True",
                  "google_maps_link": "https://maps.google.com/?cid=11480228840892117406",
                  "categories": "shoe_store, point_of_interest, store, establishment",
                  "_deepnote_index_column": 64
                },
                {
                  "id": "c56da6ae-7710-40fe-818d-90ae47dd26ab",
                  "claim_by": "None",
                  "created_by": "None",
                  "province_id": "f3502b89-a312-4a51-afad-64c005540214",
                  "regency_id": "e15f9692-c4bb-4f39-8ed2-6f7ee16d8729",
                  "district_id": "3825f155-8cea-49f0-a1c8-a1893c65688e",
                  "village_id": "0d239d86-4bca-4774-8e8a-672f12532dca",
                  "username": "None",
                  "name": "pizza ,burger dan brownies elli",
                  "latitude": -6.4972742,
                  "longitude": 110.8768642,
                  "address": "Soka, Gelang",
                  "postal_code": 59454,
                  "avatar": "None",
                  "description": "None",
                  "released_at": "None",
                  "google_maps_rating": 5,
                  "created_at": "2023-06-15 22:46:32",
                  "updated_at": "None",
                  "deleted_at": "None",
                  "is_monday_open": "True",
                  "monday_start_time": "09:00",
                  "monday_end_time": "16:00",
                  "monday_notes": "None",
                  "is_tuesday_open": "True",
                  "tuesday_start_time": "09:00",
                  "tuesday_end_time": "16:00",
                  "tuesday_notes": "None",
                  "is_wednesday_open": "True",
                  "wednesday_start_time": "09:00",
                  "wednesday_end_time": "16:00",
                  "wednesday_notes": "None",
                  "is_thursday_open": "True",
                  "thursday_start_time": "09:00",
                  "thursday_end_time": "16:00",
                  "thursday_notes": "None",
                  "is_friday_open": "True",
                  "friday_start_time": "09:00",
                  "friday_end_time": "16:00",
                  "friday_notes": "None",
                  "is_saturday_open": "True",
                  "saturday_start_time": "09:00",
                  "saturday_end_time": "16:00",
                  "saturday_notes": "None",
                  "is_sunday_open": "True",
                  "sunday_start_time": "09:00",
                  "sunday_end_time": "16:00",
                  "sunday_notes": "None",
                  "place_id": "ChIJ_yMjuMQlcS4R6Hv_Ho9IEk4",
                  "added_from_system": "True",
                  "google_maps_link": "https://maps.google.com/?cid=5625638664076753896",
                  "categories": "bakery, food, store, point_of_interest, establishment",
                  "_deepnote_index_column": 65
                },
                {
                  "id": "9ac280ba-f97a-41ff-a4d9-416a3e7f4be1",
                  "claim_by": "None",
                  "created_by": "None",
                  "province_id": "f3502b89-a312-4a51-afad-64c005540214",
                  "regency_id": "cdbd1f65-14a4-41c6-bca3-cdd9fc532e15",
                  "district_id": "8234842e-3f02-45e6-8b7f-22af0e238c4f",
                  "village_id": "b57cba2f-9fee-42c9-b594-9335354ddc13",
                  "username": "None",
                  "name": "RAF SHOES",
                  "latitude": -6.9184894,
                  "longitude": 109.7407569,
                  "address": "3PJR+J82, Gang Daratan Putri 2, Wirosari, Sambong",
                  "postal_code": 51216,
                  "avatar": "None",
                  "description": "None",
                  "released_at": "None",
                  "google_maps_rating": 4.8,
                  "created_at": "2023-06-15 22:46:28",
                  "updated_at": "None",
                  "deleted_at": "None",
                  "is_monday_open": "None",
                  "monday_start_time": "None",
                  "monday_end_time": "None",
                  "monday_notes": "None",
                  "is_tuesday_open": "None",
                  "tuesday_start_time": "None",
                  "tuesday_end_time": "None",
                  "tuesday_notes": "None",
                  "is_wednesday_open": "None",
                  "wednesday_start_time": "None",
                  "wednesday_end_time": "None",
                  "wednesday_notes": "None",
                  "is_thursday_open": "None",
                  "thursday_start_time": "None",
                  "thursday_end_time": "None",
                  "thursday_notes": "None",
                  "is_friday_open": "None",
                  "friday_start_time": "None",
                  "friday_end_time": "None",
                  "friday_notes": "None",
                  "is_saturday_open": "None",
                  "saturday_start_time": "None",
                  "saturday_end_time": "None",
                  "saturday_notes": "None",
                  "is_sunday_open": "None",
                  "sunday_start_time": "None",
                  "sunday_end_time": "None",
                  "sunday_notes": "None",
                  "place_id": "ChIJIZ6E-6MkcC4RzO0KG-Q4kz4",
                  "added_from_system": "True",
                  "google_maps_link": "https://maps.google.com/?cid=4509010204285398476",
                  "categories": "shoe_store, store, point_of_interest, establishment",
                  "_deepnote_index_column": 66
                },
                {
                  "id": "f22b9092-90b6-460a-9fc8-8590dd6dec9b",
                  "claim_by": "None",
                  "created_by": "None",
                  "province_id": "f3502b89-a312-4a51-afad-64c005540214",
                  "regency_id": "e15f9692-c4bb-4f39-8ed2-6f7ee16d8729",
                  "district_id": "3825f155-8cea-49f0-a1c8-a1893c65688e",
                  "village_id": "ab0d02e7-6527-4bb8-a352-641f04b18759",
                  "username": "None",
                  "name": "BUMDES MART - JLEGONG",
                  "latitude": -6.480905799999999,
                  "longitude": 110.8800534,
                  "address": "GV9J+J2M, Bintingan, Jlegong",
                  "postal_code": 59454,
                  "avatar": "None",
                  "description": "None",
                  "released_at": "None",
                  "google_maps_rating": 5,
                  "created_at": "2023-06-15 22:46:36",
                  "updated_at": "None",
                  "deleted_at": "None",
                  "is_monday_open": "None",
                  "monday_start_time": "None",
                  "monday_end_time": "None",
                  "monday_notes": "None",
                  "is_tuesday_open": "None",
                  "tuesday_start_time": "None",
                  "tuesday_end_time": "None",
                  "tuesday_notes": "None",
                  "is_wednesday_open": "None",
                  "wednesday_start_time": "None",
                  "wednesday_end_time": "None",
                  "wednesday_notes": "None",
                  "is_thursday_open": "None",
                  "thursday_start_time": "None",
                  "thursday_end_time": "None",
                  "thursday_notes": "None",
                  "is_friday_open": "None",
                  "friday_start_time": "None",
                  "friday_end_time": "None",
                  "friday_notes": "None",
                  "is_saturday_open": "None",
                  "saturday_start_time": "None",
                  "saturday_end_time": "None",
                  "saturday_notes": "None",
                  "is_sunday_open": "None",
                  "sunday_start_time": "None",
                  "sunday_end_time": "None",
                  "sunday_notes": "None",
                  "place_id": "ChIJVSm3aOElcS4RYEn0J0sXOsQ",
                  "added_from_system": "True",
                  "google_maps_link": "https://maps.google.com/?cid=14139639591643400544",
                  "categories": "convenience_store, store, food, point_of_interest, establishment",
                  "_deepnote_index_column": 67
                },
                {
                  "id": "d501e9f4-9c7e-4332-9ecc-584f1133f78e",
                  "claim_by": "None",
                  "created_by": "None",
                  "province_id": "ece42b5b-932f-421d-88e9-91d632e58f73",
                  "regency_id": "6e06f696-e9ca-4e41-bdc3-4b4bdd1a1550",
                  "district_id": "f1966882-a72c-4aaa-8628-079a3cb8224b",
                  "village_id": "0a196700-7f45-49b9-92a9-7500e602b6f8",
                  "username": "None",
                  "name": "Simetri Coffee Roaster",
                  "latitude": -7.784343999999999,
                  "longitude": 110.3740934,
                  "address": "Jalan Sabirin No.20, Kotabaru",
                  "postal_code": 55224,
                  "avatar": "None",
                  "description": "None",
                  "released_at": "None",
                  "google_maps_rating": 4.6,
                  "created_at": "2023-06-15 22:46:24",
                  "updated_at": "None",
                  "deleted_at": "None",
                  "is_monday_open": "True",
                  "monday_start_time": "09:00",
                  "monday_end_time": "23:00",
                  "monday_notes": "None",
                  "is_tuesday_open": "True",
                  "tuesday_start_time": "09:00",
                  "tuesday_end_time": "23:00",
                  "tuesday_notes": "None",
                  "is_wednesday_open": "True",
                  "wednesday_start_time": "09:00",
                  "wednesday_end_time": "23:00",
                  "wednesday_notes": "None",
                  "is_thursday_open": "True",
                  "thursday_start_time": "09:00",
                  "thursday_end_time": "23:00",
                  "thursday_notes": "None",
                  "is_friday_open": "True",
                  "friday_start_time": "09:00",
                  "friday_end_time": "23:00",
                  "friday_notes": "None",
                  "is_saturday_open": "True",
                  "saturday_start_time": "09:00",
                  "saturday_end_time": "23:00",
                  "saturday_notes": "None",
                  "is_sunday_open": "True",
                  "sunday_start_time": "09:00",
                  "sunday_end_time": "23:00",
                  "sunday_notes": "None",
                  "place_id": "ChIJazZHGDJYei4RHo5AP0qXHC0",
                  "added_from_system": "True",
                  "google_maps_link": "https://maps.google.com/?cid=3250639376199224862",
                  "categories": "cafe, store, food, point_of_interest, establishment",
                  "_deepnote_index_column": 68
                },
                {
                  "id": "4536cac9-bb80-4f85-ae58-e91d9a055774",
                  "claim_by": "None",
                  "created_by": "None",
                  "province_id": "f3502b89-a312-4a51-afad-64c005540214",
                  "regency_id": "e15f9692-c4bb-4f39-8ed2-6f7ee16d8729",
                  "district_id": "3825f155-8cea-49f0-a1c8-a1893c65688e",
                  "village_id": "0d239d86-4bca-4774-8e8a-672f12532dca",
                  "username": "None",
                  "name": "Cadal",
                  "latitude": -6.500405499999999,
                  "longitude": 110.8729205,
                  "address": "FVXF+R5M, Jalan Raya, Soka, Gelang",
                  "postal_code": 59454,
                  "avatar": "None",
                  "description": "None",
                  "released_at": "None",
                  "google_maps_rating": 0,
                  "created_at": "2023-06-15 22:46:34",
                  "updated_at": "None",
                  "deleted_at": "None",
                  "is_monday_open": "None",
                  "monday_start_time": "None",
                  "monday_end_time": "None",
                  "monday_notes": "None",
                  "is_tuesday_open": "None",
                  "tuesday_start_time": "None",
                  "tuesday_end_time": "None",
                  "tuesday_notes": "None",
                  "is_wednesday_open": "None",
                  "wednesday_start_time": "None",
                  "wednesday_end_time": "None",
                  "wednesday_notes": "None",
                  "is_thursday_open": "None",
                  "thursday_start_time": "None",
                  "thursday_end_time": "None",
                  "thursday_notes": "None",
                  "is_friday_open": "None",
                  "friday_start_time": "None",
                  "friday_end_time": "None",
                  "friday_notes": "None",
                  "is_saturday_open": "None",
                  "saturday_start_time": "None",
                  "saturday_end_time": "None",
                  "saturday_notes": "None",
                  "is_sunday_open": "None",
                  "sunday_start_time": "None",
                  "sunday_end_time": "None",
                  "sunday_notes": "None",
                  "place_id": "ChIJV4aebo4lcS4R_LqPgY6f_sg",
                  "added_from_system": "True",
                  "google_maps_link": "https://maps.google.com/?cid=14483188886077946620",
                  "categories": "laundry, point_of_interest, establishment",
                  "_deepnote_index_column": 69
                },
                {
                  "id": "5f284f4d-eb70-4b00-be25-e3b4a295b798",
                  "claim_by": "None",
                  "created_by": "None",
                  "province_id": "f3502b89-a312-4a51-afad-64c005540214",
                  "regency_id": "cdbd1f65-14a4-41c6-bca3-cdd9fc532e15",
                  "district_id": "8234842e-3f02-45e6-8b7f-22af0e238c4f",
                  "village_id": "b57cba2f-9fee-42c9-b594-9335354ddc13",
                  "username": "None",
                  "name": "AERO Seller",
                  "latitude": -6.9185218,
                  "longitude": 109.740523,
                  "address": "Jalan Kyai Sambong RT.2/RW.3, Wirosari, Sambong",
                  "postal_code": 51212,
                  "avatar": "None",
                  "description": "None",
                  "released_at": "None",
                  "google_maps_rating": 0,
                  "created_at": "2023-06-15 22:46:32",
                  "updated_at": "None",
                  "deleted_at": "None",
                  "is_monday_open": "True",
                  "monday_start_time": "09:00",
                  "monday_end_time": "20:00",
                  "monday_notes": "None",
                  "is_tuesday_open": "True",
                  "tuesday_start_time": "09:00",
                  "tuesday_end_time": "20:00",
                  "tuesday_notes": "None",
                  "is_wednesday_open": "True",
                  "wednesday_start_time": "09:00",
                  "wednesday_end_time": "20:00",
                  "wednesday_notes": "None",
                  "is_thursday_open": "True",
                  "thursday_start_time": "09:00",
                  "thursday_end_time": "20:00",
                  "thursday_notes": "None",
                  "is_friday_open": "True",
                  "friday_start_time": "09:00",
                  "friday_end_time": "20:00",
                  "friday_notes": "None",
                  "is_saturday_open": "True",
                  "saturday_start_time": "09:00",
                  "saturday_end_time": "20:00",
                  "saturday_notes": "None",
                  "is_sunday_open": "True",
                  "sunday_start_time": "09:00",
                  "sunday_end_time": "20:00",
                  "sunday_notes": "None",
                  "place_id": "ChIJB2OcWEAlcC4RapZmLC21cp8",
                  "added_from_system": "True",
                  "google_maps_link": "https://maps.google.com/?cid=11489444804998633066",
                  "categories": "shoe_store, store, point_of_interest, establishment",
                  "_deepnote_index_column": 70
                },
                {
                  "id": "e30efa7a-7a63-47a0-8264-29eed983d95a",
                  "claim_by": "None",
                  "created_by": "None",
                  "province_id": "ece42b5b-932f-421d-88e9-91d632e58f73",
                  "regency_id": "6e06f696-e9ca-4e41-bdc3-4b4bdd1a1550",
                  "district_id": "f1966882-a72c-4aaa-8628-079a3cb8224b",
                  "village_id": "0a196700-7f45-49b9-92a9-7500e602b6f8",
                  "username": "None",
                  "name": "Jogja Dragon Fish",
                  "latitude": -7.784938800000001,
                  "longitude": 110.3741755,
                  "address": "Jalan Supadi No.23, Kotabaru",
                  "postal_code": 55224,
                  "avatar": "None",
                  "description": "None",
                  "released_at": "None",
                  "google_maps_rating": 4.3,
                  "created_at": "2023-06-15 22:46:25",
                  "updated_at": "None",
                  "deleted_at": "None",
                  "is_monday_open": "True",
                  "monday_start_time": "09:00",
                  "monday_end_time": "17:00",
                  "monday_notes": "None",
                  "is_tuesday_open": "True",
                  "tuesday_start_time": "09:00",
                  "tuesday_end_time": "17:00",
                  "tuesday_notes": "None",
                  "is_wednesday_open": "True",
                  "wednesday_start_time": "09:00",
                  "wednesday_end_time": "17:00",
                  "wednesday_notes": "None",
                  "is_thursday_open": "True",
                  "thursday_start_time": "09:00",
                  "thursday_end_time": "17:00",
                  "thursday_notes": "None",
                  "is_friday_open": "True",
                  "friday_start_time": "09:00",
                  "friday_end_time": "17:00",
                  "friday_notes": "None",
                  "is_saturday_open": "True",
                  "saturday_start_time": "09:00",
                  "saturday_end_time": "17:00",
                  "saturday_notes": "None",
                  "is_sunday_open": "True",
                  "sunday_start_time": "09:00",
                  "sunday_end_time": "17:00",
                  "sunday_notes": "None",
                  "place_id": "ChIJt_NqczJYei4Rd9cSAsg2X3w",
                  "added_from_system": "True",
                  "google_maps_link": "https://maps.google.com/?cid=8961942016146724727",
                  "categories": "pet_store, store, point_of_interest, establishment",
                  "_deepnote_index_column": 71
                },
                {
                  "id": "a9c83c5d-ace9-4660-b519-de3763dbbcd5",
                  "claim_by": "None",
                  "created_by": "None",
                  "province_id": "f3502b89-a312-4a51-afad-64c005540214",
                  "regency_id": "e15f9692-c4bb-4f39-8ed2-6f7ee16d8729",
                  "district_id": "3825f155-8cea-49f0-a1c8-a1893c65688e",
                  "village_id": "0d239d86-4bca-4774-8e8a-672f12532dca",
                  "username": "None",
                  "name": "Selep Padi Kranji",
                  "latitude": -6.4887433,
                  "longitude": 110.8685117,
                  "address": "GV69+GC2, Unnamed Road, Watu Bangka, Gelang",
                  "postal_code": 59454,
                  "avatar": "None",
                  "description": "None",
                  "released_at": "None",
                  "google_maps_rating": 0,
                  "created_at": "2023-06-15 22:46:35",
                  "updated_at": "None",
                  "deleted_at": "None",
                  "is_monday_open": "None",
                  "monday_start_time": "None",
                  "monday_end_time": "None",
                  "monday_notes": "None",
                  "is_tuesday_open": "None",
                  "tuesday_start_time": "None",
                  "tuesday_end_time": "None",
                  "tuesday_notes": "None",
                  "is_wednesday_open": "None",
                  "wednesday_start_time": "None",
                  "wednesday_end_time": "None",
                  "wednesday_notes": "None",
                  "is_thursday_open": "None",
                  "thursday_start_time": "None",
                  "thursday_end_time": "None",
                  "thursday_notes": "None",
                  "is_friday_open": "None",
                  "friday_start_time": "None",
                  "friday_end_time": "None",
                  "friday_notes": "None",
                  "is_saturday_open": "None",
                  "saturday_start_time": "None",
                  "saturday_end_time": "None",
                  "saturday_notes": "None",
                  "is_sunday_open": "None",
                  "sunday_start_time": "None",
                  "sunday_end_time": "None",
                  "sunday_notes": "None",
                  "place_id": "ChIJ8YirJyAlcS4RiBG8fIw3N4E",
                  "added_from_system": "True",
                  "google_maps_link": "https://maps.google.com/?cid=9310971831139438984",
                  "categories": "laundry, point_of_interest, establishment",
                  "_deepnote_index_column": 72
                },
                {
                  "id": "03e09f25-4774-490a-89f5-01f6d6213bd5",
                  "claim_by": "None",
                  "created_by": "None",
                  "province_id": "f3502b89-a312-4a51-afad-64c005540214",
                  "regency_id": "cdbd1f65-14a4-41c6-bca3-cdd9fc532e15",
                  "district_id": "a1bc7ef8-8cd2-4f63-bf0b-86bc05172b46",
                  "village_id": "b57cba2f-9fee-42c9-b594-9335354ddc13",
                  "username": "None",
                  "name": "Rebana Centre Batang | Toko Jual Rebana Hadrah Terbangan Murah",
                  "latitude": -6.913736399999999,
                  "longitude": 109.7408534,
                  "address": "rt 01/12 gang masjid, Jalan Kyai Sambong, Sambong Tengah, Sambong",
                  "postal_code": 51216,
                  "avatar": "None",
                  "description": "None",
                  "released_at": "None",
                  "google_maps_rating": 4.9,
                  "created_at": "2023-06-15 22:46:23",
                  "updated_at": "None",
                  "deleted_at": "None",
                  "is_monday_open": "True",
                  "monday_start_time": "08:00",
                  "monday_end_time": "20:00",
                  "monday_notes": "None",
                  "is_tuesday_open": "True",
                  "tuesday_start_time": "08:00",
                  "tuesday_end_time": "20:00",
                  "tuesday_notes": "None",
                  "is_wednesday_open": "True",
                  "wednesday_start_time": "08:00",
                  "wednesday_end_time": "20:00",
                  "wednesday_notes": "None",
                  "is_thursday_open": "True",
                  "thursday_start_time": "08:00",
                  "thursday_end_time": "20:00",
                  "thursday_notes": "None",
                  "is_friday_open": "True",
                  "friday_start_time": "08:00",
                  "friday_end_time": "20:00",
                  "friday_notes": "None",
                  "is_saturday_open": "True",
                  "saturday_start_time": "08:00",
                  "saturday_end_time": "20:00",
                  "saturday_notes": "None",
                  "is_sunday_open": "True",
                  "sunday_start_time": "08:00",
                  "sunday_end_time": "20:00",
                  "sunday_notes": "None",
                  "place_id": "ChIJM0Bnp7wkcC4RHoNn5uxJeJo",
                  "added_from_system": "True",
                  "google_maps_link": "https://maps.google.com/?cid=11130727760872833822",
                  "categories": "electronics_store, home_goods_store, store, point_of_interest, establishment",
                  "_deepnote_index_column": 73
                },
                {
                  "id": "5dbdb015-ad41-465d-9913-9bc357330e24",
                  "claim_by": "None",
                  "created_by": "None",
                  "province_id": "ece42b5b-932f-421d-88e9-91d632e58f73",
                  "regency_id": "6e06f696-e9ca-4e41-bdc3-4b4bdd1a1550",
                  "district_id": "f1966882-a72c-4aaa-8628-079a3cb8224b",
                  "village_id": "0a196700-7f45-49b9-92a9-7500e602b6f8",
                  "username": "None",
                  "name": "Clabycla",
                  "latitude": -7.785188899999998,
                  "longitude": 110.3760548,
                  "address": "Jalan Sareh No.5, Kotabaru",
                  "postal_code": 55224,
                  "avatar": "None",
                  "description": "None",
                  "released_at": "None",
                  "google_maps_rating": 4.7,
                  "created_at": "2023-06-15 22:46:25",
                  "updated_at": "None",
                  "deleted_at": "None",
                  "is_monday_open": "True",
                  "monday_start_time": "09:00",
                  "monday_end_time": "21:00",
                  "monday_notes": "None",
                  "is_tuesday_open": "True",
                  "tuesday_start_time": "09:00",
                  "tuesday_end_time": "21:00",
                  "tuesday_notes": "None",
                  "is_wednesday_open": "True",
                  "wednesday_start_time": "09:00",
                  "wednesday_end_time": "21:00",
                  "wednesday_notes": "None",
                  "is_thursday_open": "True",
                  "thursday_start_time": "09:00",
                  "thursday_end_time": "21:00",
                  "thursday_notes": "None",
                  "is_friday_open": "True",
                  "friday_start_time": "09:00",
                  "friday_end_time": "21:00",
                  "friday_notes": "None",
                  "is_saturday_open": "True",
                  "saturday_start_time": "09:00",
                  "saturday_end_time": "21:00",
                  "saturday_notes": "None",
                  "is_sunday_open": "True",
                  "sunday_start_time": "09:00",
                  "sunday_end_time": "21:00",
                  "sunday_notes": "None",
                  "place_id": "ChIJG9kxV1BYei4RDX03q4drsoU",
                  "added_from_system": "True",
                  "google_maps_link": "https://maps.google.com/?cid=9633880783336209677",
                  "categories": "clothing_store, store, point_of_interest, establishment",
                  "_deepnote_index_column": 74
                },
                {
                  "id": "9ac280ba-f97a-41ff-a4d9-416a3e7f4be1",
                  "claim_by": "None",
                  "created_by": "None",
                  "province_id": "f3502b89-a312-4a51-afad-64c005540214",
                  "regency_id": "cdbd1f65-14a4-41c6-bca3-cdd9fc532e15",
                  "district_id": "a1bc7ef8-8cd2-4f63-bf0b-86bc05172b46",
                  "village_id": "b57cba2f-9fee-42c9-b594-9335354ddc13",
                  "username": "None",
                  "name": "RAF SHOES",
                  "latitude": -6.9184894,
                  "longitude": 109.7407569,
                  "address": "3PJR+J82, Gang Daratan Putri 2, Wirosari, Sambong",
                  "postal_code": 51216,
                  "avatar": "None",
                  "description": "None",
                  "released_at": "None",
                  "google_maps_rating": 4.8,
                  "created_at": "2023-06-15 22:46:28",
                  "updated_at": "None",
                  "deleted_at": "None",
                  "is_monday_open": "None",
                  "monday_start_time": "None",
                  "monday_end_time": "None",
                  "monday_notes": "None",
                  "is_tuesday_open": "None",
                  "tuesday_start_time": "None",
                  "tuesday_end_time": "None",
                  "tuesday_notes": "None",
                  "is_wednesday_open": "None",
                  "wednesday_start_time": "None",
                  "wednesday_end_time": "None",
                  "wednesday_notes": "None",
                  "is_thursday_open": "None",
                  "thursday_start_time": "None",
                  "thursday_end_time": "None",
                  "thursday_notes": "None",
                  "is_friday_open": "None",
                  "friday_start_time": "None",
                  "friday_end_time": "None",
                  "friday_notes": "None",
                  "is_saturday_open": "None",
                  "saturday_start_time": "None",
                  "saturday_end_time": "None",
                  "saturday_notes": "None",
                  "is_sunday_open": "None",
                  "sunday_start_time": "None",
                  "sunday_end_time": "None",
                  "sunday_notes": "None",
                  "place_id": "ChIJIZ6E-6MkcC4RzO0KG-Q4kz4",
                  "added_from_system": "True",
                  "google_maps_link": "https://maps.google.com/?cid=4509010204285398476",
                  "categories": "shoe_store, store, point_of_interest, establishment",
                  "_deepnote_index_column": 75
                },
                {
                  "id": "8e7913be-90b4-4219-8ed7-08d352f0080c",
                  "claim_by": "None",
                  "created_by": "None",
                  "province_id": "ece42b5b-932f-421d-88e9-91d632e58f73",
                  "regency_id": "6e06f696-e9ca-4e41-bdc3-4b4bdd1a1550",
                  "district_id": "f1966882-a72c-4aaa-8628-079a3cb8224b",
                  "village_id": "0a196700-7f45-49b9-92a9-7500e602b6f8",
                  "username": "None",
                  "name": "Gramedia Sudirman",
                  "latitude": -7.783363999999998,
                  "longitude": 110.374595,
                  "address": "Jalan Jendral Sudirman No.54-56, Kotabaru",
                  "postal_code": 55224,
                  "avatar": "None",
                  "description": "None",
                  "released_at": "None",
                  "google_maps_rating": 4.6,
                  "created_at": "2023-06-15 22:46:26",
                  "updated_at": "None",
                  "deleted_at": "None",
                  "is_monday_open": "True",
                  "monday_start_time": "09:00",
                  "monday_end_time": "21:00",
                  "monday_notes": "None",
                  "is_tuesday_open": "True",
                  "tuesday_start_time": "09:00",
                  "tuesday_end_time": "21:00",
                  "tuesday_notes": "None",
                  "is_wednesday_open": "True",
                  "wednesday_start_time": "09:00",
                  "wednesday_end_time": "21:00",
                  "wednesday_notes": "None",
                  "is_thursday_open": "True",
                  "thursday_start_time": "09:00",
                  "thursday_end_time": "21:00",
                  "thursday_notes": "None",
                  "is_friday_open": "True",
                  "friday_start_time": "09:00",
                  "friday_end_time": "21:00",
                  "friday_notes": "None",
                  "is_saturday_open": "True",
                  "saturday_start_time": "09:00",
                  "saturday_end_time": "21:00",
                  "saturday_notes": "None",
                  "is_sunday_open": "True",
                  "sunday_start_time": "09:00",
                  "sunday_end_time": "21:00",
                  "sunday_notes": "None",
                  "place_id": "ChIJ1fIzTDJYei4RO4OyjiyhZEU",
                  "added_from_system": "True",
                  "google_maps_link": "https://maps.google.com/?cid=5000298699032789819",
                  "categories": "book_store, store, point_of_interest, establishment",
                  "_deepnote_index_column": 76
                },
                {
                  "id": "5f284f4d-eb70-4b00-be25-e3b4a295b798",
                  "claim_by": "None",
                  "created_by": "None",
                  "province_id": "f3502b89-a312-4a51-afad-64c005540214",
                  "regency_id": "cdbd1f65-14a4-41c6-bca3-cdd9fc532e15",
                  "district_id": "a1bc7ef8-8cd2-4f63-bf0b-86bc05172b46",
                  "village_id": "b57cba2f-9fee-42c9-b594-9335354ddc13",
                  "username": "None",
                  "name": "AERO Seller",
                  "latitude": -6.9185218,
                  "longitude": 109.740523,
                  "address": "Jalan Kyai Sambong RT.2/RW.3, Wirosari, Sambong",
                  "postal_code": 51212,
                  "avatar": "None",
                  "description": "None",
                  "released_at": "None",
                  "google_maps_rating": 0,
                  "created_at": "2023-06-15 22:46:32",
                  "updated_at": "None",
                  "deleted_at": "None",
                  "is_monday_open": "True",
                  "monday_start_time": "09:00",
                  "monday_end_time": "20:00",
                  "monday_notes": "None",
                  "is_tuesday_open": "True",
                  "tuesday_start_time": "09:00",
                  "tuesday_end_time": "20:00",
                  "tuesday_notes": "None",
                  "is_wednesday_open": "True",
                  "wednesday_start_time": "09:00",
                  "wednesday_end_time": "20:00",
                  "wednesday_notes": "None",
                  "is_thursday_open": "True",
                  "thursday_start_time": "09:00",
                  "thursday_end_time": "20:00",
                  "thursday_notes": "None",
                  "is_friday_open": "True",
                  "friday_start_time": "09:00",
                  "friday_end_time": "20:00",
                  "friday_notes": "None",
                  "is_saturday_open": "True",
                  "saturday_start_time": "09:00",
                  "saturday_end_time": "20:00",
                  "saturday_notes": "None",
                  "is_sunday_open": "True",
                  "sunday_start_time": "09:00",
                  "sunday_end_time": "20:00",
                  "sunday_notes": "None",
                  "place_id": "ChIJB2OcWEAlcC4RapZmLC21cp8",
                  "added_from_system": "True",
                  "google_maps_link": "https://maps.google.com/?cid=11489444804998633066",
                  "categories": "shoe_store, store, point_of_interest, establishment",
                  "_deepnote_index_column": 77
                },
                {
                  "id": "3597af39-8d6a-4b16-8238-a1b652ad0110",
                  "claim_by": "None",
                  "created_by": "None",
                  "province_id": "ece42b5b-932f-421d-88e9-91d632e58f73",
                  "regency_id": "6e06f696-e9ca-4e41-bdc3-4b4bdd1a1550",
                  "district_id": "f1966882-a72c-4aaa-8628-079a3cb8224b",
                  "village_id": "0a196700-7f45-49b9-92a9-7500e602b6f8",
                  "username": "None",
                  "name": "Waroeng Makan Abisha",
                  "latitude": -7.783531799999999,
                  "longitude": 110.3768878,
                  "address": "Jalan Jendral Sudirman No.70, Kotabaru",
                  "postal_code": 55224,
                  "avatar": "None",
                  "description": "None",
                  "released_at": "None",
                  "google_maps_rating": 4,
                  "created_at": "2023-06-15 22:46:27",
                  "updated_at": "None",
                  "deleted_at": "None",
                  "is_monday_open": "None",
                  "monday_start_time": "None",
                  "monday_end_time": "None",
                  "monday_notes": "None",
                  "is_tuesday_open": "None",
                  "tuesday_start_time": "None",
                  "tuesday_end_time": "None",
                  "tuesday_notes": "None",
                  "is_wednesday_open": "None",
                  "wednesday_start_time": "None",
                  "wednesday_end_time": "None",
                  "wednesday_notes": "None",
                  "is_thursday_open": "None",
                  "thursday_start_time": "None",
                  "thursday_end_time": "None",
                  "thursday_notes": "None",
                  "is_friday_open": "None",
                  "friday_start_time": "None",
                  "friday_end_time": "None",
                  "friday_notes": "None",
                  "is_saturday_open": "None",
                  "saturday_start_time": "None",
                  "saturday_end_time": "None",
                  "saturday_notes": "None",
                  "is_sunday_open": "None",
                  "sunday_start_time": "None",
                  "sunday_end_time": "None",
                  "sunday_notes": "None",
                  "place_id": "ChIJu8bz6DJYei4RLlO64byTInQ",
                  "added_from_system": "True",
                  "google_maps_link": "https://maps.google.com/?cid=8368413497058022190",
                  "categories": "meal_takeaway, restaurant, food, point_of_interest, establishment",
                  "_deepnote_index_column": 78
                },
                {
                  "id": "2d2d81d8-8a99-4baa-84fa-443ece462fac",
                  "claim_by": "None",
                  "created_by": "None",
                  "province_id": "ece42b5b-932f-421d-88e9-91d632e58f73",
                  "regency_id": "6e06f696-e9ca-4e41-bdc3-4b4bdd1a1550",
                  "district_id": "f1966882-a72c-4aaa-8628-079a3cb8224b",
                  "village_id": "0a196700-7f45-49b9-92a9-7500e602b6f8",
                  "username": "None",
                  "name": "Legend Coffee",
                  "latitude": -7.788160199999998,
                  "longitude": 110.372794,
                  "address": "Jalan Abu Bakar Ali No.24-26, Kotabaru",
                  "postal_code": 55224,
                  "avatar": "None",
                  "description": "None",
                  "released_at": "None",
                  "google_maps_rating": 4.4,
                  "created_at": "2023-06-15 22:46:28",
                  "updated_at": "None",
                  "deleted_at": "None",
                  "is_monday_open": "True",
                  "monday_start_time": "10:00",
                  "monday_end_time": "01:00",
                  "monday_notes": "None",
                  "is_tuesday_open": "True",
                  "tuesday_start_time": "10:00",
                  "tuesday_end_time": "01:00",
                  "tuesday_notes": "None",
                  "is_wednesday_open": "True",
                  "wednesday_start_time": "10:00",
                  "wednesday_end_time": "01:00",
                  "wednesday_notes": "None",
                  "is_thursday_open": "True",
                  "thursday_start_time": "10:00",
                  "thursday_end_time": "01:00",
                  "thursday_notes": "None",
                  "is_friday_open": "True",
                  "friday_start_time": "10:00",
                  "friday_end_time": "01:00",
                  "friday_notes": "None",
                  "is_saturday_open": "True",
                  "saturday_start_time": "10:00",
                  "saturday_end_time": "02:00",
                  "saturday_notes": "None",
                  "is_sunday_open": "True",
                  "sunday_start_time": "10:00",
                  "sunday_end_time": "01:00",
                  "sunday_notes": "None",
                  "place_id": "ChIJRxONwS5Yei4RcwWqzjnGrzQ",
                  "added_from_system": "True",
                  "google_maps_link": "https://maps.google.com/?cid=3796470962479302003",
                  "categories": "cafe, restaurant, food, point_of_interest, establishment",
                  "_deepnote_index_column": 79
                },
                {
                  "id": "9c37e005-6ccc-468d-a8e8-9689606fa60c",
                  "claim_by": "None",
                  "created_by": "None",
                  "province_id": "ece42b5b-932f-421d-88e9-91d632e58f73",
                  "regency_id": "6e06f696-e9ca-4e41-bdc3-4b4bdd1a1550",
                  "district_id": "f1966882-a72c-4aaa-8628-079a3cb8224b",
                  "village_id": "0a196700-7f45-49b9-92a9-7500e602b6f8",
                  "username": "None",
                  "name": "Mirota Bakery",
                  "latitude": -7.785045100000001,
                  "longitude": 110.3713107,
                  "address": "Jalan Faridan Muridan Noto No.7, Kotabaru",
                  "postal_code": 55224,
                  "avatar": "None",
                  "description": "None",
                  "released_at": "None",
                  "google_maps_rating": 4.5,
                  "created_at": "2023-06-15 22:46:29",
                  "updated_at": "None",
                  "deleted_at": "None",
                  "is_monday_open": "True",
                  "monday_start_time": "07:00",
                  "monday_end_time": "19:00",
                  "monday_notes": "None",
                  "is_tuesday_open": "True",
                  "tuesday_start_time": "07:00",
                  "tuesday_end_time": "19:00",
                  "tuesday_notes": "None",
                  "is_wednesday_open": "True",
                  "wednesday_start_time": "07:00",
                  "wednesday_end_time": "19:00",
                  "wednesday_notes": "None",
                  "is_thursday_open": "True",
                  "thursday_start_time": "07:00",
                  "thursday_end_time": "19:00",
                  "thursday_notes": "None",
                  "is_friday_open": "True",
                  "friday_start_time": "07:00",
                  "friday_end_time": "19:00",
                  "friday_notes": "None",
                  "is_saturday_open": "True",
                  "saturday_start_time": "07:00",
                  "saturday_end_time": "19:00",
                  "saturday_notes": "None",
                  "is_sunday_open": "True",
                  "sunday_start_time": "07:00",
                  "sunday_end_time": "19:00",
                  "sunday_notes": "None",
                  "place_id": "ChIJvf9I5jFYei4RONq4tDrq1sc",
                  "added_from_system": "True",
                  "google_maps_link": "https://maps.google.com/?cid=14399954396424755768",
                  "categories": "bakery, store, restaurant, food, point_of_interest, establishment",
                  "_deepnote_index_column": 80
                },
                {
                  "id": "fbfd446f-5bf0-4f48-a69c-3ef16c62c0df",
                  "claim_by": "None",
                  "created_by": "None",
                  "province_id": "ece42b5b-932f-421d-88e9-91d632e58f73",
                  "regency_id": "6e06f696-e9ca-4e41-bdc3-4b4bdd1a1550",
                  "district_id": "f1966882-a72c-4aaa-8628-079a3cb8224b",
                  "village_id": "0a196700-7f45-49b9-92a9-7500e602b6f8",
                  "username": "None",
                  "name": "Kantin Griya Dahar RS. Bethesda",
                  "latitude": -7.783531799999999,
                  "longitude": 110.3768878,
                  "address": "Jalan Jendral Sudirman No.70, Kotabaru",
                  "postal_code": 55224,
                  "avatar": "None",
                  "description": "None",
                  "released_at": "None",
                  "google_maps_rating": 3.9,
                  "created_at": "2023-06-15 22:46:29",
                  "updated_at": "None",
                  "deleted_at": "None",
                  "is_monday_open": "True",
                  "monday_start_time": "08:00",
                  "monday_end_time": "19:00",
                  "monday_notes": "None",
                  "is_tuesday_open": "True",
                  "tuesday_start_time": "08:00",
                  "tuesday_end_time": "19:00",
                  "tuesday_notes": "None",
                  "is_wednesday_open": "True",
                  "wednesday_start_time": "08:00",
                  "wednesday_end_time": "19:00",
                  "wednesday_notes": "None",
                  "is_thursday_open": "True",
                  "thursday_start_time": "08:00",
                  "thursday_end_time": "19:00",
                  "thursday_notes": "None",
                  "is_friday_open": "True",
                  "friday_start_time": "08:00",
                  "friday_end_time": "19:00",
                  "friday_notes": "None",
                  "is_saturday_open": "True",
                  "saturday_start_time": "08:00",
                  "saturday_end_time": "19:00",
                  "saturday_notes": "None",
                  "is_sunday_open": "True",
                  "sunday_start_time": "08:00",
                  "sunday_end_time": "19:00",
                  "sunday_notes": "None",
                  "place_id": "ChIJidCU6DJYei4RkIf3LoZqdHk",
                  "added_from_system": "True",
                  "google_maps_link": "https://maps.google.com/?cid=8751737100433852304",
                  "categories": "meal_takeaway, restaurant, food, point_of_interest, establishment",
                  "_deepnote_index_column": 81
                },
                {
                  "id": "7d65ddfc-13d9-4fd7-b5e5-45764bfa6fd6",
                  "claim_by": "None",
                  "created_by": "None",
                  "province_id": "ece42b5b-932f-421d-88e9-91d632e58f73",
                  "regency_id": "6e06f696-e9ca-4e41-bdc3-4b4bdd1a1550",
                  "district_id": "f1966882-a72c-4aaa-8628-079a3cb8224b",
                  "village_id": "0a196700-7f45-49b9-92a9-7500e602b6f8",
                  "username": "None",
                  "name": "Crescendo Music Yogyakarta",
                  "latitude": -7.787437100000003,
                  "longitude": 110.3724155,
                  "address": "Jalan Ngadikan No.4, Kotabaru",
                  "postal_code": 55224,
                  "avatar": "None",
                  "description": "None",
                  "released_at": "None",
                  "google_maps_rating": 4.6,
                  "created_at": "2023-06-15 22:46:31",
                  "updated_at": "None",
                  "deleted_at": "None",
                  "is_monday_open": "True",
                  "monday_start_time": "09:00",
                  "monday_end_time": "20:00",
                  "monday_notes": "None",
                  "is_tuesday_open": "True",
                  "tuesday_start_time": "09:00",
                  "tuesday_end_time": "20:00",
                  "tuesday_notes": "None",
                  "is_wednesday_open": "True",
                  "wednesday_start_time": "09:00",
                  "wednesday_end_time": "20:00",
                  "wednesday_notes": "None",
                  "is_thursday_open": "True",
                  "thursday_start_time": "09:00",
                  "thursday_end_time": "20:00",
                  "thursday_notes": "None",
                  "is_friday_open": "True",
                  "friday_start_time": "09:00",
                  "friday_end_time": "20:00",
                  "friday_notes": "None",
                  "is_saturday_open": "True",
                  "saturday_start_time": "09:00",
                  "saturday_end_time": "20:00",
                  "saturday_notes": "None",
                  "is_sunday_open": "True",
                  "sunday_start_time": "09:00",
                  "sunday_end_time": "16:00",
                  "sunday_notes": "None",
                  "place_id": "ChIJ86TContYei4R7eEFLCeQBT8",
                  "added_from_system": "True",
                  "google_maps_link": "https://maps.google.com/?cid=4541194297189720557",
                  "categories": "home_goods_store, electronics_store, store, point_of_interest, establishment",
                  "_deepnote_index_column": 82
                },
                {
                  "id": "b59c69f2-901f-4b52-9596-e8c003c09001",
                  "claim_by": "None",
                  "created_by": "None",
                  "province_id": "ece42b5b-932f-421d-88e9-91d632e58f73",
                  "regency_id": "6e06f696-e9ca-4e41-bdc3-4b4bdd1a1550",
                  "district_id": "f1966882-a72c-4aaa-8628-079a3cb8224b",
                  "village_id": "0a196700-7f45-49b9-92a9-7500e602b6f8",
                  "username": "None",
                  "name": "IonianStore",
                  "latitude": -7.787154999999999,
                  "longitude": 110.378623,
                  "address": "Jalan Doktor Wahidin Sudirohusodo",
                  "postal_code": 55224,
                  "avatar": "None",
                  "description": "None",
                  "released_at": "None",
                  "google_maps_rating": 0,
                  "created_at": "2023-06-15 22:46:31",
                  "updated_at": "None",
                  "deleted_at": "None",
                  "is_monday_open": "None",
                  "monday_start_time": "None",
                  "monday_end_time": "None",
                  "monday_notes": "None",
                  "is_tuesday_open": "None",
                  "tuesday_start_time": "None",
                  "tuesday_end_time": "None",
                  "tuesday_notes": "None",
                  "is_wednesday_open": "None",
                  "wednesday_start_time": "None",
                  "wednesday_end_time": "None",
                  "wednesday_notes": "None",
                  "is_thursday_open": "None",
                  "thursday_start_time": "None",
                  "thursday_end_time": "None",
                  "thursday_notes": "None",
                  "is_friday_open": "None",
                  "friday_start_time": "None",
                  "friday_end_time": "None",
                  "friday_notes": "None",
                  "is_saturday_open": "None",
                  "saturday_start_time": "None",
                  "saturday_end_time": "None",
                  "saturday_notes": "None",
                  "is_sunday_open": "None",
                  "sunday_start_time": "None",
                  "sunday_end_time": "None",
                  "sunday_notes": "None",
                  "place_id": "ChIJPVNDY7JZei4RyRBTqiTvaPc",
                  "added_from_system": "True",
                  "google_maps_link": "https://maps.google.com/?cid=17827762065701540041",
                  "categories": "home_goods_store, electronics_store, store, point_of_interest, establishment",
                  "_deepnote_index_column": 83
                },
                {
                  "id": "2f7473f4-1930-4162-a2e9-5cdef4d56616",
                  "claim_by": "None",
                  "created_by": "None",
                  "province_id": "ece42b5b-932f-421d-88e9-91d632e58f73",
                  "regency_id": "6e06f696-e9ca-4e41-bdc3-4b4bdd1a1550",
                  "district_id": "f1966882-a72c-4aaa-8628-079a3cb8224b",
                  "village_id": "0a196700-7f45-49b9-92a9-7500e602b6f8",
                  "username": "None",
                  "name": "Warung Makan Ayam Goreng Kremes/Grepek",
                  "latitude": -7.788667999999999,
                  "longitude": 110.3771738,
                  "address": "Jalan Krasak Timur No.24, Kotabaru",
                  "postal_code": 55224,
                  "avatar": "None",
                  "description": "None",
                  "released_at": "None",
                  "google_maps_rating": 3,
                  "created_at": "2023-06-15 22:46:31",
                  "updated_at": "None",
                  "deleted_at": "None",
                  "is_monday_open": "True",
                  "monday_start_time": "09:00",
                  "monday_end_time": "21:00",
                  "monday_notes": "None",
                  "is_tuesday_open": "True",
                  "tuesday_start_time": "09:00",
                  "tuesday_end_time": "21:00",
                  "tuesday_notes": "None",
                  "is_wednesday_open": "True",
                  "wednesday_start_time": "09:00",
                  "wednesday_end_time": "21:00",
                  "wednesday_notes": "None",
                  "is_thursday_open": "True",
                  "thursday_start_time": "09:00",
                  "thursday_end_time": "21:00",
                  "thursday_notes": "None",
                  "is_friday_open": "True",
                  "friday_start_time": "09:00",
                  "friday_end_time": "21:00",
                  "friday_notes": "None",
                  "is_saturday_open": "True",
                  "saturday_start_time": "09:00",
                  "saturday_end_time": "21:00",
                  "saturday_notes": "None",
                  "is_sunday_open": "True",
                  "sunday_start_time": "09:00",
                  "sunday_end_time": "21:00",
                  "sunday_notes": "None",
                  "place_id": "ChIJv8AhIyxYei4RkCVABfN0Ewo",
                  "added_from_system": "True",
                  "google_maps_link": "https://maps.google.com/?cid=726052552050746768",
                  "categories": "meal_takeaway, restaurant, food, point_of_interest, establishment",
                  "_deepnote_index_column": 84
                },
                {
                  "id": "3cc9ed4b-324a-430b-ad7d-ae76cfaf3284",
                  "claim_by": "None",
                  "created_by": "None",
                  "province_id": "ece42b5b-932f-421d-88e9-91d632e58f73",
                  "regency_id": "6e06f696-e9ca-4e41-bdc3-4b4bdd1a1550",
                  "district_id": "f1966882-a72c-4aaa-8628-079a3cb8224b",
                  "village_id": "0a196700-7f45-49b9-92a9-7500e602b6f8",
                  "username": "None",
                  "name": "Togamas Kotabaru",
                  "latitude": -7.784624399999998,
                  "longitude": 110.3749874,
                  "address": "Jalan Suroto No.8",
                  "postal_code": 55224,
                  "avatar": "None",
                  "description": "None",
                  "released_at": "None",
                  "google_maps_rating": 4.5,
                  "created_at": "2023-06-15 22:46:32",
                  "updated_at": "None",
                  "deleted_at": "None",
                  "is_monday_open": "True",
                  "monday_start_time": "09:00",
                  "monday_end_time": "21:00",
                  "monday_notes": "None",
                  "is_tuesday_open": "True",
                  "tuesday_start_time": "09:00",
                  "tuesday_end_time": "21:00",
                  "tuesday_notes": "None",
                  "is_wednesday_open": "True",
                  "wednesday_start_time": "09:00",
                  "wednesday_end_time": "21:00",
                  "wednesday_notes": "None",
                  "is_thursday_open": "True",
                  "thursday_start_time": "09:00",
                  "thursday_end_time": "21:00",
                  "thursday_notes": "None",
                  "is_friday_open": "True",
                  "friday_start_time": "09:00",
                  "friday_end_time": "21:00",
                  "friday_notes": "None",
                  "is_saturday_open": "True",
                  "saturday_start_time": "09:00",
                  "saturday_end_time": "21:00",
                  "saturday_notes": "None",
                  "is_sunday_open": "True",
                  "sunday_start_time": "09:00",
                  "sunday_end_time": "21:00",
                  "sunday_notes": "None",
                  "place_id": "ChIJt5zhZDJYei4Rh6ip_j443Tc",
                  "added_from_system": "True",
                  "google_maps_link": "https://maps.google.com/?cid=4025435485150750855",
                  "categories": "book_store, point_of_interest, store, establishment",
                  "_deepnote_index_column": 85
                },
                {
                  "id": "7646e1eb-70ff-4ae1-ad65-6881a3863c1b",
                  "claim_by": "None",
                  "created_by": "None",
                  "province_id": "ece42b5b-932f-421d-88e9-91d632e58f73",
                  "regency_id": "6e06f696-e9ca-4e41-bdc3-4b4bdd1a1550",
                  "district_id": "f1966882-a72c-4aaa-8628-079a3cb8224b",
                  "village_id": "0a196700-7f45-49b9-92a9-7500e602b6f8",
                  "username": "None",
                  "name": "MG Sports & Music Gramedia Yogya",
                  "latitude": -7.783491099999999,
                  "longitude": 110.3746665,
                  "address": "Jalan Suroto No.13, Kotabaru",
                  "postal_code": 55224,
                  "avatar": "None",
                  "description": "None",
                  "released_at": "None",
                  "google_maps_rating": 3.3,
                  "created_at": "2023-06-15 22:46:33",
                  "updated_at": "None",
                  "deleted_at": "None",
                  "is_monday_open": "True",
                  "monday_start_time": "09:30",
                  "monday_end_time": "21:00",
                  "monday_notes": "None",
                  "is_tuesday_open": "True",
                  "tuesday_start_time": "09:30",
                  "tuesday_end_time": "21:00",
                  "tuesday_notes": "None",
                  "is_wednesday_open": "True",
                  "wednesday_start_time": "09:30",
                  "wednesday_end_time": "21:00",
                  "wednesday_notes": "None",
                  "is_thursday_open": "True",
                  "thursday_start_time": "09:30",
                  "thursday_end_time": "21:00",
                  "thursday_notes": "None",
                  "is_friday_open": "True",
                  "friday_start_time": "09:30",
                  "friday_end_time": "21:00",
                  "friday_notes": "None",
                  "is_saturday_open": "True",
                  "saturday_start_time": "09:30",
                  "saturday_end_time": "21:00",
                  "saturday_notes": "None",
                  "is_sunday_open": "True",
                  "sunday_start_time": "09:30",
                  "sunday_end_time": "21:00",
                  "sunday_notes": "None",
                  "place_id": "ChIJOemYgTFYei4Rnv2UFaXNnyU",
                  "added_from_system": "True",
                  "google_maps_link": "https://maps.google.com/?cid=2711111609615711646",
                  "categories": "home_goods_store, electronics_store, store, point_of_interest, establishment",
                  "_deepnote_index_column": 86
                },
                {
                  "id": "6cbf6711-13ee-43b5-8494-da139ea7b70c",
                  "claim_by": "None",
                  "created_by": "None",
                  "province_id": "ece42b5b-932f-421d-88e9-91d632e58f73",
                  "regency_id": "6e06f696-e9ca-4e41-bdc3-4b4bdd1a1550",
                  "district_id": "f1966882-a72c-4aaa-8628-079a3cb8224b",
                  "village_id": "0a196700-7f45-49b9-92a9-7500e602b6f8",
                  "username": "None",
                  "name": "Manna Bakery Tart 24 jam",
                  "latitude": -7.7855998,
                  "longitude": 110.3742819,
                  "address": "Jalan Suroto No.01, Kotabaru",
                  "postal_code": 55224,
                  "avatar": "None",
                  "description": "None",
                  "released_at": "None",
                  "google_maps_rating": 4.5,
                  "created_at": "2023-06-15 22:46:33",
                  "updated_at": "None",
                  "deleted_at": "None",
                  "is_monday_open": "False",
                  "monday_start_time": "None",
                  "monday_end_time": "None",
                  "monday_notes": "None",
                  "is_tuesday_open": "False",
                  "tuesday_start_time": "None",
                  "tuesday_end_time": "None",
                  "tuesday_notes": "None",
                  "is_wednesday_open": "False",
                  "wednesday_start_time": "None",
                  "wednesday_end_time": "None",
                  "wednesday_notes": "None",
                  "is_thursday_open": "False",
                  "thursday_start_time": "None",
                  "thursday_end_time": "None",
                  "thursday_notes": "None",
                  "is_friday_open": "False",
                  "friday_start_time": "None",
                  "friday_end_time": "None",
                  "friday_notes": "None",
                  "is_saturday_open": "False",
                  "saturday_start_time": "None",
                  "saturday_end_time": "None",
                  "saturday_notes": "None",
                  "is_sunday_open": "False",
                  "sunday_start_time": "None",
                  "sunday_end_time": "None",
                  "sunday_notes": "None",
                  "place_id": "ChIJUUz1ii1Yei4Rf_06yne6LmU",
                  "added_from_system": "True",
                  "google_maps_link": "https://maps.google.com/?cid=7290969870416149887",
                  "categories": "bakery, store, food, point_of_interest, establishment",
                  "_deepnote_index_column": 87
                },
                {
                  "id": "6ffa4317-e622-41d2-9721-bab8d2a6b26e",
                  "claim_by": "None",
                  "created_by": "None",
                  "province_id": "ece42b5b-932f-421d-88e9-91d632e58f73",
                  "regency_id": "6e06f696-e9ca-4e41-bdc3-4b4bdd1a1550",
                  "district_id": "f1966882-a72c-4aaa-8628-079a3cb8224b",
                  "village_id": "0a196700-7f45-49b9-92a9-7500e602b6f8",
                  "username": "None",
                  "name": "Jasmine Cakery Bethesda (Cake & Bakery)",
                  "latitude": -7.783811500000001,
                  "longitude": 110.3775669,
                  "address": "Rs Bethesda, Jalan Jendral Sudirman No.70, Kotabaru",
                  "postal_code": 55224,
                  "avatar": "None",
                  "description": "None",
                  "released_at": "None",
                  "google_maps_rating": 4.3,
                  "created_at": "2023-06-15 22:46:33",
                  "updated_at": "None",
                  "deleted_at": "None",
                  "is_monday_open": "True",
                  "monday_start_time": "08:00",
                  "monday_end_time": "15:30",
                  "monday_notes": "None",
                  "is_tuesday_open": "True",
                  "tuesday_start_time": "08:00",
                  "tuesday_end_time": "15:30",
                  "tuesday_notes": "None",
                  "is_wednesday_open": "True",
                  "wednesday_start_time": "08:00",
                  "wednesday_end_time": "15:30",
                  "wednesday_notes": "None",
                  "is_thursday_open": "True",
                  "thursday_start_time": "08:00",
                  "thursday_end_time": "15:30",
                  "thursday_notes": "None",
                  "is_friday_open": "True",
                  "friday_start_time": "08:00",
                  "friday_end_time": "15:30",
                  "friday_notes": "None",
                  "is_saturday_open": "True",
                  "saturday_start_time": "08:00",
                  "saturday_end_time": "15:30",
                  "saturday_notes": "None",
                  "is_sunday_open": "False",
                  "sunday_start_time": "None",
                  "sunday_end_time": "None",
                  "sunday_notes": "None",
                  "place_id": "ChIJX43bzDJYei4RePQZAxSimDQ",
                  "added_from_system": "True",
                  "google_maps_link": "https://maps.google.com/?cid=3789957293267350648",
                  "categories": "bakery, store, point_of_interest, food, establishment",
                  "_deepnote_index_column": 88
                },
                {
                  "id": "3b4abb52-2ff4-41fa-8c84-c59996dfabc2",
                  "claim_by": "None",
                  "created_by": "None",
                  "province_id": "ece42b5b-932f-421d-88e9-91d632e58f73",
                  "regency_id": "6e06f696-e9ca-4e41-bdc3-4b4bdd1a1550",
                  "district_id": "f1966882-a72c-4aaa-8628-079a3cb8224b",
                  "village_id": "0a196700-7f45-49b9-92a9-7500e602b6f8",
                  "username": "None",
                  "name": "Red Arowana Specialist",
                  "latitude": -7.784938299999998,
                  "longitude": 110.374154,
                  "address": "Jalan Supadi No.23, Kotabaru",
                  "postal_code": 55224,
                  "avatar": "None",
                  "description": "None",
                  "released_at": "None",
                  "google_maps_rating": 0,
                  "created_at": "2023-06-15 22:46:34",
                  "updated_at": "None",
                  "deleted_at": "None",
                  "is_monday_open": "None",
                  "monday_start_time": "None",
                  "monday_end_time": "None",
                  "monday_notes": "None",
                  "is_tuesday_open": "None",
                  "tuesday_start_time": "None",
                  "tuesday_end_time": "None",
                  "tuesday_notes": "None",
                  "is_wednesday_open": "None",
                  "wednesday_start_time": "None",
                  "wednesday_end_time": "None",
                  "wednesday_notes": "None",
                  "is_thursday_open": "None",
                  "thursday_start_time": "None",
                  "thursday_end_time": "None",
                  "thursday_notes": "None",
                  "is_friday_open": "None",
                  "friday_start_time": "None",
                  "friday_end_time": "None",
                  "friday_notes": "None",
                  "is_saturday_open": "None",
                  "saturday_start_time": "None",
                  "saturday_end_time": "None",
                  "saturday_notes": "None",
                  "is_sunday_open": "None",
                  "sunday_start_time": "None",
                  "sunday_end_time": "None",
                  "sunday_notes": "None",
                  "place_id": "ChIJLRZDczJYei4Rv4uraJbff-8",
                  "added_from_system": "True",
                  "google_maps_link": "https://maps.google.com/?cid=17257758134201191359",
                  "categories": "pet_store, store, point_of_interest, establishment",
                  "_deepnote_index_column": 89
                },
                {
                  "id": "e6dc1de2-73fa-49c9-b1ec-c0be50c58383",
                  "claim_by": "None",
                  "created_by": "None",
                  "province_id": "ece42b5b-932f-421d-88e9-91d632e58f73",
                  "regency_id": "6e06f696-e9ca-4e41-bdc3-4b4bdd1a1550",
                  "district_id": "f1966882-a72c-4aaa-8628-079a3cb8224b",
                  "village_id": "0a196700-7f45-49b9-92a9-7500e602b6f8",
                  "username": "None",
                  "name": "Circle K Sudirman",
                  "latitude": -7.783226999999998,
                  "longitude": 110.3723722,
                  "address": "698C+PW5, Jalan Jendral Sudirman, Kotabaru",
                  "postal_code": 55224,
                  "avatar": "None",
                  "description": "None",
                  "released_at": "None",
                  "google_maps_rating": 3.7,
                  "created_at": "2023-06-15 22:46:34",
                  "updated_at": "None",
                  "deleted_at": "None",
                  "is_monday_open": "False",
                  "monday_start_time": "None",
                  "monday_end_time": "None",
                  "monday_notes": "None",
                  "is_tuesday_open": "False",
                  "tuesday_start_time": "None",
                  "tuesday_end_time": "None",
                  "tuesday_notes": "None",
                  "is_wednesday_open": "False",
                  "wednesday_start_time": "None",
                  "wednesday_end_time": "None",
                  "wednesday_notes": "None",
                  "is_thursday_open": "False",
                  "thursday_start_time": "None",
                  "thursday_end_time": "None",
                  "thursday_notes": "None",
                  "is_friday_open": "False",
                  "friday_start_time": "None",
                  "friday_end_time": "None",
                  "friday_notes": "None",
                  "is_saturday_open": "False",
                  "saturday_start_time": "None",
                  "saturday_end_time": "None",
                  "saturday_notes": "None",
                  "is_sunday_open": "False",
                  "sunday_start_time": "None",
                  "sunday_end_time": "None",
                  "sunday_notes": "None",
                  "place_id": "ChIJN3rLKTJYei4Rv1ANOJLokgs",
                  "added_from_system": "True",
                  "google_maps_link": "https://maps.google.com/?cid=833984595720229055",
                  "categories": "convenience_store, food, store, point_of_interest, establishment",
                  "_deepnote_index_column": 90
                },
                {
                  "id": "4211b58f-66e5-462f-bc12-088245d7ff81",
                  "claim_by": "None",
                  "created_by": "None",
                  "province_id": "ece42b5b-932f-421d-88e9-91d632e58f73",
                  "regency_id": "6e06f696-e9ca-4e41-bdc3-4b4bdd1a1550",
                  "district_id": "f1966882-a72c-4aaa-8628-079a3cb8224b",
                  "village_id": "0a196700-7f45-49b9-92a9-7500e602b6f8",
                  "username": "None",
                  "name": "Holland Beliving Bakery",
                  "latitude": -7.783240299999999,
                  "longitude": 110.373518,
                  "address": "001, Jalan Jendral Sudirman No.46, Kotabaru",
                  "postal_code": 55224,
                  "avatar": "None",
                  "description": "None",
                  "released_at": "None",
                  "google_maps_rating": 4.3,
                  "created_at": "2023-06-15 22:46:35",
                  "updated_at": "None",
                  "deleted_at": "None",
                  "is_monday_open": "True",
                  "monday_start_time": "07:00",
                  "monday_end_time": "21:00",
                  "monday_notes": "None",
                  "is_tuesday_open": "True",
                  "tuesday_start_time": "07:00",
                  "tuesday_end_time": "21:00",
                  "tuesday_notes": "None",
                  "is_wednesday_open": "True",
                  "wednesday_start_time": "07:00",
                  "wednesday_end_time": "21:00",
                  "wednesday_notes": "None",
                  "is_thursday_open": "True",
                  "thursday_start_time": "07:00",
                  "thursday_end_time": "21:00",
                  "thursday_notes": "None",
                  "is_friday_open": "True",
                  "friday_start_time": "07:00",
                  "friday_end_time": "21:00",
                  "friday_notes": "None",
                  "is_saturday_open": "True",
                  "saturday_start_time": "07:00",
                  "saturday_end_time": "21:00",
                  "saturday_notes": "None",
                  "is_sunday_open": "True",
                  "sunday_start_time": "07:00",
                  "sunday_end_time": "21:00",
                  "sunday_notes": "None",
                  "place_id": "ChIJzRodMTJYei4Rhp7cyRL5tNw",
                  "added_from_system": "True",
                  "google_maps_link": "https://maps.google.com/?cid=15903610043243470470",
                  "categories": "bakery, food, point_of_interest, store, establishment",
                  "_deepnote_index_column": 91
                },
                {
                  "id": "a649181c-0620-4b9c-afc4-bb4f3248bac2",
                  "claim_by": "None",
                  "created_by": "None",
                  "province_id": "ece42b5b-932f-421d-88e9-91d632e58f73",
                  "regency_id": "6e06f696-e9ca-4e41-bdc3-4b4bdd1a1550",
                  "district_id": "f1966882-a72c-4aaa-8628-079a3cb8224b",
                  "village_id": "0a196700-7f45-49b9-92a9-7500e602b6f8",
                  "username": "None",
                  "name": "B-Star Fotocopy",
                  "latitude": -7.788667999999999,
                  "longitude": 110.3771738,
                  "address": "Jalan Krasak Timur No.24, Kotabaru",
                  "postal_code": 55224,
                  "avatar": "None",
                  "description": "None",
                  "released_at": "None",
                  "google_maps_rating": 4.8,
                  "created_at": "2023-06-15 22:46:36",
                  "updated_at": "None",
                  "deleted_at": "None",
                  "is_monday_open": "None",
                  "monday_start_time": "None",
                  "monday_end_time": "None",
                  "monday_notes": "None",
                  "is_tuesday_open": "None",
                  "tuesday_start_time": "None",
                  "tuesday_end_time": "None",
                  "tuesday_notes": "None",
                  "is_wednesday_open": "None",
                  "wednesday_start_time": "None",
                  "wednesday_end_time": "None",
                  "wednesday_notes": "None",
                  "is_thursday_open": "None",
                  "thursday_start_time": "None",
                  "thursday_end_time": "None",
                  "thursday_notes": "None",
                  "is_friday_open": "None",
                  "friday_start_time": "None",
                  "friday_end_time": "None",
                  "friday_notes": "None",
                  "is_saturday_open": "None",
                  "saturday_start_time": "None",
                  "saturday_end_time": "None",
                  "saturday_notes": "None",
                  "is_sunday_open": "None",
                  "sunday_start_time": "None",
                  "sunday_end_time": "None",
                  "sunday_notes": "None",
                  "place_id": "ChIJTUoCwyxYei4RnAiFU1RMmkU",
                  "added_from_system": "True",
                  "google_maps_link": "https://maps.google.com/?cid=5015405060092659868",
                  "categories": "home_goods_store, store, point_of_interest, establishment",
                  "_deepnote_index_column": 92
                },
                {
                  "id": "c420fbef-abb5-4971-b908-9d35ef7f84a8",
                  "claim_by": "None",
                  "created_by": "None",
                  "province_id": "ece42b5b-932f-421d-88e9-91d632e58f73",
                  "regency_id": "6e06f696-e9ca-4e41-bdc3-4b4bdd1a1550",
                  "district_id": "f1966882-a72c-4aaa-8628-079a3cb8224b",
                  "village_id": "0a196700-7f45-49b9-92a9-7500e602b6f8",
                  "username": "None",
                  "name": "Kantin Bu Ndut",
                  "latitude": -7.783531799999999,
                  "longitude": 110.3768878,
                  "address": "Jalan Jendral Sudirman No.70, Kotabaru",
                  "postal_code": 55224,
                  "avatar": "None",
                  "description": "None",
                  "released_at": "None",
                  "google_maps_rating": 5,
                  "created_at": "2023-06-15 22:46:37",
                  "updated_at": "None",
                  "deleted_at": "None",
                  "is_monday_open": "None",
                  "monday_start_time": "None",
                  "monday_end_time": "None",
                  "monday_notes": "None",
                  "is_tuesday_open": "None",
                  "tuesday_start_time": "None",
                  "tuesday_end_time": "None",
                  "tuesday_notes": "None",
                  "is_wednesday_open": "None",
                  "wednesday_start_time": "None",
                  "wednesday_end_time": "None",
                  "wednesday_notes": "None",
                  "is_thursday_open": "None",
                  "thursday_start_time": "None",
                  "thursday_end_time": "None",
                  "thursday_notes": "None",
                  "is_friday_open": "None",
                  "friday_start_time": "None",
                  "friday_end_time": "None",
                  "friday_notes": "None",
                  "is_saturday_open": "None",
                  "saturday_start_time": "None",
                  "saturday_end_time": "None",
                  "saturday_notes": "None",
                  "is_sunday_open": "None",
                  "sunday_start_time": "None",
                  "sunday_end_time": "None",
                  "sunday_notes": "None",
                  "place_id": "ChIJkd_y6DJYei4RS0-HFaA086Y",
                  "added_from_system": "True",
                  "google_maps_link": "https://maps.google.com/?cid=12030016891797327691",
                  "categories": "meal_takeaway, restaurant, food, point_of_interest, establishment",
                  "_deepnote_index_column": 93
                },
                {
                  "id": "887cb336-ff7c-4260-8793-7a6c7f76cf12",
                  "claim_by": "None",
                  "created_by": "None",
                  "province_id": "f3502b89-a312-4a51-afad-64c005540214",
                  "regency_id": "cdbd1f65-14a4-41c6-bca3-cdd9fc532e15",
                  "district_id": "8234842e-3f02-45e6-8b7f-22af0e238c4f",
                  "village_id": "d7beaa26-1cf9-4abe-aff4-98de25955e72",
                  "username": "None",
                  "name": "Sekar Laundry",
                  "latitude": -6.9050024,
                  "longitude": 109.7354379,
                  "address": "Jalan RE Martadinata No.44, RW.01, Pedalangan, Pesalakan",
                  "postal_code": 51216,
                  "avatar": "None",
                  "description": "None",
                  "released_at": "None",
                  "google_maps_rating": 0,
                  "created_at": "2023-06-15 22:46:35",
                  "updated_at": "None",
                  "deleted_at": "None",
                  "is_monday_open": "None",
                  "monday_start_time": "None",
                  "monday_end_time": "None",
                  "monday_notes": "None",
                  "is_tuesday_open": "None",
                  "tuesday_start_time": "None",
                  "tuesday_end_time": "None",
                  "tuesday_notes": "None",
                  "is_wednesday_open": "None",
                  "wednesday_start_time": "None",
                  "wednesday_end_time": "None",
                  "wednesday_notes": "None",
                  "is_thursday_open": "None",
                  "thursday_start_time": "None",
                  "thursday_end_time": "None",
                  "thursday_notes": "None",
                  "is_friday_open": "None",
                  "friday_start_time": "None",
                  "friday_end_time": "None",
                  "friday_notes": "None",
                  "is_saturday_open": "None",
                  "saturday_start_time": "None",
                  "saturday_end_time": "None",
                  "saturday_notes": "None",
                  "is_sunday_open": "None",
                  "sunday_start_time": "None",
                  "sunday_end_time": "None",
                  "sunday_notes": "None",
                  "place_id": "ChIJoacT4L8kcC4ROZaqsM9HJBQ",
                  "added_from_system": "True",
                  "google_maps_link": "https://maps.google.com/?cid=1451363937267914297",
                  "categories": "laundry, point_of_interest, establishment",
                  "_deepnote_index_column": 94
                },
                {
                  "id": "7b3c0d7b-d902-467b-ba6a-7e85dfb6ab84",
                  "claim_by": "None",
                  "created_by": "None",
                  "province_id": "f3502b89-a312-4a51-afad-64c005540214",
                  "regency_id": "a7369d7c-2cfa-45ea-b0ff-4dada6fc0097",
                  "district_id": "f5149f59-5733-4c2c-a90c-5672a3075b46",
                  "village_id": "344b1b67-c6ff-40d6-be71-cf2bc062e305",
                  "username": "None",
                  "name": "Bpk ngalawi (bkl. Kambing)",
                  "latitude": -6.5265653,
                  "longitude": 110.9325467,
                  "address": "Payak Tengah RT 11 RW 04, Jetir, Karangsari",
                  "postal_code": 59157,
                  "avatar": "None",
                  "description": "None",
                  "released_at": "None",
                  "google_maps_rating": 0,
                  "created_at": "2023-06-15 22:46:33",
                  "updated_at": "None",
                  "deleted_at": "None",
                  "is_monday_open": "False",
                  "monday_start_time": "None",
                  "monday_end_time": "None",
                  "monday_notes": "None",
                  "is_tuesday_open": "False",
                  "tuesday_start_time": "None",
                  "tuesday_end_time": "None",
                  "tuesday_notes": "None",
                  "is_wednesday_open": "False",
                  "wednesday_start_time": "None",
                  "wednesday_end_time": "None",
                  "wednesday_notes": "None",
                  "is_thursday_open": "False",
                  "thursday_start_time": "None",
                  "thursday_end_time": "None",
                  "thursday_notes": "None",
                  "is_friday_open": "False",
                  "friday_start_time": "None",
                  "friday_end_time": "None",
                  "friday_notes": "None",
                  "is_saturday_open": "False",
                  "saturday_start_time": "None",
                  "saturday_end_time": "None",
                  "saturday_notes": "None",
                  "is_sunday_open": "False",
                  "sunday_start_time": "None",
                  "sunday_end_time": "None",
                  "sunday_notes": "None",
                  "place_id": "ChIJoTW6xqwvcS4RDssFFrdac7s",
                  "added_from_system": "True",
                  "google_maps_link": "https://maps.google.com/?cid=13507239449809242894",
                  "categories": "pet_store, point_of_interest, store, establishment",
                  "_deepnote_index_column": 95
                },
                {
                  "id": "7b3c0d7b-d902-467b-ba6a-7e85dfb6ab84",
                  "claim_by": "None",
                  "created_by": "None",
                  "province_id": "f3502b89-a312-4a51-afad-64c005540214",
                  "regency_id": "a7369d7c-2cfa-45ea-b0ff-4dada6fc0097",
                  "district_id": "f5149f59-5733-4c2c-a90c-5672a3075b46",
                  "village_id": "50a7193e-7fd9-4b3f-9cf9-258e071f6864",
                  "username": "None",
                  "name": "Bpk ngalawi (bkl. Kambing)",
                  "latitude": -6.5265653,
                  "longitude": 110.9325467,
                  "address": "Payak Tengah RT 11 RW 04, Jetir, Karangsari",
                  "postal_code": 59157,
                  "avatar": "None",
                  "description": "None",
                  "released_at": "None",
                  "google_maps_rating": 0,
                  "created_at": "2023-06-15 22:46:33",
                  "updated_at": "None",
                  "deleted_at": "None",
                  "is_monday_open": "False",
                  "monday_start_time": "None",
                  "monday_end_time": "None",
                  "monday_notes": "None",
                  "is_tuesday_open": "False",
                  "tuesday_start_time": "None",
                  "tuesday_end_time": "None",
                  "tuesday_notes": "None",
                  "is_wednesday_open": "False",
                  "wednesday_start_time": "None",
                  "wednesday_end_time": "None",
                  "wednesday_notes": "None",
                  "is_thursday_open": "False",
                  "thursday_start_time": "None",
                  "thursday_end_time": "None",
                  "thursday_notes": "None",
                  "is_friday_open": "False",
                  "friday_start_time": "None",
                  "friday_end_time": "None",
                  "friday_notes": "None",
                  "is_saturday_open": "False",
                  "saturday_start_time": "None",
                  "saturday_end_time": "None",
                  "saturday_notes": "None",
                  "is_sunday_open": "False",
                  "sunday_start_time": "None",
                  "sunday_end_time": "None",
                  "sunday_notes": "None",
                  "place_id": "ChIJoTW6xqwvcS4RDssFFrdac7s",
                  "added_from_system": "True",
                  "google_maps_link": "https://maps.google.com/?cid=13507239449809242894",
                  "categories": "pet_store, point_of_interest, store, establishment",
                  "_deepnote_index_column": 96
                },
                {
                  "id": "7b3c0d7b-d902-467b-ba6a-7e85dfb6ab84",
                  "claim_by": "None",
                  "created_by": "None",
                  "province_id": "f3502b89-a312-4a51-afad-64c005540214",
                  "regency_id": "a7369d7c-2cfa-45ea-b0ff-4dada6fc0097",
                  "district_id": "f5149f59-5733-4c2c-a90c-5672a3075b46",
                  "village_id": "9ab5087e-1f33-4087-b38a-17952c7f0693",
                  "username": "None",
                  "name": "Bpk ngalawi (bkl. Kambing)",
                  "latitude": -6.5265653,
                  "longitude": 110.9325467,
                  "address": "Payak Tengah RT 11 RW 04, Jetir, Karangsari",
                  "postal_code": 59157,
                  "avatar": "None",
                  "description": "None",
                  "released_at": "None",
                  "google_maps_rating": 0,
                  "created_at": "2023-06-15 22:46:33",
                  "updated_at": "None",
                  "deleted_at": "None",
                  "is_monday_open": "False",
                  "monday_start_time": "None",
                  "monday_end_time": "None",
                  "monday_notes": "None",
                  "is_tuesday_open": "False",
                  "tuesday_start_time": "None",
                  "tuesday_end_time": "None",
                  "tuesday_notes": "None",
                  "is_wednesday_open": "False",
                  "wednesday_start_time": "None",
                  "wednesday_end_time": "None",
                  "wednesday_notes": "None",
                  "is_thursday_open": "False",
                  "thursday_start_time": "None",
                  "thursday_end_time": "None",
                  "thursday_notes": "None",
                  "is_friday_open": "False",
                  "friday_start_time": "None",
                  "friday_end_time": "None",
                  "friday_notes": "None",
                  "is_saturday_open": "False",
                  "saturday_start_time": "None",
                  "saturday_end_time": "None",
                  "saturday_notes": "None",
                  "is_sunday_open": "False",
                  "sunday_start_time": "None",
                  "sunday_end_time": "None",
                  "sunday_notes": "None",
                  "place_id": "ChIJoTW6xqwvcS4RDssFFrdac7s",
                  "added_from_system": "True",
                  "google_maps_link": "https://maps.google.com/?cid=13507239449809242894",
                  "categories": "pet_store, point_of_interest, store, establishment",
                  "_deepnote_index_column": 97
                },
                {
                  "id": "7b3c0d7b-d902-467b-ba6a-7e85dfb6ab84",
                  "claim_by": "None",
                  "created_by": "None",
                  "province_id": "f3502b89-a312-4a51-afad-64c005540214",
                  "regency_id": "a7369d7c-2cfa-45ea-b0ff-4dada6fc0097",
                  "district_id": "f5149f59-5733-4c2c-a90c-5672a3075b46",
                  "village_id": "e5c1e6ff-3ae1-482c-a380-ff6adb5fadf2",
                  "username": "None",
                  "name": "Bpk ngalawi (bkl. Kambing)",
                  "latitude": -6.5265653,
                  "longitude": 110.9325467,
                  "address": "Payak Tengah RT 11 RW 04, Jetir, Karangsari",
                  "postal_code": 59157,
                  "avatar": "None",
                  "description": "None",
                  "released_at": "None",
                  "google_maps_rating": 0,
                  "created_at": "2023-06-15 22:46:33",
                  "updated_at": "None",
                  "deleted_at": "None",
                  "is_monday_open": "False",
                  "monday_start_time": "None",
                  "monday_end_time": "None",
                  "monday_notes": "None",
                  "is_tuesday_open": "False",
                  "tuesday_start_time": "None",
                  "tuesday_end_time": "None",
                  "tuesday_notes": "None",
                  "is_wednesday_open": "False",
                  "wednesday_start_time": "None",
                  "wednesday_end_time": "None",
                  "wednesday_notes": "None",
                  "is_thursday_open": "False",
                  "thursday_start_time": "None",
                  "thursday_end_time": "None",
                  "thursday_notes": "None",
                  "is_friday_open": "False",
                  "friday_start_time": "None",
                  "friday_end_time": "None",
                  "friday_notes": "None",
                  "is_saturday_open": "False",
                  "saturday_start_time": "None",
                  "saturday_end_time": "None",
                  "saturday_notes": "None",
                  "is_sunday_open": "False",
                  "sunday_start_time": "None",
                  "sunday_end_time": "None",
                  "sunday_notes": "None",
                  "place_id": "ChIJoTW6xqwvcS4RDssFFrdac7s",
                  "added_from_system": "True",
                  "google_maps_link": "https://maps.google.com/?cid=13507239449809242894",
                  "categories": "pet_store, point_of_interest, store, establishment",
                  "_deepnote_index_column": 98
                },
                {
                  "id": "7b3c0d7b-d902-467b-ba6a-7e85dfb6ab84",
                  "claim_by": "None",
                  "created_by": "None",
                  "province_id": "f3502b89-a312-4a51-afad-64c005540214",
                  "regency_id": "a7369d7c-2cfa-45ea-b0ff-4dada6fc0097",
                  "district_id": "f5149f59-5733-4c2c-a90c-5672a3075b46",
                  "village_id": "aaedcffc-ee57-49cd-b5dc-0462ad717130",
                  "username": "None",
                  "name": "Bpk ngalawi (bkl. Kambing)",
                  "latitude": -6.5265653,
                  "longitude": 110.9325467,
                  "address": "Payak Tengah RT 11 RW 04, Jetir, Karangsari",
                  "postal_code": 59157,
                  "avatar": "None",
                  "description": "None",
                  "released_at": "None",
                  "google_maps_rating": 0,
                  "created_at": "2023-06-15 22:46:33",
                  "updated_at": "None",
                  "deleted_at": "None",
                  "is_monday_open": "False",
                  "monday_start_time": "None",
                  "monday_end_time": "None",
                  "monday_notes": "None",
                  "is_tuesday_open": "False",
                  "tuesday_start_time": "None",
                  "tuesday_end_time": "None",
                  "tuesday_notes": "None",
                  "is_wednesday_open": "False",
                  "wednesday_start_time": "None",
                  "wednesday_end_time": "None",
                  "wednesday_notes": "None",
                  "is_thursday_open": "False",
                  "thursday_start_time": "None",
                  "thursday_end_time": "None",
                  "thursday_notes": "None",
                  "is_friday_open": "False",
                  "friday_start_time": "None",
                  "friday_end_time": "None",
                  "friday_notes": "None",
                  "is_saturday_open": "False",
                  "saturday_start_time": "None",
                  "saturday_end_time": "None",
                  "saturday_notes": "None",
                  "is_sunday_open": "False",
                  "sunday_start_time": "None",
                  "sunday_end_time": "None",
                  "sunday_notes": "None",
                  "place_id": "ChIJoTW6xqwvcS4RDssFFrdac7s",
                  "added_from_system": "True",
                  "google_maps_link": "https://maps.google.com/?cid=13507239449809242894",
                  "categories": "pet_store, point_of_interest, store, establishment",
                  "_deepnote_index_column": 99
                }
              ]
            },
            "text/plain": "                                        id claim_by created_by  \\\n0     c42ff9d2-cb08-444b-9099-4ef2e94a276e     None       None   \n1     c42ff9d2-cb08-444b-9099-4ef2e94a276e     None       None   \n2     d4422260-5b60-458f-a50b-b71eb07819c2     None       None   \n3     d4422260-5b60-458f-a50b-b71eb07819c2     None       None   \n4     d4422260-5b60-458f-a50b-b71eb07819c2     None       None   \n...                                    ...      ...        ...   \n6864  fde9a305-0fe4-4b49-9fd1-0e31db4260c5     None       None   \n6865  5138ac7c-1b3e-4f79-90d9-796e26daa938     None       None   \n6866  8577020a-ce24-416a-94c0-3303afa45e0d     None       None   \n6867  8db3acd4-b824-4a6a-95c8-d814fcb1fa9e     None       None   \n6868  ed9306e8-ae27-4529-96d1-762a5747e9a6     None       None   \n\n                               province_id  \\\n0     f3502b89-a312-4a51-afad-64c005540214   \n1     f3502b89-a312-4a51-afad-64c005540214   \n2     f3502b89-a312-4a51-afad-64c005540214   \n3     f3502b89-a312-4a51-afad-64c005540214   \n4     f3502b89-a312-4a51-afad-64c005540214   \n...                                    ...   \n6864  f3502b89-a312-4a51-afad-64c005540214   \n6865  f3502b89-a312-4a51-afad-64c005540214   \n6866  f3502b89-a312-4a51-afad-64c005540214   \n6867  f3502b89-a312-4a51-afad-64c005540214   \n6868  f3502b89-a312-4a51-afad-64c005540214   \n\n                                regency_id  \\\n0     e15f9692-c4bb-4f39-8ed2-6f7ee16d8729   \n1     e15f9692-c4bb-4f39-8ed2-6f7ee16d8729   \n2     610d56dd-edc5-4364-950c-6dad41e49e50   \n3     610d56dd-edc5-4364-950c-6dad41e49e50   \n4     610d56dd-edc5-4364-950c-6dad41e49e50   \n...                                    ...   \n6864  e15f9692-c4bb-4f39-8ed2-6f7ee16d8729   \n6865  e15f9692-c4bb-4f39-8ed2-6f7ee16d8729   \n6866  e15f9692-c4bb-4f39-8ed2-6f7ee16d8729   \n6867  e15f9692-c4bb-4f39-8ed2-6f7ee16d8729   \n6868  e15f9692-c4bb-4f39-8ed2-6f7ee16d8729   \n\n                               district_id  \\\n0     dc4e7e74-5162-4963-8316-6f6ee1720f14   \n1     dc4e7e74-5162-4963-8316-6f6ee1720f14   \n2     001043bb-a71c-4f80-8146-a4980c53ee5c   \n3     001043bb-a71c-4f80-8146-a4980c53ee5c   \n4     f201719f-8a39-45c2-bcbb-abc61c0cb971   \n...                                    ...   \n6864  8727b4bb-9758-4303-a132-2e120a1f89bd   \n6865  8727b4bb-9758-4303-a132-2e120a1f89bd   \n6866  8727b4bb-9758-4303-a132-2e120a1f89bd   \n6867  8727b4bb-9758-4303-a132-2e120a1f89bd   \n6868  8727b4bb-9758-4303-a132-2e120a1f89bd   \n\n                                village_id username  \\\n0     aa154aa8-a76e-4bf9-b254-2ea96e9fa4ba     None   \n1     5ee4ad5b-85e2-42ac-b9ca-214ec88dbe3f     None   \n2     f56628bd-78a8-4d1f-8059-c5b09c82abf0     None   \n3     9ad27e5d-599a-4b1d-bcfe-4ae331b223d6     None   \n4     f56628bd-78a8-4d1f-8059-c5b09c82abf0     None   \n...                                    ...      ...   \n6864  8e1bdde1-0a79-4706-ac9a-0d0741817d48     None   \n6865  8e1bdde1-0a79-4706-ac9a-0d0741817d48     None   \n6866  8e1bdde1-0a79-4706-ac9a-0d0741817d48     None   \n6867  8e1bdde1-0a79-4706-ac9a-0d0741817d48     None   \n6868  8e1bdde1-0a79-4706-ac9a-0d0741817d48     None   \n\n                                      name  latitude  ...  saturday_end_time  \\\n0            Natural bordir terminal kelet -6.504131  ...               None   \n1            Natural bordir terminal kelet -6.504131  ...               None   \n2                      Wr Bakso Mbak nurul -6.995927  ...               None   \n3                      Wr Bakso Mbak nurul -6.995927  ...               None   \n4                      Wr Bakso Mbak nurul -6.995927  ...               None   \n...                                    ...       ...  ...                ...   \n6864               Ayam goreng \"mbak zuli\" -6.584190  ...              21:00   \n6865                           Aji indhoos -6.588857  ...               None   \n6866  Baju Menyusui Azzafran Cabang Jepara -6.581680  ...               None   \n6867              Toko Kembang Bu Sri Mini -6.581510  ...              22:00   \n6868                          Jual Kembang -6.581879  ...               None   \n\n     saturday_notes  is_sunday_open sunday_start_time sunday_end_time  \\\n0              None            None              None            None   \n1              None            None              None            None   \n2              None            None              None            None   \n3              None            None              None            None   \n4              None            None              None            None   \n...             ...             ...               ...             ...   \n6864           None            True             09:00           21:00   \n6865           None            None              None            None   \n6866           None           False              None            None   \n6867           None            True             06:00           22:00   \n6868           None            None              None            None   \n\n     sunday_notes                     place_id added_from_system  \\\n0            None  ChIJzxaZ_Q8vcS4RTZ5pCVU7PW0              True   \n1            None  ChIJzxaZ_Q8vcS4RTZ5pCVU7PW0              True   \n2            None  ChIJQ305apS_cC4RNDPk4ErLn3Y              True   \n3            None  ChIJQ305apS_cC4RNDPk4ErLn3Y              True   \n4            None  ChIJQ305apS_cC4RNDPk4ErLn3Y              True   \n...           ...                          ...               ...   \n6864         None  ChIJx01EORYfcS4RBFE73oGimKo              True   \n6865         None  ChIJ4SL1BJcfcS4RBFTpWKQRy28              True   \n6866         None  ChIJkf4tUxYfcS4Rjjnj8Axroyk              True   \n6867         None  ChIJzZrYYhkfcS4R5OeO1rRS9zc              True   \n6868         None  ChIJExa0VBYfcS4RiNGh9MtOR9Q              True   \n\n                                       google_maps_link  \\\n0      https://maps.google.com/?cid=7871512960129670733   \n1      https://maps.google.com/?cid=7871512960129670733   \n2      https://maps.google.com/?cid=8547774140233560884   \n3      https://maps.google.com/?cid=8547774140233560884   \n4      https://maps.google.com/?cid=8547774140233560884   \n...                                                 ...   \n6864  https://maps.google.com/?cid=12292753861570679044   \n6865   https://maps.google.com/?cid=8055551756046259204   \n6866   https://maps.google.com/?cid=3000359480084085134   \n6867   https://maps.google.com/?cid=4032782927980849124   \n6868  https://maps.google.com/?cid=15296281297276752264   \n\n                                             categories  \n0     book_store, point_of_interest, store, establis...  \n1     book_store, point_of_interest, store, establis...  \n2          cafe, food, point_of_interest, establishment  \n3          cafe, food, point_of_interest, establishment  \n4          cafe, food, point_of_interest, establishment  \n...                                                 ...  \n6864  meal_takeaway, restaurant, food, point_of_inte...  \n6865  pet_store, store, point_of_interest, establish...  \n6866  clothing_store, point_of_interest, store, esta...  \n6867   florist, store, point_of_interest, establishment  \n6868   florist, point_of_interest, store, establishment  \n\n[6869 rows x 52 columns]",
            "text/html": "<div>\n<style scoped>\n    .dataframe tbody tr th:only-of-type {\n        vertical-align: middle;\n    }\n\n    .dataframe tbody tr th {\n        vertical-align: top;\n    }\n\n    .dataframe thead th {\n        text-align: right;\n    }\n</style>\n<table border=\"1\" class=\"dataframe\">\n  <thead>\n    <tr style=\"text-align: right;\">\n      <th></th>\n      <th>id</th>\n      <th>claim_by</th>\n      <th>created_by</th>\n      <th>province_id</th>\n      <th>regency_id</th>\n      <th>district_id</th>\n      <th>village_id</th>\n      <th>username</th>\n      <th>name</th>\n      <th>latitude</th>\n      <th>...</th>\n      <th>saturday_end_time</th>\n      <th>saturday_notes</th>\n      <th>is_sunday_open</th>\n      <th>sunday_start_time</th>\n      <th>sunday_end_time</th>\n      <th>sunday_notes</th>\n      <th>place_id</th>\n      <th>added_from_system</th>\n      <th>google_maps_link</th>\n      <th>categories</th>\n    </tr>\n  </thead>\n  <tbody>\n    <tr>\n      <th>0</th>\n      <td>c42ff9d2-cb08-444b-9099-4ef2e94a276e</td>\n      <td>None</td>\n      <td>None</td>\n      <td>f3502b89-a312-4a51-afad-64c005540214</td>\n      <td>e15f9692-c4bb-4f39-8ed2-6f7ee16d8729</td>\n      <td>dc4e7e74-5162-4963-8316-6f6ee1720f14</td>\n      <td>aa154aa8-a76e-4bf9-b254-2ea96e9fa4ba</td>\n      <td>None</td>\n      <td>Natural bordir terminal kelet</td>\n      <td>-6.504131</td>\n      <td>...</td>\n      <td>None</td>\n      <td>None</td>\n      <td>None</td>\n      <td>None</td>\n      <td>None</td>\n      <td>None</td>\n      <td>ChIJzxaZ_Q8vcS4RTZ5pCVU7PW0</td>\n      <td>True</td>\n      <td>https://maps.google.com/?cid=7871512960129670733</td>\n      <td>book_store, point_of_interest, store, establis...</td>\n    </tr>\n    <tr>\n      <th>1</th>\n      <td>c42ff9d2-cb08-444b-9099-4ef2e94a276e</td>\n      <td>None</td>\n      <td>None</td>\n      <td>f3502b89-a312-4a51-afad-64c005540214</td>\n      <td>e15f9692-c4bb-4f39-8ed2-6f7ee16d8729</td>\n      <td>dc4e7e74-5162-4963-8316-6f6ee1720f14</td>\n      <td>5ee4ad5b-85e2-42ac-b9ca-214ec88dbe3f</td>\n      <td>None</td>\n      <td>Natural bordir terminal kelet</td>\n      <td>-6.504131</td>\n      <td>...</td>\n      <td>None</td>\n      <td>None</td>\n      <td>None</td>\n      <td>None</td>\n      <td>None</td>\n      <td>None</td>\n      <td>ChIJzxaZ_Q8vcS4RTZ5pCVU7PW0</td>\n      <td>True</td>\n      <td>https://maps.google.com/?cid=7871512960129670733</td>\n      <td>book_store, point_of_interest, store, establis...</td>\n    </tr>\n    <tr>\n      <th>2</th>\n      <td>d4422260-5b60-458f-a50b-b71eb07819c2</td>\n      <td>None</td>\n      <td>None</td>\n      <td>f3502b89-a312-4a51-afad-64c005540214</td>\n      <td>610d56dd-edc5-4364-950c-6dad41e49e50</td>\n      <td>001043bb-a71c-4f80-8146-a4980c53ee5c</td>\n      <td>f56628bd-78a8-4d1f-8059-c5b09c82abf0</td>\n      <td>None</td>\n      <td>Wr Bakso Mbak nurul</td>\n      <td>-6.995927</td>\n      <td>...</td>\n      <td>None</td>\n      <td>None</td>\n      <td>None</td>\n      <td>None</td>\n      <td>None</td>\n      <td>None</td>\n      <td>ChIJQ305apS_cC4RNDPk4ErLn3Y</td>\n      <td>True</td>\n      <td>https://maps.google.com/?cid=8547774140233560884</td>\n      <td>cafe, food, point_of_interest, establishment</td>\n    </tr>\n    <tr>\n      <th>3</th>\n      <td>d4422260-5b60-458f-a50b-b71eb07819c2</td>\n      <td>None</td>\n      <td>None</td>\n      <td>f3502b89-a312-4a51-afad-64c005540214</td>\n      <td>610d56dd-edc5-4364-950c-6dad41e49e50</td>\n      <td>001043bb-a71c-4f80-8146-a4980c53ee5c</td>\n      <td>9ad27e5d-599a-4b1d-bcfe-4ae331b223d6</td>\n      <td>None</td>\n      <td>Wr Bakso Mbak nurul</td>\n      <td>-6.995927</td>\n      <td>...</td>\n      <td>None</td>\n      <td>None</td>\n      <td>None</td>\n      <td>None</td>\n      <td>None</td>\n      <td>None</td>\n      <td>ChIJQ305apS_cC4RNDPk4ErLn3Y</td>\n      <td>True</td>\n      <td>https://maps.google.com/?cid=8547774140233560884</td>\n      <td>cafe, food, point_of_interest, establishment</td>\n    </tr>\n    <tr>\n      <th>4</th>\n      <td>d4422260-5b60-458f-a50b-b71eb07819c2</td>\n      <td>None</td>\n      <td>None</td>\n      <td>f3502b89-a312-4a51-afad-64c005540214</td>\n      <td>610d56dd-edc5-4364-950c-6dad41e49e50</td>\n      <td>f201719f-8a39-45c2-bcbb-abc61c0cb971</td>\n      <td>f56628bd-78a8-4d1f-8059-c5b09c82abf0</td>\n      <td>None</td>\n      <td>Wr Bakso Mbak nurul</td>\n      <td>-6.995927</td>\n      <td>...</td>\n      <td>None</td>\n      <td>None</td>\n      <td>None</td>\n      <td>None</td>\n      <td>None</td>\n      <td>None</td>\n      <td>ChIJQ305apS_cC4RNDPk4ErLn3Y</td>\n      <td>True</td>\n      <td>https://maps.google.com/?cid=8547774140233560884</td>\n      <td>cafe, food, point_of_interest, establishment</td>\n    </tr>\n    <tr>\n      <th>...</th>\n      <td>...</td>\n      <td>...</td>\n      <td>...</td>\n      <td>...</td>\n      <td>...</td>\n      <td>...</td>\n      <td>...</td>\n      <td>...</td>\n      <td>...</td>\n      <td>...</td>\n      <td>...</td>\n      <td>...</td>\n      <td>...</td>\n      <td>...</td>\n      <td>...</td>\n      <td>...</td>\n      <td>...</td>\n      <td>...</td>\n      <td>...</td>\n      <td>...</td>\n      <td>...</td>\n    </tr>\n    <tr>\n      <th>6864</th>\n      <td>fde9a305-0fe4-4b49-9fd1-0e31db4260c5</td>\n      <td>None</td>\n      <td>None</td>\n      <td>f3502b89-a312-4a51-afad-64c005540214</td>\n      <td>e15f9692-c4bb-4f39-8ed2-6f7ee16d8729</td>\n      <td>8727b4bb-9758-4303-a132-2e120a1f89bd</td>\n      <td>8e1bdde1-0a79-4706-ac9a-0d0741817d48</td>\n      <td>None</td>\n      <td>Ayam goreng \"mbak zuli\"</td>\n      <td>-6.584190</td>\n      <td>...</td>\n      <td>21:00</td>\n      <td>None</td>\n      <td>True</td>\n      <td>09:00</td>\n      <td>21:00</td>\n      <td>None</td>\n      <td>ChIJx01EORYfcS4RBFE73oGimKo</td>\n      <td>True</td>\n      <td>https://maps.google.com/?cid=12292753861570679044</td>\n      <td>meal_takeaway, restaurant, food, point_of_inte...</td>\n    </tr>\n    <tr>\n      <th>6865</th>\n      <td>5138ac7c-1b3e-4f79-90d9-796e26daa938</td>\n      <td>None</td>\n      <td>None</td>\n      <td>f3502b89-a312-4a51-afad-64c005540214</td>\n      <td>e15f9692-c4bb-4f39-8ed2-6f7ee16d8729</td>\n      <td>8727b4bb-9758-4303-a132-2e120a1f89bd</td>\n      <td>8e1bdde1-0a79-4706-ac9a-0d0741817d48</td>\n      <td>None</td>\n      <td>Aji indhoos</td>\n      <td>-6.588857</td>\n      <td>...</td>\n      <td>None</td>\n      <td>None</td>\n      <td>None</td>\n      <td>None</td>\n      <td>None</td>\n      <td>None</td>\n      <td>ChIJ4SL1BJcfcS4RBFTpWKQRy28</td>\n      <td>True</td>\n      <td>https://maps.google.com/?cid=8055551756046259204</td>\n      <td>pet_store, store, point_of_interest, establish...</td>\n    </tr>\n    <tr>\n      <th>6866</th>\n      <td>8577020a-ce24-416a-94c0-3303afa45e0d</td>\n      <td>None</td>\n      <td>None</td>\n      <td>f3502b89-a312-4a51-afad-64c005540214</td>\n      <td>e15f9692-c4bb-4f39-8ed2-6f7ee16d8729</td>\n      <td>8727b4bb-9758-4303-a132-2e120a1f89bd</td>\n      <td>8e1bdde1-0a79-4706-ac9a-0d0741817d48</td>\n      <td>None</td>\n      <td>Baju Menyusui Azzafran Cabang Jepara</td>\n      <td>-6.581680</td>\n      <td>...</td>\n      <td>None</td>\n      <td>None</td>\n      <td>False</td>\n      <td>None</td>\n      <td>None</td>\n      <td>None</td>\n      <td>ChIJkf4tUxYfcS4Rjjnj8Axroyk</td>\n      <td>True</td>\n      <td>https://maps.google.com/?cid=3000359480084085134</td>\n      <td>clothing_store, point_of_interest, store, esta...</td>\n    </tr>\n    <tr>\n      <th>6867</th>\n      <td>8db3acd4-b824-4a6a-95c8-d814fcb1fa9e</td>\n      <td>None</td>\n      <td>None</td>\n      <td>f3502b89-a312-4a51-afad-64c005540214</td>\n      <td>e15f9692-c4bb-4f39-8ed2-6f7ee16d8729</td>\n      <td>8727b4bb-9758-4303-a132-2e120a1f89bd</td>\n      <td>8e1bdde1-0a79-4706-ac9a-0d0741817d48</td>\n      <td>None</td>\n      <td>Toko Kembang Bu Sri Mini</td>\n      <td>-6.581510</td>\n      <td>...</td>\n      <td>22:00</td>\n      <td>None</td>\n      <td>True</td>\n      <td>06:00</td>\n      <td>22:00</td>\n      <td>None</td>\n      <td>ChIJzZrYYhkfcS4R5OeO1rRS9zc</td>\n      <td>True</td>\n      <td>https://maps.google.com/?cid=4032782927980849124</td>\n      <td>florist, store, point_of_interest, establishment</td>\n    </tr>\n    <tr>\n      <th>6868</th>\n      <td>ed9306e8-ae27-4529-96d1-762a5747e9a6</td>\n      <td>None</td>\n      <td>None</td>\n      <td>f3502b89-a312-4a51-afad-64c005540214</td>\n      <td>e15f9692-c4bb-4f39-8ed2-6f7ee16d8729</td>\n      <td>8727b4bb-9758-4303-a132-2e120a1f89bd</td>\n      <td>8e1bdde1-0a79-4706-ac9a-0d0741817d48</td>\n      <td>None</td>\n      <td>Jual Kembang</td>\n      <td>-6.581879</td>\n      <td>...</td>\n      <td>None</td>\n      <td>None</td>\n      <td>None</td>\n      <td>None</td>\n      <td>None</td>\n      <td>None</td>\n      <td>ChIJExa0VBYfcS4RiNGh9MtOR9Q</td>\n      <td>True</td>\n      <td>https://maps.google.com/?cid=15296281297276752264</td>\n      <td>florist, point_of_interest, store, establishment</td>\n    </tr>\n  </tbody>\n</table>\n<p>6869 rows × 52 columns</p>\n</div>"
          },
          "metadata": {}
        }
      ],
      "execution_count": 7
    },
    {
      "cell_type": "code",
      "source": "businesses_normalized.drop_duplicates(subset=['id'], keep='first', inplace=True)",
      "metadata": {
        "source_hash": "f83ce7f9",
        "execution_start": 1686869230621,
        "execution_millis": 11,
        "deepnote_to_be_reexecuted": false,
        "cell_id": "f3428863dc094c4ab7c7de93abf7c5d0",
        "deepnote_cell_type": "code"
      },
      "outputs": [],
      "execution_count": 8
    },
    {
      "cell_type": "code",
      "source": "businesses_normalized = _deepnote_execute_sql('SELECT * FROM businesses_normalized', 'SQL_DEEPNOTE_DATAFRAME_SQL', audit_sql_comment='', sql_cache_mode='cache_disabled')\nbusinesses_normalized",
      "metadata": {
        "source_hash": "293840d",
        "execution_start": 1686869230632,
        "execution_millis": 163,
        "sql_integration_id": "deepnote-dataframe-sql",
        "deepnote_variable_name": "businesses_normalized",
        "deepnote_to_be_reexecuted": false,
        "cell_id": "988f2689deb141438f6f4a309503833d",
        "deepnote_cell_type": "sql",
        "deepnote_sql_source": "SELECT * FROM businesses_normalized"
      },
      "outputs": [
        {
          "data": {
            "application/vnd.deepnote.sql-output-metadata+json": {
              "status": "success_no_cache",
              "size_in_bytes": 1772238
            }
          },
          "metadata": {},
          "output_type": "display_data"
        },
        {
          "output_type": "execute_result",
          "execution_count": 9,
          "data": {
            "application/vnd.deepnote.dataframe.v3+json": {
              "column_count": 52,
              "row_count": 808,
              "columns": [
                {
                  "name": "id",
                  "dtype": "object",
                  "stats": {
                    "unique_count": 808,
                    "nan_count": 0,
                    "categories": [
                      {
                        "name": "c42ff9d2-cb08-444b-9099-4ef2e94a276e",
                        "count": 1
                      },
                      {
                        "name": "d4422260-5b60-458f-a50b-b71eb07819c2",
                        "count": 1
                      },
                      {
                        "name": "806 others",
                        "count": 806
                      }
                    ]
                  }
                },
                {
                  "name": "claim_by",
                  "dtype": "object",
                  "stats": {
                    "unique_count": 0,
                    "nan_count": 808,
                    "categories": [
                      {
                        "name": "Missing",
                        "count": 808
                      }
                    ]
                  }
                },
                {
                  "name": "created_by",
                  "dtype": "object",
                  "stats": {
                    "unique_count": 0,
                    "nan_count": 808,
                    "categories": [
                      {
                        "name": "Missing",
                        "count": 808
                      }
                    ]
                  }
                },
                {
                  "name": "province_id",
                  "dtype": "object",
                  "stats": {
                    "unique_count": 3,
                    "nan_count": 0,
                    "categories": [
                      {
                        "name": "f3502b89-a312-4a51-afad-64c005540214",
                        "count": 438
                      },
                      {
                        "name": "bfe06315-c043-4c34-a77d-d8d365b2777b",
                        "count": 197
                      },
                      {
                        "name": "ece42b5b-932f-421d-88e9-91d632e58f73",
                        "count": 173
                      }
                    ]
                  }
                },
                {
                  "name": "regency_id",
                  "dtype": "object",
                  "stats": {
                    "unique_count": 9,
                    "nan_count": 0,
                    "categories": [
                      {
                        "name": "e15f9692-c4bb-4f39-8ed2-6f7ee16d8729",
                        "count": 203
                      },
                      {
                        "name": "cdbd1f65-14a4-41c6-bca3-cdd9fc532e15",
                        "count": 202
                      },
                      {
                        "name": "7 others",
                        "count": 403
                      }
                    ]
                  }
                },
                {
                  "name": "district_id",
                  "dtype": "object",
                  "stats": {
                    "unique_count": 26,
                    "nan_count": 0,
                    "categories": [
                      {
                        "name": "8234842e-3f02-45e6-8b7f-22af0e238c4f",
                        "count": 202
                      },
                      {
                        "name": "089c76ce-e389-44bf-acdc-a680f649914d",
                        "count": 191
                      },
                      {
                        "name": "24 others",
                        "count": 415
                      }
                    ]
                  }
                },
                {
                  "name": "village_id",
                  "dtype": "object",
                  "stats": {
                    "unique_count": 81,
                    "nan_count": 0,
                    "categories": [
                      {
                        "name": "3e787eb5-cbfa-412c-bf2e-15ac63bb97ba",
                        "count": 84
                      },
                      {
                        "name": "fe9c36d9-ddaa-44c6-9815-ff03b67d78e2",
                        "count": 71
                      },
                      {
                        "name": "79 others",
                        "count": 653
                      }
                    ]
                  }
                },
                {
                  "name": "username",
                  "dtype": "object",
                  "stats": {
                    "unique_count": 0,
                    "nan_count": 808,
                    "categories": [
                      {
                        "name": "Missing",
                        "count": 808
                      }
                    ]
                  }
                },
                {
                  "name": "name",
                  "dtype": "object",
                  "stats": {
                    "unique_count": 793,
                    "nan_count": 0,
                    "categories": [
                      {
                        "name": "Alfamart",
                        "count": 6
                      },
                      {
                        "name": "MR.DIY",
                        "count": 5
                      },
                      {
                        "name": "791 others",
                        "count": 797
                      }
                    ]
                  }
                },
                {
                  "name": "latitude",
                  "dtype": "float64",
                  "stats": {
                    "unique_count": 782,
                    "nan_count": 0,
                    "min": "-7.798692899999999",
                    "max": "-6.470847699999999",
                    "histogram": [
                      {
                        "bin_start": -7.798692899999999,
                        "bin_end": -7.665908379999999,
                        "count": 173
                      },
                      {
                        "bin_start": -7.665908379999999,
                        "bin_end": -7.533123859999999,
                        "count": 0
                      },
                      {
                        "bin_start": -7.533123859999999,
                        "bin_end": -7.400339339999999,
                        "count": 0
                      },
                      {
                        "bin_start": -7.400339339999999,
                        "bin_end": -7.267554819999999,
                        "count": 0
                      },
                      {
                        "bin_start": -7.267554819999999,
                        "bin_end": -7.1347703,
                        "count": 0
                      },
                      {
                        "bin_start": -7.1347703,
                        "bin_end": -7.001985779999999,
                        "count": 196
                      },
                      {
                        "bin_start": -7.001985779999999,
                        "bin_end": -6.869201259999999,
                        "count": 222
                      },
                      {
                        "bin_start": -6.869201259999999,
                        "bin_end": -6.736416739999999,
                        "count": 0
                      },
                      {
                        "bin_start": -6.736416739999999,
                        "bin_end": -6.60363222,
                        "count": 8
                      },
                      {
                        "bin_start": -6.60363222,
                        "bin_end": -6.470847699999999,
                        "count": 209
                      }
                    ]
                  }
                },
                {
                  "name": "longitude",
                  "dtype": "float64",
                  "stats": {
                    "unique_count": 781,
                    "nan_count": 0,
                    "min": "109.677778",
                    "max": "113.8766619",
                    "histogram": [
                      {
                        "bin_start": 109.677778,
                        "bin_end": 110.09766639,
                        "count": 213
                      },
                      {
                        "bin_start": 110.09766639,
                        "bin_end": 110.51755478,
                        "count": 173
                      },
                      {
                        "bin_start": 110.51755478,
                        "bin_end": 110.93744317000001,
                        "count": 225
                      },
                      {
                        "bin_start": 110.93744317000001,
                        "bin_end": 111.35733156,
                        "count": 0
                      },
                      {
                        "bin_start": 111.35733156,
                        "bin_end": 111.77721995,
                        "count": 0
                      },
                      {
                        "bin_start": 111.77721995,
                        "bin_end": 112.19710834,
                        "count": 0
                      },
                      {
                        "bin_start": 112.19710834,
                        "bin_end": 112.61699673,
                        "count": 0
                      },
                      {
                        "bin_start": 112.61699673,
                        "bin_end": 113.03688512000001,
                        "count": 0
                      },
                      {
                        "bin_start": 113.03688512000001,
                        "bin_end": 113.45677351,
                        "count": 0
                      },
                      {
                        "bin_start": 113.45677351,
                        "bin_end": 113.8766619,
                        "count": 197
                      }
                    ]
                  }
                },
                {
                  "name": "address",
                  "dtype": "object",
                  "stats": {
                    "unique_count": 769,
                    "nan_count": 0,
                    "categories": [
                      {
                        "name": "Jalan Trunojoyo No.126, Dalem Anyar, Bangselok",
                        "count": 6
                      },
                      {
                        "name": "Jalan Jendral Sudirman No.70, Kotabaru",
                        "count": 5
                      },
                      {
                        "name": "767 others",
                        "count": 797
                      }
                    ]
                  }
                },
                {
                  "name": "postal_code",
                  "dtype": "int64",
                  "stats": {
                    "unique_count": 67,
                    "nan_count": 0,
                    "min": "51121",
                    "max": "69493",
                    "histogram": [
                      {
                        "bin_start": 51121,
                        "bin_end": 52958.2,
                        "count": 215
                      },
                      {
                        "bin_start": 52958.2,
                        "bin_end": 54795.4,
                        "count": 0
                      },
                      {
                        "bin_start": 54795.4,
                        "bin_end": 56632.6,
                        "count": 183
                      },
                      {
                        "bin_start": 56632.6,
                        "bin_end": 58469.8,
                        "count": 0
                      },
                      {
                        "bin_start": 58469.8,
                        "bin_end": 60307,
                        "count": 218
                      },
                      {
                        "bin_start": 60307,
                        "bin_end": 62144.2,
                        "count": 0
                      },
                      {
                        "bin_start": 62144.2,
                        "bin_end": 63981.4,
                        "count": 0
                      },
                      {
                        "bin_start": 63981.4,
                        "bin_end": 65818.6,
                        "count": 0
                      },
                      {
                        "bin_start": 65818.6,
                        "bin_end": 67655.8,
                        "count": 0
                      },
                      {
                        "bin_start": 67655.8,
                        "bin_end": 69493,
                        "count": 192
                      }
                    ]
                  }
                },
                {
                  "name": "avatar",
                  "dtype": "object",
                  "stats": {
                    "unique_count": 0,
                    "nan_count": 808,
                    "categories": [
                      {
                        "name": "Missing",
                        "count": 808
                      }
                    ]
                  }
                },
                {
                  "name": "description",
                  "dtype": "object",
                  "stats": {
                    "unique_count": 0,
                    "nan_count": 808,
                    "categories": [
                      {
                        "name": "Missing",
                        "count": 808
                      }
                    ]
                  }
                },
                {
                  "name": "released_at",
                  "dtype": "object",
                  "stats": {
                    "unique_count": 0,
                    "nan_count": 808,
                    "categories": [
                      {
                        "name": "Missing",
                        "count": 808
                      }
                    ]
                  }
                },
                {
                  "name": "google_maps_rating",
                  "dtype": "float64",
                  "stats": {
                    "unique_count": 27,
                    "nan_count": 0,
                    "min": "0.0",
                    "max": "5.0",
                    "histogram": [
                      {
                        "bin_start": 0,
                        "bin_end": 0.5,
                        "count": 254
                      },
                      {
                        "bin_start": 0.5,
                        "bin_end": 1,
                        "count": 0
                      },
                      {
                        "bin_start": 1,
                        "bin_end": 1.5,
                        "count": 6
                      },
                      {
                        "bin_start": 1.5,
                        "bin_end": 2,
                        "count": 0
                      },
                      {
                        "bin_start": 2,
                        "bin_end": 2.5,
                        "count": 1
                      },
                      {
                        "bin_start": 2.5,
                        "bin_end": 3,
                        "count": 7
                      },
                      {
                        "bin_start": 3,
                        "bin_end": 3.5,
                        "count": 22
                      },
                      {
                        "bin_start": 3.5,
                        "bin_end": 4,
                        "count": 49
                      },
                      {
                        "bin_start": 4,
                        "bin_end": 4.5,
                        "count": 136
                      },
                      {
                        "bin_start": 4.5,
                        "bin_end": 5,
                        "count": 333
                      }
                    ]
                  }
                },
                {
                  "name": "created_at",
                  "dtype": "datetime64[ns]",
                  "stats": {
                    "unique_count": 16,
                    "nan_count": 0,
                    "min": "2023-06-15 22:46:22",
                    "max": "2023-06-15 22:46:37",
                    "histogram": [
                      {
                        "bin_start": 1686869182000000000,
                        "bin_end": 1686869183500000000,
                        "count": 76
                      },
                      {
                        "bin_start": 1686869183500000000,
                        "bin_end": 1686869185000000000,
                        "count": 54
                      },
                      {
                        "bin_start": 1686869185000000000,
                        "bin_end": 1686869186500000000,
                        "count": 116
                      },
                      {
                        "bin_start": 1686869186500000000,
                        "bin_end": 1686869188000000000,
                        "count": 55
                      },
                      {
                        "bin_start": 1686869188000000000,
                        "bin_end": 1686869189500000000,
                        "count": 109
                      },
                      {
                        "bin_start": 1686869189500000000,
                        "bin_end": 1686869191000000000,
                        "count": 52
                      },
                      {
                        "bin_start": 1686869191000000000,
                        "bin_end": 1686869192500000000,
                        "count": 111
                      },
                      {
                        "bin_start": 1686869192500000000,
                        "bin_end": 1686869194000000000,
                        "count": 62
                      },
                      {
                        "bin_start": 1686869194000000000,
                        "bin_end": 1686869195500000000,
                        "count": 109
                      },
                      {
                        "bin_start": 1686869195500000000,
                        "bin_end": 1686869197000000000,
                        "count": 64
                      }
                    ]
                  }
                },
                {
                  "name": "updated_at",
                  "dtype": "object",
                  "stats": {
                    "unique_count": 0,
                    "nan_count": 808,
                    "categories": [
                      {
                        "name": "Missing",
                        "count": 808
                      }
                    ]
                  }
                },
                {
                  "name": "deleted_at",
                  "dtype": "object",
                  "stats": {
                    "unique_count": 0,
                    "nan_count": 808,
                    "categories": [
                      {
                        "name": "Missing",
                        "count": 808
                      }
                    ]
                  }
                },
                {
                  "name": "is_monday_open",
                  "dtype": "object",
                  "stats": {
                    "unique_count": 2,
                    "nan_count": 259,
                    "categories": [
                      {
                        "name": "True",
                        "count": 480
                      },
                      {
                        "name": "False",
                        "count": 69
                      },
                      {
                        "name": "Missing",
                        "count": 259
                      }
                    ]
                  }
                },
                {
                  "name": "monday_start_time",
                  "dtype": "object",
                  "stats": {
                    "unique_count": 25,
                    "nan_count": 362,
                    "categories": [
                      {
                        "name": "08:00",
                        "count": 148
                      },
                      {
                        "name": "24 others",
                        "count": 298
                      },
                      {
                        "name": "Missing",
                        "count": 362
                      }
                    ]
                  }
                },
                {
                  "name": "monday_end_time",
                  "dtype": "object",
                  "stats": {
                    "unique_count": 33,
                    "nan_count": 362,
                    "categories": [
                      {
                        "name": "21:00",
                        "count": 131
                      },
                      {
                        "name": "32 others",
                        "count": 315
                      },
                      {
                        "name": "Missing",
                        "count": 362
                      }
                    ]
                  }
                },
                {
                  "name": "monday_notes",
                  "dtype": "object",
                  "stats": {
                    "unique_count": 0,
                    "nan_count": 808,
                    "categories": [
                      {
                        "name": "Missing",
                        "count": 808
                      }
                    ]
                  }
                },
                {
                  "name": "is_tuesday_open",
                  "dtype": "object",
                  "stats": {
                    "unique_count": 2,
                    "nan_count": 259,
                    "categories": [
                      {
                        "name": "True",
                        "count": 482
                      },
                      {
                        "name": "False",
                        "count": 67
                      },
                      {
                        "name": "Missing",
                        "count": 259
                      }
                    ]
                  }
                },
                {
                  "name": "tuesday_start_time",
                  "dtype": "object",
                  "stats": {
                    "unique_count": 25,
                    "nan_count": 360,
                    "categories": [
                      {
                        "name": "08:00",
                        "count": 150
                      },
                      {
                        "name": "24 others",
                        "count": 298
                      },
                      {
                        "name": "Missing",
                        "count": 360
                      }
                    ]
                  }
                },
                {
                  "name": "tuesday_end_time",
                  "dtype": "object",
                  "stats": {
                    "unique_count": 33,
                    "nan_count": 360,
                    "categories": [
                      {
                        "name": "21:00",
                        "count": 132
                      },
                      {
                        "name": "32 others",
                        "count": 316
                      },
                      {
                        "name": "Missing",
                        "count": 360
                      }
                    ]
                  }
                },
                {
                  "name": "tuesday_notes",
                  "dtype": "object",
                  "stats": {
                    "unique_count": 0,
                    "nan_count": 808,
                    "categories": [
                      {
                        "name": "Missing",
                        "count": 808
                      }
                    ]
                  }
                },
                {
                  "name": "is_wednesday_open",
                  "dtype": "object",
                  "stats": {
                    "unique_count": 2,
                    "nan_count": 259,
                    "categories": [
                      {
                        "name": "True",
                        "count": 482
                      },
                      {
                        "name": "False",
                        "count": 67
                      },
                      {
                        "name": "Missing",
                        "count": 259
                      }
                    ]
                  }
                },
                {
                  "name": "wednesday_start_time",
                  "dtype": "object",
                  "stats": {
                    "unique_count": 26,
                    "nan_count": 360,
                    "categories": [
                      {
                        "name": "08:00",
                        "count": 148
                      },
                      {
                        "name": "25 others",
                        "count": 300
                      },
                      {
                        "name": "Missing",
                        "count": 360
                      }
                    ]
                  }
                },
                {
                  "name": "wednesday_end_time",
                  "dtype": "object",
                  "stats": {
                    "unique_count": 33,
                    "nan_count": 360,
                    "categories": [
                      {
                        "name": "21:00",
                        "count": 133
                      },
                      {
                        "name": "32 others",
                        "count": 315
                      },
                      {
                        "name": "Missing",
                        "count": 360
                      }
                    ]
                  }
                },
                {
                  "name": "wednesday_notes",
                  "dtype": "object",
                  "stats": {
                    "unique_count": 0,
                    "nan_count": 808,
                    "categories": [
                      {
                        "name": "Missing",
                        "count": 808
                      }
                    ]
                  }
                },
                {
                  "name": "is_thursday_open",
                  "dtype": "object",
                  "stats": {
                    "unique_count": 2,
                    "nan_count": 259,
                    "categories": [
                      {
                        "name": "True",
                        "count": 482
                      },
                      {
                        "name": "False",
                        "count": 67
                      },
                      {
                        "name": "Missing",
                        "count": 259
                      }
                    ]
                  }
                },
                {
                  "name": "thursday_start_time",
                  "dtype": "object",
                  "stats": {
                    "unique_count": 26,
                    "nan_count": 361,
                    "categories": [
                      {
                        "name": "08:00",
                        "count": 148
                      },
                      {
                        "name": "25 others",
                        "count": 299
                      },
                      {
                        "name": "Missing",
                        "count": 361
                      }
                    ]
                  }
                },
                {
                  "name": "thursday_end_time",
                  "dtype": "object",
                  "stats": {
                    "unique_count": 35,
                    "nan_count": 361,
                    "categories": [
                      {
                        "name": "21:00",
                        "count": 133
                      },
                      {
                        "name": "34 others",
                        "count": 314
                      },
                      {
                        "name": "Missing",
                        "count": 361
                      }
                    ]
                  }
                },
                {
                  "name": "thursday_notes",
                  "dtype": "object",
                  "stats": {
                    "unique_count": 0,
                    "nan_count": 808,
                    "categories": [
                      {
                        "name": "Missing",
                        "count": 808
                      }
                    ]
                  }
                },
                {
                  "name": "is_friday_open",
                  "dtype": "object",
                  "stats": {
                    "unique_count": 2,
                    "nan_count": 259,
                    "categories": [
                      {
                        "name": "True",
                        "count": 477
                      },
                      {
                        "name": "False",
                        "count": 72
                      },
                      {
                        "name": "Missing",
                        "count": 259
                      }
                    ]
                  }
                },
                {
                  "name": "friday_start_time",
                  "dtype": "object",
                  "stats": {
                    "unique_count": 26,
                    "nan_count": 374,
                    "categories": [
                      {
                        "name": "08:00",
                        "count": 144
                      },
                      {
                        "name": "25 others",
                        "count": 290
                      },
                      {
                        "name": "Missing",
                        "count": 374
                      }
                    ]
                  }
                },
                {
                  "name": "friday_end_time",
                  "dtype": "object",
                  "stats": {
                    "unique_count": 32,
                    "nan_count": 374,
                    "categories": [
                      {
                        "name": "21:00",
                        "count": 130
                      },
                      {
                        "name": "31 others",
                        "count": 304
                      },
                      {
                        "name": "Missing",
                        "count": 374
                      }
                    ]
                  }
                },
                {
                  "name": "friday_notes",
                  "dtype": "object",
                  "stats": {
                    "unique_count": 0,
                    "nan_count": 808,
                    "categories": [
                      {
                        "name": "Missing",
                        "count": 808
                      }
                    ]
                  }
                },
                {
                  "name": "is_saturday_open",
                  "dtype": "object",
                  "stats": {
                    "unique_count": 2,
                    "nan_count": 259,
                    "categories": [
                      {
                        "name": "True",
                        "count": 480
                      },
                      {
                        "name": "False",
                        "count": 69
                      },
                      {
                        "name": "Missing",
                        "count": 259
                      }
                    ]
                  }
                },
                {
                  "name": "saturday_start_time",
                  "dtype": "object",
                  "stats": {
                    "unique_count": 28,
                    "nan_count": 361,
                    "categories": [
                      {
                        "name": "08:00",
                        "count": 150
                      },
                      {
                        "name": "27 others",
                        "count": 297
                      },
                      {
                        "name": "Missing",
                        "count": 361
                      }
                    ]
                  }
                },
                {
                  "name": "saturday_end_time",
                  "dtype": "object",
                  "stats": {
                    "unique_count": 33,
                    "nan_count": 361,
                    "categories": [
                      {
                        "name": "21:00",
                        "count": 128
                      },
                      {
                        "name": "32 others",
                        "count": 319
                      },
                      {
                        "name": "Missing",
                        "count": 361
                      }
                    ]
                  }
                },
                {
                  "name": "saturday_notes",
                  "dtype": "object",
                  "stats": {
                    "unique_count": 0,
                    "nan_count": 808,
                    "categories": [
                      {
                        "name": "Missing",
                        "count": 808
                      }
                    ]
                  }
                },
                {
                  "name": "is_sunday_open",
                  "dtype": "object",
                  "stats": {
                    "unique_count": 2,
                    "nan_count": 259,
                    "categories": [
                      {
                        "name": "True",
                        "count": 419
                      },
                      {
                        "name": "False",
                        "count": 130
                      },
                      {
                        "name": "Missing",
                        "count": 259
                      }
                    ]
                  }
                },
                {
                  "name": "sunday_start_time",
                  "dtype": "object",
                  "stats": {
                    "unique_count": 26,
                    "nan_count": 416,
                    "categories": [
                      {
                        "name": "08:00",
                        "count": 121
                      },
                      {
                        "name": "25 others",
                        "count": 271
                      },
                      {
                        "name": "Missing",
                        "count": 416
                      }
                    ]
                  }
                },
                {
                  "name": "sunday_end_time",
                  "dtype": "object",
                  "stats": {
                    "unique_count": 33,
                    "nan_count": 416,
                    "categories": [
                      {
                        "name": "21:00",
                        "count": 124
                      },
                      {
                        "name": "32 others",
                        "count": 268
                      },
                      {
                        "name": "Missing",
                        "count": 416
                      }
                    ]
                  }
                },
                {
                  "name": "sunday_notes",
                  "dtype": "object",
                  "stats": {
                    "unique_count": 0,
                    "nan_count": 808,
                    "categories": [
                      {
                        "name": "Missing",
                        "count": 808
                      }
                    ]
                  }
                },
                {
                  "name": "place_id",
                  "dtype": "object",
                  "stats": {
                    "unique_count": 808,
                    "nan_count": 0,
                    "categories": [
                      {
                        "name": "ChIJzxaZ_Q8vcS4RTZ5pCVU7PW0",
                        "count": 1
                      },
                      {
                        "name": "ChIJQ305apS_cC4RNDPk4ErLn3Y",
                        "count": 1
                      },
                      {
                        "name": "806 others",
                        "count": 806
                      }
                    ]
                  }
                },
                {
                  "name": "added_from_system",
                  "dtype": "bool",
                  "stats": {
                    "unique_count": 1,
                    "nan_count": 0,
                    "categories": [
                      {
                        "name": "True",
                        "count": 808
                      }
                    ]
                  }
                },
                {
                  "name": "google_maps_link",
                  "dtype": "object",
                  "stats": {
                    "unique_count": 808,
                    "nan_count": 0,
                    "categories": [
                      {
                        "name": "https://maps.google.com/?cid=7871512960129670733",
                        "count": 1
                      },
                      {
                        "name": "https://maps.google.com/?cid=8547774140233560884",
                        "count": 1
                      },
                      {
                        "name": "806 others",
                        "count": 806
                      }
                    ]
                  }
                },
                {
                  "name": "categories",
                  "dtype": "object",
                  "stats": {
                    "unique_count": 103,
                    "nan_count": 0,
                    "categories": [
                      {
                        "name": "laundry, point_of_interest, establishment",
                        "count": 71
                      },
                      {
                        "name": "clothing_store, store, point_of_interest, establishment",
                        "count": 55
                      },
                      {
                        "name": "101 others",
                        "count": 682
                      }
                    ]
                  }
                },
                {
                  "name": "_deepnote_index_column",
                  "dtype": "int64"
                }
              ],
              "rows": [
                {
                  "id": "c42ff9d2-cb08-444b-9099-4ef2e94a276e",
                  "claim_by": "None",
                  "created_by": "None",
                  "province_id": "f3502b89-a312-4a51-afad-64c005540214",
                  "regency_id": "e15f9692-c4bb-4f39-8ed2-6f7ee16d8729",
                  "district_id": "dc4e7e74-5162-4963-8316-6f6ee1720f14",
                  "village_id": "aa154aa8-a76e-4bf9-b254-2ea96e9fa4ba",
                  "username": "None",
                  "name": "Natural bordir terminal kelet",
                  "latitude": -6.504130599999999,
                  "longitude": 110.9092122,
                  "address": "FWW5+8MW, Jalan Raya Kelet-Jepara, raya",
                  "postal_code": 55222,
                  "avatar": "None",
                  "description": "None",
                  "released_at": "None",
                  "google_maps_rating": 0,
                  "created_at": "2023-06-15 22:46:31",
                  "updated_at": "None",
                  "deleted_at": "None",
                  "is_monday_open": "None",
                  "monday_start_time": "None",
                  "monday_end_time": "None",
                  "monday_notes": "None",
                  "is_tuesday_open": "None",
                  "tuesday_start_time": "None",
                  "tuesday_end_time": "None",
                  "tuesday_notes": "None",
                  "is_wednesday_open": "None",
                  "wednesday_start_time": "None",
                  "wednesday_end_time": "None",
                  "wednesday_notes": "None",
                  "is_thursday_open": "None",
                  "thursday_start_time": "None",
                  "thursday_end_time": "None",
                  "thursday_notes": "None",
                  "is_friday_open": "None",
                  "friday_start_time": "None",
                  "friday_end_time": "None",
                  "friday_notes": "None",
                  "is_saturday_open": "None",
                  "saturday_start_time": "None",
                  "saturday_end_time": "None",
                  "saturday_notes": "None",
                  "is_sunday_open": "None",
                  "sunday_start_time": "None",
                  "sunday_end_time": "None",
                  "sunday_notes": "None",
                  "place_id": "ChIJzxaZ_Q8vcS4RTZ5pCVU7PW0",
                  "added_from_system": "True",
                  "google_maps_link": "https://maps.google.com/?cid=7871512960129670733",
                  "categories": "book_store, point_of_interest, store, establishment",
                  "_deepnote_index_column": 0
                },
                {
                  "id": "d4422260-5b60-458f-a50b-b71eb07819c2",
                  "claim_by": "None",
                  "created_by": "None",
                  "province_id": "f3502b89-a312-4a51-afad-64c005540214",
                  "regency_id": "610d56dd-edc5-4364-950c-6dad41e49e50",
                  "district_id": "001043bb-a71c-4f80-8146-a4980c53ee5c",
                  "village_id": "f56628bd-78a8-4d1f-8059-c5b09c82abf0",
                  "username": "None",
                  "name": "Wr Bakso Mbak nurul",
                  "latitude": -6.9959271,
                  "longitude": 110.7150191,
                  "address": "2P38+J2C, Babad, Babat",
                  "postal_code": 59583,
                  "avatar": "None",
                  "description": "None",
                  "released_at": "None",
                  "google_maps_rating": 0,
                  "created_at": "2023-06-15 22:46:32",
                  "updated_at": "None",
                  "deleted_at": "None",
                  "is_monday_open": "None",
                  "monday_start_time": "None",
                  "monday_end_time": "None",
                  "monday_notes": "None",
                  "is_tuesday_open": "None",
                  "tuesday_start_time": "None",
                  "tuesday_end_time": "None",
                  "tuesday_notes": "None",
                  "is_wednesday_open": "None",
                  "wednesday_start_time": "None",
                  "wednesday_end_time": "None",
                  "wednesday_notes": "None",
                  "is_thursday_open": "None",
                  "thursday_start_time": "None",
                  "thursday_end_time": "None",
                  "thursday_notes": "None",
                  "is_friday_open": "None",
                  "friday_start_time": "None",
                  "friday_end_time": "None",
                  "friday_notes": "None",
                  "is_saturday_open": "None",
                  "saturday_start_time": "None",
                  "saturday_end_time": "None",
                  "saturday_notes": "None",
                  "is_sunday_open": "None",
                  "sunday_start_time": "None",
                  "sunday_end_time": "None",
                  "sunday_notes": "None",
                  "place_id": "ChIJQ305apS_cC4RNDPk4ErLn3Y",
                  "added_from_system": "True",
                  "google_maps_link": "https://maps.google.com/?cid=8547774140233560884",
                  "categories": "cafe, food, point_of_interest, establishment",
                  "_deepnote_index_column": 1
                },
                {
                  "id": "ebfba70b-c289-4d87-a452-0f60fc4adf85",
                  "claim_by": "None",
                  "created_by": "None",
                  "province_id": "f3502b89-a312-4a51-afad-64c005540214",
                  "regency_id": "e15f9692-c4bb-4f39-8ed2-6f7ee16d8729",
                  "district_id": "8727b4bb-9758-4303-a132-2e120a1f89bd",
                  "village_id": "02aa3521-f903-483e-9de5-b92b63550516",
                  "username": "None",
                  "name": "TB Lumintu",
                  "latitude": -6.586366099999998,
                  "longitude": 110.6604641,
                  "address": "CM76+F54, Jobokuto III, Jepara",
                  "postal_code": 59416,
                  "avatar": "None",
                  "description": "None",
                  "released_at": "None",
                  "google_maps_rating": 4.1,
                  "created_at": "2023-06-15 22:46:28",
                  "updated_at": "None",
                  "deleted_at": "None",
                  "is_monday_open": "True",
                  "monday_start_time": "08:30",
                  "monday_end_time": "16:00",
                  "monday_notes": "None",
                  "is_tuesday_open": "True",
                  "tuesday_start_time": "08:30",
                  "tuesday_end_time": "16:00",
                  "tuesday_notes": "None",
                  "is_wednesday_open": "True",
                  "wednesday_start_time": "08:30",
                  "wednesday_end_time": "16:00",
                  "wednesday_notes": "None",
                  "is_thursday_open": "True",
                  "thursday_start_time": "08:30",
                  "thursday_end_time": "16:00",
                  "thursday_notes": "None",
                  "is_friday_open": "True",
                  "friday_start_time": "08:30",
                  "friday_end_time": "16:00",
                  "friday_notes": "None",
                  "is_saturday_open": "True",
                  "saturday_start_time": "08:30",
                  "saturday_end_time": "16:00",
                  "saturday_notes": "None",
                  "is_sunday_open": "True",
                  "sunday_start_time": "08:30",
                  "sunday_end_time": "16:00",
                  "sunday_notes": "None",
                  "place_id": "ChIJUxddbhofcS4RnwwUjB4Kfhc",
                  "added_from_system": "True",
                  "google_maps_link": "https://maps.google.com/?cid=1692801636253306015",
                  "categories": "hardware_store, store, point_of_interest, establishment",
                  "_deepnote_index_column": 2
                },
                {
                  "id": "ab7876ed-ae89-4591-b286-f6a4b13e64b2",
                  "claim_by": "None",
                  "created_by": "None",
                  "province_id": "f3502b89-a312-4a51-afad-64c005540214",
                  "regency_id": "e15f9692-c4bb-4f39-8ed2-6f7ee16d8729",
                  "district_id": "8727b4bb-9758-4303-a132-2e120a1f89bd",
                  "village_id": "94724ff9-1814-4a3a-8ab2-b36e2921b17c",
                  "username": "None",
                  "name": "OCTAVIA ID",
                  "latitude": -6.600195499999999,
                  "longitude": 110.6834366,
                  "address": "9MXM+W9F, Juwetan, Kecapi",
                  "postal_code": 59429,
                  "avatar": "None",
                  "description": "None",
                  "released_at": "None",
                  "google_maps_rating": 0,
                  "created_at": "2023-06-15 22:46:34",
                  "updated_at": "None",
                  "deleted_at": "None",
                  "is_monday_open": "None",
                  "monday_start_time": "None",
                  "monday_end_time": "None",
                  "monday_notes": "None",
                  "is_tuesday_open": "None",
                  "tuesday_start_time": "None",
                  "tuesday_end_time": "None",
                  "tuesday_notes": "None",
                  "is_wednesday_open": "None",
                  "wednesday_start_time": "None",
                  "wednesday_end_time": "None",
                  "wednesday_notes": "None",
                  "is_thursday_open": "None",
                  "thursday_start_time": "None",
                  "thursday_end_time": "None",
                  "thursday_notes": "None",
                  "is_friday_open": "None",
                  "friday_start_time": "None",
                  "friday_end_time": "None",
                  "friday_notes": "None",
                  "is_saturday_open": "None",
                  "saturday_start_time": "None",
                  "saturday_end_time": "None",
                  "saturday_notes": "None",
                  "is_sunday_open": "None",
                  "sunday_start_time": "None",
                  "sunday_end_time": "None",
                  "sunday_notes": "None",
                  "place_id": "ChIJodKcbNAfcS4ROXnkMckPl-g",
                  "added_from_system": "True",
                  "google_maps_link": "https://maps.google.com/?cid=16759881895082490169",
                  "categories": "florist, point_of_interest, store, establishment",
                  "_deepnote_index_column": 3
                },
                {
                  "id": "7b3c0d7b-d902-467b-ba6a-7e85dfb6ab84",
                  "claim_by": "None",
                  "created_by": "None",
                  "province_id": "f3502b89-a312-4a51-afad-64c005540214",
                  "regency_id": "a7369d7c-2cfa-45ea-b0ff-4dada6fc0097",
                  "district_id": "f5149f59-5733-4c2c-a90c-5672a3075b46",
                  "village_id": "d2eb25c6-ad46-40f7-9bce-b2783d669cfb",
                  "username": "None",
                  "name": "Bpk ngalawi (bkl. Kambing)",
                  "latitude": -6.5265653,
                  "longitude": 110.9325467,
                  "address": "Payak Tengah RT 11 RW 04, Jetir, Karangsari",
                  "postal_code": 59157,
                  "avatar": "None",
                  "description": "None",
                  "released_at": "None",
                  "google_maps_rating": 0,
                  "created_at": "2023-06-15 22:46:33",
                  "updated_at": "None",
                  "deleted_at": "None",
                  "is_monday_open": "False",
                  "monday_start_time": "None",
                  "monday_end_time": "None",
                  "monday_notes": "None",
                  "is_tuesday_open": "False",
                  "tuesday_start_time": "None",
                  "tuesday_end_time": "None",
                  "tuesday_notes": "None",
                  "is_wednesday_open": "False",
                  "wednesday_start_time": "None",
                  "wednesday_end_time": "None",
                  "wednesday_notes": "None",
                  "is_thursday_open": "False",
                  "thursday_start_time": "None",
                  "thursday_end_time": "None",
                  "thursday_notes": "None",
                  "is_friday_open": "False",
                  "friday_start_time": "None",
                  "friday_end_time": "None",
                  "friday_notes": "None",
                  "is_saturday_open": "False",
                  "saturday_start_time": "None",
                  "saturday_end_time": "None",
                  "saturday_notes": "None",
                  "is_sunday_open": "False",
                  "sunday_start_time": "None",
                  "sunday_end_time": "None",
                  "sunday_notes": "None",
                  "place_id": "ChIJoTW6xqwvcS4RDssFFrdac7s",
                  "added_from_system": "True",
                  "google_maps_link": "https://maps.google.com/?cid=13507239449809242894",
                  "categories": "pet_store, point_of_interest, store, establishment",
                  "_deepnote_index_column": 4
                },
                {
                  "id": "64b19727-22e8-4eff-a33f-5fe8827b2228",
                  "claim_by": "None",
                  "created_by": "None",
                  "province_id": "f3502b89-a312-4a51-afad-64c005540214",
                  "regency_id": "fb25f62d-ca2a-42fc-8f7f-f4cf96ba28f2",
                  "district_id": "25838c22-e295-45e3-afd6-6c39924a4297",
                  "village_id": "4e2e08be-733c-4210-bd21-db69606e4628",
                  "username": "None",
                  "name": "Cava milkshake",
                  "latitude": -6.8973442,
                  "longitude": 109.6784991,
                  "address": "Jalan R.A. Kartini No.40, RW.6, Keputran",
                  "postal_code": 51128,
                  "avatar": "None",
                  "description": "None",
                  "released_at": "None",
                  "google_maps_rating": 0,
                  "created_at": "2023-06-15 22:46:22",
                  "updated_at": "None",
                  "deleted_at": "None",
                  "is_monday_open": "None",
                  "monday_start_time": "None",
                  "monday_end_time": "None",
                  "monday_notes": "None",
                  "is_tuesday_open": "None",
                  "tuesday_start_time": "None",
                  "tuesday_end_time": "None",
                  "tuesday_notes": "None",
                  "is_wednesday_open": "None",
                  "wednesday_start_time": "None",
                  "wednesday_end_time": "None",
                  "wednesday_notes": "None",
                  "is_thursday_open": "None",
                  "thursday_start_time": "None",
                  "thursday_end_time": "None",
                  "thursday_notes": "None",
                  "is_friday_open": "None",
                  "friday_start_time": "None",
                  "friday_end_time": "None",
                  "friday_notes": "None",
                  "is_saturday_open": "None",
                  "saturday_start_time": "None",
                  "saturday_end_time": "None",
                  "saturday_notes": "None",
                  "is_sunday_open": "None",
                  "sunday_start_time": "None",
                  "sunday_end_time": "None",
                  "sunday_notes": "None",
                  "place_id": "ChIJxVCUXCclcC4RNHd7B8RYVhA",
                  "added_from_system": "True",
                  "google_maps_link": "https://maps.google.com/?cid=1177225951566329652",
                  "categories": "cafe, food, point_of_interest, establishment",
                  "_deepnote_index_column": 5
                },
                {
                  "id": "28af6bfd-3e3e-44b0-b41c-54dc4e7dbee8",
                  "claim_by": "None",
                  "created_by": "None",
                  "province_id": "f3502b89-a312-4a51-afad-64c005540214",
                  "regency_id": "e15f9692-c4bb-4f39-8ed2-6f7ee16d8729",
                  "district_id": "385a5a58-1c1f-44a4-948b-4ed912a4fe8d",
                  "village_id": "94724ff9-1814-4a3a-8ab2-b36e2921b17c",
                  "username": "None",
                  "name": "ayam bangkok jepara",
                  "latitude": -6.593909099999999,
                  "longitude": 110.684974,
                  "address": "CM4M+CXQ, Jalan RMP. Sosrokartono, Grombongan, Kecapi",
                  "postal_code": 59429,
                  "avatar": "None",
                  "description": "None",
                  "released_at": "None",
                  "google_maps_rating": 5,
                  "created_at": "2023-06-15 22:46:33",
                  "updated_at": "None",
                  "deleted_at": "None",
                  "is_monday_open": "False",
                  "monday_start_time": "None",
                  "monday_end_time": "None",
                  "monday_notes": "None",
                  "is_tuesday_open": "False",
                  "tuesday_start_time": "None",
                  "tuesday_end_time": "None",
                  "tuesday_notes": "None",
                  "is_wednesday_open": "False",
                  "wednesday_start_time": "None",
                  "wednesday_end_time": "None",
                  "wednesday_notes": "None",
                  "is_thursday_open": "False",
                  "thursday_start_time": "None",
                  "thursday_end_time": "None",
                  "thursday_notes": "None",
                  "is_friday_open": "False",
                  "friday_start_time": "None",
                  "friday_end_time": "None",
                  "friday_notes": "None",
                  "is_saturday_open": "False",
                  "saturday_start_time": "None",
                  "saturday_end_time": "None",
                  "saturday_notes": "None",
                  "is_sunday_open": "False",
                  "sunday_start_time": "None",
                  "sunday_end_time": "None",
                  "sunday_notes": "None",
                  "place_id": "ChIJ69hQewwfcS4Rt6kyQn36tb0",
                  "added_from_system": "True",
                  "google_maps_link": "https://maps.google.com/?cid=13670107659841481143",
                  "categories": "pet_store, point_of_interest, store, establishment",
                  "_deepnote_index_column": 6
                },
                {
                  "id": "cf8aa148-b239-4e13-957a-b5b5ba798ea0",
                  "claim_by": "None",
                  "created_by": "None",
                  "province_id": "f3502b89-a312-4a51-afad-64c005540214",
                  "regency_id": "fb25f62d-ca2a-42fc-8f7f-f4cf96ba28f2",
                  "district_id": "25838c22-e295-45e3-afd6-6c39924a4297",
                  "village_id": "4e2e08be-733c-4210-bd21-db69606e4628",
                  "username": "None",
                  "name": "Angkringan Memet",
                  "latitude": -6.897316099999999,
                  "longitude": 109.6784928,
                  "address": "Jalan R.A. Kartini No.40, RW.6, Keputran",
                  "postal_code": 51128,
                  "avatar": "None",
                  "description": "None",
                  "released_at": "None",
                  "google_maps_rating": 5,
                  "created_at": "2023-06-15 22:46:23",
                  "updated_at": "None",
                  "deleted_at": "None",
                  "is_monday_open": "True",
                  "monday_start_time": "15:00",
                  "monday_end_time": "12:00",
                  "monday_notes": "None",
                  "is_tuesday_open": "True",
                  "tuesday_start_time": "15:00",
                  "tuesday_end_time": "12:00",
                  "tuesday_notes": "None",
                  "is_wednesday_open": "True",
                  "wednesday_start_time": "15:00",
                  "wednesday_end_time": "12:00",
                  "wednesday_notes": "None",
                  "is_thursday_open": "True",
                  "thursday_start_time": "15:00",
                  "thursday_end_time": "12:00",
                  "thursday_notes": "None",
                  "is_friday_open": "True",
                  "friday_start_time": "15:00",
                  "friday_end_time": "12:00",
                  "friday_notes": "None",
                  "is_saturday_open": "True",
                  "saturday_start_time": "15:00",
                  "saturday_end_time": "12:00",
                  "saturday_notes": "None",
                  "is_sunday_open": "True",
                  "sunday_start_time": "15:00",
                  "sunday_end_time": "12:00",
                  "sunday_notes": "None",
                  "place_id": "ChIJ55voFBolcC4RcoFS4YZs-nA",
                  "added_from_system": "True",
                  "google_maps_link": "https://maps.google.com/?cid=8140938602987290994",
                  "categories": "cafe, food, point_of_interest, establishment",
                  "_deepnote_index_column": 7
                },
                {
                  "id": "93c3a0cf-0dae-458f-8387-573165d3c5df",
                  "claim_by": "None",
                  "created_by": "None",
                  "province_id": "f3502b89-a312-4a51-afad-64c005540214",
                  "regency_id": "fb25f62d-ca2a-42fc-8f7f-f4cf96ba28f2",
                  "district_id": "25838c22-e295-45e3-afd6-6c39924a4297",
                  "village_id": "4e2e08be-733c-4210-bd21-db69606e4628",
                  "username": "None",
                  "name": "Angkringan gondrong",
                  "latitude": -6.897316099999999,
                  "longitude": 109.6784928,
                  "address": "Jalan R.A. Kartini No.40, RW.6, Keputran",
                  "postal_code": 51128,
                  "avatar": "None",
                  "description": "None",
                  "released_at": "None",
                  "google_maps_rating": 0,
                  "created_at": "2023-06-15 22:46:23",
                  "updated_at": "None",
                  "deleted_at": "None",
                  "is_monday_open": "None",
                  "monday_start_time": "None",
                  "monday_end_time": "None",
                  "monday_notes": "None",
                  "is_tuesday_open": "None",
                  "tuesday_start_time": "None",
                  "tuesday_end_time": "None",
                  "tuesday_notes": "None",
                  "is_wednesday_open": "None",
                  "wednesday_start_time": "None",
                  "wednesday_end_time": "None",
                  "wednesday_notes": "None",
                  "is_thursday_open": "None",
                  "thursday_start_time": "None",
                  "thursday_end_time": "None",
                  "thursday_notes": "None",
                  "is_friday_open": "None",
                  "friday_start_time": "None",
                  "friday_end_time": "None",
                  "friday_notes": "None",
                  "is_saturday_open": "None",
                  "saturday_start_time": "None",
                  "saturday_end_time": "None",
                  "saturday_notes": "None",
                  "is_sunday_open": "None",
                  "sunday_start_time": "None",
                  "sunday_end_time": "None",
                  "sunday_notes": "None",
                  "place_id": "ChIJrXKnU6glcC4R40dDi2AiGVc",
                  "added_from_system": "True",
                  "google_maps_link": "https://maps.google.com/?cid=6276085353766143971",
                  "categories": "cafe, food, point_of_interest, establishment",
                  "_deepnote_index_column": 8
                },
                {
                  "id": "012c3041-4af7-4489-b073-2e595f073ef7",
                  "claim_by": "None",
                  "created_by": "None",
                  "province_id": "f3502b89-a312-4a51-afad-64c005540214",
                  "regency_id": "fb25f62d-ca2a-42fc-8f7f-f4cf96ba28f2",
                  "district_id": "25838c22-e295-45e3-afd6-6c39924a4297",
                  "village_id": "4e2e08be-733c-4210-bd21-db69606e4628",
                  "username": "None",
                  "name": "Seblak food sundanese",
                  "latitude": -6.897263799999999,
                  "longitude": 109.6785206,
                  "address": "Jalan R.A. Kartini No.40, Keputran",
                  "postal_code": 51128,
                  "avatar": "None",
                  "description": "None",
                  "released_at": "None",
                  "google_maps_rating": 4,
                  "created_at": "2023-06-15 22:46:24",
                  "updated_at": "None",
                  "deleted_at": "None",
                  "is_monday_open": "None",
                  "monday_start_time": "None",
                  "monday_end_time": "None",
                  "monday_notes": "None",
                  "is_tuesday_open": "None",
                  "tuesday_start_time": "None",
                  "tuesday_end_time": "None",
                  "tuesday_notes": "None",
                  "is_wednesday_open": "None",
                  "wednesday_start_time": "None",
                  "wednesday_end_time": "None",
                  "wednesday_notes": "None",
                  "is_thursday_open": "None",
                  "thursday_start_time": "None",
                  "thursday_end_time": "None",
                  "thursday_notes": "None",
                  "is_friday_open": "None",
                  "friday_start_time": "None",
                  "friday_end_time": "None",
                  "friday_notes": "None",
                  "is_saturday_open": "None",
                  "saturday_start_time": "None",
                  "saturday_end_time": "None",
                  "saturday_notes": "None",
                  "is_sunday_open": "None",
                  "sunday_start_time": "None",
                  "sunday_end_time": "None",
                  "sunday_notes": "None",
                  "place_id": "ChIJrX1IizokcC4RlOXRvabIipY",
                  "added_from_system": "True",
                  "google_maps_link": "https://maps.google.com/?cid=10847703270950036884",
                  "categories": "cafe, food, point_of_interest, establishment",
                  "_deepnote_index_column": 9
                }
              ]
            },
            "text/plain": "                                       id claim_by created_by  \\\n0    c42ff9d2-cb08-444b-9099-4ef2e94a276e     None       None   \n1    d4422260-5b60-458f-a50b-b71eb07819c2     None       None   \n2    ebfba70b-c289-4d87-a452-0f60fc4adf85     None       None   \n3    ab7876ed-ae89-4591-b286-f6a4b13e64b2     None       None   \n4    7b3c0d7b-d902-467b-ba6a-7e85dfb6ab84     None       None   \n..                                    ...      ...        ...   \n803  d358efcd-bb81-4444-a2a9-04e5c4fffae6     None       None   \n804  e706dffe-9c18-493b-a54f-7aa4dfa53a09     None       None   \n805  8e8d9c7e-4115-4dee-8192-cc9de5f91d80     None       None   \n806  8ef8259f-f8bc-4e6d-b298-8c41a91c611d     None       None   \n807  82694d29-adf8-45a0-a554-7d86552bbbed     None       None   \n\n                              province_id  \\\n0    f3502b89-a312-4a51-afad-64c005540214   \n1    f3502b89-a312-4a51-afad-64c005540214   \n2    f3502b89-a312-4a51-afad-64c005540214   \n3    f3502b89-a312-4a51-afad-64c005540214   \n4    f3502b89-a312-4a51-afad-64c005540214   \n..                                    ...   \n803  bfe06315-c043-4c34-a77d-d8d365b2777b   \n804  bfe06315-c043-4c34-a77d-d8d365b2777b   \n805  bfe06315-c043-4c34-a77d-d8d365b2777b   \n806  bfe06315-c043-4c34-a77d-d8d365b2777b   \n807  bfe06315-c043-4c34-a77d-d8d365b2777b   \n\n                               regency_id  \\\n0    e15f9692-c4bb-4f39-8ed2-6f7ee16d8729   \n1    610d56dd-edc5-4364-950c-6dad41e49e50   \n2    e15f9692-c4bb-4f39-8ed2-6f7ee16d8729   \n3    e15f9692-c4bb-4f39-8ed2-6f7ee16d8729   \n4    a7369d7c-2cfa-45ea-b0ff-4dada6fc0097   \n..                                    ...   \n803  9b8e9781-5951-4fa7-b4a0-94990c7d5b65   \n804  9b8e9781-5951-4fa7-b4a0-94990c7d5b65   \n805  9b8e9781-5951-4fa7-b4a0-94990c7d5b65   \n806  9b8e9781-5951-4fa7-b4a0-94990c7d5b65   \n807  9b8e9781-5951-4fa7-b4a0-94990c7d5b65   \n\n                              district_id  \\\n0    dc4e7e74-5162-4963-8316-6f6ee1720f14   \n1    001043bb-a71c-4f80-8146-a4980c53ee5c   \n2    8727b4bb-9758-4303-a132-2e120a1f89bd   \n3    8727b4bb-9758-4303-a132-2e120a1f89bd   \n4    f5149f59-5733-4c2c-a90c-5672a3075b46   \n..                                    ...   \n803  089c76ce-e389-44bf-acdc-a680f649914d   \n804  089c76ce-e389-44bf-acdc-a680f649914d   \n805  089c76ce-e389-44bf-acdc-a680f649914d   \n806  530da545-4b71-4ef0-80a2-24c9480f6f20   \n807  089c76ce-e389-44bf-acdc-a680f649914d   \n\n                               village_id username  \\\n0    aa154aa8-a76e-4bf9-b254-2ea96e9fa4ba     None   \n1    f56628bd-78a8-4d1f-8059-c5b09c82abf0     None   \n2    02aa3521-f903-483e-9de5-b92b63550516     None   \n3    94724ff9-1814-4a3a-8ab2-b36e2921b17c     None   \n4    d2eb25c6-ad46-40f7-9bce-b2783d669cfb     None   \n..                                    ...      ...   \n803  fe9c36d9-ddaa-44c6-9815-ff03b67d78e2     None   \n804  fe9c36d9-ddaa-44c6-9815-ff03b67d78e2     None   \n805  fe9c36d9-ddaa-44c6-9815-ff03b67d78e2     None   \n806  fe9c36d9-ddaa-44c6-9815-ff03b67d78e2     None   \n807  fe9c36d9-ddaa-44c6-9815-ff03b67d78e2     None   \n\n                              name  latitude  ...  saturday_end_time  \\\n0    Natural bordir terminal kelet -6.504131  ...               None   \n1              Wr Bakso Mbak nurul -6.995927  ...               None   \n2                       TB Lumintu -6.586366  ...              16:00   \n3                       OCTAVIA ID -6.600195  ...               None   \n4       Bpk ngalawi (bkl. Kambing) -6.526565  ...               None   \n..                             ...       ...  ...                ...   \n803            Ayam Geprek aa zaky -7.009557  ...               None   \n804              Warung Barokah 01 -7.010116  ...               None   \n805                Toko Eka Bhakti -7.007243  ...               None   \n806               Bakso Tiara yung -7.009557  ...               None   \n807                Sri Wahyuni Kue -7.009459  ...               None   \n\n    saturday_notes  is_sunday_open sunday_start_time sunday_end_time  \\\n0             None            None              None            None   \n1             None            None              None            None   \n2             None            True             08:30           16:00   \n3             None            None              None            None   \n4             None           False              None            None   \n..             ...             ...               ...             ...   \n803           None            None              None            None   \n804           None            None              None            None   \n805           None            None              None            None   \n806           None            None              None            None   \n807           None            None              None            None   \n\n    sunday_notes                     place_id added_from_system  \\\n0           None  ChIJzxaZ_Q8vcS4RTZ5pCVU7PW0              True   \n1           None  ChIJQ305apS_cC4RNDPk4ErLn3Y              True   \n2           None  ChIJUxddbhofcS4RnwwUjB4Kfhc              True   \n3           None  ChIJodKcbNAfcS4ROXnkMckPl-g              True   \n4           None  ChIJoTW6xqwvcS4RDssFFrdac7s              True   \n..           ...                          ...               ...   \n803         None  ChIJ66Ml50Ln2S0RXyIgrzbwMxI              True   \n804         None  ChIJj97hC2Hl2S0RXgeu4fCJP_4              True   \n805         None  ChIJBW8wcajl2S0RmWIPC2wBz3c              True   \n806         None  ChIJwYRg2yHn2S0RiWpLjPPGY1g              True   \n807         None  ChIJs4ELvUPn2S0RvLKMizX-IvE              True   \n\n                                      google_maps_link  \\\n0     https://maps.google.com/?cid=7871512960129670733   \n1     https://maps.google.com/?cid=8547774140233560884   \n2     https://maps.google.com/?cid=1692801636253306015   \n3    https://maps.google.com/?cid=16759881895082490169   \n4    https://maps.google.com/?cid=13507239449809242894   \n..                                                 ...   \n803   https://maps.google.com/?cid=1311656034151965279   \n804  https://maps.google.com/?cid=18320513476837902174   \n805   https://maps.google.com/?cid=8633120574246183577   \n806   https://maps.google.com/?cid=6369153047365118601   \n807  https://maps.google.com/?cid=17375729818276770492   \n\n                                            categories  \n0    book_store, point_of_interest, store, establis...  \n1         cafe, food, point_of_interest, establishment  \n2    hardware_store, store, point_of_interest, esta...  \n3     florist, point_of_interest, store, establishment  \n4    pet_store, point_of_interest, store, establish...  \n..                                                 ...  \n803  restaurant, food, point_of_interest, establish...  \n804  restaurant, food, point_of_interest, establish...  \n805  clothing_store, store, point_of_interest, esta...  \n806  restaurant, food, point_of_interest, establish...  \n807  bakery, food, store, point_of_interest, establ...  \n\n[808 rows x 52 columns]",
            "text/html": "<div>\n<style scoped>\n    .dataframe tbody tr th:only-of-type {\n        vertical-align: middle;\n    }\n\n    .dataframe tbody tr th {\n        vertical-align: top;\n    }\n\n    .dataframe thead th {\n        text-align: right;\n    }\n</style>\n<table border=\"1\" class=\"dataframe\">\n  <thead>\n    <tr style=\"text-align: right;\">\n      <th></th>\n      <th>id</th>\n      <th>claim_by</th>\n      <th>created_by</th>\n      <th>province_id</th>\n      <th>regency_id</th>\n      <th>district_id</th>\n      <th>village_id</th>\n      <th>username</th>\n      <th>name</th>\n      <th>latitude</th>\n      <th>...</th>\n      <th>saturday_end_time</th>\n      <th>saturday_notes</th>\n      <th>is_sunday_open</th>\n      <th>sunday_start_time</th>\n      <th>sunday_end_time</th>\n      <th>sunday_notes</th>\n      <th>place_id</th>\n      <th>added_from_system</th>\n      <th>google_maps_link</th>\n      <th>categories</th>\n    </tr>\n  </thead>\n  <tbody>\n    <tr>\n      <th>0</th>\n      <td>c42ff9d2-cb08-444b-9099-4ef2e94a276e</td>\n      <td>None</td>\n      <td>None</td>\n      <td>f3502b89-a312-4a51-afad-64c005540214</td>\n      <td>e15f9692-c4bb-4f39-8ed2-6f7ee16d8729</td>\n      <td>dc4e7e74-5162-4963-8316-6f6ee1720f14</td>\n      <td>aa154aa8-a76e-4bf9-b254-2ea96e9fa4ba</td>\n      <td>None</td>\n      <td>Natural bordir terminal kelet</td>\n      <td>-6.504131</td>\n      <td>...</td>\n      <td>None</td>\n      <td>None</td>\n      <td>None</td>\n      <td>None</td>\n      <td>None</td>\n      <td>None</td>\n      <td>ChIJzxaZ_Q8vcS4RTZ5pCVU7PW0</td>\n      <td>True</td>\n      <td>https://maps.google.com/?cid=7871512960129670733</td>\n      <td>book_store, point_of_interest, store, establis...</td>\n    </tr>\n    <tr>\n      <th>1</th>\n      <td>d4422260-5b60-458f-a50b-b71eb07819c2</td>\n      <td>None</td>\n      <td>None</td>\n      <td>f3502b89-a312-4a51-afad-64c005540214</td>\n      <td>610d56dd-edc5-4364-950c-6dad41e49e50</td>\n      <td>001043bb-a71c-4f80-8146-a4980c53ee5c</td>\n      <td>f56628bd-78a8-4d1f-8059-c5b09c82abf0</td>\n      <td>None</td>\n      <td>Wr Bakso Mbak nurul</td>\n      <td>-6.995927</td>\n      <td>...</td>\n      <td>None</td>\n      <td>None</td>\n      <td>None</td>\n      <td>None</td>\n      <td>None</td>\n      <td>None</td>\n      <td>ChIJQ305apS_cC4RNDPk4ErLn3Y</td>\n      <td>True</td>\n      <td>https://maps.google.com/?cid=8547774140233560884</td>\n      <td>cafe, food, point_of_interest, establishment</td>\n    </tr>\n    <tr>\n      <th>2</th>\n      <td>ebfba70b-c289-4d87-a452-0f60fc4adf85</td>\n      <td>None</td>\n      <td>None</td>\n      <td>f3502b89-a312-4a51-afad-64c005540214</td>\n      <td>e15f9692-c4bb-4f39-8ed2-6f7ee16d8729</td>\n      <td>8727b4bb-9758-4303-a132-2e120a1f89bd</td>\n      <td>02aa3521-f903-483e-9de5-b92b63550516</td>\n      <td>None</td>\n      <td>TB Lumintu</td>\n      <td>-6.586366</td>\n      <td>...</td>\n      <td>16:00</td>\n      <td>None</td>\n      <td>True</td>\n      <td>08:30</td>\n      <td>16:00</td>\n      <td>None</td>\n      <td>ChIJUxddbhofcS4RnwwUjB4Kfhc</td>\n      <td>True</td>\n      <td>https://maps.google.com/?cid=1692801636253306015</td>\n      <td>hardware_store, store, point_of_interest, esta...</td>\n    </tr>\n    <tr>\n      <th>3</th>\n      <td>ab7876ed-ae89-4591-b286-f6a4b13e64b2</td>\n      <td>None</td>\n      <td>None</td>\n      <td>f3502b89-a312-4a51-afad-64c005540214</td>\n      <td>e15f9692-c4bb-4f39-8ed2-6f7ee16d8729</td>\n      <td>8727b4bb-9758-4303-a132-2e120a1f89bd</td>\n      <td>94724ff9-1814-4a3a-8ab2-b36e2921b17c</td>\n      <td>None</td>\n      <td>OCTAVIA ID</td>\n      <td>-6.600195</td>\n      <td>...</td>\n      <td>None</td>\n      <td>None</td>\n      <td>None</td>\n      <td>None</td>\n      <td>None</td>\n      <td>None</td>\n      <td>ChIJodKcbNAfcS4ROXnkMckPl-g</td>\n      <td>True</td>\n      <td>https://maps.google.com/?cid=16759881895082490169</td>\n      <td>florist, point_of_interest, store, establishment</td>\n    </tr>\n    <tr>\n      <th>4</th>\n      <td>7b3c0d7b-d902-467b-ba6a-7e85dfb6ab84</td>\n      <td>None</td>\n      <td>None</td>\n      <td>f3502b89-a312-4a51-afad-64c005540214</td>\n      <td>a7369d7c-2cfa-45ea-b0ff-4dada6fc0097</td>\n      <td>f5149f59-5733-4c2c-a90c-5672a3075b46</td>\n      <td>d2eb25c6-ad46-40f7-9bce-b2783d669cfb</td>\n      <td>None</td>\n      <td>Bpk ngalawi (bkl. Kambing)</td>\n      <td>-6.526565</td>\n      <td>...</td>\n      <td>None</td>\n      <td>None</td>\n      <td>False</td>\n      <td>None</td>\n      <td>None</td>\n      <td>None</td>\n      <td>ChIJoTW6xqwvcS4RDssFFrdac7s</td>\n      <td>True</td>\n      <td>https://maps.google.com/?cid=13507239449809242894</td>\n      <td>pet_store, point_of_interest, store, establish...</td>\n    </tr>\n    <tr>\n      <th>...</th>\n      <td>...</td>\n      <td>...</td>\n      <td>...</td>\n      <td>...</td>\n      <td>...</td>\n      <td>...</td>\n      <td>...</td>\n      <td>...</td>\n      <td>...</td>\n      <td>...</td>\n      <td>...</td>\n      <td>...</td>\n      <td>...</td>\n      <td>...</td>\n      <td>...</td>\n      <td>...</td>\n      <td>...</td>\n      <td>...</td>\n      <td>...</td>\n      <td>...</td>\n      <td>...</td>\n    </tr>\n    <tr>\n      <th>803</th>\n      <td>d358efcd-bb81-4444-a2a9-04e5c4fffae6</td>\n      <td>None</td>\n      <td>None</td>\n      <td>bfe06315-c043-4c34-a77d-d8d365b2777b</td>\n      <td>9b8e9781-5951-4fa7-b4a0-94990c7d5b65</td>\n      <td>089c76ce-e389-44bf-acdc-a680f649914d</td>\n      <td>fe9c36d9-ddaa-44c6-9815-ff03b67d78e2</td>\n      <td>None</td>\n      <td>Ayam Geprek aa zaky</td>\n      <td>-7.009557</td>\n      <td>...</td>\n      <td>None</td>\n      <td>None</td>\n      <td>None</td>\n      <td>None</td>\n      <td>None</td>\n      <td>None</td>\n      <td>ChIJ66Ml50Ln2S0RXyIgrzbwMxI</td>\n      <td>True</td>\n      <td>https://maps.google.com/?cid=1311656034151965279</td>\n      <td>restaurant, food, point_of_interest, establish...</td>\n    </tr>\n    <tr>\n      <th>804</th>\n      <td>e706dffe-9c18-493b-a54f-7aa4dfa53a09</td>\n      <td>None</td>\n      <td>None</td>\n      <td>bfe06315-c043-4c34-a77d-d8d365b2777b</td>\n      <td>9b8e9781-5951-4fa7-b4a0-94990c7d5b65</td>\n      <td>089c76ce-e389-44bf-acdc-a680f649914d</td>\n      <td>fe9c36d9-ddaa-44c6-9815-ff03b67d78e2</td>\n      <td>None</td>\n      <td>Warung Barokah 01</td>\n      <td>-7.010116</td>\n      <td>...</td>\n      <td>None</td>\n      <td>None</td>\n      <td>None</td>\n      <td>None</td>\n      <td>None</td>\n      <td>None</td>\n      <td>ChIJj97hC2Hl2S0RXgeu4fCJP_4</td>\n      <td>True</td>\n      <td>https://maps.google.com/?cid=18320513476837902174</td>\n      <td>restaurant, food, point_of_interest, establish...</td>\n    </tr>\n    <tr>\n      <th>805</th>\n      <td>8e8d9c7e-4115-4dee-8192-cc9de5f91d80</td>\n      <td>None</td>\n      <td>None</td>\n      <td>bfe06315-c043-4c34-a77d-d8d365b2777b</td>\n      <td>9b8e9781-5951-4fa7-b4a0-94990c7d5b65</td>\n      <td>089c76ce-e389-44bf-acdc-a680f649914d</td>\n      <td>fe9c36d9-ddaa-44c6-9815-ff03b67d78e2</td>\n      <td>None</td>\n      <td>Toko Eka Bhakti</td>\n      <td>-7.007243</td>\n      <td>...</td>\n      <td>None</td>\n      <td>None</td>\n      <td>None</td>\n      <td>None</td>\n      <td>None</td>\n      <td>None</td>\n      <td>ChIJBW8wcajl2S0RmWIPC2wBz3c</td>\n      <td>True</td>\n      <td>https://maps.google.com/?cid=8633120574246183577</td>\n      <td>clothing_store, store, point_of_interest, esta...</td>\n    </tr>\n    <tr>\n      <th>806</th>\n      <td>8ef8259f-f8bc-4e6d-b298-8c41a91c611d</td>\n      <td>None</td>\n      <td>None</td>\n      <td>bfe06315-c043-4c34-a77d-d8d365b2777b</td>\n      <td>9b8e9781-5951-4fa7-b4a0-94990c7d5b65</td>\n      <td>530da545-4b71-4ef0-80a2-24c9480f6f20</td>\n      <td>fe9c36d9-ddaa-44c6-9815-ff03b67d78e2</td>\n      <td>None</td>\n      <td>Bakso Tiara yung</td>\n      <td>-7.009557</td>\n      <td>...</td>\n      <td>None</td>\n      <td>None</td>\n      <td>None</td>\n      <td>None</td>\n      <td>None</td>\n      <td>None</td>\n      <td>ChIJwYRg2yHn2S0RiWpLjPPGY1g</td>\n      <td>True</td>\n      <td>https://maps.google.com/?cid=6369153047365118601</td>\n      <td>restaurant, food, point_of_interest, establish...</td>\n    </tr>\n    <tr>\n      <th>807</th>\n      <td>82694d29-adf8-45a0-a554-7d86552bbbed</td>\n      <td>None</td>\n      <td>None</td>\n      <td>bfe06315-c043-4c34-a77d-d8d365b2777b</td>\n      <td>9b8e9781-5951-4fa7-b4a0-94990c7d5b65</td>\n      <td>089c76ce-e389-44bf-acdc-a680f649914d</td>\n      <td>fe9c36d9-ddaa-44c6-9815-ff03b67d78e2</td>\n      <td>None</td>\n      <td>Sri Wahyuni Kue</td>\n      <td>-7.009459</td>\n      <td>...</td>\n      <td>None</td>\n      <td>None</td>\n      <td>None</td>\n      <td>None</td>\n      <td>None</td>\n      <td>None</td>\n      <td>ChIJs4ELvUPn2S0RvLKMizX-IvE</td>\n      <td>True</td>\n      <td>https://maps.google.com/?cid=17375729818276770492</td>\n      <td>bakery, food, store, point_of_interest, establ...</td>\n    </tr>\n  </tbody>\n</table>\n<p>808 rows × 52 columns</p>\n</div>"
          },
          "metadata": {}
        }
      ],
      "execution_count": 9
    },
    {
      "cell_type": "code",
      "source": "businesses_normalized.to_csv('businesses_normalized.csv', index=False)",
      "metadata": {
        "source_hash": "90d5b41f",
        "execution_start": 1686869230797,
        "execution_millis": 19,
        "deepnote_to_be_reexecuted": false,
        "cell_id": "2323b5bff75a469f8953eaa5957a9684",
        "deepnote_cell_type": "code"
      },
      "outputs": [],
      "execution_count": 10
    },
    {
      "cell_type": "markdown",
      "source": "<a style='text-decoration:none;line-height:16px;display:flex;color:#5B5B62;padding:10px;justify-content:end;' href='https://deepnote.com?utm_source=created-in-deepnote-cell&projectId=fa0ff5c2-b244-406d-b1f4-a2f4cd653e27' target=\"_blank\">\n<img alt='Created in deepnote.com' style='display:inline;max-height:16px;margin:0px;margin-right:7.5px;' src='data:image/svg+xml;base64,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' > </img>\nCreated in <span style='font-weight:600;margin-left:4px;'>Deepnote</span></a>",
      "metadata": {
        "created_in_deepnote_cell": true,
        "deepnote_cell_type": "markdown"
      }
    }
  ],
  "nbformat": 4,
  "nbformat_minor": 0,
  "metadata": {
    "deepnote": {},
    "orig_nbformat": 2,
    "deepnote_notebook_id": "1c0c308be4b04f049b9315460e4ae2dd",
    "deepnote_persisted_session": {
      "createdAt": "2023-05-31T15:21:46.020Z"
    },
    "deepnote_execution_queue": []
  }
}