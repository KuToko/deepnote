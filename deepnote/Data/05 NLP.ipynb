{
  "cells": [
    {
      "cell_type": "code",
      "source": "import tensorflow as tf\nfrom tensorflow.keras.models import Sequential\nfrom tensorflow.keras.layers import Dense, Embedding, LSTM\nfrom tensorflow.keras.preprocessing.text import Tokenizer\nfrom tensorflow.keras.preprocessing.sequence import pad_sequences\nfrom sklearn.model_selection import train_test_split\nfrom sklearn.feature_extraction.text import CountVectorizer",
      "metadata": {
        "source_hash": "c4559a56",
        "execution_start": 1686869374824,
        "execution_millis": 4139,
        "deepnote_to_be_reexecuted": false,
        "cell_id": "c7b12a39ef6a4dcf88d93023cf9eeacb",
        "deepnote_cell_type": "code"
      },
      "outputs": [
        {
          "name": "stderr",
          "text": "2023-06-15 22:49:34.777522: I tensorflow/core/platform/cpu_feature_guard.cc:193] This TensorFlow binary is optimized with oneAPI Deep Neural Network Library (oneDNN) to use the following CPU instructions in performance-critical operations:  AVX2 AVX512F AVX512_VNNI FMA\nTo enable them in other operations, rebuild TensorFlow with the appropriate compiler flags.\n2023-06-15 22:49:34.893789: I tensorflow/core/util/util.cc:169] oneDNN custom operations are on. You may see slightly different numerical results due to floating-point round-off errors from different computation orders. To turn them off, set the environment variable `TF_ENABLE_ONEDNN_OPTS=0`.\n2023-06-15 22:49:34.899549: W tensorflow/stream_executor/platform/default/dso_loader.cc:64] Could not load dynamic library 'libcudart.so.11.0'; dlerror: libcudart.so.11.0: cannot open shared object file: No such file or directory\n2023-06-15 22:49:34.899571: I tensorflow/stream_executor/cuda/cudart_stub.cc:29] Ignore above cudart dlerror if you do not have a GPU set up on your machine.\n2023-06-15 22:49:34.929154: E tensorflow/stream_executor/cuda/cuda_blas.cc:2981] Unable to register cuBLAS factory: Attempting to register factory for plugin cuBLAS when one has already been registered\n2023-06-15 22:49:35.960876: W tensorflow/stream_executor/platform/default/dso_loader.cc:64] Could not load dynamic library 'libnvinfer.so.7'; dlerror: libnvinfer.so.7: cannot open shared object file: No such file or directory\n2023-06-15 22:49:35.960935: W tensorflow/stream_executor/platform/default/dso_loader.cc:64] Could not load dynamic library 'libnvinfer_plugin.so.7'; dlerror: libnvinfer_plugin.so.7: cannot open shared object file: No such file or directory\n2023-06-15 22:49:35.960941: W tensorflow/compiler/tf2tensorrt/utils/py_utils.cc:38] TF-TRT Warning: Cannot dlopen some TensorRT libraries. If you would like to use Nvidia GPU with TensorRT, please make sure the missing libraries mentioned above are installed properly.\n",
          "output_type": "stream"
        }
      ],
      "execution_count": 1
    },
    {
      "cell_type": "code",
      "source": "businesses = _deepnote_execute_sql('SELECT serial as id, name FROM businesses', 'SQL_5C5D2FB1_2915_47AF_A658_34E9F21C61A9', audit_sql_comment='', sql_cache_mode='cache_disabled')\nbusinesses",
      "metadata": {
        "source_hash": "6ae6d57d",
        "execution_start": 1686869378962,
        "execution_millis": 4964,
        "sql_integration_id": "5c5d2fb1-2915-47af-a658-34e9f21c61a9",
        "deepnote_variable_name": "businesses",
        "deepnote_to_be_reexecuted": false,
        "cell_id": "dd5b4683ab6148eb875139050dd8e51c",
        "deepnote_cell_type": "sql",
        "deepnote_sql_source": "SELECT serial as id, name FROM businesses"
      },
      "outputs": [
        {
          "data": {
            "application/vnd.deepnote.sql-output-metadata+json": {
              "status": "success_no_cache",
              "size_in_bytes": 46050
            }
          },
          "metadata": {},
          "output_type": "display_data"
        },
        {
          "output_type": "execute_result",
          "execution_count": 2,
          "data": {
            "application/vnd.deepnote.dataframe.v3+json": {
              "column_count": 2,
              "row_count": 549,
              "columns": [
                {
                  "name": "id",
                  "dtype": "int64",
                  "stats": {
                    "unique_count": 549,
                    "nan_count": 0,
                    "min": "1",
                    "max": "549",
                    "histogram": [
                      {
                        "bin_start": 1,
                        "bin_end": 55.8,
                        "count": 55
                      },
                      {
                        "bin_start": 55.8,
                        "bin_end": 110.6,
                        "count": 55
                      },
                      {
                        "bin_start": 110.6,
                        "bin_end": 165.39999999999998,
                        "count": 55
                      },
                      {
                        "bin_start": 165.39999999999998,
                        "bin_end": 220.2,
                        "count": 55
                      },
                      {
                        "bin_start": 220.2,
                        "bin_end": 275,
                        "count": 54
                      },
                      {
                        "bin_start": 275,
                        "bin_end": 329.79999999999995,
                        "count": 55
                      },
                      {
                        "bin_start": 329.79999999999995,
                        "bin_end": 384.59999999999997,
                        "count": 55
                      },
                      {
                        "bin_start": 384.59999999999997,
                        "bin_end": 439.4,
                        "count": 55
                      },
                      {
                        "bin_start": 439.4,
                        "bin_end": 494.2,
                        "count": 55
                      },
                      {
                        "bin_start": 494.2,
                        "bin_end": 549,
                        "count": 55
                      }
                    ]
                  }
                },
                {
                  "name": "name",
                  "dtype": "object",
                  "stats": {
                    "unique_count": 542,
                    "nan_count": 0,
                    "categories": [
                      {
                        "name": "Alfamart",
                        "count": 4
                      },
                      {
                        "name": "MR.DIY",
                        "count": 3
                      },
                      {
                        "name": "540 others",
                        "count": 542
                      }
                    ]
                  }
                },
                {
                  "name": "_deepnote_index_column",
                  "dtype": "int64"
                }
              ],
              "rows": [
                {
                  "id": 1,
                  "name": "Natural bordir terminal kelet",
                  "_deepnote_index_column": 0
                },
                {
                  "id": 2,
                  "name": "Wr Bakso Mbak nurul",
                  "_deepnote_index_column": 1
                },
                {
                  "id": 3,
                  "name": "TB Lumintu",
                  "_deepnote_index_column": 2
                },
                {
                  "id": 4,
                  "name": "OCTAVIA ID",
                  "_deepnote_index_column": 3
                },
                {
                  "id": 5,
                  "name": "Bpk ngalawi (bkl. Kambing)",
                  "_deepnote_index_column": 4
                },
                {
                  "id": 6,
                  "name": "Cava milkshake",
                  "_deepnote_index_column": 5
                },
                {
                  "id": 7,
                  "name": "ayam bangkok jepara",
                  "_deepnote_index_column": 6
                },
                {
                  "id": 8,
                  "name": "Angkringan Memet",
                  "_deepnote_index_column": 7
                },
                {
                  "id": 9,
                  "name": "Angkringan gondrong",
                  "_deepnote_index_column": 8
                },
                {
                  "id": 10,
                  "name": "Seblak food sundanese",
                  "_deepnote_index_column": 9
                }
              ]
            },
            "text/plain": "      id                           name\n0      1  Natural bordir terminal kelet\n1      2            Wr Bakso Mbak nurul\n2      3                     TB Lumintu\n3      4                     OCTAVIA ID\n4      5     Bpk ngalawi (bkl. Kambing)\n..   ...                            ...\n544  545                     Nares Cell\n545  546                     Sol Sepatu\n546  547                        Ms Glow\n547  548              Basreng Mega Jaya\n548  549                 Toko Kelontong\n\n[549 rows x 2 columns]",
            "text/html": "<div>\n<style scoped>\n    .dataframe tbody tr th:only-of-type {\n        vertical-align: middle;\n    }\n\n    .dataframe tbody tr th {\n        vertical-align: top;\n    }\n\n    .dataframe thead th {\n        text-align: right;\n    }\n</style>\n<table border=\"1\" class=\"dataframe\">\n  <thead>\n    <tr style=\"text-align: right;\">\n      <th></th>\n      <th>id</th>\n      <th>name</th>\n    </tr>\n  </thead>\n  <tbody>\n    <tr>\n      <th>0</th>\n      <td>1</td>\n      <td>Natural bordir terminal kelet</td>\n    </tr>\n    <tr>\n      <th>1</th>\n      <td>2</td>\n      <td>Wr Bakso Mbak nurul</td>\n    </tr>\n    <tr>\n      <th>2</th>\n      <td>3</td>\n      <td>TB Lumintu</td>\n    </tr>\n    <tr>\n      <th>3</th>\n      <td>4</td>\n      <td>OCTAVIA ID</td>\n    </tr>\n    <tr>\n      <th>4</th>\n      <td>5</td>\n      <td>Bpk ngalawi (bkl. Kambing)</td>\n    </tr>\n    <tr>\n      <th>...</th>\n      <td>...</td>\n      <td>...</td>\n    </tr>\n    <tr>\n      <th>544</th>\n      <td>545</td>\n      <td>Nares Cell</td>\n    </tr>\n    <tr>\n      <th>545</th>\n      <td>546</td>\n      <td>Sol Sepatu</td>\n    </tr>\n    <tr>\n      <th>546</th>\n      <td>547</td>\n      <td>Ms Glow</td>\n    </tr>\n    <tr>\n      <th>547</th>\n      <td>548</td>\n      <td>Basreng Mega Jaya</td>\n    </tr>\n    <tr>\n      <th>548</th>\n      <td>549</td>\n      <td>Toko Kelontong</td>\n    </tr>\n  </tbody>\n</table>\n<p>549 rows × 2 columns</p>\n</div>"
          },
          "metadata": {}
        }
      ],
      "execution_count": 2
    },
    {
      "cell_type": "code",
      "source": "businesses.loc[businesses['id'] > len(businesses) - 1, 'id'] = len(businesses) - 1",
      "metadata": {
        "source_hash": "2243e156",
        "execution_start": 1686869383930,
        "execution_millis": 29,
        "deepnote_to_be_reexecuted": false,
        "cell_id": "acd16c5642514c90882ca55cf5f74e74",
        "deepnote_cell_type": "code"
      },
      "outputs": [],
      "execution_count": 3
    },
    {
      "cell_type": "code",
      "source": "df_businesses = businesses.set_index('id').copy()",
      "metadata": {
        "source_hash": "920a962c",
        "execution_start": 1686869383938,
        "execution_millis": 22,
        "deepnote_to_be_reexecuted": false,
        "cell_id": "c2ec758058f4414fa0c5cd0fcc4b381d",
        "deepnote_cell_type": "code"
      },
      "outputs": [],
      "execution_count": 4
    },
    {
      "cell_type": "code",
      "source": "train_data, test_data = train_test_split(df_businesses, test_size=0.2, random_state=42)",
      "metadata": {
        "source_hash": "bde7ef52",
        "execution_start": 1686869383942,
        "execution_millis": 18,
        "deepnote_to_be_reexecuted": false,
        "cell_id": "a11509dd780640758a229166939bfe59",
        "deepnote_cell_type": "code"
      },
      "outputs": [],
      "execution_count": 5
    },
    {
      "cell_type": "code",
      "source": "vectorizer = CountVectorizer()\n\nvectorizer.fit(train_data['name'])\n\ntrain_vectors = vectorizer.transform(train_data['name']).toarray()\ntest_vectors = vectorizer.transform(test_data['name']).toarray()",
      "metadata": {
        "source_hash": "aad8cebe",
        "execution_start": 1686869383992,
        "execution_millis": 2,
        "deepnote_to_be_reexecuted": false,
        "cell_id": "3663f9e7e56e4ff9b80ba735b11b8cc7",
        "deepnote_cell_type": "code"
      },
      "outputs": [],
      "execution_count": 6
    },
    {
      "cell_type": "code",
      "source": "from tensorflow.keras import layers\nmodel = tf.keras.Sequential([\n    layers.Dense(256, activation='relu', input_shape=(train_vectors.shape[1],)),\n    layers.Dense(128, activation='relu'),\n    layers.Dense(len(df_businesses), activation='softmax')\n])",
      "metadata": {
        "source_hash": "1f1533b5",
        "execution_start": 1686869383993,
        "execution_millis": 50,
        "deepnote_to_be_reexecuted": false,
        "cell_id": "aace47835fb24c359f933c1c4a04e91b",
        "deepnote_cell_type": "code"
      },
      "outputs": [
        {
          "name": "stderr",
          "text": "2023-06-15 22:49:43.967307: W tensorflow/stream_executor/platform/default/dso_loader.cc:64] Could not load dynamic library 'libcuda.so.1'; dlerror: libcuda.so.1: cannot open shared object file: No such file or directory\n2023-06-15 22:49:43.967338: W tensorflow/stream_executor/cuda/cuda_driver.cc:263] failed call to cuInit: UNKNOWN ERROR (303)\n2023-06-15 22:49:43.967352: I tensorflow/stream_executor/cuda/cuda_diagnostics.cc:156] kernel driver does not appear to be running on this host (p-fa0ff5c2-b244-406d-b1f4-a2f4cd653e27): /proc/driver/nvidia/version does not exist\n2023-06-15 22:49:43.967619: I tensorflow/core/platform/cpu_feature_guard.cc:193] This TensorFlow binary is optimized with oneAPI Deep Neural Network Library (oneDNN) to use the following CPU instructions in performance-critical operations:  AVX2 AVX512F AVX512_VNNI FMA\nTo enable them in other operations, rebuild TensorFlow with the appropriate compiler flags.\n",
          "output_type": "stream"
        }
      ],
      "execution_count": 7
    },
    {
      "cell_type": "code",
      "source": "model.compile(optimizer='adam',\n              loss='sparse_categorical_crossentropy',\n              metrics=['accuracy'])",
      "metadata": {
        "source_hash": "16b810f3",
        "execution_start": 1686869384046,
        "execution_millis": 9,
        "deepnote_to_be_reexecuted": false,
        "cell_id": "793481239bf547b1a36e27c5c1ad2d9b",
        "deepnote_cell_type": "code"
      },
      "outputs": [],
      "execution_count": 8
    },
    {
      "cell_type": "code",
      "source": "model.summary()",
      "metadata": {
        "source_hash": "4e6a3b95",
        "execution_start": 1686869384065,
        "execution_millis": 4,
        "deepnote_to_be_reexecuted": false,
        "cell_id": "9a154d45b5284e4db7a7f7a4c9486456",
        "deepnote_cell_type": "code"
      },
      "outputs": [
        {
          "name": "stdout",
          "text": "Model: \"sequential\"\n_________________________________________________________________\n Layer (type)                Output Shape              Param #   \n=================================================================\n dense (Dense)               (None, 256)               201472    \n                                                                 \n dense_1 (Dense)             (None, 128)               32896     \n                                                                 \n dense_2 (Dense)             (None, 549)               70821     \n                                                                 \n=================================================================\nTotal params: 305,189\nTrainable params: 305,189\nNon-trainable params: 0\n_________________________________________________________________\n",
          "output_type": "stream"
        }
      ],
      "execution_count": 9
    },
    {
      "cell_type": "code",
      "source": "history = model.fit(train_vectors, train_data.index, epochs=50, batch_size=32, validation_data=(test_vectors, test_data.index))",
      "metadata": {
        "source_hash": "d397188b",
        "execution_start": 1686869384112,
        "execution_millis": 7814,
        "deepnote_to_be_reexecuted": false,
        "cell_id": "b25da36560b54d579161e2860a8d5f37",
        "deepnote_cell_type": "code"
      },
      "outputs": [
        {
          "name": "stdout",
          "text": "WARNING:tensorflow:Keras is training/fitting/evaluating on array-like data. Keras may not be optimized for this format, so if your input data format is supported by TensorFlow I/O (https://github.com/tensorflow/io) we recommend using that to load a Dataset instead.\nEpoch 1/50\n12/14 [========================>.....] - ETA: 0s - loss: 6.3152 - accuracy: 0.0000e+00WARNING:tensorflow:Keras is training/fitting/evaluating on array-like data. Keras may not be optimized for this format, so if your input data format is supported by TensorFlow I/O (https://github.com/tensorflow/io) we recommend using that to load a Dataset instead.\n14/14 [==============================] - 1s 21ms/step - loss: 6.3162 - accuracy: 0.0000e+00 - val_loss: 6.3270 - val_accuracy: 0.0000e+00\nEpoch 2/50\n14/14 [==============================] - 0s 10ms/step - loss: 6.2449 - accuracy: 0.1230 - val_loss: 6.3705 - val_accuracy: 0.0000e+00\nEpoch 3/50\n14/14 [==============================] - 0s 10ms/step - loss: 6.1443 - accuracy: 0.2232 - val_loss: 6.5116 - val_accuracy: 0.0000e+00\nEpoch 4/50\n14/14 [==============================] - 0s 10ms/step - loss: 5.9861 - accuracy: 0.2096 - val_loss: 6.8907 - val_accuracy: 0.0000e+00\nEpoch 5/50\n14/14 [==============================] - 0s 10ms/step - loss: 5.7607 - accuracy: 0.1458 - val_loss: 7.5778 - val_accuracy: 0.0000e+00\nEpoch 6/50\n14/14 [==============================] - 0s 10ms/step - loss: 5.4991 - accuracy: 0.1617 - val_loss: 8.3411 - val_accuracy: 0.0000e+00\nEpoch 7/50\n14/14 [==============================] - 0s 10ms/step - loss: 5.2007 - accuracy: 0.3121 - val_loss: 9.1414 - val_accuracy: 0.0000e+00\nEpoch 8/50\n14/14 [==============================] - 0s 10ms/step - loss: 4.8259 - accuracy: 0.5421 - val_loss: 10.0230 - val_accuracy: 0.0000e+00\nEpoch 9/50\n14/14 [==============================] - 0s 21ms/step - loss: 4.3818 - accuracy: 0.7016 - val_loss: 10.9754 - val_accuracy: 0.0000e+00\nEpoch 10/50\n14/14 [==============================] - 0s 12ms/step - loss: 3.8484 - accuracy: 0.8269 - val_loss: 12.1233 - val_accuracy: 0.0000e+00\nEpoch 11/50\n14/14 [==============================] - 0s 10ms/step - loss: 3.2604 - accuracy: 0.8998 - val_loss: 13.2986 - val_accuracy: 0.0000e+00\nEpoch 12/50\n14/14 [==============================] - 0s 10ms/step - loss: 2.6422 - accuracy: 0.9157 - val_loss: 14.4449 - val_accuracy: 0.0000e+00\nEpoch 13/50\n14/14 [==============================] - 0s 11ms/step - loss: 2.0441 - accuracy: 0.9544 - val_loss: 15.6301 - val_accuracy: 0.0000e+00\nEpoch 14/50\n14/14 [==============================] - 0s 10ms/step - loss: 1.5248 - accuracy: 0.9613 - val_loss: 16.7500 - val_accuracy: 0.0000e+00\nEpoch 15/50\n14/14 [==============================] - 0s 11ms/step - loss: 1.1141 - accuracy: 0.9681 - val_loss: 17.6660 - val_accuracy: 0.0000e+00\nEpoch 16/50\n14/14 [==============================] - 0s 10ms/step - loss: 0.8033 - accuracy: 0.9772 - val_loss: 18.5435 - val_accuracy: 0.0000e+00\nEpoch 17/50\n14/14 [==============================] - 0s 11ms/step - loss: 0.5937 - accuracy: 0.9772 - val_loss: 19.2190 - val_accuracy: 0.0000e+00\nEpoch 18/50\n14/14 [==============================] - 0s 10ms/step - loss: 0.4585 - accuracy: 0.9795 - val_loss: 19.8104 - val_accuracy: 0.0000e+00\nEpoch 19/50\n14/14 [==============================] - 0s 12ms/step - loss: 0.3547 - accuracy: 0.9841 - val_loss: 20.2664 - val_accuracy: 0.0000e+00\nEpoch 20/50\n14/14 [==============================] - 0s 10ms/step - loss: 0.2874 - accuracy: 0.9818 - val_loss: 20.6620 - val_accuracy: 0.0000e+00\nEpoch 21/50\n14/14 [==============================] - 0s 10ms/step - loss: 0.2394 - accuracy: 0.9818 - val_loss: 21.0218 - val_accuracy: 0.0000e+00\nEpoch 22/50\n14/14 [==============================] - 0s 10ms/step - loss: 0.2012 - accuracy: 0.9841 - val_loss: 21.3431 - val_accuracy: 0.0000e+00\nEpoch 23/50\n14/14 [==============================] - 0s 11ms/step - loss: 0.1711 - accuracy: 0.9772 - val_loss: 21.5865 - val_accuracy: 0.0000e+00\nEpoch 24/50\n14/14 [==============================] - 0s 12ms/step - loss: 0.1501 - accuracy: 0.9818 - val_loss: 21.8322 - val_accuracy: 0.0000e+00\nEpoch 25/50\n14/14 [==============================] - 0s 10ms/step - loss: 0.1301 - accuracy: 0.9795 - val_loss: 22.0185 - val_accuracy: 0.0000e+00\nEpoch 26/50\n14/14 [==============================] - 0s 11ms/step - loss: 0.1194 - accuracy: 0.9818 - val_loss: 22.2189 - val_accuracy: 0.0000e+00\nEpoch 27/50\n14/14 [==============================] - 0s 10ms/step - loss: 0.1068 - accuracy: 0.9795 - val_loss: 22.4031 - val_accuracy: 0.0000e+00\nEpoch 28/50\n14/14 [==============================] - 0s 10ms/step - loss: 0.1001 - accuracy: 0.9772 - val_loss: 22.5537 - val_accuracy: 0.0000e+00\nEpoch 29/50\n14/14 [==============================] - 0s 10ms/step - loss: 0.0915 - accuracy: 0.9772 - val_loss: 22.6705 - val_accuracy: 0.0000e+00\nEpoch 30/50\n14/14 [==============================] - 0s 12ms/step - loss: 0.0829 - accuracy: 0.9772 - val_loss: 22.8201 - val_accuracy: 0.0000e+00\nEpoch 31/50\n14/14 [==============================] - 0s 11ms/step - loss: 0.0815 - accuracy: 0.9818 - val_loss: 22.9302 - val_accuracy: 0.0000e+00\nEpoch 32/50\n14/14 [==============================] - 0s 10ms/step - loss: 0.0723 - accuracy: 0.9841 - val_loss: 23.0495 - val_accuracy: 0.0000e+00\nEpoch 33/50\n14/14 [==============================] - 0s 11ms/step - loss: 0.0774 - accuracy: 0.9818 - val_loss: 23.1728 - val_accuracy: 0.0000e+00\nEpoch 34/50\n14/14 [==============================] - 0s 10ms/step - loss: 0.0735 - accuracy: 0.9772 - val_loss: 23.2541 - val_accuracy: 0.0000e+00\nEpoch 35/50\n14/14 [==============================] - 0s 10ms/step - loss: 0.0693 - accuracy: 0.9772 - val_loss: 23.3180 - val_accuracy: 0.0000e+00\nEpoch 36/50\n14/14 [==============================] - 0s 10ms/step - loss: 0.0609 - accuracy: 0.9818 - val_loss: 23.4156 - val_accuracy: 0.0000e+00\nEpoch 37/50\n14/14 [==============================] - 0s 12ms/step - loss: 0.0598 - accuracy: 0.9818 - val_loss: 23.5135 - val_accuracy: 0.0000e+00\nEpoch 38/50\n14/14 [==============================] - 0s 12ms/step - loss: 0.0593 - accuracy: 0.9818 - val_loss: 23.6014 - val_accuracy: 0.0000e+00\nEpoch 39/50\n14/14 [==============================] - 0s 10ms/step - loss: 0.0552 - accuracy: 0.9841 - val_loss: 23.6632 - val_accuracy: 0.0000e+00\nEpoch 40/50\n14/14 [==============================] - 0s 11ms/step - loss: 0.0571 - accuracy: 0.9818 - val_loss: 23.7234 - val_accuracy: 0.0000e+00\nEpoch 41/50\n14/14 [==============================] - 0s 9ms/step - loss: 0.0530 - accuracy: 0.9795 - val_loss: 23.8228 - val_accuracy: 0.0000e+00\nEpoch 42/50\n14/14 [==============================] - 0s 10ms/step - loss: 0.0510 - accuracy: 0.9818 - val_loss: 23.9045 - val_accuracy: 0.0000e+00\nEpoch 43/50\n14/14 [==============================] - 0s 10ms/step - loss: 0.0547 - accuracy: 0.9772 - val_loss: 23.9435 - val_accuracy: 0.0000e+00\nEpoch 44/50\n14/14 [==============================] - 0s 11ms/step - loss: 0.0521 - accuracy: 0.9772 - val_loss: 23.9970 - val_accuracy: 0.0000e+00\nEpoch 45/50\n14/14 [==============================] - 0s 11ms/step - loss: 0.0487 - accuracy: 0.9795 - val_loss: 24.0621 - val_accuracy: 0.0000e+00\nEpoch 46/50\n14/14 [==============================] - 0s 10ms/step - loss: 0.0481 - accuracy: 0.9749 - val_loss: 24.1266 - val_accuracy: 0.0000e+00\nEpoch 47/50\n14/14 [==============================] - 0s 11ms/step - loss: 0.0480 - accuracy: 0.9841 - val_loss: 24.1965 - val_accuracy: 0.0000e+00\nEpoch 48/50\n14/14 [==============================] - 0s 10ms/step - loss: 0.0494 - accuracy: 0.9795 - val_loss: 24.2415 - val_accuracy: 0.0000e+00\nEpoch 49/50\n14/14 [==============================] - 0s 9ms/step - loss: 0.0447 - accuracy: 0.9818 - val_loss: 24.2865 - val_accuracy: 0.0000e+00\nEpoch 50/50\n14/14 [==============================] - 0s 4ms/step - loss: 0.0463 - accuracy: 0.9818 - val_loss: 24.3165 - val_accuracy: 0.0000e+00\n",
          "output_type": "stream"
        }
      ],
      "execution_count": 10
    },
    {
      "cell_type": "code",
      "source": "import matplotlib.pyplot as plt\nplt.plot(history.history['accuracy'])\nplt.plot(history.history['loss'])\nplt.title('model accuracy and loss')\nplt.ylabel('training')\nplt.xlabel('epoch')\nplt.show()",
      "metadata": {
        "source_hash": "5653b216",
        "execution_start": 1686869391929,
        "execution_millis": 585,
        "deepnote_to_be_reexecuted": false,
        "cell_id": "ea3acba1a42c4fb997410f340c96669e",
        "deepnote_cell_type": "code"
      },
      "outputs": [
        {
          "data": {
            "text/plain": "<Figure size 640x480 with 1 Axes>",
            "image/png": "[encoded data removed]"
          },
          "metadata": {
            "image/png": {
              "width": 554,
              "height": 455
            }
          },
          "output_type": "display_data"
        }
      ],
      "execution_count": 11
    },
    {
      "cell_type": "code",
      "source": "loss, accuracy = model.evaluate(test_vectors, test_data.index)\nprint('Test accuracy:', accuracy)",
      "metadata": {
        "source_hash": "63ab889b",
        "execution_start": 1686869392493,
        "execution_millis": 22,
        "deepnote_to_be_reexecuted": false,
        "cell_id": "a4799b43935c4a58b3a20bc71e3d1871",
        "deepnote_cell_type": "code"
      },
      "outputs": [
        {
          "name": "stdout",
          "text": "WARNING:tensorflow:Keras is training/fitting/evaluating on array-like data. Keras may not be optimized for this format, so if your input data format is supported by TensorFlow I/O (https://github.com/tensorflow/io) we recommend using that to load a Dataset instead.\n4/4 [==============================] - 0s 2ms/step - loss: 24.3165 - accuracy: 0.0000e+00\nTest accuracy: 0.0\n",
          "output_type": "stream"
        }
      ],
      "execution_count": 12
    },
    {
      "cell_type": "code",
      "source": "query = [\"Laundry\"]\nquery_vector = vectorizer.transform(query).toarray()\npredictions = model.predict(query_vector)",
      "metadata": {
        "source_hash": "d03de686",
        "execution_start": 1686869392496,
        "execution_millis": 97,
        "deepnote_to_be_reexecuted": false,
        "cell_id": "aa0aa72b69d74177be99f1287eb419ce",
        "deepnote_cell_type": "code"
      },
      "outputs": [
        {
          "name": "stdout",
          "text": "1/1 [==============================] - 0s 74ms/step\n",
          "output_type": "stream"
        }
      ],
      "execution_count": 13
    },
    {
      "cell_type": "code",
      "source": "similar_indices = predictions.argsort()[0][-5:]\nsimilar_business_names = df_businesses['name'].iloc[similar_indices]",
      "metadata": {
        "source_hash": "c90246d9",
        "execution_start": 1686869392590,
        "execution_millis": 3,
        "deepnote_to_be_reexecuted": false,
        "cell_id": "aed97011579a40609545397f774c7e3f",
        "deepnote_cell_type": "code"
      },
      "outputs": [],
      "execution_count": 14
    },
    {
      "cell_type": "code",
      "source": "print(\"Similar business names:\")\nfor name in similar_business_names:\n    print(name)",
      "metadata": {
        "source_hash": "9108b92f",
        "execution_start": 1686869392591,
        "execution_millis": 7,
        "deepnote_to_be_reexecuted": false,
        "cell_id": "52a20dc4ed9943faae898cd6e85aa271",
        "deepnote_cell_type": "code"
      },
      "outputs": [
        {
          "name": "stdout",
          "text": "Similar business names:\nSimping Art\nToko Buku Murah Meriah\nStruggleshoes\nSalon Shinta\nErna Laundry\n",
          "output_type": "stream"
        }
      ],
      "execution_count": 15
    },
    {
      "cell_type": "code",
      "source": "model.save('similar.h5')",
      "metadata": {
        "source_hash": "70758bb6",
        "execution_start": 1686869392597,
        "execution_millis": 37,
        "deepnote_to_be_reexecuted": false,
        "cell_id": "3baee938ba43499bb4f65762af90af83",
        "deepnote_cell_type": "code"
      },
      "outputs": [],
      "execution_count": 16
    },
    {
      "cell_type": "code",
      "source": "import joblib\n\njoblib.dump(vectorizer, \"vectorized.joblib\")",
      "metadata": {
        "source_hash": "df2445ff",
        "execution_start": 1686869392676,
        "execution_millis": 2,
        "deepnote_to_be_reexecuted": false,
        "cell_id": "080825525bad45e0946aea904205f38f",
        "deepnote_cell_type": "code"
      },
      "outputs": [
        {
          "output_type": "execute_result",
          "execution_count": 17,
          "data": {
            "text/plain": "['vectorized.joblib']"
          },
          "metadata": {}
        }
      ],
      "execution_count": 17
    },
    {
      "cell_type": "code",
      "source": "from icecream import ic\nloaded = tf.keras.models.load_model(\"similar.h5\")\nquery = [\"Angkringan Memet\"]\nvectorizer = joblib.load(\"vectorized.joblib\")\nquery_vector = vectorizer.transform(query).toarray()\npredictions = model.predict(query_vector)\nsimilar_indices = predictions.argsort()[0][-5:]\nic(similar_indices)",
      "metadata": {
        "source_hash": "473403cd",
        "execution_start": 1686869392677,
        "execution_millis": 784,
        "deepnote_to_be_reexecuted": false,
        "cell_id": "37a47b7875054d098adf0990e011caf1",
        "deepnote_cell_type": "code"
      },
      "outputs": [
        {
          "name": "stdout",
          "text": "1/1 [==============================] - 0s 19ms/step\nic| similar_indices: array([493,   9, 161,  17,   8])\n",
          "output_type": "stream"
        },
        {
          "output_type": "execute_result",
          "execution_count": 18,
          "data": {
            "text/plain": "array([493,   9, 161,  17,   8])"
          },
          "metadata": {}
        }
      ],
      "execution_count": 18
    },
    {
      "cell_type": "markdown",
      "source": "<a style='text-decoration:none;line-height:16px;display:flex;color:#5B5B62;padding:10px;justify-content:end;' href='https://deepnote.com?utm_source=created-in-deepnote-cell&projectId=fa0ff5c2-b244-406d-b1f4-a2f4cd653e27' target=\"_blank\">\n<img alt='Created in deepnote.com' style='display:inline;max-height:16px;margin:0px;margin-right:7.5px;' src='data:image/svg+xml;base64,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' > </img>\nCreated in <span style='font-weight:600;margin-left:4px;'>Deepnote</span></a>",
      "metadata": {
        "created_in_deepnote_cell": true,
        "deepnote_cell_type": "markdown"
      }
    }
  ],
  "nbformat": 4,
  "nbformat_minor": 0,
  "metadata": {
    "deepnote": {},
    "orig_nbformat": 2,
    "deepnote_notebook_id": "aa9547c031ec4ac18cfb466628aa77f0",
    "deepnote_persisted_session": {
      "createdAt": "2023-06-15T22:02:54.061Z"
    },
    "deepnote_execution_queue": []
  }
}