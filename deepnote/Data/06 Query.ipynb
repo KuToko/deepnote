{
  "cells": [
    {
      "cell_type": "markdown",
      "source": "## Nearest",
      "metadata": {
        "is_collapsed": false,
        "formattedRanges": [],
        "cell_id": "84e8867272a44173812cba0cf0a1fcf3",
        "deepnote_cell_type": "text-cell-h2"
      }
    },
    {
      "cell_type": "code",
      "source": "latitude = '-7.0079701292679175'",
      "metadata": {
        "source_hash": "aaaa98e3",
        "execution_start": 1686869411172,
        "execution_millis": 3,
        "deepnote_variable_name": "latitude",
        "deepnote_variable_value": "-7.0079701292679175",
        "deepnote_to_be_reexecuted": false,
        "cell_id": "91a5e37e381643fab4a11cb7586753df",
        "deepnote_cell_type": "input-text"
      },
      "outputs": [],
      "execution_count": 1
    },
    {
      "cell_type": "code",
      "source": "longitude = '113.86024111468386'",
      "metadata": {
        "source_hash": "bece5b23",
        "execution_start": 1686869411173,
        "execution_millis": 2,
        "deepnote_variable_name": "longitude",
        "deepnote_variable_value": "113.86024111468386",
        "deepnote_to_be_reexecuted": false,
        "cell_id": "ec7122f5a01d45dd9d048cdc8e1fc3c9",
        "deepnote_cell_type": "input-text"
      },
      "outputs": [],
      "execution_count": 2
    },
    {
      "cell_type": "markdown",
      "source": "This SQL query retrieves the top 20 businesses from a table, sorted by their distance from a specified latitude and longitude. The distance is calculated using the Haversine formula displayed in meters and kilometres, rounded to 2 decimal places.",
      "metadata": {
        "formattedRanges": [],
        "cell_id": "82f87d64ff0340b2aab2608c2b4868c7",
        "deepnote_cell_type": "text-cell-p"
      }
    },
    {
      "cell_type": "code",
      "source": "businesses = _deepnote_execute_sql('SELECT id, name,\\n       6371 * ACOS(COS(RADIANS(CAST(latitude AS FLOAT))) * COS(RADIANS(CAST({{ latitude }} AS FLOAT))) * COS(RADIANS(CAST(longitude AS FLOAT)) - RADIANS(CAST({{ longitude }} AS FLOAT))) + SIN(RADIANS(CAST(latitude AS FLOAT))) * SIN(RADIANS(CAST({{ latitude }} AS FLOAT)))) AS distance_in_m,\\n       6371 * ACOS(COS(RADIANS(CAST(latitude AS FLOAT))) * COS(RADIANS(CAST({{ latitude }} AS FLOAT))) * COS(RADIANS(CAST(longitude AS FLOAT)) - RADIANS(CAST({{ longitude }} AS FLOAT))) + SIN(RADIANS(CAST(latitude AS FLOAT))) * SIN(RADIANS(CAST({{ latitude }} AS FLOAT)))) / 1000 AS distance_in_km\\nFROM businesses\\nORDER BY distance_in_m\\nLIMIT 20', 'SQL_5C5D2FB1_2915_47AF_A658_34E9F21C61A9', audit_sql_comment='', sql_cache_mode='cache_disabled')\nbusinesses",
      "metadata": {
        "source_hash": "27a8416a",
        "execution_start": 1686869411173,
        "execution_millis": 4600,
        "sql_integration_id": "5c5d2fb1-2915-47af-a658-34e9f21c61a9",
        "deepnote_variable_name": "businesses",
        "deepnote_to_be_reexecuted": false,
        "cell_id": "bb5963a3c8044985876bd5040871cab6",
        "deepnote_cell_type": "sql",
        "deepnote_sql_source": "SELECT id, name,\n       6371 * ACOS(COS(RADIANS(CAST(latitude AS FLOAT))) * COS(RADIANS(CAST({{ latitude }} AS FLOAT))) * COS(RADIANS(CAST(longitude AS FLOAT)) - RADIANS(CAST({{ longitude }} AS FLOAT))) + SIN(RADIANS(CAST(latitude AS FLOAT))) * SIN(RADIANS(CAST({{ latitude }} AS FLOAT)))) AS distance_in_m,\n       6371 * ACOS(COS(RADIANS(CAST(latitude AS FLOAT))) * COS(RADIANS(CAST({{ latitude }} AS FLOAT))) * COS(RADIANS(CAST(longitude AS FLOAT)) - RADIANS(CAST({{ longitude }} AS FLOAT))) + SIN(RADIANS(CAST(latitude AS FLOAT))) * SIN(RADIANS(CAST({{ latitude }} AS FLOAT)))) / 1000 AS distance_in_km\nFROM businesses\nORDER BY distance_in_m\nLIMIT 20"
      },
      "outputs": [
        {
          "data": {
            "application/vnd.deepnote.sql-output-metadata+json": {
              "status": "success_no_cache",
              "size_in_bytes": 3805
            }
          },
          "metadata": {},
          "output_type": "display_data"
        },
        {
          "output_type": "execute_result",
          "execution_count": 3,
          "data": {
            "application/vnd.deepnote.dataframe.v3+json": {
              "column_count": 4,
              "row_count": 20,
              "columns": [
                {
                  "name": "id",
                  "dtype": "object",
                  "stats": {
                    "unique_count": 20,
                    "nan_count": 0,
                    "categories": [
                      {
                        "name": "0da08f84-97a6-40c4-8940-ea5310dc5ed6",
                        "count": 1
                      },
                      {
                        "name": "84d3ab41-e776-4e68-90da-45eae5f2f695",
                        "count": 1
                      },
                      {
                        "name": "18 others",
                        "count": 18
                      }
                    ]
                  }
                },
                {
                  "name": "name",
                  "dtype": "object",
                  "stats": {
                    "unique_count": 20,
                    "nan_count": 0,
                    "categories": [
                      {
                        "name": "CV. GANESA ABADI",
                        "count": 1
                      },
                      {
                        "name": "Toko Slamet Shoes",
                        "count": 1
                      },
                      {
                        "name": "18 others",
                        "count": 18
                      }
                    ]
                  }
                },
                {
                  "name": "distance_in_m",
                  "dtype": "float64",
                  "stats": {
                    "unique_count": 20,
                    "nan_count": 0,
                    "min": "1.5326202586903814",
                    "max": "331.3801060345155",
                    "histogram": [
                      {
                        "bin_start": 1.5326202586903814,
                        "bin_end": 34.517368836272894,
                        "count": 2
                      },
                      {
                        "bin_start": 34.517368836272894,
                        "bin_end": 67.50211741385542,
                        "count": 0
                      },
                      {
                        "bin_start": 67.50211741385542,
                        "bin_end": 100.48686599143794,
                        "count": 0
                      },
                      {
                        "bin_start": 100.48686599143794,
                        "bin_end": 133.47161456902043,
                        "count": 0
                      },
                      {
                        "bin_start": 133.47161456902043,
                        "bin_end": 166.45636314660294,
                        "count": 0
                      },
                      {
                        "bin_start": 166.45636314660294,
                        "bin_end": 199.44111172418548,
                        "count": 0
                      },
                      {
                        "bin_start": 199.44111172418548,
                        "bin_end": 232.42586030176798,
                        "count": 0
                      },
                      {
                        "bin_start": 232.42586030176798,
                        "bin_end": 265.4106088793505,
                        "count": 0
                      },
                      {
                        "bin_start": 265.4106088793505,
                        "bin_end": 298.395357456933,
                        "count": 0
                      },
                      {
                        "bin_start": 298.395357456933,
                        "bin_end": 331.3801060345155,
                        "count": 18
                      }
                    ]
                  }
                },
                {
                  "name": "distance_in_km",
                  "dtype": "float64",
                  "stats": {
                    "unique_count": 20,
                    "nan_count": 0,
                    "min": "0.0015326202586903813",
                    "max": "0.3313801060345155",
                    "histogram": [
                      {
                        "bin_start": 0.0015326202586903813,
                        "bin_end": 0.03451736883627289,
                        "count": 2
                      },
                      {
                        "bin_start": 0.03451736883627289,
                        "bin_end": 0.06750211741385541,
                        "count": 0
                      },
                      {
                        "bin_start": 0.06750211741385541,
                        "bin_end": 0.10048686599143791,
                        "count": 0
                      },
                      {
                        "bin_start": 0.10048686599143791,
                        "bin_end": 0.13347161456902043,
                        "count": 0
                      },
                      {
                        "bin_start": 0.13347161456902043,
                        "bin_end": 0.16645636314660295,
                        "count": 0
                      },
                      {
                        "bin_start": 0.16645636314660295,
                        "bin_end": 0.19944111172418544,
                        "count": 0
                      },
                      {
                        "bin_start": 0.19944111172418544,
                        "bin_end": 0.23242586030176796,
                        "count": 0
                      },
                      {
                        "bin_start": 0.23242586030176796,
                        "bin_end": 0.2654106088793505,
                        "count": 0
                      },
                      {
                        "bin_start": 0.2654106088793505,
                        "bin_end": 0.29839535745693296,
                        "count": 0
                      },
                      {
                        "bin_start": 0.29839535745693296,
                        "bin_end": 0.3313801060345155,
                        "count": 18
                      }
                    ]
                  }
                },
                {
                  "name": "_deepnote_index_column",
                  "dtype": "int64"
                }
              ],
              "rows": [
                {
                  "id": "0da08f84-97a6-40c4-8940-ea5310dc5ed6",
                  "name": "CV. GANESA ABADI",
                  "distance_in_m": 1.5326202586903814,
                  "distance_in_km": 0.0015326202586903813,
                  "_deepnote_index_column": 0
                },
                {
                  "id": "84d3ab41-e776-4e68-90da-45eae5f2f695",
                  "name": "Toko Slamet Shoes",
                  "distance_in_m": 1.5497755200568193,
                  "distance_in_km": 0.0015497755200568192,
                  "_deepnote_index_column": 1
                },
                {
                  "id": "c8625d7a-725a-49a2-98f5-6acd8b931bd8",
                  "name": "Megumi sandal",
                  "distance_in_m": 327.58831446531616,
                  "distance_in_km": 0.32758831446531617,
                  "_deepnote_index_column": 2
                },
                {
                  "id": "12697a49-a420-4ab5-8527-e9cdaa8799d6",
                  "name": "Bpk ngalawi (bkl. Kambing)",
                  "distance_in_m": 327.6771268514422,
                  "distance_in_km": 0.32767712685144224,
                  "_deepnote_index_column": 3
                },
                {
                  "id": "e61d82d3-5e43-4d43-a149-3bc0ff84a918",
                  "name": "Lex'a Loundry",
                  "distance_in_m": 328.5509943245039,
                  "distance_in_km": 0.3285509943245039,
                  "_deepnote_index_column": 4
                },
                {
                  "id": "a7817e0f-6220-4169-969e-5079377118c9",
                  "name": "AZ-ZAHRO.NET",
                  "distance_in_m": 328.6886438472871,
                  "distance_in_km": 0.3286886438472871,
                  "_deepnote_index_column": 5
                },
                {
                  "id": "ab27fe9d-1096-4a9e-a38c-754dbb4e5a95",
                  "name": "Toko fadhil",
                  "distance_in_m": 329.0539254734795,
                  "distance_in_km": 0.3290539254734795,
                  "_deepnote_index_column": 6
                },
                {
                  "id": "cc6f2962-81b1-44bc-9b71-384dfe5161e2",
                  "name": "Toko Mecca",
                  "distance_in_m": 329.1918409577046,
                  "distance_in_km": 0.3291918409577046,
                  "_deepnote_index_column": 7
                },
                {
                  "id": "b2e8cf4b-bc8e-46d7-ab3e-7684f8f85b80",
                  "name": "Putri Jati Furniture",
                  "distance_in_m": 329.3680836807821,
                  "distance_in_km": 0.3293680836807821,
                  "_deepnote_index_column": 8
                },
                {
                  "id": "78a1424c-47d4-46e0-a2cb-08e671447345",
                  "name": "Agen Bakpia Nayla Cluwak",
                  "distance_in_m": 329.6453663723731,
                  "distance_in_km": 0.32964536637237307,
                  "_deepnote_index_column": 9
                }
              ]
            },
            "text/plain": "                                      id                           name  \\\n0   0da08f84-97a6-40c4-8940-ea5310dc5ed6               CV. GANESA ABADI   \n1   84d3ab41-e776-4e68-90da-45eae5f2f695              Toko Slamet Shoes   \n2   c8625d7a-725a-49a2-98f5-6acd8b931bd8                  Megumi sandal   \n3   12697a49-a420-4ab5-8527-e9cdaa8799d6     Bpk ngalawi (bkl. Kambing)   \n4   e61d82d3-5e43-4d43-a149-3bc0ff84a918                  Lex'a Loundry   \n5   a7817e0f-6220-4169-969e-5079377118c9                   AZ-ZAHRO.NET   \n6   ab27fe9d-1096-4a9e-a38c-754dbb4e5a95                    Toko fadhil   \n7   cc6f2962-81b1-44bc-9b71-384dfe5161e2                     Toko Mecca   \n8   b2e8cf4b-bc8e-46d7-ab3e-7684f8f85b80           Putri Jati Furniture   \n9   78a1424c-47d4-46e0-a2cb-08e671447345       Agen Bakpia Nayla Cluwak   \n10  e7a676fa-5a87-42d7-9afc-83316ee81d1a          Rumah Kiki kanza vika   \n11  b7c999f5-2787-408e-9e90-eda2441356b7      Kangen Water Sirahan Pati   \n12  9d29ee5e-21d7-4c92-91b4-e0ace1f875f7           Radical Rebel Office   \n13  d0cdcebf-91ac-4a0c-bb35-b7e5a8cee09e                   NaRa Laundry   \n14  f057724c-2ddf-4416-8eab-67f5258cc6a0                Toko Domay food   \n15  2884c996-4ee1-4928-9ce4-b9e77424fa46           Amigos Snacks Grosir   \n16  070aea43-cfee-473e-94fc-bba0ee764714           Roti Kacang Mbak Ana   \n17  9968420d-80bf-4ad3-a60a-592d1cc7f1f1  Natural bordir terminal kelet   \n18  3b510b95-9cda-4725-906a-c2c5985daefc             Rumah setrika AZAD   \n19  b30813df-d5f9-4fcf-a0c8-34d95456d3b6                ULFA COLLECTION   \n\n    distance_in_m  distance_in_km  \n0        1.532620        0.001533  \n1        1.549776        0.001550  \n2      327.588314        0.327588  \n3      327.677127        0.327677  \n4      328.550994        0.328551  \n5      328.688644        0.328689  \n6      329.053925        0.329054  \n7      329.191841        0.329192  \n8      329.368084        0.329368  \n9      329.645366        0.329645  \n10     329.694952        0.329695  \n11     329.748766        0.329749  \n12     329.756415        0.329756  \n13     329.941512        0.329942  \n14     330.044490        0.330044  \n15     330.408283        0.330408  \n16     330.543691        0.330544  \n17     330.640277        0.330640  \n18     331.034238        0.331034  \n19     331.380106        0.331380  ",
            "text/html": "<div>\n<style scoped>\n    .dataframe tbody tr th:only-of-type {\n        vertical-align: middle;\n    }\n\n    .dataframe tbody tr th {\n        vertical-align: top;\n    }\n\n    .dataframe thead th {\n        text-align: right;\n    }\n</style>\n<table border=\"1\" class=\"dataframe\">\n  <thead>\n    <tr style=\"text-align: right;\">\n      <th></th>\n      <th>id</th>\n      <th>name</th>\n      <th>distance_in_m</th>\n      <th>distance_in_km</th>\n    </tr>\n  </thead>\n  <tbody>\n    <tr>\n      <th>0</th>\n      <td>0da08f84-97a6-40c4-8940-ea5310dc5ed6</td>\n      <td>CV. GANESA ABADI</td>\n      <td>1.532620</td>\n      <td>0.001533</td>\n    </tr>\n    <tr>\n      <th>1</th>\n      <td>84d3ab41-e776-4e68-90da-45eae5f2f695</td>\n      <td>Toko Slamet Shoes</td>\n      <td>1.549776</td>\n      <td>0.001550</td>\n    </tr>\n    <tr>\n      <th>2</th>\n      <td>c8625d7a-725a-49a2-98f5-6acd8b931bd8</td>\n      <td>Megumi sandal</td>\n      <td>327.588314</td>\n      <td>0.327588</td>\n    </tr>\n    <tr>\n      <th>3</th>\n      <td>12697a49-a420-4ab5-8527-e9cdaa8799d6</td>\n      <td>Bpk ngalawi (bkl. Kambing)</td>\n      <td>327.677127</td>\n      <td>0.327677</td>\n    </tr>\n    <tr>\n      <th>4</th>\n      <td>e61d82d3-5e43-4d43-a149-3bc0ff84a918</td>\n      <td>Lex'a Loundry</td>\n      <td>328.550994</td>\n      <td>0.328551</td>\n    </tr>\n    <tr>\n      <th>5</th>\n      <td>a7817e0f-6220-4169-969e-5079377118c9</td>\n      <td>AZ-ZAHRO.NET</td>\n      <td>328.688644</td>\n      <td>0.328689</td>\n    </tr>\n    <tr>\n      <th>6</th>\n      <td>ab27fe9d-1096-4a9e-a38c-754dbb4e5a95</td>\n      <td>Toko fadhil</td>\n      <td>329.053925</td>\n      <td>0.329054</td>\n    </tr>\n    <tr>\n      <th>7</th>\n      <td>cc6f2962-81b1-44bc-9b71-384dfe5161e2</td>\n      <td>Toko Mecca</td>\n      <td>329.191841</td>\n      <td>0.329192</td>\n    </tr>\n    <tr>\n      <th>8</th>\n      <td>b2e8cf4b-bc8e-46d7-ab3e-7684f8f85b80</td>\n      <td>Putri Jati Furniture</td>\n      <td>329.368084</td>\n      <td>0.329368</td>\n    </tr>\n    <tr>\n      <th>9</th>\n      <td>78a1424c-47d4-46e0-a2cb-08e671447345</td>\n      <td>Agen Bakpia Nayla Cluwak</td>\n      <td>329.645366</td>\n      <td>0.329645</td>\n    </tr>\n    <tr>\n      <th>10</th>\n      <td>e7a676fa-5a87-42d7-9afc-83316ee81d1a</td>\n      <td>Rumah Kiki kanza vika</td>\n      <td>329.694952</td>\n      <td>0.329695</td>\n    </tr>\n    <tr>\n      <th>11</th>\n      <td>b7c999f5-2787-408e-9e90-eda2441356b7</td>\n      <td>Kangen Water Sirahan Pati</td>\n      <td>329.748766</td>\n      <td>0.329749</td>\n    </tr>\n    <tr>\n      <th>12</th>\n      <td>9d29ee5e-21d7-4c92-91b4-e0ace1f875f7</td>\n      <td>Radical Rebel Office</td>\n      <td>329.756415</td>\n      <td>0.329756</td>\n    </tr>\n    <tr>\n      <th>13</th>\n      <td>d0cdcebf-91ac-4a0c-bb35-b7e5a8cee09e</td>\n      <td>NaRa Laundry</td>\n      <td>329.941512</td>\n      <td>0.329942</td>\n    </tr>\n    <tr>\n      <th>14</th>\n      <td>f057724c-2ddf-4416-8eab-67f5258cc6a0</td>\n      <td>Toko Domay food</td>\n      <td>330.044490</td>\n      <td>0.330044</td>\n    </tr>\n    <tr>\n      <th>15</th>\n      <td>2884c996-4ee1-4928-9ce4-b9e77424fa46</td>\n      <td>Amigos Snacks Grosir</td>\n      <td>330.408283</td>\n      <td>0.330408</td>\n    </tr>\n    <tr>\n      <th>16</th>\n      <td>070aea43-cfee-473e-94fc-bba0ee764714</td>\n      <td>Roti Kacang Mbak Ana</td>\n      <td>330.543691</td>\n      <td>0.330544</td>\n    </tr>\n    <tr>\n      <th>17</th>\n      <td>9968420d-80bf-4ad3-a60a-592d1cc7f1f1</td>\n      <td>Natural bordir terminal kelet</td>\n      <td>330.640277</td>\n      <td>0.330640</td>\n    </tr>\n    <tr>\n      <th>18</th>\n      <td>3b510b95-9cda-4725-906a-c2c5985daefc</td>\n      <td>Rumah setrika AZAD</td>\n      <td>331.034238</td>\n      <td>0.331034</td>\n    </tr>\n    <tr>\n      <th>19</th>\n      <td>b30813df-d5f9-4fcf-a0c8-34d95456d3b6</td>\n      <td>ULFA COLLECTION</td>\n      <td>331.380106</td>\n      <td>0.331380</td>\n    </tr>\n  </tbody>\n</table>\n</div>"
          },
          "metadata": {}
        }
      ],
      "execution_count": 3
    },
    {
      "cell_type": "markdown",
      "source": "## Popular",
      "metadata": {
        "formattedRanges": [],
        "cell_id": "f2684906db4d41a5b695296dfd3629af",
        "deepnote_cell_type": "text-cell-h2"
      }
    },
    {
      "cell_type": "markdown",
      "source": "### All",
      "metadata": {
        "formattedRanges": [],
        "cell_id": "4bea3a0ae5464b8cb0a39b5a0535635e",
        "deepnote_cell_type": "text-cell-h3"
      }
    },
    {
      "cell_type": "code",
      "source": "trending_this_month = _deepnote_execute_sql('SELECT businesses.id, businesses.name, COUNT(upvotes.id) as upvotes_count FROM businesses\\nLEFT JOIN upvotes ON upvotes.business_id = businesses.id\\nWHERE upvotes.created_at >= DATE_TRUNC(\\'month\\', CURRENT_DATE) AND upvotes.created_at < DATE_TRUNC(\\'month\\', CURRENT_DATE + INTERVAL \\'1 month\\')\\nGROUP BY businesses.id\\nORDER BY upvotes_count DESC\\nLIMIT 20', 'SQL_5C5D2FB1_2915_47AF_A658_34E9F21C61A9', audit_sql_comment='', sql_cache_mode='cache_disabled')\ntrending_this_month",
      "metadata": {
        "source_hash": "141584a2",
        "execution_start": 1686869415816,
        "execution_millis": 4445,
        "sql_integration_id": "5c5d2fb1-2915-47af-a658-34e9f21c61a9",
        "deepnote_table_state": {
          "sortBy": [],
          "filters": [],
          "pageSize": 10,
          "pageIndex": 0
        },
        "deepnote_table_loading": false,
        "deepnote_variable_name": "trending_this_month",
        "deepnote_to_be_reexecuted": false,
        "cell_id": "d578211deb1c4535a1b918fabaa23484",
        "deepnote_cell_type": "sql",
        "deepnote_sql_source": "SELECT businesses.id, businesses.name, COUNT(upvotes.id) as upvotes_count FROM businesses\nLEFT JOIN upvotes ON upvotes.business_id = businesses.id\nWHERE upvotes.created_at >= DATE_TRUNC('month', CURRENT_DATE) AND upvotes.created_at < DATE_TRUNC('month', CURRENT_DATE + INTERVAL '1 month')\nGROUP BY businesses.id\nORDER BY upvotes_count DESC\nLIMIT 20"
      },
      "outputs": [
        {
          "data": {
            "application/vnd.deepnote.sql-output-metadata+json": {
              "status": "success_no_cache",
              "size_in_bytes": 1204
            }
          },
          "metadata": {},
          "output_type": "display_data"
        },
        {
          "output_type": "execute_result",
          "execution_count": 4,
          "data": {
            "application/vnd.deepnote.dataframe.v3+json": {
              "column_count": 3,
              "row_count": 6,
              "columns": [
                {
                  "name": "id",
                  "dtype": "object",
                  "stats": {
                    "unique_count": 6,
                    "nan_count": 0,
                    "categories": [
                      {
                        "name": "ff8e1519-f5bd-46b0-a4da-36fb6ac6b767",
                        "count": 1
                      },
                      {
                        "name": "00e78ec5-12db-4312-b9cc-078e15dfd4d0",
                        "count": 1
                      },
                      {
                        "name": "4 others",
                        "count": 4
                      }
                    ]
                  }
                },
                {
                  "name": "name",
                  "dtype": "object",
                  "stats": {
                    "unique_count": 6,
                    "nan_count": 0,
                    "categories": [
                      {
                        "name": "SK. UD",
                        "count": 1
                      },
                      {
                        "name": "Kiloan",
                        "count": 1
                      },
                      {
                        "name": "4 others",
                        "count": 4
                      }
                    ]
                  }
                },
                {
                  "name": "upvotes_count",
                  "dtype": "int64",
                  "stats": {
                    "unique_count": 2,
                    "nan_count": 0,
                    "min": "1",
                    "max": "10",
                    "histogram": [
                      {
                        "bin_start": 1,
                        "bin_end": 1.9,
                        "count": 5
                      },
                      {
                        "bin_start": 1.9,
                        "bin_end": 2.8,
                        "count": 0
                      },
                      {
                        "bin_start": 2.8,
                        "bin_end": 3.7,
                        "count": 0
                      },
                      {
                        "bin_start": 3.7,
                        "bin_end": 4.6,
                        "count": 0
                      },
                      {
                        "bin_start": 4.6,
                        "bin_end": 5.5,
                        "count": 0
                      },
                      {
                        "bin_start": 5.5,
                        "bin_end": 6.4,
                        "count": 0
                      },
                      {
                        "bin_start": 6.4,
                        "bin_end": 7.3,
                        "count": 0
                      },
                      {
                        "bin_start": 7.3,
                        "bin_end": 8.2,
                        "count": 0
                      },
                      {
                        "bin_start": 8.2,
                        "bin_end": 9.1,
                        "count": 0
                      },
                      {
                        "bin_start": 9.1,
                        "bin_end": 10,
                        "count": 1
                      }
                    ]
                  }
                },
                {
                  "name": "_deepnote_index_column",
                  "dtype": "int64"
                }
              ],
              "rows": [
                {
                  "id": "ff8e1519-f5bd-46b0-a4da-36fb6ac6b767",
                  "name": "SK. UD",
                  "upvotes_count": 10,
                  "_deepnote_index_column": 0
                },
                {
                  "id": "00e78ec5-12db-4312-b9cc-078e15dfd4d0",
                  "name": "Kiloan",
                  "upvotes_count": 1,
                  "_deepnote_index_column": 1
                },
                {
                  "id": "00f2ea6d-487f-45f3-9ad9-cef8bb2506f8",
                  "name": "Brahouse Galleria Jogja",
                  "upvotes_count": 1,
                  "_deepnote_index_column": 2
                },
                {
                  "id": "02980d1e-caa4-4a46-85d6-c54cc687e47f",
                  "name": "Bolivar Adventure Equipment",
                  "upvotes_count": 1,
                  "_deepnote_index_column": 3
                },
                {
                  "id": "062b15a0-4530-401d-ad32-0c99cb526397",
                  "name": "Oke Mebel Jepara",
                  "upvotes_count": 1,
                  "_deepnote_index_column": 4
                },
                {
                  "id": "826c0529-b197-45ad-ad0f-59b59dbd3169",
                  "name": "Toko Pompa Air dan Perlengkapan Bangunan Nusantara",
                  "upvotes_count": 1,
                  "_deepnote_index_column": 5
                }
              ]
            },
            "text/plain": "                                     id  \\\n0  ff8e1519-f5bd-46b0-a4da-36fb6ac6b767   \n1  00e78ec5-12db-4312-b9cc-078e15dfd4d0   \n2  00f2ea6d-487f-45f3-9ad9-cef8bb2506f8   \n3  02980d1e-caa4-4a46-85d6-c54cc687e47f   \n4  062b15a0-4530-401d-ad32-0c99cb526397   \n5  826c0529-b197-45ad-ad0f-59b59dbd3169   \n\n                                                name  upvotes_count  \n0                                             SK. UD             10  \n1                                             Kiloan              1  \n2                            Brahouse Galleria Jogja              1  \n3                        Bolivar Adventure Equipment              1  \n4                                   Oke Mebel Jepara              1  \n5  Toko Pompa Air dan Perlengkapan Bangunan Nusan...              1  ",
            "text/html": "<div>\n<style scoped>\n    .dataframe tbody tr th:only-of-type {\n        vertical-align: middle;\n    }\n\n    .dataframe tbody tr th {\n        vertical-align: top;\n    }\n\n    .dataframe thead th {\n        text-align: right;\n    }\n</style>\n<table border=\"1\" class=\"dataframe\">\n  <thead>\n    <tr style=\"text-align: right;\">\n      <th></th>\n      <th>id</th>\n      <th>name</th>\n      <th>upvotes_count</th>\n    </tr>\n  </thead>\n  <tbody>\n    <tr>\n      <th>0</th>\n      <td>ff8e1519-f5bd-46b0-a4da-36fb6ac6b767</td>\n      <td>SK. UD</td>\n      <td>10</td>\n    </tr>\n    <tr>\n      <th>1</th>\n      <td>00e78ec5-12db-4312-b9cc-078e15dfd4d0</td>\n      <td>Kiloan</td>\n      <td>1</td>\n    </tr>\n    <tr>\n      <th>2</th>\n      <td>00f2ea6d-487f-45f3-9ad9-cef8bb2506f8</td>\n      <td>Brahouse Galleria Jogja</td>\n      <td>1</td>\n    </tr>\n    <tr>\n      <th>3</th>\n      <td>02980d1e-caa4-4a46-85d6-c54cc687e47f</td>\n      <td>Bolivar Adventure Equipment</td>\n      <td>1</td>\n    </tr>\n    <tr>\n      <th>4</th>\n      <td>062b15a0-4530-401d-ad32-0c99cb526397</td>\n      <td>Oke Mebel Jepara</td>\n      <td>1</td>\n    </tr>\n    <tr>\n      <th>5</th>\n      <td>826c0529-b197-45ad-ad0f-59b59dbd3169</td>\n      <td>Toko Pompa Air dan Perlengkapan Bangunan Nusan...</td>\n      <td>1</td>\n    </tr>\n  </tbody>\n</table>\n</div>"
          },
          "metadata": {}
        }
      ],
      "execution_count": 4
    },
    {
      "cell_type": "markdown",
      "source": "### Per Regency",
      "metadata": {
        "formattedRanges": [],
        "cell_id": "a4ef8e108404468db5981ba9e6e4d1c4",
        "deepnote_cell_type": "text-cell-h3"
      }
    },
    {
      "cell_type": "code",
      "source": "regency_id = 'e15f9692-c4bb-4f39-8ed2-6f7ee16d8729'",
      "metadata": {
        "source_hash": "1d902891",
        "execution_start": 1686869420242,
        "execution_millis": 19,
        "deepnote_variable_name": "regency_id",
        "deepnote_variable_value": "e15f9692-c4bb-4f39-8ed2-6f7ee16d8729",
        "deepnote_to_be_reexecuted": false,
        "cell_id": "321dfbda9a7f44219cbd21d8d82781f6",
        "deepnote_cell_type": "input-text"
      },
      "outputs": [],
      "execution_count": 5
    },
    {
      "cell_type": "code",
      "source": "df_3 = _deepnote_execute_sql('SELECT businesses.id, businesses.name, COUNT(upvotes.id) as upvotes_count FROM businesses\\nLEFT JOIN upvotes ON upvotes.business_id = businesses.id\\nWHERE upvotes.created_at >= DATE_TRUNC(\\'month\\', CURRENT_DATE)\\nAND upvotes.created_at < DATE_TRUNC(\\'month\\', CURRENT_DATE + INTERVAL \\'1 month\\')\\nAND businesses.regency_id = {{ regency_id }}\\nGROUP BY businesses.id\\nORDER BY upvotes_count DESC\\nLIMIT 20', 'SQL_5C5D2FB1_2915_47AF_A658_34E9F21C61A9', audit_sql_comment='', sql_cache_mode='cache_disabled')\ndf_3",
      "metadata": {
        "source_hash": "cd5f6007",
        "execution_start": 1686869420243,
        "execution_millis": 4391,
        "sql_integration_id": "5c5d2fb1-2915-47af-a658-34e9f21c61a9",
        "deepnote_variable_name": "df_3",
        "deepnote_to_be_reexecuted": false,
        "cell_id": "a464a34cf4a746d6b2d6832aef7f0be1",
        "deepnote_cell_type": "sql",
        "deepnote_sql_source": "SELECT businesses.id, businesses.name, COUNT(upvotes.id) as upvotes_count FROM businesses\nLEFT JOIN upvotes ON upvotes.business_id = businesses.id\nWHERE upvotes.created_at >= DATE_TRUNC('month', CURRENT_DATE)\nAND upvotes.created_at < DATE_TRUNC('month', CURRENT_DATE + INTERVAL '1 month')\nAND businesses.regency_id = {{ regency_id }}\nGROUP BY businesses.id\nORDER BY upvotes_count DESC\nLIMIT 20"
      },
      "outputs": [
        {
          "data": {
            "application/vnd.deepnote.sql-output-metadata+json": {
              "status": "success_no_cache",
              "size_in_bytes": 466
            }
          },
          "metadata": {},
          "output_type": "display_data"
        },
        {
          "output_type": "execute_result",
          "execution_count": 6,
          "data": {
            "application/vnd.deepnote.dataframe.v3+json": {
              "column_count": 3,
              "row_count": 2,
              "columns": [
                {
                  "name": "id",
                  "dtype": "object",
                  "stats": {
                    "unique_count": 2,
                    "nan_count": 0,
                    "categories": [
                      {
                        "name": "00e78ec5-12db-4312-b9cc-078e15dfd4d0",
                        "count": 1
                      },
                      {
                        "name": "062b15a0-4530-401d-ad32-0c99cb526397",
                        "count": 1
                      }
                    ]
                  }
                },
                {
                  "name": "name",
                  "dtype": "object",
                  "stats": {
                    "unique_count": 2,
                    "nan_count": 0,
                    "categories": [
                      {
                        "name": "Kiloan",
                        "count": 1
                      },
                      {
                        "name": "Oke Mebel Jepara",
                        "count": 1
                      }
                    ]
                  }
                },
                {
                  "name": "upvotes_count",
                  "dtype": "int64",
                  "stats": {
                    "unique_count": 1,
                    "nan_count": 0,
                    "min": "1",
                    "max": "1",
                    "histogram": [
                      {
                        "bin_start": 0.5,
                        "bin_end": 0.6,
                        "count": 0
                      },
                      {
                        "bin_start": 0.6,
                        "bin_end": 0.7,
                        "count": 0
                      },
                      {
                        "bin_start": 0.7,
                        "bin_end": 0.8,
                        "count": 0
                      },
                      {
                        "bin_start": 0.8,
                        "bin_end": 0.9,
                        "count": 0
                      },
                      {
                        "bin_start": 0.9,
                        "bin_end": 1,
                        "count": 0
                      },
                      {
                        "bin_start": 1,
                        "bin_end": 1.1,
                        "count": 2
                      },
                      {
                        "bin_start": 1.1,
                        "bin_end": 1.2000000000000002,
                        "count": 0
                      },
                      {
                        "bin_start": 1.2000000000000002,
                        "bin_end": 1.3,
                        "count": 0
                      },
                      {
                        "bin_start": 1.3,
                        "bin_end": 1.4,
                        "count": 0
                      },
                      {
                        "bin_start": 1.4,
                        "bin_end": 1.5,
                        "count": 0
                      }
                    ]
                  }
                },
                {
                  "name": "_deepnote_index_column",
                  "dtype": "int64"
                }
              ],
              "rows": [
                {
                  "id": "00e78ec5-12db-4312-b9cc-078e15dfd4d0",
                  "name": "Kiloan",
                  "upvotes_count": 1,
                  "_deepnote_index_column": 0
                },
                {
                  "id": "062b15a0-4530-401d-ad32-0c99cb526397",
                  "name": "Oke Mebel Jepara",
                  "upvotes_count": 1,
                  "_deepnote_index_column": 1
                }
              ]
            },
            "text/plain": "                                     id              name  upvotes_count\n0  00e78ec5-12db-4312-b9cc-078e15dfd4d0            Kiloan              1\n1  062b15a0-4530-401d-ad32-0c99cb526397  Oke Mebel Jepara              1",
            "text/html": "<div>\n<style scoped>\n    .dataframe tbody tr th:only-of-type {\n        vertical-align: middle;\n    }\n\n    .dataframe tbody tr th {\n        vertical-align: top;\n    }\n\n    .dataframe thead th {\n        text-align: right;\n    }\n</style>\n<table border=\"1\" class=\"dataframe\">\n  <thead>\n    <tr style=\"text-align: right;\">\n      <th></th>\n      <th>id</th>\n      <th>name</th>\n      <th>upvotes_count</th>\n    </tr>\n  </thead>\n  <tbody>\n    <tr>\n      <th>0</th>\n      <td>00e78ec5-12db-4312-b9cc-078e15dfd4d0</td>\n      <td>Kiloan</td>\n      <td>1</td>\n    </tr>\n    <tr>\n      <th>1</th>\n      <td>062b15a0-4530-401d-ad32-0c99cb526397</td>\n      <td>Oke Mebel Jepara</td>\n      <td>1</td>\n    </tr>\n  </tbody>\n</table>\n</div>"
          },
          "metadata": {}
        }
      ],
      "execution_count": 6
    },
    {
      "cell_type": "markdown",
      "source": "<a style='text-decoration:none;line-height:16px;display:flex;color:#5B5B62;padding:10px;justify-content:end;' href='https://deepnote.com?utm_source=created-in-deepnote-cell&projectId=fa0ff5c2-b244-406d-b1f4-a2f4cd653e27' target=\"_blank\">\n<img alt='Created in deepnote.com' style='display:inline;max-height:16px;margin:0px;margin-right:7.5px;' src='data:image/svg+xml;base64,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' > </img>\nCreated in <span style='font-weight:600;margin-left:4px;'>Deepnote</span></a>",
      "metadata": {
        "created_in_deepnote_cell": true,
        "deepnote_cell_type": "markdown"
      }
    }
  ],
  "nbformat": 4,
  "nbformat_minor": 0,
  "metadata": {
    "deepnote": {},
    "orig_nbformat": 2,
    "deepnote_notebook_id": "fce7817ceac94d5a9369780ab95268a2",
    "deepnote_persisted_session": {
      "createdAt": "2023-06-01T11:46:11.805Z"
    },
    "deepnote_execution_queue": []
  }
}