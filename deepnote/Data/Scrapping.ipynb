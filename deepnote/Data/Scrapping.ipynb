{
  "cells": [
    {
      "cell_type": "code",
      "source": "import os\nimport requests\nimport json\nimport uuid\nimport pandas as pd\nfrom icecream import ic",
      "metadata": {
        "cell_id": "87003d5a6c3c44f3be2d524bfc8813a7",
        "source_hash": "ec00d6df",
        "execution_start": 1684371124841,
        "execution_millis": 32,
        "deepnote_app_coordinates": {
          "h": 8,
          "w": 12,
          "x": 0,
          "y": 1
        },
        "deepnote_to_be_reexecuted": false,
        "deepnote_cell_type": "code"
      },
      "outputs": [],
      "execution_count": 1
    },
    {
      "cell_type": "code",
      "source": "api_key = os.environ[\"GOOGLE_MAPS_API_KEY\"]",
      "metadata": {
        "cell_id": "f9cc5ca73ce943abaef0769fc5f1ec09",
        "source_hash": "17b44a90",
        "execution_start": 1684371124871,
        "execution_millis": 2,
        "deepnote_to_be_reexecuted": false,
        "deepnote_cell_type": "code"
      },
      "outputs": [],
      "execution_count": 2
    },
    {
      "cell_type": "markdown",
      "source": "List Place Type: https://developers.google.com/maps/documentation/places/web-service/supported_types?hl=id",
      "metadata": {
        "cell_id": "e5828f90-2bed-4e87-8458-79ac3001a2c7",
        "formattedRanges": [
          {
            "url": "https://developers.google.com/maps/documentation/places/web-service/supported_types?hl=id",
            "type": "link",
            "ranges": [],
            "toCodePoint": 106,
            "fromCodePoint": 17
          }
        ],
        "deepnote_app_coordinates": {
          "h": 2,
          "w": 8,
          "x": 0,
          "y": 13
        },
        "deepnote_cell_type": "text-cell-p"
      }
    },
    {
      "cell_type": "code",
      "source": "place_types = '''accounting\nairport\namusement_park\naquarium\nart_gallery\natm\nbakery\nbank\nbar\nbeauty_salon\nbicycle_store\nbook_store\nbowling_alley\nbus_station\ncafe\ncampground\ncar_dealer\ncar_rental\ncar_repair\ncar_wash\ncasino\ncemetery\nchurch\ncity_hall\nclothing_store\nconvenience_store\ncourthouse\ndentist\ndepartment_store\ndoctor\ndrugstore\nelectrician\nelectronics_store\nembassy\nfire_station\nflorist\nfuneral_home\nfurniture_store\ngas_station\ngym\nhair_care\nhardware_store\nhindu_temple\nhome_goods_store\nhospital\ninsurance_agency\njewelry_store\nlaundry\nlawyer\nlibrary\nlight_rail_station\nliquor_store\nlocal_government_office\nlocksmith\nlodging\nmeal_delivery\nmeal_takeaway\nmosque\nmovie_rental\nmovie_theater\nmoving_company\nmuseum\nnight_club\npainter\npark\nparking\npet_store\npharmacy\nphysiotherapist\nplumber\npolice\npost_office\nprimary_school\nreal_estate_agency\nrestaurant\nroofing_contractor\nrv_park\nschool\nsecondary_school\nshoe_store\nshopping_mall\nspa\nstadium\nstorage\nstore\nsubway_station\nsupermarket\nsynagogue\ntaxi_stand\ntourist_attraction\ntrain_station\ntransit_station\ntravel_agency\nuniversity\nveterinary_care\nzoo'''\n\nlist_place_types = place_types.split('\\n')",
      "metadata": {
        "cell_id": "afa7d588c0ad49d796ebea672ad0c1ee",
        "source_hash": "bd3d5c8b",
        "is_code_hidden": false,
        "execution_start": 1684371124875,
        "execution_millis": 1,
        "deepnote_to_be_reexecuted": false,
        "deepnote_cell_type": "code"
      },
      "outputs": [],
      "execution_count": 3
    },
    {
      "cell_type": "code",
      "source": "input_latitude = '-6.89742292289528'",
      "metadata": {
        "cell_id": "9b83d0b8f92f4f32a61b6b5ba7bb7268",
        "source_hash": "653bfbd1",
        "execution_start": 1684371124878,
        "execution_millis": 3,
        "deepnote_variable_name": "input_latitude",
        "deepnote_variable_value": "-6.89742292289528",
        "deepnote_to_be_reexecuted": false,
        "deepnote_cell_type": "input-text"
      },
      "outputs": [],
      "execution_count": 4
    },
    {
      "cell_type": "code",
      "source": "input_longitude = '109.678618210094'",
      "metadata": {
        "cell_id": "93e8471ed33542eb9e1f3bd6e7ed793a",
        "source_hash": "507d4fda",
        "execution_start": 1684371124884,
        "execution_millis": 2,
        "deepnote_variable_name": "input_longitude",
        "deepnote_variable_value": "109.678618210094",
        "deepnote_to_be_reexecuted": false,
        "deepnote_cell_type": "input-text"
      },
      "outputs": [],
      "execution_count": 5
    },
    {
      "cell_type": "code",
      "source": "input_radius = 600",
      "metadata": {
        "cell_id": "e60c2b9a37c34c7cb6bbd44b9927698b",
        "source_hash": "34233c6c",
        "execution_start": 1684371124928,
        "execution_millis": 2,
        "deepnote_slider_step": 10,
        "deepnote_variable_name": "input_radius",
        "deepnote_variable_value": "600",
        "deepnote_slider_max_value": 5000,
        "deepnote_slider_min_value": 0,
        "deepnote_to_be_reexecuted": false,
        "deepnote_cell_type": "input-slider"
      },
      "outputs": [],
      "execution_count": 6
    },
    {
      "cell_type": "code",
      "source": "input_place_type = 'cafe'",
      "metadata": {
        "cell_id": "23545cdd13844f3a82408d41434fd87e",
        "source_hash": "3c23fea4",
        "execution_start": 1684371124959,
        "execution_millis": 2,
        "deepnote_variable_name": "input_place_type",
        "deepnote_variable_value": "cafe",
        "deepnote_to_be_reexecuted": false,
        "deepnote_variable_options": [
          "accounting",
          "airport",
          "amusement_park",
          "aquarium",
          "art_gallery",
          "atm",
          "bakery",
          "bank",
          "bar",
          "beauty_salon",
          "bicycle_store",
          "book_store",
          "bowling_alley",
          "bus_station",
          "cafe",
          "campground",
          "car_dealer",
          "car_rental",
          "car_repair",
          "car_wash",
          "casino",
          "cemetery",
          "church",
          "city_hall",
          "clothing_store",
          "convenience_store",
          "courthouse",
          "dentist",
          "department_store",
          "doctor",
          "drugstore",
          "electrician",
          "electronics_store",
          "embassy",
          "fire_station",
          "florist",
          "funeral_home",
          "furniture_store",
          "gas_station",
          "gym",
          "hair_care",
          "hardware_store",
          "hindu_temple",
          "home_goods_store",
          "hospital",
          "insurance_agency",
          "jewelry_store",
          "laundry",
          "lawyer",
          "library",
          "light_rail_station",
          "liquor_store",
          "local_government_office",
          "locksmith",
          "lodging",
          "meal_delivery",
          "meal_takeaway",
          "mosque",
          "movie_rental",
          "movie_theater",
          "moving_company",
          "museum",
          "night_club",
          "painter",
          "park",
          "parking",
          "pet_store",
          "pharmacy",
          "physiotherapist",
          "plumber",
          "police",
          "post_office",
          "primary_school",
          "real_estate_agency",
          "restaurant",
          "roofing_contractor",
          "rv_park",
          "school",
          "secondary_school",
          "shoe_store",
          "shopping_mall",
          "spa",
          "stadium",
          "storage",
          "store",
          "subway_station",
          "supermarket",
          "synagogue",
          "taxi_stand",
          "tourist_attraction",
          "train_station",
          "transit_station",
          "travel_agency",
          "university",
          "veterinary_care",
          "zoo"
        ],
        "deepnote_variable_select_type": "from-variable",
        "deepnote_variable_custom_options": [],
        "deepnote_variable_selected_variable": "list_place_types",
        "deepnote_cell_type": "input-select"
      },
      "outputs": [],
      "execution_count": 7
    },
    {
      "cell_type": "markdown",
      "source": "Utilize the data from dummy.json first to avoid excessive requests to Google Maps.",
      "metadata": {
        "cell_id": "da23e09e9c624d8da9a092d8f1e34cc5",
        "formattedRanges": [
          {
            "type": "marks",
            "marks": {
              "italic": true
            },
            "toCodePoint": 32,
            "fromCodePoint": 22
          }
        ],
        "deepnote_cell_type": "text-cell-p"
      }
    },
    {
      "cell_type": "code",
      "source": "def near_by_search(api_key=None, latitude=None, longitude=None, radius=None, place_type=None, business_status='operational', dummy=False):\n    if dummy:\n        file_path = \"dummy.json\"\n        with open(file_path, \"r\") as f:\n            data = json.load(f)\n    else:\n        url = f\"https://maps.googleapis.com/maps/api/place/nearbysearch/json?location={latitude},{longitude}&radius={radius}&type={place_type}&business_status={business_status}&key={api_key}\"\n        response = requests.get(url)\n        data = json.loads(response.text)\n    \n    return data",
      "metadata": {
        "cell_id": "c2e9278ef8874bcbae972675bccd5b1d",
        "source_hash": "30b47ed6",
        "is_code_hidden": false,
        "execution_start": 1684371124960,
        "execution_millis": 2,
        "deepnote_to_be_reexecuted": false,
        "deepnote_cell_type": "code"
      },
      "outputs": [],
      "execution_count": 8
    },
    {
      "cell_type": "code",
      "source": "def convert_businesses_into_df(api_key=None, results=None, place_id_for_debug=None):\n    businesses = []\n    for result in results['results']:\n        id = str(uuid.uuid4())\n        name = result[\"name\"]\n        address = result[\"vicinity\"]\n        latitude = result[\"geometry\"][\"location\"][\"lat\"]\n        longitude = result[\"geometry\"][\"location\"][\"lng\"]\n        rating = result.get(\"rating\", 0)\n        compound_code = result.get(\"plus_code\", {}).get(\"compound_code\", \"N/A\")\n        categories = \", \".join(result.get(\"types\", []))\n        photo = result[\"photos\"][0][\"photo_reference\"] if \"photos\" in result else \"N/A\"\n        place_id = result[\"place_id\"]\n\n        # more details\n        file_path = f'business_details/{result[\"place_id\"]}.json'\n        if os.path.exists(file_path):\n            with open(file_path, \"r\") as f:\n                details_data = json.load(f)\n        else:\n            details_url = f'https://maps.googleapis.com/maps/api/place/details/json?place_id={result[\"place_id\"]}&key={api_key}'\n            details_response = requests.get(details_url)\n            details_data = json.loads(details_response.text)\n            \n            with open(file_path, \"w\") as f:\n                json.dump(data, f)\n\n        for component in details_data[\"result\"][\"address_components\"]:\n            if \"administrative_area_level_1\" in component[\"types\"]:\n                province = component[\"long_name\"]\n            elif \"administrative_area_level_2\" in component[\"types\"]:\n                regency = component[\"long_name\"]\n            elif \"administrative_area_level_3\" in component[\"types\"]:\n                district = component[\"long_name\"]\n            elif \"administrative_area_level_4\" in component[\"types\"]:\n                village = component[\"long_name\"]\n            elif \"postal_code\" in component[\"types\"]:\n                postal_code = component[\"long_name\"]\n\n        url = details_data[\"result\"][\"url\"]\n\n        if place_id_for_debug and place_id == place_id_for_debug:\n            ic(details_data[\"result\"])\n\n        businesses.append(\n            {\n                \"id\": id,\n                \"place_id\": place_id,\n                \"categories\": categories,\n                \"province\": province,\n                \"regency\": regency,\n                \"district\": district,\n                \"village\": village,\n                \"postal_code\": postal_code,\n                \"name\": name,\n                \"latitude\": latitude,\n                \"longitude\": longitude,\n                \"photo\": photo,\n                \"rating\": rating,\n                \"url\": url,\n            }\n        )\n\n    columns = list(businesses[0].keys())\n    return pd.DataFrame(businesses, columns=columns)",
      "metadata": {
        "cell_id": "7c2b24c92a054cb0ab1d69adcd112a6d",
        "source_hash": "87316e8f",
        "is_code_hidden": false,
        "execution_start": 1684371124970,
        "execution_millis": 4,
        "deepnote_to_be_reexecuted": false,
        "deepnote_cell_type": "code"
      },
      "outputs": [],
      "execution_count": 9
    },
    {
      "cell_type": "code",
      "source": "results = near_by_search(api_key, dummy=True)",
      "metadata": {
        "cell_id": "1636f7c740c64502aee76a7e9bd37a99",
        "source_hash": "e2501a7d",
        "execution_start": 1684371125025,
        "execution_millis": 2,
        "deepnote_to_be_reexecuted": false,
        "deepnote_cell_type": "code"
      },
      "outputs": [],
      "execution_count": 10
    },
    {
      "cell_type": "code",
      "source": "df = convert_businesses_into_df(api_key, results)",
      "metadata": {
        "cell_id": "a8e7cad03e394a7ea583eceb4e65a012",
        "source_hash": "9890c987",
        "execution_start": 1684371125026,
        "execution_millis": 1,
        "deepnote_to_be_reexecuted": false,
        "deepnote_cell_type": "code"
      },
      "outputs": [],
      "execution_count": 11
    },
    {
      "cell_type": "code",
      "source": "df_businesses = _deepnote_execute_sql('SELECT * FROM df', 'SQL_DEEPNOTE_DATAFRAME_SQL')\ndf_businesses",
      "metadata": {
        "cell_id": "6e294558bf8743399c919fcdc36e153d",
        "source_hash": "2fb6ba76",
        "execution_start": 1684371125026,
        "execution_millis": 421,
        "sql_integration_id": "deepnote-dataframe-sql",
        "deepnote_table_state": {
          "sortBy": [],
          "filters": [],
          "pageSize": 100,
          "pageIndex": 0
        },
        "deepnote_table_loading": false,
        "deepnote_variable_name": "df_businesses",
        "deepnote_app_coordinates": {
          "h": 19,
          "w": 12,
          "x": 0,
          "y": 93
        },
        "deepnote_to_be_reexecuted": false,
        "deepnote_cell_type": "sql",
        "deepnote_sql_source": "SELECT * FROM df"
      },
      "outputs": [
        {
          "data": {
            "application/vnd.deepnote.sql-output-metadata+json": {
              "status": "success_no_cache",
              "size_in_bytes": 20291
            }
          },
          "metadata": {},
          "output_type": "display_data"
        },
        {
          "output_type": "execute_result",
          "execution_count": 12,
          "data": {
            "application/vnd.deepnote.dataframe.v3+json": {
              "column_count": 14,
              "row_count": 20,
              "columns": [
                {
                  "name": "id",
                  "dtype": "object",
                  "stats": {
                    "unique_count": 20,
                    "nan_count": 0,
                    "categories": [
                      {
                        "name": "e3758b56-021e-4641-9a0a-044be4620022",
                        "count": 1
                      },
                      {
                        "name": "6ecc5a76-e26b-40fa-bbf7-167c9bf3083c",
                        "count": 1
                      },
                      {
                        "name": "18 others",
                        "count": 18
                      }
                    ]
                  }
                },
                {
                  "name": "place_id",
                  "dtype": "object",
                  "stats": {
                    "unique_count": 20,
                    "nan_count": 0,
                    "categories": [
                      {
                        "name": "ChIJa6drWDokcC4RwtALTn71ixk",
                        "count": 1
                      },
                      {
                        "name": "ChIJxVCUXCclcC4RNHd7B8RYVhA",
                        "count": 1
                      },
                      {
                        "name": "18 others",
                        "count": 18
                      }
                    ]
                  }
                },
                {
                  "name": "categories",
                  "dtype": "object",
                  "stats": {
                    "unique_count": 2,
                    "nan_count": 0,
                    "categories": [
                      {
                        "name": "cafe, food, point_of_interest, establishment",
                        "count": 17
                      },
                      {
                        "name": "cafe, food, point_of_interest, store, establishment",
                        "count": 3
                      }
                    ]
                  }
                },
                {
                  "name": "province",
                  "dtype": "object",
                  "stats": {
                    "unique_count": 2,
                    "nan_count": 0,
                    "categories": [
                      {
                        "name": "Jawa Tengah",
                        "count": 16
                      },
                      {
                        "name": "Central Java",
                        "count": 4
                      }
                    ]
                  }
                },
                {
                  "name": "regency",
                  "dtype": "object",
                  "stats": {
                    "unique_count": 2,
                    "nan_count": 0,
                    "categories": [
                      {
                        "name": "Kota Pekalongan",
                        "count": 16
                      },
                      {
                        "name": "Pekalongan City",
                        "count": 4
                      }
                    ]
                  }
                },
                {
                  "name": "district",
                  "dtype": "object",
                  "stats": {
                    "unique_count": 2,
                    "nan_count": 0,
                    "categories": [
                      {
                        "name": "Kecamatan Pekalongan Timur",
                        "count": 16
                      },
                      {
                        "name": "Pekalongan Timur",
                        "count": 4
                      }
                    ]
                  }
                },
                {
                  "name": "village",
                  "dtype": "object",
                  "stats": {
                    "unique_count": 2,
                    "nan_count": 0,
                    "categories": [
                      {
                        "name": "Keputran",
                        "count": 12
                      },
                      {
                        "name": "Noyontaan",
                        "count": 8
                      }
                    ]
                  }
                },
                {
                  "name": "postal_code",
                  "dtype": "object",
                  "stats": {
                    "unique_count": 2,
                    "nan_count": 0,
                    "categories": [
                      {
                        "name": "51128",
                        "count": 18
                      },
                      {
                        "name": "51129",
                        "count": 2
                      }
                    ]
                  }
                },
                {
                  "name": "name",
                  "dtype": "object",
                  "stats": {
                    "unique_count": 20,
                    "nan_count": 0,
                    "categories": [
                      {
                        "name": "Teh Tong TJI",
                        "count": 1
                      },
                      {
                        "name": "Cava milkshake",
                        "count": 1
                      },
                      {
                        "name": "18 others",
                        "count": 18
                      }
                    ]
                  }
                },
                {
                  "name": "latitude",
                  "dtype": "float64",
                  "stats": {
                    "unique_count": 19,
                    "nan_count": 0,
                    "min": "-6.8986782",
                    "max": "-6.896132799999999",
                    "histogram": [
                      {
                        "bin_start": -6.8986782,
                        "bin_end": -6.89842366,
                        "count": 1
                      },
                      {
                        "bin_start": -6.89842366,
                        "bin_end": -6.8981691199999995,
                        "count": 2
                      },
                      {
                        "bin_start": -6.8981691199999995,
                        "bin_end": -6.89791458,
                        "count": 3
                      },
                      {
                        "bin_start": -6.89791458,
                        "bin_end": -6.89766004,
                        "count": 2
                      },
                      {
                        "bin_start": -6.89766004,
                        "bin_end": -6.8974055,
                        "count": 1
                      },
                      {
                        "bin_start": -6.8974055,
                        "bin_end": -6.897150959999999,
                        "count": 5
                      },
                      {
                        "bin_start": -6.897150959999999,
                        "bin_end": -6.896896419999999,
                        "count": 0
                      },
                      {
                        "bin_start": -6.896896419999999,
                        "bin_end": -6.89664188,
                        "count": 0
                      },
                      {
                        "bin_start": -6.89664188,
                        "bin_end": -6.8963873399999995,
                        "count": 4
                      },
                      {
                        "bin_start": -6.8963873399999995,
                        "bin_end": -6.896132799999999,
                        "count": 2
                      }
                    ]
                  }
                },
                {
                  "name": "longitude",
                  "dtype": "float64",
                  "stats": {
                    "unique_count": 19,
                    "nan_count": 0,
                    "min": "109.677778",
                    "max": "109.6797508",
                    "histogram": [
                      {
                        "bin_start": 109.677778,
                        "bin_end": 109.67797528,
                        "count": 4
                      },
                      {
                        "bin_start": 109.67797528,
                        "bin_end": 109.67817256000001,
                        "count": 3
                      },
                      {
                        "bin_start": 109.67817256000001,
                        "bin_end": 109.67836984,
                        "count": 1
                      },
                      {
                        "bin_start": 109.67836984,
                        "bin_end": 109.67856712,
                        "count": 4
                      },
                      {
                        "bin_start": 109.67856712,
                        "bin_end": 109.6787644,
                        "count": 1
                      },
                      {
                        "bin_start": 109.6787644,
                        "bin_end": 109.67896168,
                        "count": 4
                      },
                      {
                        "bin_start": 109.67896168,
                        "bin_end": 109.67915896,
                        "count": 1
                      },
                      {
                        "bin_start": 109.67915896,
                        "bin_end": 109.67935623999999,
                        "count": 1
                      },
                      {
                        "bin_start": 109.67935623999999,
                        "bin_end": 109.67955352,
                        "count": 0
                      },
                      {
                        "bin_start": 109.67955352,
                        "bin_end": 109.6797508,
                        "count": 1
                      }
                    ]
                  }
                },
                {
                  "name": "photo",
                  "dtype": "object",
                  "stats": {
                    "unique_count": 14,
                    "nan_count": 0,
                    "categories": [
                      {
                        "name": "N/A",
                        "count": 7
                      },
                      {
                        "name": "AZose0n_KskzcWAtJHjS9IVkkOVyhNFdFe0l6Z4YvUfpGd0-q9uTU3c5gJOaX_pcdjhP6Q5H4e5mlmiQ2eQhZuN7uUeqbeup0KSK4xw_0BMVqyPUi45MAO-WM-cL1xr7VPGMGn35l6i7TlC4TY1cHIgLD_4knW3_5qmhLSGCLv0-txCwdCAy",
                        "count": 1
                      },
                      {
                        "name": "12 others",
                        "count": 12
                      }
                    ]
                  }
                },
                {
                  "name": "rating",
                  "dtype": "float64",
                  "stats": {
                    "unique_count": 7,
                    "nan_count": 0,
                    "min": "0.0",
                    "max": "5.0",
                    "histogram": [
                      {
                        "bin_start": 0,
                        "bin_end": 0.5,
                        "count": 5
                      },
                      {
                        "bin_start": 0.5,
                        "bin_end": 1,
                        "count": 0
                      },
                      {
                        "bin_start": 1,
                        "bin_end": 1.5,
                        "count": 0
                      },
                      {
                        "bin_start": 1.5,
                        "bin_end": 2,
                        "count": 0
                      },
                      {
                        "bin_start": 2,
                        "bin_end": 2.5,
                        "count": 0
                      },
                      {
                        "bin_start": 2.5,
                        "bin_end": 3,
                        "count": 0
                      },
                      {
                        "bin_start": 3,
                        "bin_end": 3.5,
                        "count": 1
                      },
                      {
                        "bin_start": 3.5,
                        "bin_end": 4,
                        "count": 0
                      },
                      {
                        "bin_start": 4,
                        "bin_end": 4.5,
                        "count": 4
                      },
                      {
                        "bin_start": 4.5,
                        "bin_end": 5,
                        "count": 10
                      }
                    ]
                  }
                },
                {
                  "name": "url",
                  "dtype": "object",
                  "stats": {
                    "unique_count": 20,
                    "nan_count": 0,
                    "categories": [
                      {
                        "name": "https://maps.google.com/?cid=1840834795535061186",
                        "count": 1
                      },
                      {
                        "name": "https://maps.google.com/?cid=1177225951566329652",
                        "count": 1
                      },
                      {
                        "name": "18 others",
                        "count": 18
                      }
                    ]
                  }
                },
                {
                  "name": "_deepnote_index_column",
                  "dtype": "int64"
                }
              ],
              "rows": [
                {
                  "id": "e3758b56-021e-4641-9a0a-044be4620022",
                  "place_id": "ChIJa6drWDokcC4RwtALTn71ixk",
                  "categories": "cafe, food, point_of_interest, establishment",
                  "province": "Central Java",
                  "regency": "Pekalongan City",
                  "district": "Pekalongan Timur",
                  "village": "Noyontaan",
                  "postal_code": "51128",
                  "name": "Teh Tong TJI",
                  "latitude": "-6.897833",
                  "longitude": "109.678888",
                  "photo": "N/A",
                  "rating": "5.0",
                  "url": "https://maps.google.com/?cid=1840834795535061186",
                  "_deepnote_index_column": "0"
                },
                {
                  "id": "6ecc5a76-e26b-40fa-bbf7-167c9bf3083c",
                  "place_id": "ChIJxVCUXCclcC4RNHd7B8RYVhA",
                  "categories": "cafe, food, point_of_interest, establishment",
                  "province": "Jawa Tengah",
                  "regency": "Kota Pekalongan",
                  "district": "Kecamatan Pekalongan Timur",
                  "village": "Keputran",
                  "postal_code": "51128",
                  "name": "Cava milkshake",
                  "latitude": "-6.8973442",
                  "longitude": "109.6784991",
                  "photo": "N/A",
                  "rating": "0.0",
                  "url": "https://maps.google.com/?cid=1177225951566329652",
                  "_deepnote_index_column": "1"
                },
                {
                  "id": "a1e578a4-e9f8-4909-94a9-e182a64286d1",
                  "place_id": "ChIJrXKnU6glcC4R40dDi2AiGVc",
                  "categories": "cafe, food, point_of_interest, establishment",
                  "province": "Jawa Tengah",
                  "regency": "Kota Pekalongan",
                  "district": "Kecamatan Pekalongan Timur",
                  "village": "Keputran",
                  "postal_code": "51128",
                  "name": "Angkringan gondrong",
                  "latitude": "-6.897316099999999",
                  "longitude": "109.6784928",
                  "photo": "N/A",
                  "rating": "0.0",
                  "url": "https://maps.google.com/?cid=6276085353766143971",
                  "_deepnote_index_column": "2"
                },
                {
                  "id": "e73d644d-49e4-4f5e-8f00-70b3a415bf40",
                  "place_id": "ChIJ55voFBolcC4RcoFS4YZs-nA",
                  "categories": "cafe, food, point_of_interest, establishment",
                  "province": "Jawa Tengah",
                  "regency": "Kota Pekalongan",
                  "district": "Kecamatan Pekalongan Timur",
                  "village": "Keputran",
                  "postal_code": "51128",
                  "name": "Angkringan Memet",
                  "latitude": "-6.897316099999999",
                  "longitude": "109.6784928",
                  "photo": "AZose0n_KskzcWAtJHjS9IVkkOVyhNFdFe0l6Z4YvUfpGd0-q9uTU3c5gJOaX_pcdjhP6Q5H4e5mlmiQ2eQhZuN7uUeqbeup0KSK4xw_0BMVqyPUi45MAO-WM-cL1xr7VPGMGn35l6i7TlC4TY1cHIgLD_4knW3_5qmhLSGCLv0-txCwdCAy",
                  "rating": "5.0",
                  "url": "https://maps.google.com/?cid=8140938602987290994",
                  "_deepnote_index_column": "3"
                },
                {
                  "id": "ab2bacef-ca3e-457b-a7e6-873ca22c60ab",
                  "place_id": "ChIJrX1IizokcC4RlOXRvabIipY",
                  "categories": "cafe, food, point_of_interest, establishment",
                  "province": "Jawa Tengah",
                  "regency": "Kota Pekalongan",
                  "district": "Kecamatan Pekalongan Timur",
                  "village": "Keputran",
                  "postal_code": "51128",
                  "name": "Seblak food sundanese",
                  "latitude": "-6.897263799999999",
                  "longitude": "109.6785206",
                  "photo": "AZose0lbz4jXJE-r4uUesDSgP7AoDEXVShhpuvfo2SMW_e7xWFmW5clEdd10R0jaC9y2Gayd76wiJhjegEeyfZ3XShiMgrPD2DcbMVDUxAkgV7FZtS8telnHFS8Ts_UkRg711giGSFtEVcicOjswAsHd1oHfjcxD2vZ4Ec5yJSGyIeoggHd7",
                  "rating": "4.0",
                  "url": "https://maps.google.com/?cid=10847703270950036884",
                  "_deepnote_index_column": "4"
                },
                {
                  "id": "6190c176-da98-4591-bd3b-a70aca955948",
                  "place_id": "ChIJqa_VGSslcC4RJsDiEhyV7EE",
                  "categories": "cafe, food, point_of_interest, establishment",
                  "province": "Jawa Tengah",
                  "regency": "Kota Pekalongan",
                  "district": "Kecamatan Pekalongan Timur",
                  "village": "Keputran",
                  "postal_code": "51128",
                  "name": "brabuuz",
                  "latitude": "-6.897158900000001",
                  "longitude": "109.6782694",
                  "photo": "N/A",
                  "rating": "0.0",
                  "url": "https://maps.google.com/?cid=4750335654777503782",
                  "_deepnote_index_column": "5"
                },
                {
                  "id": "4a24ffdd-fe10-427f-9f3c-167a9c5c3a28",
                  "place_id": "ChIJJRRQ1JglcC4Rt15FbkT-dpk",
                  "categories": "cafe, food, point_of_interest, establishment",
                  "province": "Central Java",
                  "regency": "Pekalongan City",
                  "district": "Pekalongan Timur",
                  "village": "Noyontaan",
                  "postal_code": "51128",
                  "name": "HOBI4D cafe",
                  "latitude": "-6.897800699999999",
                  "longitude": "109.6790604",
                  "photo": "N/A",
                  "rating": "0.0",
                  "url": "https://maps.google.com/?cid=11058305504916102839",
                  "_deepnote_index_column": "6"
                },
                {
                  "id": "b13bcd71-4b86-421e-9db2-7a44603109a9",
                  "place_id": "ChIJRwf4WzokcC4RoIVK-wFjZNM",
                  "categories": "cafe, food, point_of_interest, establishment",
                  "province": "Central Java",
                  "regency": "Pekalongan City",
                  "district": "Pekalongan Timur",
                  "village": "Noyontaan",
                  "postal_code": "51129",
                  "name": "Pak Herman Coffee and Guyon",
                  "latitude": "-6.8975814",
                  "longitude": "109.6792271",
                  "photo": "AZose0noul_ivG6M36oH_nTj9jq45g-qvJH746ZXBIX4X0za2QqPnk2NXWRjGS1HDyfwmra3OCclZljx5Xta0tQwsgY-Qr7ki7ajh9i3hYIp6ksgcK7mhZ6RsklWxI0VTImidjqrUkQ6h-ZVCNQLZA_UjCfGfknf9hi4OQ4C3GEaHJj3qzUn",
                  "rating": "4.7",
                  "url": "https://maps.google.com/?cid=15232408699835942304",
                  "_deepnote_index_column": "7"
                },
                {
                  "id": "7c95570a-bf5d-4ad0-b647-7319ab693584",
                  "place_id": "ChIJRR6sqjskcC4RxIsAa3Uxag8",
                  "categories": "cafe, food, point_of_interest, establishment",
                  "province": "Jawa Tengah",
                  "regency": "Kota Pekalongan",
                  "district": "Kecamatan Pekalongan Timur",
                  "village": "Noyontaan",
                  "postal_code": "51128",
                  "name": "A&S Coffee",
                  "latitude": "-6.8980612",
                  "longitude": "109.678906",
                  "photo": "AZose0la7-t2JYADmt5Np9BfcynnBzG9Z07Jm47SV3zH3B322yi1aNwWYAoaSb_PRuutEkkllvoD8CP-NgZiw79CBDQV4fW1sSzatIOhVAiwJbr3SMraUa03BAKSLmGcOXcp93hU6oDIQB8cN-E18bejjqh8lMsvin9vUd6HlBumq-VhOB2k",
                  "rating": "5.0",
                  "url": "https://maps.google.com/?cid=1110754638476381124",
                  "_deepnote_index_column": "8"
                },
                {
                  "id": "f93981c4-1d47-4af5-a41c-d20692b7c0d0",
                  "place_id": "ChIJq_QjWTokcC4Rvu4VG3OfX_w",
                  "categories": "cafe, food, point_of_interest, establishment",
                  "province": "Jawa Tengah",
                  "regency": "Kota Pekalongan",
                  "district": "Kecamatan Pekalongan Timur",
                  "village": "Noyontaan",
                  "postal_code": "51128",
                  "name": "Mata cafe",
                  "latitude": "-6.898049599999998",
                  "longitude": "109.6789575",
                  "photo": "AZose0md1RwkXH2QjsQwR821kh8DfvwBYZ7ZzYQxKY-79VDwXFV3Zf19UurZEQRK1ciECUdpoH7eeMJbhWoCO9XgmYuCChHAVOaBF5y8wCV98qT5tG8VYPVzI9Zjq2f48ENk64QLF8V_h82v1tiQFuAJzq9tg28L3KOq-qYFUCd_BUg-DR6a",
                  "rating": "4.2",
                  "url": "https://maps.google.com/?cid=18185429137069829822",
                  "_deepnote_index_column": "9"
                },
                {
                  "id": "9f237dbe-0c1d-4abd-820d-998b63000bdd",
                  "place_id": "ChIJLXit-DokcC4RJ0wTyzIGkdE",
                  "categories": "cafe, food, point_of_interest, establishment",
                  "province": "Jawa Tengah",
                  "regency": "Kota Pekalongan",
                  "district": "Kecamatan Pekalongan Timur",
                  "village": "Noyontaan",
                  "postal_code": "51128",
                  "name": "Cafe Biru Mbak Trie",
                  "latitude": "-6.8982706",
                  "longitude": "109.6786946",
                  "photo": "AZose0m-XKtBn0yAB_o0sI1zY0lI5SYHYrbSbojC_Ms85TBklLBCwLhlweIbySMp8YfMLY8x-N87foQqIjTXe2be_tmMTfHVnzvoqL8K6u4gTdMBcRzZ9Aj0sC7HNn680ALex5lgMiKGQDme-b6WbB-O4Hx8dJx-hRVJxNaZNwTTJ8yL4TZx",
                  "rating": "4.7",
                  "url": "https://maps.google.com/?cid=15100857840775154727",
                  "_deepnote_index_column": "10"
                },
                {
                  "id": "6a88c3c6-e0ae-422e-bb06-e0ef8afc4bde",
                  "place_id": "ChIJx91u_jokcC4R7wBTGDwqI5w",
                  "categories": "cafe, food, point_of_interest, establishment",
                  "province": "Jawa Tengah",
                  "regency": "Kota Pekalongan",
                  "district": "Kecamatan Pekalongan Timur",
                  "village": "Keputran",
                  "postal_code": "51128",
                  "name": "Teh Kartini",
                  "latitude": "-6.898119400000001",
                  "longitude": "109.6778527",
                  "photo": "N/A",
                  "rating": "5.0",
                  "url": "https://maps.google.com/?cid=11250882731696128239",
                  "_deepnote_index_column": "11"
                },
                {
                  "id": "085499b9-5d92-4adb-9056-5ccc884530a1",
                  "place_id": "ChIJL4gleAQlcC4RNBUHm5UCHyY",
                  "categories": "cafe, food, point_of_interest, store, establishment",
                  "province": "Jawa Tengah",
                  "regency": "Kota Pekalongan",
                  "district": "Kecamatan Pekalongan Timur",
                  "village": "Keputran",
                  "postal_code": "51128",
                  "name": "Warung Es SELERA",
                  "latitude": "-6.896546799999999",
                  "longitude": "109.6781243",
                  "photo": "AZose0n-UjEMS-GpvxywobXHATYZdiQ6JIqzFXJEQq7m1U9lsB5mr_Cb8kgusjCwKA0cq_exNG2yeRDksTT881QfbuBHBEuVSDk5r35HnYANrHlg7hy4jBcO4lydcuLV3sOPhHH85zf1VHLBmU_n3P1XPHka3c6i_N1l0XvWeAyveGy9t0dr",
                  "rating": "5.0",
                  "url": "https://maps.google.com/?cid=2746917139293607220",
                  "_deepnote_index_column": "12"
                },
                {
                  "id": "67ac41c7-b06c-4067-a3d7-0ab414762cd0",
                  "place_id": "ChIJtdjYhDokcC4RcjJJXrVh2RI",
                  "categories": "cafe, food, point_of_interest, establishment",
                  "province": "Central Java",
                  "regency": "Pekalongan City",
                  "district": "Pekalongan Timur",
                  "village": "Keputran",
                  "postal_code": "51128",
                  "name": "nyoklat kartini",
                  "latitude": "-6.896499700000001",
                  "longitude": "109.6781533",
                  "photo": "AZose0lkyghBhqemP5bpMdn4MyNHR5YxaKaySWoFIhcl2JlPMZc-s2B_qwNR6-AnAIHJUXkMtf6JQzhHM7gR_mW1qt5GNr9tI3YNESh0mYyc7rWJVSO3MQ18Rl84n5AtjhCWhQ6QYorBKGsbUL2p8ASYzdaPveDbrE1Ks6UOPTXaL3mKt-AF",
                  "rating": "3.0",
                  "url": "https://maps.google.com/?cid=1358224194227745394",
                  "_deepnote_index_column": "13"
                },
                {
                  "id": "3d34d90c-fa24-4169-8d2e-70a33d793e7f",
                  "place_id": "ChIJr-t4QHIlcC4RXYw3TASez1o",
                  "categories": "cafe, food, point_of_interest, establishment",
                  "province": "Jawa Tengah",
                  "regency": "Kota Pekalongan",
                  "district": "Kecamatan Pekalongan Timur",
                  "village": "Keputran",
                  "postal_code": "51128",
                  "name": "DUM THAI TEA KARTINI PEKALONGAN",
                  "latitude": "-6.8964363",
                  "longitude": "109.6780516",
                  "photo": "AZose0mA81PWU9iCvHKC3TyePHmt0sYb2Sye-2Pq8YgkzIfsCgzcsv2DArtgOn2SJ2Vg5oY6YDaYIzy9waV1RJ-hebz1nlPtiWQFGc1NRlzmsTl-xIkmUEKEGbLCXSkfF30TUnTXKcNf5x2qIY1Yb1JIVQyq4eGAOUpvmhFGE61Up7V9yOco",
                  "rating": "5.0",
                  "url": "https://maps.google.com/?cid=6543622524888386653",
                  "_deepnote_index_column": "14"
                },
                {
                  "id": "d43f613d-eaad-424f-9e02-0b666293b2b1",
                  "place_id": "ChIJq6Cv_zokcC4Rn1RmWbmMkcs",
                  "categories": "cafe, food, point_of_interest, establishment",
                  "province": "Jawa Tengah",
                  "regency": "Kota Pekalongan",
                  "district": "Kecamatan Pekalongan Timur",
                  "village": "Noyontaan",
                  "postal_code": "51128",
                  "name": "Batagor Ayo Dong Bang Agus",
                  "latitude": "-6.8986782",
                  "longitude": "109.6787809",
                  "photo": "AZose0mbupFBfqzIu0qfN7Dyr6AQ447T21jvQKavmwa4uHJXc7g6sUoU4OC72xoKj-u-vHZ1sBBrSNXSov5KNJiEQqmoMm5LDq9O14cBAdlnhzwiaiPpZDwpfjIuayTSU_IwR4OxvhQC82Btc2AviX3ZjorBslWGUxlkDtv6rPp13A5E_HZQ",
                  "rating": "4.1",
                  "url": "https://maps.google.com/?cid=14668660189019133087",
                  "_deepnote_index_column": "15"
                },
                {
                  "id": "e35f576c-9f5f-4603-99ab-cafb8c9aba61",
                  "place_id": "ChIJo1qemzokcC4Rp8h2Yk5m91Y",
                  "categories": "cafe, food, point_of_interest, store, establishment",
                  "province": "Jawa Tengah",
                  "regency": "Kota Pekalongan",
                  "district": "Kecamatan Pekalongan Timur",
                  "village": "Keputran",
                  "postal_code": "51128",
                  "name": "Kedai Rokok Dan Kopi Mirza",
                  "latitude": "-6.896452900000001",
                  "longitude": "109.677778",
                  "photo": "AZose0nEtu-HKz0rQUygZFC9c9njus6xGZeExYpZ_jFcm8KvrC93dWxbLEnZSHVfEl_STL4Y827Ko4St_768ImPJRBBCuATlH91fCNuBYibuQ529Bmg3Sbv2JjmcfP_GdJasxsmYCPUrECgdNtAkArZaLT5nK_JwOfpQH2AOQfkdY0zZyZHt",
                  "rating": "4.0",
                  "url": "https://maps.google.com/?cid=6266589893354768551",
                  "_deepnote_index_column": "16"
                },
                {
                  "id": "6e60f369-75da-4b1b-a013-25bef10afe7c",
                  "place_id": "ChIJYzx_TjokcC4RVQeUQT3p_6A",
                  "categories": "cafe, food, point_of_interest, store, establishment",
                  "province": "Jawa Tengah",
                  "regency": "Kota Pekalongan",
                  "district": "Kecamatan Pekalongan Timur",
                  "village": "Noyontaan",
                  "postal_code": "51129",
                  "name": "Dupak Kopi Tahlil",
                  "latitude": "-6.898200399999999",
                  "longitude": "109.6797508",
                  "photo": "AZose0mB4IdBZ8357KuZdGTngOsJEqJguYeSDDlZtnHsj93JHppTkFHGPxQgotci8SRaZOGgVb9YFT4L6ju9VEwqWWOA0yyVRlShrdQXmX9zvedZNxXk0GaFMCPWkePeZyMAHcxUyghIY_6x12HdKVptEGIf_OKbdICKr0oXVyBxNrrXzQ4",
                  "rating": "5.0",
                  "url": "https://maps.google.com/?cid=11601247614432184149",
                  "_deepnote_index_column": "17"
                },
                {
                  "id": "aaf9e3d2-4da5-49d4-8f75-6738aa1528c3",
                  "place_id": "ChIJ8R9M5eolcC4Ronxmxp983Y8",
                  "categories": "cafe, food, point_of_interest, establishment",
                  "province": "Jawa Tengah",
                  "regency": "Kota Pekalongan",
                  "district": "Kecamatan Pekalongan Timur",
                  "village": "Keputran",
                  "postal_code": "51128",
                  "name": "potato Tornado & Lesehan Pindang tetel Congor Ala Mak'e",
                  "latitude": "-6.896198",
                  "longitude": "109.6778627",
                  "photo": "AZose0n-VyWyrCxpvli5CztPX-j2pxCp31ZTF0tMbrIkycxgcIeLE4OFgZuZolxKU7m1P0TrAFFO1Cdey900WDPYO7w_zMkBhN5RTo_REDjFgyZC_KcEYEP2pXGQ8GPSRfJe2PJpEdS5b4N1qaRO2E0b334WWdoT-q-VIt16-7pEWxjpL0ma",
                  "rating": "5.0",
                  "url": "https://maps.google.com/?cid=10366578942946999458",
                  "_deepnote_index_column": "18"
                },
                {
                  "id": "abb66f4f-3051-4999-9a97-78f60c7f8ad7",
                  "place_id": "ChIJ531H6wIlcC4Ril53IX65Ctc",
                  "categories": "cafe, food, point_of_interest, establishment",
                  "province": "Jawa Tengah",
                  "regency": "Kota Pekalongan",
                  "district": "Kecamatan Pekalongan Timur",
                  "village": "Keputran",
                  "postal_code": "51128",
                  "name": "Juragan Angkringan",
                  "latitude": "-6.896132799999999",
                  "longitude": "109.6778454",
                  "photo": "N/A",
                  "rating": "0.0",
                  "url": "https://maps.google.com/?cid=15495401419300101770",
                  "_deepnote_index_column": "19"
                }
              ]
            },
            "text/plain": "                                      id                     place_id   \n0   e3758b56-021e-4641-9a0a-044be4620022  ChIJa6drWDokcC4RwtALTn71ixk  \\\n1   6ecc5a76-e26b-40fa-bbf7-167c9bf3083c  ChIJxVCUXCclcC4RNHd7B8RYVhA   \n2   a1e578a4-e9f8-4909-94a9-e182a64286d1  ChIJrXKnU6glcC4R40dDi2AiGVc   \n3   e73d644d-49e4-4f5e-8f00-70b3a415bf40  ChIJ55voFBolcC4RcoFS4YZs-nA   \n4   ab2bacef-ca3e-457b-a7e6-873ca22c60ab  ChIJrX1IizokcC4RlOXRvabIipY   \n5   6190c176-da98-4591-bd3b-a70aca955948  ChIJqa_VGSslcC4RJsDiEhyV7EE   \n6   4a24ffdd-fe10-427f-9f3c-167a9c5c3a28  ChIJJRRQ1JglcC4Rt15FbkT-dpk   \n7   b13bcd71-4b86-421e-9db2-7a44603109a9  ChIJRwf4WzokcC4RoIVK-wFjZNM   \n8   7c95570a-bf5d-4ad0-b647-7319ab693584  ChIJRR6sqjskcC4RxIsAa3Uxag8   \n9   f93981c4-1d47-4af5-a41c-d20692b7c0d0  ChIJq_QjWTokcC4Rvu4VG3OfX_w   \n10  9f237dbe-0c1d-4abd-820d-998b63000bdd  ChIJLXit-DokcC4RJ0wTyzIGkdE   \n11  6a88c3c6-e0ae-422e-bb06-e0ef8afc4bde  ChIJx91u_jokcC4R7wBTGDwqI5w   \n12  085499b9-5d92-4adb-9056-5ccc884530a1  ChIJL4gleAQlcC4RNBUHm5UCHyY   \n13  67ac41c7-b06c-4067-a3d7-0ab414762cd0  ChIJtdjYhDokcC4RcjJJXrVh2RI   \n14  3d34d90c-fa24-4169-8d2e-70a33d793e7f  ChIJr-t4QHIlcC4RXYw3TASez1o   \n15  d43f613d-eaad-424f-9e02-0b666293b2b1  ChIJq6Cv_zokcC4Rn1RmWbmMkcs   \n16  e35f576c-9f5f-4603-99ab-cafb8c9aba61  ChIJo1qemzokcC4Rp8h2Yk5m91Y   \n17  6e60f369-75da-4b1b-a013-25bef10afe7c  ChIJYzx_TjokcC4RVQeUQT3p_6A   \n18  aaf9e3d2-4da5-49d4-8f75-6738aa1528c3  ChIJ8R9M5eolcC4Ronxmxp983Y8   \n19  abb66f4f-3051-4999-9a97-78f60c7f8ad7  ChIJ531H6wIlcC4Ril53IX65Ctc   \n\n                                           categories      province   \n0        cafe, food, point_of_interest, establishment  Central Java  \\\n1        cafe, food, point_of_interest, establishment   Jawa Tengah   \n2        cafe, food, point_of_interest, establishment   Jawa Tengah   \n3        cafe, food, point_of_interest, establishment   Jawa Tengah   \n4        cafe, food, point_of_interest, establishment   Jawa Tengah   \n5        cafe, food, point_of_interest, establishment   Jawa Tengah   \n6        cafe, food, point_of_interest, establishment  Central Java   \n7        cafe, food, point_of_interest, establishment  Central Java   \n8        cafe, food, point_of_interest, establishment   Jawa Tengah   \n9        cafe, food, point_of_interest, establishment   Jawa Tengah   \n10       cafe, food, point_of_interest, establishment   Jawa Tengah   \n11       cafe, food, point_of_interest, establishment   Jawa Tengah   \n12  cafe, food, point_of_interest, store, establis...   Jawa Tengah   \n13       cafe, food, point_of_interest, establishment  Central Java   \n14       cafe, food, point_of_interest, establishment   Jawa Tengah   \n15       cafe, food, point_of_interest, establishment   Jawa Tengah   \n16  cafe, food, point_of_interest, store, establis...   Jawa Tengah   \n17  cafe, food, point_of_interest, store, establis...   Jawa Tengah   \n18       cafe, food, point_of_interest, establishment   Jawa Tengah   \n19       cafe, food, point_of_interest, establishment   Jawa Tengah   \n\n            regency                    district    village postal_code   \n0   Pekalongan City            Pekalongan Timur  Noyontaan       51128  \\\n1   Kota Pekalongan  Kecamatan Pekalongan Timur   Keputran       51128   \n2   Kota Pekalongan  Kecamatan Pekalongan Timur   Keputran       51128   \n3   Kota Pekalongan  Kecamatan Pekalongan Timur   Keputran       51128   \n4   Kota Pekalongan  Kecamatan Pekalongan Timur   Keputran       51128   \n5   Kota Pekalongan  Kecamatan Pekalongan Timur   Keputran       51128   \n6   Pekalongan City            Pekalongan Timur  Noyontaan       51128   \n7   Pekalongan City            Pekalongan Timur  Noyontaan       51129   \n8   Kota Pekalongan  Kecamatan Pekalongan Timur  Noyontaan       51128   \n9   Kota Pekalongan  Kecamatan Pekalongan Timur  Noyontaan       51128   \n10  Kota Pekalongan  Kecamatan Pekalongan Timur  Noyontaan       51128   \n11  Kota Pekalongan  Kecamatan Pekalongan Timur   Keputran       51128   \n12  Kota Pekalongan  Kecamatan Pekalongan Timur   Keputran       51128   \n13  Pekalongan City            Pekalongan Timur   Keputran       51128   \n14  Kota Pekalongan  Kecamatan Pekalongan Timur   Keputran       51128   \n15  Kota Pekalongan  Kecamatan Pekalongan Timur  Noyontaan       51128   \n16  Kota Pekalongan  Kecamatan Pekalongan Timur   Keputran       51128   \n17  Kota Pekalongan  Kecamatan Pekalongan Timur  Noyontaan       51129   \n18  Kota Pekalongan  Kecamatan Pekalongan Timur   Keputran       51128   \n19  Kota Pekalongan  Kecamatan Pekalongan Timur   Keputran       51128   \n\n                                                 name  latitude   longitude   \n0                                        Teh Tong TJI -6.897833  109.678888  \\\n1                                      Cava milkshake -6.897344  109.678499   \n2                                 Angkringan gondrong -6.897316  109.678493   \n3                                    Angkringan Memet -6.897316  109.678493   \n4                               Seblak food sundanese -6.897264  109.678521   \n5                                             brabuuz -6.897159  109.678269   \n6                                         HOBI4D cafe -6.897801  109.679060   \n7                         Pak Herman Coffee and Guyon -6.897581  109.679227   \n8                                          A&S Coffee -6.898061  109.678906   \n9                                           Mata cafe -6.898050  109.678957   \n10                                Cafe Biru Mbak Trie -6.898271  109.678695   \n11                                        Teh Kartini -6.898119  109.677853   \n12                                   Warung Es SELERA -6.896547  109.678124   \n13                                    nyoklat kartini -6.896500  109.678153   \n14                    DUM THAI TEA KARTINI PEKALONGAN -6.896436  109.678052   \n15                         Batagor Ayo Dong Bang Agus -6.898678  109.678781   \n16                         Kedai Rokok Dan Kopi Mirza -6.896453  109.677778   \n17                                  Dupak Kopi Tahlil -6.898200  109.679751   \n18  potato Tornado & Lesehan Pindang tetel Congor ... -6.896198  109.677863   \n19                                 Juragan Angkringan -6.896133  109.677845   \n\n                                                photo  rating   \n0                                                 N/A     5.0  \\\n1                                                 N/A     0.0   \n2                                                 N/A     0.0   \n3   AZose0n_KskzcWAtJHjS9IVkkOVyhNFdFe0l6Z4YvUfpGd...     5.0   \n4   AZose0lbz4jXJE-r4uUesDSgP7AoDEXVShhpuvfo2SMW_e...     4.0   \n5                                                 N/A     0.0   \n6                                                 N/A     0.0   \n7   AZose0noul_ivG6M36oH_nTj9jq45g-qvJH746ZXBIX4X0...     4.7   \n8   AZose0la7-t2JYADmt5Np9BfcynnBzG9Z07Jm47SV3zH3B...     5.0   \n9   AZose0md1RwkXH2QjsQwR821kh8DfvwBYZ7ZzYQxKY-79V...     4.2   \n10  AZose0m-XKtBn0yAB_o0sI1zY0lI5SYHYrbSbojC_Ms85T...     4.7   \n11                                                N/A     5.0   \n12  AZose0n-UjEMS-GpvxywobXHATYZdiQ6JIqzFXJEQq7m1U...     5.0   \n13  AZose0lkyghBhqemP5bpMdn4MyNHR5YxaKaySWoFIhcl2J...     3.0   \n14  AZose0mA81PWU9iCvHKC3TyePHmt0sYb2Sye-2Pq8YgkzI...     5.0   \n15  AZose0mbupFBfqzIu0qfN7Dyr6AQ447T21jvQKavmwa4uH...     4.1   \n16  AZose0nEtu-HKz0rQUygZFC9c9njus6xGZeExYpZ_jFcm8...     4.0   \n17  AZose0mB4IdBZ8357KuZdGTngOsJEqJguYeSDDlZtnHsj9...     5.0   \n18  AZose0n-VyWyrCxpvli5CztPX-j2pxCp31ZTF0tMbrIkyc...     5.0   \n19                                                N/A     0.0   \n\n                                                  url  \n0    https://maps.google.com/?cid=1840834795535061186  \n1    https://maps.google.com/?cid=1177225951566329652  \n2    https://maps.google.com/?cid=6276085353766143971  \n3    https://maps.google.com/?cid=8140938602987290994  \n4   https://maps.google.com/?cid=10847703270950036884  \n5    https://maps.google.com/?cid=4750335654777503782  \n6   https://maps.google.com/?cid=11058305504916102839  \n7   https://maps.google.com/?cid=15232408699835942304  \n8    https://maps.google.com/?cid=1110754638476381124  \n9   https://maps.google.com/?cid=18185429137069829822  \n10  https://maps.google.com/?cid=15100857840775154727  \n11  https://maps.google.com/?cid=11250882731696128239  \n12   https://maps.google.com/?cid=2746917139293607220  \n13   https://maps.google.com/?cid=1358224194227745394  \n14   https://maps.google.com/?cid=6543622524888386653  \n15  https://maps.google.com/?cid=14668660189019133087  \n16   https://maps.google.com/?cid=6266589893354768551  \n17  https://maps.google.com/?cid=11601247614432184149  \n18  https://maps.google.com/?cid=10366578942946999458  \n19  https://maps.google.com/?cid=15495401419300101770  ",
            "text/html": "<div>\n<style scoped>\n    .dataframe tbody tr th:only-of-type {\n        vertical-align: middle;\n    }\n\n    .dataframe tbody tr th {\n        vertical-align: top;\n    }\n\n    .dataframe thead th {\n        text-align: right;\n    }\n</style>\n<table border=\"1\" class=\"dataframe\">\n  <thead>\n    <tr style=\"text-align: right;\">\n      <th></th>\n      <th>id</th>\n      <th>place_id</th>\n      <th>categories</th>\n      <th>province</th>\n      <th>regency</th>\n      <th>district</th>\n      <th>village</th>\n      <th>postal_code</th>\n      <th>name</th>\n      <th>latitude</th>\n      <th>longitude</th>\n      <th>photo</th>\n      <th>rating</th>\n      <th>url</th>\n    </tr>\n  </thead>\n  <tbody>\n    <tr>\n      <th>0</th>\n      <td>e3758b56-021e-4641-9a0a-044be4620022</td>\n      <td>ChIJa6drWDokcC4RwtALTn71ixk</td>\n      <td>cafe, food, point_of_interest, establishment</td>\n      <td>Central Java</td>\n      <td>Pekalongan City</td>\n      <td>Pekalongan Timur</td>\n      <td>Noyontaan</td>\n      <td>51128</td>\n      <td>Teh Tong TJI</td>\n      <td>-6.897833</td>\n      <td>109.678888</td>\n      <td>N/A</td>\n      <td>5.0</td>\n      <td>https://maps.google.com/?cid=1840834795535061186</td>\n    </tr>\n    <tr>\n      <th>1</th>\n      <td>6ecc5a76-e26b-40fa-bbf7-167c9bf3083c</td>\n      <td>ChIJxVCUXCclcC4RNHd7B8RYVhA</td>\n      <td>cafe, food, point_of_interest, establishment</td>\n      <td>Jawa Tengah</td>\n      <td>Kota Pekalongan</td>\n      <td>Kecamatan Pekalongan Timur</td>\n      <td>Keputran</td>\n      <td>51128</td>\n      <td>Cava milkshake</td>\n      <td>-6.897344</td>\n      <td>109.678499</td>\n      <td>N/A</td>\n      <td>0.0</td>\n      <td>https://maps.google.com/?cid=1177225951566329652</td>\n    </tr>\n    <tr>\n      <th>2</th>\n      <td>a1e578a4-e9f8-4909-94a9-e182a64286d1</td>\n      <td>ChIJrXKnU6glcC4R40dDi2AiGVc</td>\n      <td>cafe, food, point_of_interest, establishment</td>\n      <td>Jawa Tengah</td>\n      <td>Kota Pekalongan</td>\n      <td>Kecamatan Pekalongan Timur</td>\n      <td>Keputran</td>\n      <td>51128</td>\n      <td>Angkringan gondrong</td>\n      <td>-6.897316</td>\n      <td>109.678493</td>\n      <td>N/A</td>\n      <td>0.0</td>\n      <td>https://maps.google.com/?cid=6276085353766143971</td>\n    </tr>\n    <tr>\n      <th>3</th>\n      <td>e73d644d-49e4-4f5e-8f00-70b3a415bf40</td>\n      <td>ChIJ55voFBolcC4RcoFS4YZs-nA</td>\n      <td>cafe, food, point_of_interest, establishment</td>\n      <td>Jawa Tengah</td>\n      <td>Kota Pekalongan</td>\n      <td>Kecamatan Pekalongan Timur</td>\n      <td>Keputran</td>\n      <td>51128</td>\n      <td>Angkringan Memet</td>\n      <td>-6.897316</td>\n      <td>109.678493</td>\n      <td>AZose0n_KskzcWAtJHjS9IVkkOVyhNFdFe0l6Z4YvUfpGd...</td>\n      <td>5.0</td>\n      <td>https://maps.google.com/?cid=8140938602987290994</td>\n    </tr>\n    <tr>\n      <th>4</th>\n      <td>ab2bacef-ca3e-457b-a7e6-873ca22c60ab</td>\n      <td>ChIJrX1IizokcC4RlOXRvabIipY</td>\n      <td>cafe, food, point_of_interest, establishment</td>\n      <td>Jawa Tengah</td>\n      <td>Kota Pekalongan</td>\n      <td>Kecamatan Pekalongan Timur</td>\n      <td>Keputran</td>\n      <td>51128</td>\n      <td>Seblak food sundanese</td>\n      <td>-6.897264</td>\n      <td>109.678521</td>\n      <td>AZose0lbz4jXJE-r4uUesDSgP7AoDEXVShhpuvfo2SMW_e...</td>\n      <td>4.0</td>\n      <td>https://maps.google.com/?cid=10847703270950036884</td>\n    </tr>\n    <tr>\n      <th>5</th>\n      <td>6190c176-da98-4591-bd3b-a70aca955948</td>\n      <td>ChIJqa_VGSslcC4RJsDiEhyV7EE</td>\n      <td>cafe, food, point_of_interest, establishment</td>\n      <td>Jawa Tengah</td>\n      <td>Kota Pekalongan</td>\n      <td>Kecamatan Pekalongan Timur</td>\n      <td>Keputran</td>\n      <td>51128</td>\n      <td>brabuuz</td>\n      <td>-6.897159</td>\n      <td>109.678269</td>\n      <td>N/A</td>\n      <td>0.0</td>\n      <td>https://maps.google.com/?cid=4750335654777503782</td>\n    </tr>\n    <tr>\n      <th>6</th>\n      <td>4a24ffdd-fe10-427f-9f3c-167a9c5c3a28</td>\n      <td>ChIJJRRQ1JglcC4Rt15FbkT-dpk</td>\n      <td>cafe, food, point_of_interest, establishment</td>\n      <td>Central Java</td>\n      <td>Pekalongan City</td>\n      <td>Pekalongan Timur</td>\n      <td>Noyontaan</td>\n      <td>51128</td>\n      <td>HOBI4D cafe</td>\n      <td>-6.897801</td>\n      <td>109.679060</td>\n      <td>N/A</td>\n      <td>0.0</td>\n      <td>https://maps.google.com/?cid=11058305504916102839</td>\n    </tr>\n    <tr>\n      <th>7</th>\n      <td>b13bcd71-4b86-421e-9db2-7a44603109a9</td>\n      <td>ChIJRwf4WzokcC4RoIVK-wFjZNM</td>\n      <td>cafe, food, point_of_interest, establishment</td>\n      <td>Central Java</td>\n      <td>Pekalongan City</td>\n      <td>Pekalongan Timur</td>\n      <td>Noyontaan</td>\n      <td>51129</td>\n      <td>Pak Herman Coffee and Guyon</td>\n      <td>-6.897581</td>\n      <td>109.679227</td>\n      <td>AZose0noul_ivG6M36oH_nTj9jq45g-qvJH746ZXBIX4X0...</td>\n      <td>4.7</td>\n      <td>https://maps.google.com/?cid=15232408699835942304</td>\n    </tr>\n    <tr>\n      <th>8</th>\n      <td>7c95570a-bf5d-4ad0-b647-7319ab693584</td>\n      <td>ChIJRR6sqjskcC4RxIsAa3Uxag8</td>\n      <td>cafe, food, point_of_interest, establishment</td>\n      <td>Jawa Tengah</td>\n      <td>Kota Pekalongan</td>\n      <td>Kecamatan Pekalongan Timur</td>\n      <td>Noyontaan</td>\n      <td>51128</td>\n      <td>A&amp;S Coffee</td>\n      <td>-6.898061</td>\n      <td>109.678906</td>\n      <td>AZose0la7-t2JYADmt5Np9BfcynnBzG9Z07Jm47SV3zH3B...</td>\n      <td>5.0</td>\n      <td>https://maps.google.com/?cid=1110754638476381124</td>\n    </tr>\n    <tr>\n      <th>9</th>\n      <td>f93981c4-1d47-4af5-a41c-d20692b7c0d0</td>\n      <td>ChIJq_QjWTokcC4Rvu4VG3OfX_w</td>\n      <td>cafe, food, point_of_interest, establishment</td>\n      <td>Jawa Tengah</td>\n      <td>Kota Pekalongan</td>\n      <td>Kecamatan Pekalongan Timur</td>\n      <td>Noyontaan</td>\n      <td>51128</td>\n      <td>Mata cafe</td>\n      <td>-6.898050</td>\n      <td>109.678957</td>\n      <td>AZose0md1RwkXH2QjsQwR821kh8DfvwBYZ7ZzYQxKY-79V...</td>\n      <td>4.2</td>\n      <td>https://maps.google.com/?cid=18185429137069829822</td>\n    </tr>\n    <tr>\n      <th>10</th>\n      <td>9f237dbe-0c1d-4abd-820d-998b63000bdd</td>\n      <td>ChIJLXit-DokcC4RJ0wTyzIGkdE</td>\n      <td>cafe, food, point_of_interest, establishment</td>\n      <td>Jawa Tengah</td>\n      <td>Kota Pekalongan</td>\n      <td>Kecamatan Pekalongan Timur</td>\n      <td>Noyontaan</td>\n      <td>51128</td>\n      <td>Cafe Biru Mbak Trie</td>\n      <td>-6.898271</td>\n      <td>109.678695</td>\n      <td>AZose0m-XKtBn0yAB_o0sI1zY0lI5SYHYrbSbojC_Ms85T...</td>\n      <td>4.7</td>\n      <td>https://maps.google.com/?cid=15100857840775154727</td>\n    </tr>\n    <tr>\n      <th>11</th>\n      <td>6a88c3c6-e0ae-422e-bb06-e0ef8afc4bde</td>\n      <td>ChIJx91u_jokcC4R7wBTGDwqI5w</td>\n      <td>cafe, food, point_of_interest, establishment</td>\n      <td>Jawa Tengah</td>\n      <td>Kota Pekalongan</td>\n      <td>Kecamatan Pekalongan Timur</td>\n      <td>Keputran</td>\n      <td>51128</td>\n      <td>Teh Kartini</td>\n      <td>-6.898119</td>\n      <td>109.677853</td>\n      <td>N/A</td>\n      <td>5.0</td>\n      <td>https://maps.google.com/?cid=11250882731696128239</td>\n    </tr>\n    <tr>\n      <th>12</th>\n      <td>085499b9-5d92-4adb-9056-5ccc884530a1</td>\n      <td>ChIJL4gleAQlcC4RNBUHm5UCHyY</td>\n      <td>cafe, food, point_of_interest, store, establis...</td>\n      <td>Jawa Tengah</td>\n      <td>Kota Pekalongan</td>\n      <td>Kecamatan Pekalongan Timur</td>\n      <td>Keputran</td>\n      <td>51128</td>\n      <td>Warung Es SELERA</td>\n      <td>-6.896547</td>\n      <td>109.678124</td>\n      <td>AZose0n-UjEMS-GpvxywobXHATYZdiQ6JIqzFXJEQq7m1U...</td>\n      <td>5.0</td>\n      <td>https://maps.google.com/?cid=2746917139293607220</td>\n    </tr>\n    <tr>\n      <th>13</th>\n      <td>67ac41c7-b06c-4067-a3d7-0ab414762cd0</td>\n      <td>ChIJtdjYhDokcC4RcjJJXrVh2RI</td>\n      <td>cafe, food, point_of_interest, establishment</td>\n      <td>Central Java</td>\n      <td>Pekalongan City</td>\n      <td>Pekalongan Timur</td>\n      <td>Keputran</td>\n      <td>51128</td>\n      <td>nyoklat kartini</td>\n      <td>-6.896500</td>\n      <td>109.678153</td>\n      <td>AZose0lkyghBhqemP5bpMdn4MyNHR5YxaKaySWoFIhcl2J...</td>\n      <td>3.0</td>\n      <td>https://maps.google.com/?cid=1358224194227745394</td>\n    </tr>\n    <tr>\n      <th>14</th>\n      <td>3d34d90c-fa24-4169-8d2e-70a33d793e7f</td>\n      <td>ChIJr-t4QHIlcC4RXYw3TASez1o</td>\n      <td>cafe, food, point_of_interest, establishment</td>\n      <td>Jawa Tengah</td>\n      <td>Kota Pekalongan</td>\n      <td>Kecamatan Pekalongan Timur</td>\n      <td>Keputran</td>\n      <td>51128</td>\n      <td>DUM THAI TEA KARTINI PEKALONGAN</td>\n      <td>-6.896436</td>\n      <td>109.678052</td>\n      <td>AZose0mA81PWU9iCvHKC3TyePHmt0sYb2Sye-2Pq8YgkzI...</td>\n      <td>5.0</td>\n      <td>https://maps.google.com/?cid=6543622524888386653</td>\n    </tr>\n    <tr>\n      <th>15</th>\n      <td>d43f613d-eaad-424f-9e02-0b666293b2b1</td>\n      <td>ChIJq6Cv_zokcC4Rn1RmWbmMkcs</td>\n      <td>cafe, food, point_of_interest, establishment</td>\n      <td>Jawa Tengah</td>\n      <td>Kota Pekalongan</td>\n      <td>Kecamatan Pekalongan Timur</td>\n      <td>Noyontaan</td>\n      <td>51128</td>\n      <td>Batagor Ayo Dong Bang Agus</td>\n      <td>-6.898678</td>\n      <td>109.678781</td>\n      <td>AZose0mbupFBfqzIu0qfN7Dyr6AQ447T21jvQKavmwa4uH...</td>\n      <td>4.1</td>\n      <td>https://maps.google.com/?cid=14668660189019133087</td>\n    </tr>\n    <tr>\n      <th>16</th>\n      <td>e35f576c-9f5f-4603-99ab-cafb8c9aba61</td>\n      <td>ChIJo1qemzokcC4Rp8h2Yk5m91Y</td>\n      <td>cafe, food, point_of_interest, store, establis...</td>\n      <td>Jawa Tengah</td>\n      <td>Kota Pekalongan</td>\n      <td>Kecamatan Pekalongan Timur</td>\n      <td>Keputran</td>\n      <td>51128</td>\n      <td>Kedai Rokok Dan Kopi Mirza</td>\n      <td>-6.896453</td>\n      <td>109.677778</td>\n      <td>AZose0nEtu-HKz0rQUygZFC9c9njus6xGZeExYpZ_jFcm8...</td>\n      <td>4.0</td>\n      <td>https://maps.google.com/?cid=6266589893354768551</td>\n    </tr>\n    <tr>\n      <th>17</th>\n      <td>6e60f369-75da-4b1b-a013-25bef10afe7c</td>\n      <td>ChIJYzx_TjokcC4RVQeUQT3p_6A</td>\n      <td>cafe, food, point_of_interest, store, establis...</td>\n      <td>Jawa Tengah</td>\n      <td>Kota Pekalongan</td>\n      <td>Kecamatan Pekalongan Timur</td>\n      <td>Noyontaan</td>\n      <td>51129</td>\n      <td>Dupak Kopi Tahlil</td>\n      <td>-6.898200</td>\n      <td>109.679751</td>\n      <td>AZose0mB4IdBZ8357KuZdGTngOsJEqJguYeSDDlZtnHsj9...</td>\n      <td>5.0</td>\n      <td>https://maps.google.com/?cid=11601247614432184149</td>\n    </tr>\n    <tr>\n      <th>18</th>\n      <td>aaf9e3d2-4da5-49d4-8f75-6738aa1528c3</td>\n      <td>ChIJ8R9M5eolcC4Ronxmxp983Y8</td>\n      <td>cafe, food, point_of_interest, establishment</td>\n      <td>Jawa Tengah</td>\n      <td>Kota Pekalongan</td>\n      <td>Kecamatan Pekalongan Timur</td>\n      <td>Keputran</td>\n      <td>51128</td>\n      <td>potato Tornado &amp; Lesehan Pindang tetel Congor ...</td>\n      <td>-6.896198</td>\n      <td>109.677863</td>\n      <td>AZose0n-VyWyrCxpvli5CztPX-j2pxCp31ZTF0tMbrIkyc...</td>\n      <td>5.0</td>\n      <td>https://maps.google.com/?cid=10366578942946999458</td>\n    </tr>\n    <tr>\n      <th>19</th>\n      <td>abb66f4f-3051-4999-9a97-78f60c7f8ad7</td>\n      <td>ChIJ531H6wIlcC4Ril53IX65Ctc</td>\n      <td>cafe, food, point_of_interest, establishment</td>\n      <td>Jawa Tengah</td>\n      <td>Kota Pekalongan</td>\n      <td>Kecamatan Pekalongan Timur</td>\n      <td>Keputran</td>\n      <td>51128</td>\n      <td>Juragan Angkringan</td>\n      <td>-6.896133</td>\n      <td>109.677845</td>\n      <td>N/A</td>\n      <td>0.0</td>\n      <td>https://maps.google.com/?cid=15495401419300101770</td>\n    </tr>\n  </tbody>\n</table>\n</div>"
          },
          "metadata": {}
        }
      ],
      "execution_count": 12
    },
    {
      "cell_type": "code",
      "source": "df.to_csv(\"google_maps_data.csv\", index=False)",
      "metadata": {
        "cell_id": "ef7d6100aeaa4918b726b1189bfb2e2b",
        "source_hash": "2e99f4fc",
        "execution_start": 1684371125449,
        "execution_millis": 8,
        "deepnote_app_coordinates": {
          "h": 3,
          "w": 12,
          "x": 0,
          "y": 136
        },
        "deepnote_to_be_reexecuted": false,
        "deepnote_cell_type": "code"
      },
      "outputs": [],
      "execution_count": 13
    },
    {
      "cell_type": "markdown",
      "source": "<a style='text-decoration:none;line-height:16px;display:flex;color:#5B5B62;padding:10px;justify-content:end;' href='https://deepnote.com?utm_source=created-in-deepnote-cell&projectId=fa0ff5c2-b244-406d-b1f4-a2f4cd653e27' target=\"_blank\">\n<img alt='Created in deepnote.com' style='display:inline;max-height:16px;margin:0px;margin-right:7.5px;' src='data:image/svg+xml;base64,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' > </img>\nCreated in <span style='font-weight:600;margin-left:4px;'>Deepnote</span></a>",
      "metadata": {
        "created_in_deepnote_cell": true,
        "deepnote_cell_type": "markdown"
      }
    }
  ],
  "nbformat": 4,
  "nbformat_minor": 0,
  "metadata": {
    "deepnote": {},
    "orig_nbformat": 2,
    "deepnote_app_layout": "article",
    "deepnote_notebook_id": "148554cc78a84801b7834334c9e0868f",
    "deepnote_persisted_session": {
      "createdAt": "2023-05-17T16:31:27.790Z"
    },
    "deepnote_execution_queue": []
  }
}