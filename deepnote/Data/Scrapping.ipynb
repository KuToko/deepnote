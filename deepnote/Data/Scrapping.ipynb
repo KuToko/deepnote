{
  "cells": [
    {
      "cell_type": "code",
      "source": "import os\nimport requests\nimport json\nimport pandas as pd",
      "metadata": {
        "cell_id": "87003d5a6c3c44f3be2d524bfc8813a7",
        "source_hash": "31ab7a14",
        "execution_start": 1684311552598,
        "execution_millis": 2,
        "deepnote_to_be_reexecuted": false,
        "deepnote_cell_type": "code"
      },
      "outputs": [],
      "execution_count": 1
    },
    {
      "cell_type": "code",
      "source": "from pandasai import PandasAI\n\nfrom pandasai.llm.openai import OpenAI\nllm = OpenAI(api_token=os.environ[\"OPENAI_API_KEY\"])",
      "metadata": {
        "cell_id": "f27e5ef0d1c2454e836dfa44be5ca2d2",
        "source_hash": "88967f7e",
        "execution_start": 1684311552601,
        "execution_millis": 554,
        "deepnote_to_be_reexecuted": false,
        "deepnote_cell_type": "code"
      },
      "outputs": [],
      "execution_count": 2
    },
    {
      "cell_type": "markdown",
      "source": "Location: [latitude, longitude]",
      "metadata": {
        "cell_id": "1be37b0aa41c48a19ad3ca96b333307c",
        "formattedRanges": [],
        "deepnote_cell_type": "text-cell-p"
      }
    },
    {
      "cell_type": "markdown",
      "source": "List Place Type: https://developers.google.com/maps/documentation/places/web-service/supported_types?hl=id",
      "metadata": {
        "cell_id": "e5828f90-2bed-4e87-8458-79ac3001a2c7",
        "formattedRanges": [
          {
            "url": "https://developers.google.com/maps/documentation/places/web-service/supported_types?hl=id",
            "type": "link",
            "ranges": [],
            "toCodePoint": 106,
            "fromCodePoint": 17
          }
        ],
        "deepnote_cell_type": "text-cell-p"
      }
    },
    {
      "cell_type": "code",
      "source": "api_key = os.environ[\"GOOGLE_MAPS_API_KEY\"]\n\nlocation = '-6.89742292289528,109.678618210094'\nradius = '1000'\n\nplace_type = 'cafe'",
      "metadata": {
        "cell_id": "123c54a5ea1d43c284505d613ae35eba",
        "source_hash": "3b319667",
        "execution_start": 1684311553200,
        "execution_millis": 2,
        "deepnote_to_be_reexecuted": false,
        "deepnote_cell_type": "code"
      },
      "outputs": [],
      "execution_count": 3
    },
    {
      "cell_type": "code",
      "source": "url = f'https://maps.googleapis.com/maps/api/place/nearbysearch/json?location={location}&radius={radius}&type={place_type}&business_status=operational&key={api_key}'\n\nresponse = requests.get(url)\ndata = json.loads(response.text)\n\nbusinesses = []\n\nfor result in data['results']:\n    name = result['name']\n    address = result['vicinity']\n    latitude = result['geometry']['location']['lat']\n    longitude = result['geometry']['location']['lng']\n    rating = result.get('rating', 0)\n    compound_code = result.get('plus_code', {}).get('compound_code', 'N/A')\n    province = compound_code.split(',')[-2].strip() if compound_code != 'N/A' else 'N/A'\n    city = compound_code.split(',')[-3].split(' ')[1].strip() if compound_code != 'N/A' else 'N/A'\n    categories = ', '.join(result.get('types', []))\n\n    businesses.append({\n        'name': name,\n        'province': province,\n        'city': city,\n        'address': address,\n        'latitude': latitude,\n        'longitude': longitude,\n        'categories': categories,\n        'rating': rating,\n    })\n\ndf = pd.DataFrame(businesses, columns=['name', 'province', 'city', 'address', 'latitude', 'longitude', 'categories', 'rating'])",
      "metadata": {
        "cell_id": "da4959bbce5749cf902aa5da47cf3472",
        "source_hash": "8fd51dab",
        "execution_start": 1684311619036,
        "execution_millis": 77,
        "deepnote_to_be_reexecuted": false,
        "deepnote_cell_type": "code"
      },
      "outputs": [],
      "execution_count": 9
    },
    {
      "cell_type": "code",
      "source": "df_1 = _deepnote_execute_sql('SELECT * FROM df', 'SQL_DEEPNOTE_DATAFRAME_SQL')\ndf_1",
      "metadata": {
        "cell_id": "6e294558bf8743399c919fcdc36e153d",
        "source_hash": "998ebb7a",
        "execution_start": 1684311623606,
        "execution_millis": 667,
        "sql_integration_id": "deepnote-dataframe-sql",
        "deepnote_table_state": {
          "sortBy": [],
          "filters": [],
          "pageSize": 100,
          "pageIndex": 0
        },
        "deepnote_table_loading": false,
        "deepnote_variable_name": "df_1",
        "deepnote_to_be_reexecuted": false,
        "deepnote_cell_type": "sql",
        "deepnote_sql_source": "SELECT * FROM df"
      },
      "outputs": [
        {
          "data": {
            "application/vnd.deepnote.sql-output-metadata+json": {
              "status": "success_no_cache",
              "size_in_bytes": 8705
            }
          },
          "metadata": {},
          "output_type": "display_data"
        },
        {
          "output_type": "execute_result",
          "execution_count": 10,
          "data": {
            "application/vnd.deepnote.dataframe.v3+json": {
              "column_count": 8,
              "row_count": 20,
              "columns": [
                {
                  "name": "name",
                  "dtype": "object",
                  "stats": {
                    "unique_count": 20,
                    "nan_count": 0,
                    "categories": [
                      {
                        "name": "Teh Tong TJI",
                        "count": 1
                      },
                      {
                        "name": "Corleoné by Hoody",
                        "count": 1
                      },
                      {
                        "name": "18 others",
                        "count": 18
                      }
                    ]
                  }
                },
                {
                  "name": "province",
                  "dtype": "object",
                  "stats": {
                    "unique_count": 2,
                    "nan_count": 0,
                    "categories": [
                      {
                        "name": "Central Java",
                        "count": 14
                      },
                      {
                        "name": "N/A",
                        "count": 6
                      }
                    ]
                  }
                },
                {
                  "name": "city",
                  "dtype": "object",
                  "stats": {
                    "unique_count": 2,
                    "nan_count": 0,
                    "categories": [
                      {
                        "name": "Pekalongan",
                        "count": 14
                      },
                      {
                        "name": "N/A",
                        "count": 6
                      }
                    ]
                  }
                },
                {
                  "name": "address",
                  "dtype": "object",
                  "stats": {
                    "unique_count": 18,
                    "nan_count": 0,
                    "categories": [
                      {
                        "name": "Jalan R.A. Kartini No.40, RW.6, Keputran",
                        "count": 3
                      },
                      {
                        "name": "L1 , Plaza Pekalongan , JL. Nusantara No. 05 , Keputran, Pekalongan, 51128 Pekalongan Timur, Jawa Tengah, Noyontaan",
                        "count": 1
                      },
                      {
                        "name": "16 others",
                        "count": 16
                      }
                    ]
                  }
                },
                {
                  "name": "latitude",
                  "dtype": "float64",
                  "stats": {
                    "unique_count": 19,
                    "nan_count": 0,
                    "min": "-6.8986782",
                    "max": "-6.8888959",
                    "histogram": [
                      {
                        "bin_start": -6.8986782,
                        "bin_end": -6.89769997,
                        "count": 8
                      },
                      {
                        "bin_start": -6.89769997,
                        "bin_end": -6.89672174,
                        "count": 6
                      },
                      {
                        "bin_start": -6.89672174,
                        "bin_end": -6.89574351,
                        "count": 5
                      },
                      {
                        "bin_start": -6.89574351,
                        "bin_end": -6.89476528,
                        "count": 0
                      },
                      {
                        "bin_start": -6.89476528,
                        "bin_end": -6.89378705,
                        "count": 0
                      },
                      {
                        "bin_start": -6.89378705,
                        "bin_end": -6.89280882,
                        "count": 0
                      },
                      {
                        "bin_start": -6.89280882,
                        "bin_end": -6.89183059,
                        "count": 0
                      },
                      {
                        "bin_start": -6.89183059,
                        "bin_end": -6.890852359999999,
                        "count": 0
                      },
                      {
                        "bin_start": -6.890852359999999,
                        "bin_end": -6.88987413,
                        "count": 0
                      },
                      {
                        "bin_start": -6.88987413,
                        "bin_end": -6.8888959,
                        "count": 1
                      }
                    ]
                  }
                },
                {
                  "name": "longitude",
                  "dtype": "float64",
                  "stats": {
                    "unique_count": 19,
                    "nan_count": 0,
                    "min": "109.677778",
                    "max": "109.6797508",
                    "histogram": [
                      {
                        "bin_start": 109.677778,
                        "bin_end": 109.67797528,
                        "count": 3
                      },
                      {
                        "bin_start": 109.67797528,
                        "bin_end": 109.67817256000001,
                        "count": 3
                      },
                      {
                        "bin_start": 109.67817256000001,
                        "bin_end": 109.67836984,
                        "count": 1
                      },
                      {
                        "bin_start": 109.67836984,
                        "bin_end": 109.67856712,
                        "count": 4
                      },
                      {
                        "bin_start": 109.67856712,
                        "bin_end": 109.6787644,
                        "count": 1
                      },
                      {
                        "bin_start": 109.6787644,
                        "bin_end": 109.67896168,
                        "count": 4
                      },
                      {
                        "bin_start": 109.67896168,
                        "bin_end": 109.67915896,
                        "count": 1
                      },
                      {
                        "bin_start": 109.67915896,
                        "bin_end": 109.67935623999999,
                        "count": 1
                      },
                      {
                        "bin_start": 109.67935623999999,
                        "bin_end": 109.67955352,
                        "count": 0
                      },
                      {
                        "bin_start": 109.67955352,
                        "bin_end": 109.6797508,
                        "count": 2
                      }
                    ]
                  }
                },
                {
                  "name": "categories",
                  "dtype": "object",
                  "stats": {
                    "unique_count": 3,
                    "nan_count": 0,
                    "categories": [
                      {
                        "name": "cafe, point_of_interest, food, establishment",
                        "count": 16
                      },
                      {
                        "name": "cafe, point_of_interest, store, food, establishment",
                        "count": 3
                      },
                      {
                        "name": "restaurant, cafe, point_of_interest, food, establishment",
                        "count": 1
                      }
                    ]
                  }
                },
                {
                  "name": "rating",
                  "dtype": "float64",
                  "stats": {
                    "unique_count": 8,
                    "nan_count": 0,
                    "min": "0.0",
                    "max": "5.0",
                    "histogram": [
                      {
                        "bin_start": 0,
                        "bin_end": 0.5,
                        "count": 4
                      },
                      {
                        "bin_start": 0.5,
                        "bin_end": 1,
                        "count": 0
                      },
                      {
                        "bin_start": 1,
                        "bin_end": 1.5,
                        "count": 0
                      },
                      {
                        "bin_start": 1.5,
                        "bin_end": 2,
                        "count": 0
                      },
                      {
                        "bin_start": 2,
                        "bin_end": 2.5,
                        "count": 0
                      },
                      {
                        "bin_start": 2.5,
                        "bin_end": 3,
                        "count": 0
                      },
                      {
                        "bin_start": 3,
                        "bin_end": 3.5,
                        "count": 1
                      },
                      {
                        "bin_start": 3.5,
                        "bin_end": 4,
                        "count": 0
                      },
                      {
                        "bin_start": 4,
                        "bin_end": 4.5,
                        "count": 4
                      },
                      {
                        "bin_start": 4.5,
                        "bin_end": 5,
                        "count": 11
                      }
                    ]
                  }
                },
                {
                  "name": "_deepnote_index_column",
                  "dtype": "int64"
                }
              ],
              "rows": [
                {
                  "name": "Teh Tong TJI",
                  "province": "Central Java",
                  "city": "Pekalongan",
                  "address": "L1 , Plaza Pekalongan , JL. Nusantara No. 05 , Keputran, Pekalongan, 51128 Pekalongan Timur, Jawa Tengah, Noyontaan",
                  "latitude": "-6.897833",
                  "longitude": "109.678888",
                  "categories": "cafe, point_of_interest, food, establishment",
                  "rating": "5.0",
                  "_deepnote_index_column": "0"
                },
                {
                  "name": "Corleoné by Hoody",
                  "province": "Central Java",
                  "city": "Pekalongan",
                  "address": "Jalan Cempaka No.86a, Poncol",
                  "latitude": "-6.8888959",
                  "longitude": "109.6796209",
                  "categories": "restaurant, cafe, point_of_interest, food, establishment",
                  "rating": "4.6",
                  "_deepnote_index_column": "1"
                },
                {
                  "name": "Cava milkshake",
                  "province": "Central Java",
                  "city": "Pekalongan",
                  "address": "Jalan R.A. Kartini No.40, RW.6, Keputran",
                  "latitude": "-6.8973442",
                  "longitude": "109.6784991",
                  "categories": "cafe, point_of_interest, food, establishment",
                  "rating": "0.0",
                  "_deepnote_index_column": "2"
                },
                {
                  "name": "Angkringan gondrong",
                  "province": "Central Java",
                  "city": "Pekalongan",
                  "address": "Jalan R.A. Kartini No.40, RW.6, Keputran",
                  "latitude": "-6.897316099999999",
                  "longitude": "109.6784928",
                  "categories": "cafe, point_of_interest, food, establishment",
                  "rating": "0.0",
                  "_deepnote_index_column": "3"
                },
                {
                  "name": "Angkringan Memet",
                  "province": "Central Java",
                  "city": "Pekalongan",
                  "address": "Jalan R.A. Kartini No.40, RW.6, Keputran",
                  "latitude": "-6.897316099999999",
                  "longitude": "109.6784928",
                  "categories": "cafe, point_of_interest, food, establishment",
                  "rating": "5.0",
                  "_deepnote_index_column": "4"
                },
                {
                  "name": "Seblak food sundanese",
                  "province": "Central Java",
                  "city": "Pekalongan",
                  "address": "Jalan R.A. Kartini No.40, Keputran",
                  "latitude": "-6.897263799999999",
                  "longitude": "109.6785206",
                  "categories": "cafe, point_of_interest, food, establishment",
                  "rating": "4.0",
                  "_deepnote_index_column": "5"
                },
                {
                  "name": "brabuuz",
                  "province": "N/A",
                  "city": "N/A",
                  "address": "4M3H+48J, Jalan R.A. Kartini, Keputran",
                  "latitude": "-6.897158900000001",
                  "longitude": "109.6782694",
                  "categories": "cafe, point_of_interest, food, establishment",
                  "rating": "0.0",
                  "_deepnote_index_column": "6"
                },
                {
                  "name": "HOBI4D cafe",
                  "province": "N/A",
                  "city": "N/A",
                  "address": "4M2H+VJF, Noyontaan",
                  "latitude": "-6.897800699999999",
                  "longitude": "109.6790604",
                  "categories": "cafe, point_of_interest, food, establishment",
                  "rating": "0.0",
                  "_deepnote_index_column": "7"
                },
                {
                  "name": "Pak Herman Coffee and Guyon",
                  "province": "N/A",
                  "city": "N/A",
                  "address": "4M2H+XM9, Noyontaan",
                  "latitude": "-6.8975814",
                  "longitude": "109.6792271",
                  "categories": "cafe, point_of_interest, food, establishment",
                  "rating": "4.7",
                  "_deepnote_index_column": "8"
                },
                {
                  "name": "A&S Coffee",
                  "province": "N/A",
                  "city": "N/A",
                  "address": "4M2H+QHC, Jalan R.A. Kartini, Noyontaan",
                  "latitude": "-6.8980612",
                  "longitude": "109.678906",
                  "categories": "cafe, point_of_interest, food, establishment",
                  "rating": "5.0",
                  "_deepnote_index_column": "9"
                },
                {
                  "name": "Mata cafe",
                  "province": "Central Java",
                  "city": "Pekalongan",
                  "address": "Jalan R.A. Kartini No.48, Noyontaan",
                  "latitude": "-6.898049599999998",
                  "longitude": "109.6789575",
                  "categories": "cafe, point_of_interest, food, establishment",
                  "rating": "4.2",
                  "_deepnote_index_column": "10"
                },
                {
                  "name": "Cafe Biru Mbak Trie",
                  "province": "Central Java",
                  "city": "Pekalongan",
                  "address": "Jalan R.A. Kartini No.57-61, Noyontaan",
                  "latitude": "-6.8982706",
                  "longitude": "109.6786946",
                  "categories": "cafe, point_of_interest, food, establishment",
                  "rating": "4.7",
                  "_deepnote_index_column": "11"
                },
                {
                  "name": "Teh Kartini",
                  "province": "Central Java",
                  "city": "Pekalongan",
                  "address": "Jl, Jalan R.A. Kartini No.74, Keputran",
                  "latitude": "-6.898119400000001",
                  "longitude": "109.6778527",
                  "categories": "cafe, point_of_interest, food, establishment",
                  "rating": "5.0",
                  "_deepnote_index_column": "12"
                },
                {
                  "name": "Warung Es SELERA",
                  "province": "Central Java",
                  "city": "Pekalongan",
                  "address": "Jalan R.A. Kartini No.39, Keputran",
                  "latitude": "-6.896546799999999",
                  "longitude": "109.6781243",
                  "categories": "cafe, point_of_interest, store, food, establishment",
                  "rating": "5.0",
                  "_deepnote_index_column": "13"
                },
                {
                  "name": "nyoklat kartini",
                  "province": "N/A",
                  "city": "N/A",
                  "address": "4M3H+C72, Keputran",
                  "latitude": "-6.896499700000001",
                  "longitude": "109.6781533",
                  "categories": "cafe, point_of_interest, food, establishment",
                  "rating": "3.0",
                  "_deepnote_index_column": "14"
                },
                {
                  "name": "DUM THAI TEA KARTINI PEKALONGAN",
                  "province": "Central Java",
                  "city": "Pekalongan",
                  "address": "Jalan R.A. Kartini, Keputran",
                  "latitude": "-6.8964363",
                  "longitude": "109.6780516",
                  "categories": "cafe, point_of_interest, food, establishment",
                  "rating": "5.0",
                  "_deepnote_index_column": "15"
                },
                {
                  "name": "Batagor Ayo Dong Bang Agus",
                  "province": "Central Java",
                  "city": "Pekalongan",
                  "address": "Jalan R.A. Kartini No.63, Noyontaan",
                  "latitude": "-6.8986782",
                  "longitude": "109.6787809",
                  "categories": "cafe, point_of_interest, food, establishment",
                  "rating": "4.1",
                  "_deepnote_index_column": "16"
                },
                {
                  "name": "Kedai Rokok Dan Kopi Mirza",
                  "province": "Central Java",
                  "city": "Pekalongan",
                  "address": "Jalan R.A. Kartini No.37-43, Keputran",
                  "latitude": "-6.896452900000001",
                  "longitude": "109.677778",
                  "categories": "cafe, point_of_interest, store, food, establishment",
                  "rating": "4.0",
                  "_deepnote_index_column": "17"
                },
                {
                  "name": "Dupak Kopi Tahlil",
                  "province": "N/A",
                  "city": "N/A",
                  "address": "4M2H+PW6, Tim., Noyontaan",
                  "latitude": "-6.898200399999999",
                  "longitude": "109.6797508",
                  "categories": "cafe, point_of_interest, store, food, establishment",
                  "rating": "5.0",
                  "_deepnote_index_column": "18"
                },
                {
                  "name": "potato Tornado & Lesehan Pindang tetel Congor Ala Mak'e",
                  "province": "Central Java",
                  "city": "Pekalongan",
                  "address": "Jalan R.A. Kartini No.32-34, Keputran",
                  "latitude": "-6.896198",
                  "longitude": "109.6778627",
                  "categories": "cafe, point_of_interest, food, establishment",
                  "rating": "5.0",
                  "_deepnote_index_column": "19"
                }
              ]
            },
            "text/plain": "                                                 name      province   \n0                                        Teh Tong TJI  Central Java  \\\n1                                   Corleoné by Hoody  Central Java   \n2                                      Cava milkshake  Central Java   \n3                                 Angkringan gondrong  Central Java   \n4                                    Angkringan Memet  Central Java   \n5                               Seblak food sundanese  Central Java   \n6                                             brabuuz           N/A   \n7                                         HOBI4D cafe           N/A   \n8                         Pak Herman Coffee and Guyon           N/A   \n9                                          A&S Coffee           N/A   \n10                                          Mata cafe  Central Java   \n11                                Cafe Biru Mbak Trie  Central Java   \n12                                        Teh Kartini  Central Java   \n13                                   Warung Es SELERA  Central Java   \n14                                    nyoklat kartini           N/A   \n15                    DUM THAI TEA KARTINI PEKALONGAN  Central Java   \n16                         Batagor Ayo Dong Bang Agus  Central Java   \n17                         Kedai Rokok Dan Kopi Mirza  Central Java   \n18                                  Dupak Kopi Tahlil           N/A   \n19  potato Tornado & Lesehan Pindang tetel Congor ...  Central Java   \n\n          city                                            address  latitude   \n0   Pekalongan  L1 , Plaza Pekalongan , JL. Nusantara No. 05 ,... -6.897833  \\\n1   Pekalongan                       Jalan Cempaka No.86a, Poncol -6.888896   \n2   Pekalongan           Jalan R.A. Kartini No.40, RW.6, Keputran -6.897344   \n3   Pekalongan           Jalan R.A. Kartini No.40, RW.6, Keputran -6.897316   \n4   Pekalongan           Jalan R.A. Kartini No.40, RW.6, Keputran -6.897316   \n5   Pekalongan                 Jalan R.A. Kartini No.40, Keputran -6.897264   \n6          N/A             4M3H+48J, Jalan R.A. Kartini, Keputran -6.897159   \n7          N/A                                4M2H+VJF, Noyontaan -6.897801   \n8          N/A                                4M2H+XM9, Noyontaan -6.897581   \n9          N/A            4M2H+QHC, Jalan R.A. Kartini, Noyontaan -6.898061   \n10  Pekalongan                Jalan R.A. Kartini No.48, Noyontaan -6.898050   \n11  Pekalongan             Jalan R.A. Kartini No.57-61, Noyontaan -6.898271   \n12  Pekalongan             Jl, Jalan R.A. Kartini No.74, Keputran -6.898119   \n13  Pekalongan                 Jalan R.A. Kartini No.39, Keputran -6.896547   \n14         N/A                                 4M3H+C72, Keputran -6.896500   \n15  Pekalongan                       Jalan R.A. Kartini, Keputran -6.896436   \n16  Pekalongan                Jalan R.A. Kartini No.63, Noyontaan -6.898678   \n17  Pekalongan              Jalan R.A. Kartini No.37-43, Keputran -6.896453   \n18         N/A                          4M2H+PW6, Tim., Noyontaan -6.898200   \n19  Pekalongan              Jalan R.A. Kartini No.32-34, Keputran -6.896198   \n\n     longitude                                         categories  rating  \n0   109.678888       cafe, point_of_interest, food, establishment     5.0  \n1   109.679621  restaurant, cafe, point_of_interest, food, est...     4.6  \n2   109.678499       cafe, point_of_interest, food, establishment     0.0  \n3   109.678493       cafe, point_of_interest, food, establishment     0.0  \n4   109.678493       cafe, point_of_interest, food, establishment     5.0  \n5   109.678521       cafe, point_of_interest, food, establishment     4.0  \n6   109.678269       cafe, point_of_interest, food, establishment     0.0  \n7   109.679060       cafe, point_of_interest, food, establishment     0.0  \n8   109.679227       cafe, point_of_interest, food, establishment     4.7  \n9   109.678906       cafe, point_of_interest, food, establishment     5.0  \n10  109.678957       cafe, point_of_interest, food, establishment     4.2  \n11  109.678695       cafe, point_of_interest, food, establishment     4.7  \n12  109.677853       cafe, point_of_interest, food, establishment     5.0  \n13  109.678124  cafe, point_of_interest, store, food, establis...     5.0  \n14  109.678153       cafe, point_of_interest, food, establishment     3.0  \n15  109.678052       cafe, point_of_interest, food, establishment     5.0  \n16  109.678781       cafe, point_of_interest, food, establishment     4.1  \n17  109.677778  cafe, point_of_interest, store, food, establis...     4.0  \n18  109.679751  cafe, point_of_interest, store, food, establis...     5.0  \n19  109.677863       cafe, point_of_interest, food, establishment     5.0  ",
            "text/html": "<div>\n<style scoped>\n    .dataframe tbody tr th:only-of-type {\n        vertical-align: middle;\n    }\n\n    .dataframe tbody tr th {\n        vertical-align: top;\n    }\n\n    .dataframe thead th {\n        text-align: right;\n    }\n</style>\n<table border=\"1\" class=\"dataframe\">\n  <thead>\n    <tr style=\"text-align: right;\">\n      <th></th>\n      <th>name</th>\n      <th>province</th>\n      <th>city</th>\n      <th>address</th>\n      <th>latitude</th>\n      <th>longitude</th>\n      <th>categories</th>\n      <th>rating</th>\n    </tr>\n  </thead>\n  <tbody>\n    <tr>\n      <th>0</th>\n      <td>Teh Tong TJI</td>\n      <td>Central Java</td>\n      <td>Pekalongan</td>\n      <td>L1 , Plaza Pekalongan , JL. Nusantara No. 05 ,...</td>\n      <td>-6.897833</td>\n      <td>109.678888</td>\n      <td>cafe, point_of_interest, food, establishment</td>\n      <td>5.0</td>\n    </tr>\n    <tr>\n      <th>1</th>\n      <td>Corleoné by Hoody</td>\n      <td>Central Java</td>\n      <td>Pekalongan</td>\n      <td>Jalan Cempaka No.86a, Poncol</td>\n      <td>-6.888896</td>\n      <td>109.679621</td>\n      <td>restaurant, cafe, point_of_interest, food, est...</td>\n      <td>4.6</td>\n    </tr>\n    <tr>\n      <th>2</th>\n      <td>Cava milkshake</td>\n      <td>Central Java</td>\n      <td>Pekalongan</td>\n      <td>Jalan R.A. Kartini No.40, RW.6, Keputran</td>\n      <td>-6.897344</td>\n      <td>109.678499</td>\n      <td>cafe, point_of_interest, food, establishment</td>\n      <td>0.0</td>\n    </tr>\n    <tr>\n      <th>3</th>\n      <td>Angkringan gondrong</td>\n      <td>Central Java</td>\n      <td>Pekalongan</td>\n      <td>Jalan R.A. Kartini No.40, RW.6, Keputran</td>\n      <td>-6.897316</td>\n      <td>109.678493</td>\n      <td>cafe, point_of_interest, food, establishment</td>\n      <td>0.0</td>\n    </tr>\n    <tr>\n      <th>4</th>\n      <td>Angkringan Memet</td>\n      <td>Central Java</td>\n      <td>Pekalongan</td>\n      <td>Jalan R.A. Kartini No.40, RW.6, Keputran</td>\n      <td>-6.897316</td>\n      <td>109.678493</td>\n      <td>cafe, point_of_interest, food, establishment</td>\n      <td>5.0</td>\n    </tr>\n    <tr>\n      <th>5</th>\n      <td>Seblak food sundanese</td>\n      <td>Central Java</td>\n      <td>Pekalongan</td>\n      <td>Jalan R.A. Kartini No.40, Keputran</td>\n      <td>-6.897264</td>\n      <td>109.678521</td>\n      <td>cafe, point_of_interest, food, establishment</td>\n      <td>4.0</td>\n    </tr>\n    <tr>\n      <th>6</th>\n      <td>brabuuz</td>\n      <td>N/A</td>\n      <td>N/A</td>\n      <td>4M3H+48J, Jalan R.A. Kartini, Keputran</td>\n      <td>-6.897159</td>\n      <td>109.678269</td>\n      <td>cafe, point_of_interest, food, establishment</td>\n      <td>0.0</td>\n    </tr>\n    <tr>\n      <th>7</th>\n      <td>HOBI4D cafe</td>\n      <td>N/A</td>\n      <td>N/A</td>\n      <td>4M2H+VJF, Noyontaan</td>\n      <td>-6.897801</td>\n      <td>109.679060</td>\n      <td>cafe, point_of_interest, food, establishment</td>\n      <td>0.0</td>\n    </tr>\n    <tr>\n      <th>8</th>\n      <td>Pak Herman Coffee and Guyon</td>\n      <td>N/A</td>\n      <td>N/A</td>\n      <td>4M2H+XM9, Noyontaan</td>\n      <td>-6.897581</td>\n      <td>109.679227</td>\n      <td>cafe, point_of_interest, food, establishment</td>\n      <td>4.7</td>\n    </tr>\n    <tr>\n      <th>9</th>\n      <td>A&amp;S Coffee</td>\n      <td>N/A</td>\n      <td>N/A</td>\n      <td>4M2H+QHC, Jalan R.A. Kartini, Noyontaan</td>\n      <td>-6.898061</td>\n      <td>109.678906</td>\n      <td>cafe, point_of_interest, food, establishment</td>\n      <td>5.0</td>\n    </tr>\n    <tr>\n      <th>10</th>\n      <td>Mata cafe</td>\n      <td>Central Java</td>\n      <td>Pekalongan</td>\n      <td>Jalan R.A. Kartini No.48, Noyontaan</td>\n      <td>-6.898050</td>\n      <td>109.678957</td>\n      <td>cafe, point_of_interest, food, establishment</td>\n      <td>4.2</td>\n    </tr>\n    <tr>\n      <th>11</th>\n      <td>Cafe Biru Mbak Trie</td>\n      <td>Central Java</td>\n      <td>Pekalongan</td>\n      <td>Jalan R.A. Kartini No.57-61, Noyontaan</td>\n      <td>-6.898271</td>\n      <td>109.678695</td>\n      <td>cafe, point_of_interest, food, establishment</td>\n      <td>4.7</td>\n    </tr>\n    <tr>\n      <th>12</th>\n      <td>Teh Kartini</td>\n      <td>Central Java</td>\n      <td>Pekalongan</td>\n      <td>Jl, Jalan R.A. Kartini No.74, Keputran</td>\n      <td>-6.898119</td>\n      <td>109.677853</td>\n      <td>cafe, point_of_interest, food, establishment</td>\n      <td>5.0</td>\n    </tr>\n    <tr>\n      <th>13</th>\n      <td>Warung Es SELERA</td>\n      <td>Central Java</td>\n      <td>Pekalongan</td>\n      <td>Jalan R.A. Kartini No.39, Keputran</td>\n      <td>-6.896547</td>\n      <td>109.678124</td>\n      <td>cafe, point_of_interest, store, food, establis...</td>\n      <td>5.0</td>\n    </tr>\n    <tr>\n      <th>14</th>\n      <td>nyoklat kartini</td>\n      <td>N/A</td>\n      <td>N/A</td>\n      <td>4M3H+C72, Keputran</td>\n      <td>-6.896500</td>\n      <td>109.678153</td>\n      <td>cafe, point_of_interest, food, establishment</td>\n      <td>3.0</td>\n    </tr>\n    <tr>\n      <th>15</th>\n      <td>DUM THAI TEA KARTINI PEKALONGAN</td>\n      <td>Central Java</td>\n      <td>Pekalongan</td>\n      <td>Jalan R.A. Kartini, Keputran</td>\n      <td>-6.896436</td>\n      <td>109.678052</td>\n      <td>cafe, point_of_interest, food, establishment</td>\n      <td>5.0</td>\n    </tr>\n    <tr>\n      <th>16</th>\n      <td>Batagor Ayo Dong Bang Agus</td>\n      <td>Central Java</td>\n      <td>Pekalongan</td>\n      <td>Jalan R.A. Kartini No.63, Noyontaan</td>\n      <td>-6.898678</td>\n      <td>109.678781</td>\n      <td>cafe, point_of_interest, food, establishment</td>\n      <td>4.1</td>\n    </tr>\n    <tr>\n      <th>17</th>\n      <td>Kedai Rokok Dan Kopi Mirza</td>\n      <td>Central Java</td>\n      <td>Pekalongan</td>\n      <td>Jalan R.A. Kartini No.37-43, Keputran</td>\n      <td>-6.896453</td>\n      <td>109.677778</td>\n      <td>cafe, point_of_interest, store, food, establis...</td>\n      <td>4.0</td>\n    </tr>\n    <tr>\n      <th>18</th>\n      <td>Dupak Kopi Tahlil</td>\n      <td>N/A</td>\n      <td>N/A</td>\n      <td>4M2H+PW6, Tim., Noyontaan</td>\n      <td>-6.898200</td>\n      <td>109.679751</td>\n      <td>cafe, point_of_interest, store, food, establis...</td>\n      <td>5.0</td>\n    </tr>\n    <tr>\n      <th>19</th>\n      <td>potato Tornado &amp; Lesehan Pindang tetel Congor ...</td>\n      <td>Central Java</td>\n      <td>Pekalongan</td>\n      <td>Jalan R.A. Kartini No.32-34, Keputran</td>\n      <td>-6.896198</td>\n      <td>109.677863</td>\n      <td>cafe, point_of_interest, food, establishment</td>\n      <td>5.0</td>\n    </tr>\n  </tbody>\n</table>\n</div>"
          },
          "metadata": {}
        }
      ],
      "execution_count": 10
    },
    {
      "cell_type": "code",
      "source": "pandas_ai = PandasAI(llm)\npandas_ai.run(df, prompt='Try to create a good plot from this data')",
      "metadata": {
        "cell_id": "f86f19bfb8e6472999b899a814bccc21",
        "source_hash": "1a8a8765",
        "execution_start": 1684311628065,
        "execution_millis": 16860,
        "deepnote_to_be_reexecuted": false,
        "deepnote_cell_type": "code"
      },
      "outputs": [
        {
          "data": {
            "text/plain": "<Figure size 640x480 with 1 Axes>",
            "image/png": "[encoded data removed]"
          },
          "metadata": {
            "image/png": {
              "width": 562,
              "height": 455
            }
          },
          "output_type": "display_data"
        },
        {
          "output_type": "execute_result",
          "execution_count": 11,
          "data": {
            "text/plain": "'Sure, let me help you come up with a good plot based on the data you have.'"
          },
          "metadata": {}
        }
      ],
      "execution_count": 11
    },
    {
      "cell_type": "markdown",
      "source": "<a style='text-decoration:none;line-height:16px;display:flex;color:#5B5B62;padding:10px;justify-content:end;' href='https://deepnote.com?utm_source=created-in-deepnote-cell&projectId=fa0ff5c2-b244-406d-b1f4-a2f4cd653e27' target=\"_blank\">\n<img alt='Created in deepnote.com' style='display:inline;max-height:16px;margin:0px;margin-right:7.5px;' src='data:image/svg+xml;base64,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' > </img>\nCreated in <span style='font-weight:600;margin-left:4px;'>Deepnote</span></a>",
      "metadata": {
        "created_in_deepnote_cell": true,
        "deepnote_cell_type": "markdown"
      }
    }
  ],
  "nbformat": 4,
  "nbformat_minor": 0,
  "metadata": {
    "deepnote": {},
    "orig_nbformat": 2,
    "deepnote_notebook_id": "148554cc78a84801b7834334c9e0868f",
    "deepnote_execution_queue": []
  }
}