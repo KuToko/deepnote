{
  "cells": [
    {
      "cell_type": "code",
      "source": "import os\nimport requests\nimport json\nimport uuid\nimport pandas as pd\nfrom icecream import ic",
      "metadata": {
        "cell_id": "87003d5a6c3c44f3be2d524bfc8813a7",
        "source_hash": "ec00d6df",
        "execution_start": 1684607053295,
        "execution_millis": 117,
        "deepnote_app_coordinates": {
          "h": 8,
          "w": 12,
          "x": 0,
          "y": 1
        },
        "deepnote_to_be_reexecuted": false,
        "deepnote_cell_type": "code"
      },
      "outputs": [],
      "execution_count": 1
    },
    {
      "cell_type": "code",
      "source": "#Call Google Maps API Key\napi_key = os.environ[\"GOOGLE_MAPS_API_KEY\"]",
      "metadata": {
        "cell_id": "f9cc5ca73ce943abaef0769fc5f1ec09",
        "source_hash": "17b44a90",
        "execution_start": 1684607117795,
        "execution_millis": 1,
        "deepnote_to_be_reexecuted": false,
        "deepnote_cell_type": "code"
      },
      "outputs": [],
      "execution_count": 11
    },
    {
      "cell_type": "code",
      "source": "def lets_scrapping(api_key=None, latitude=None, longitude=None, radius=None, place_type=None, business_status='operational'):\n    url = f\"https://maps.googleapis.com/maps/api/place/nearbysearch/json?location={latitude},{longitude}&radius={radius}&type={place_type}&business_status={business_status}&key={api_key}\"\n    response = requests.get(url)\n    results = json.loads(response.text)\n\n    count = 0\n    for result in results['results']:\n        file_path = f'business_details/{result[\"place_id\"]}.json'\n        if os.path.exists(file_path):\n            continue;\n        else:\n            details_url = f'https://maps.googleapis.com/maps/api/place/details/json?place_id={result[\"place_id\"]}&key={api_key}'\n            details_response = requests.get(details_url)\n            details_data = json.loads(details_response.text)\n            \n            with open(file_path, \"w\") as f:\n                json.dump(details_data, f)\n            \n            count += 1\n\n    return count",
      "metadata": {
        "cell_id": "7c2b24c92a054cb0ab1d69adcd112a6d",
        "source_hash": "2922c188",
        "is_code_hidden": false,
        "execution_start": 1684607053492,
        "execution_millis": 1,
        "deepnote_to_be_reexecuted": false,
        "deepnote_cell_type": "code"
      },
      "outputs": [],
      "execution_count": 3
    },
    {
      "cell_type": "markdown",
      "source": "List Place Type: https://developers.google.com/maps/documentation/places/web-service/supported_types?hl=id",
      "metadata": {
        "cell_id": "e5828f90-2bed-4e87-8458-79ac3001a2c7",
        "formattedRanges": [
          {
            "url": "https://developers.google.com/maps/documentation/places/web-service/supported_types?hl=id",
            "type": "link",
            "ranges": [],
            "toCodePoint": 106,
            "fromCodePoint": 17
          }
        ],
        "deepnote_app_coordinates": {
          "h": 2,
          "w": 8,
          "x": 0,
          "y": 13
        },
        "deepnote_cell_type": "text-cell-p"
      }
    },
    {
      "cell_type": "code",
      "source": "place_types = '''accounting\nairport\namusement_park\naquarium\nart_gallery\natm\nbakery\nbank\nbar\nbeauty_salon\nbicycle_store\nbook_store\nbowling_alley\nbus_station\ncafe\ncampground\ncar_dealer\ncar_rental\ncar_repair\ncar_wash\ncasino\ncemetery\nchurch\ncity_hall\nclothing_store\nconvenience_store\ncourthouse\ndentist\ndepartment_store\ndoctor\ndrugstore\nelectrician\nelectronics_store\nembassy\nfire_station\nflorist\nfuneral_home\nfurniture_store\ngas_station\ngym\nhair_care\nhardware_store\nhindu_temple\nhome_goods_store\nhospital\ninsurance_agency\njewelry_store\nlaundry\nlawyer\nlibrary\nlight_rail_station\nliquor_store\nlocal_government_office\nlocksmith\nlodging\nmeal_delivery\nmeal_takeaway\nmosque\nmovie_rental\nmovie_theater\nmoving_company\nmuseum\nnight_club\npainter\npark\nparking\npet_store\npharmacy\nphysiotherapist\nplumber\npolice\npost_office\nprimary_school\nreal_estate_agency\nrestaurant\nroofing_contractor\nrv_park\nschool\nsecondary_school\nshoe_store\nshopping_mall\nspa\nstadium\nstorage\nstore\nsubway_station\nsupermarket\nsynagogue\ntaxi_stand\ntourist_attraction\ntrain_station\ntransit_station\ntravel_agency\nuniversity\nveterinary_care\nzoo'''\n\nlist_place_types = place_types.split('\\n')",
      "metadata": {
        "cell_id": "afa7d588c0ad49d796ebea672ad0c1ee",
        "source_hash": "bd3d5c8b",
        "is_code_hidden": false,
        "execution_start": 1684607053520,
        "execution_millis": 2,
        "deepnote_to_be_reexecuted": false,
        "deepnote_cell_type": "code"
      },
      "outputs": [],
      "execution_count": 4
    },
    {
      "cell_type": "code",
      "source": "latitude = '-7.0079701292679175'",
      "metadata": {
        "cell_id": "9b83d0b8f92f4f32a61b6b5ba7bb7268",
        "source_hash": "aaaa98e3",
        "execution_start": 1684607053521,
        "execution_millis": 3,
        "deepnote_variable_name": "latitude",
        "deepnote_variable_value": "-7.0079701292679175",
        "deepnote_to_be_reexecuted": false,
        "deepnote_cell_type": "input-text"
      },
      "outputs": [],
      "execution_count": 5
    },
    {
      "cell_type": "code",
      "source": "longitude = '113.86024111468386'",
      "metadata": {
        "cell_id": "93e8471ed33542eb9e1f3bd6e7ed793a",
        "source_hash": "bece5b23",
        "execution_start": 1684607053525,
        "execution_millis": 7,
        "deepnote_variable_name": "longitude",
        "deepnote_variable_value": "113.86024111468386",
        "deepnote_to_be_reexecuted": false,
        "deepnote_cell_type": "input-text"
      },
      "outputs": [],
      "execution_count": 6
    },
    {
      "cell_type": "code",
      "source": "radius = 2500",
      "metadata": {
        "cell_id": "e60c2b9a37c34c7cb6bbd44b9927698b",
        "source_hash": "e6bffac4",
        "execution_start": 1684607053575,
        "execution_millis": 2,
        "deepnote_slider_step": 10,
        "deepnote_variable_name": "radius",
        "deepnote_variable_value": "2500",
        "deepnote_slider_max_value": 5000,
        "deepnote_slider_min_value": 0,
        "deepnote_to_be_reexecuted": false,
        "deepnote_cell_type": "input-slider"
      },
      "outputs": [],
      "execution_count": 7
    },
    {
      "cell_type": "code",
      "source": "place_type = 'shoe_store'",
      "metadata": {
        "cell_id": "23545cdd13844f3a82408d41434fd87e",
        "source_hash": "9d793f87",
        "execution_start": 1684607053576,
        "execution_millis": 45,
        "deepnote_variable_name": "place_type",
        "deepnote_variable_value": "shoe_store",
        "deepnote_to_be_reexecuted": false,
        "deepnote_variable_options": [
          "accounting",
          "airport",
          "amusement_park",
          "aquarium",
          "art_gallery",
          "atm",
          "bakery",
          "bank",
          "bar",
          "beauty_salon",
          "bicycle_store",
          "book_store",
          "bowling_alley",
          "bus_station",
          "cafe",
          "campground",
          "car_dealer",
          "car_rental",
          "car_repair",
          "car_wash",
          "casino",
          "cemetery",
          "church",
          "city_hall",
          "clothing_store",
          "convenience_store",
          "courthouse",
          "dentist",
          "department_store",
          "doctor",
          "drugstore",
          "electrician",
          "electronics_store",
          "embassy",
          "fire_station",
          "florist",
          "funeral_home",
          "furniture_store",
          "gas_station",
          "gym",
          "hair_care",
          "hardware_store",
          "hindu_temple",
          "home_goods_store",
          "hospital",
          "insurance_agency",
          "jewelry_store",
          "laundry",
          "lawyer",
          "library",
          "light_rail_station",
          "liquor_store",
          "local_government_office",
          "locksmith",
          "lodging",
          "meal_delivery",
          "meal_takeaway",
          "mosque",
          "movie_rental",
          "movie_theater",
          "moving_company",
          "museum",
          "night_club",
          "painter",
          "park",
          "parking",
          "pet_store",
          "pharmacy",
          "physiotherapist",
          "plumber",
          "police",
          "post_office",
          "primary_school",
          "real_estate_agency",
          "restaurant",
          "roofing_contractor",
          "rv_park",
          "school",
          "secondary_school",
          "shoe_store",
          "shopping_mall",
          "spa",
          "stadium",
          "storage",
          "store",
          "subway_station",
          "supermarket",
          "synagogue",
          "taxi_stand",
          "tourist_attraction",
          "train_station",
          "transit_station",
          "travel_agency",
          "university",
          "veterinary_care",
          "zoo"
        ],
        "deepnote_variable_select_type": "from-variable",
        "deepnote_variable_custom_options": [],
        "deepnote_variable_selected_variable": "list_place_types",
        "deepnote_cell_type": "input-select"
      },
      "outputs": [],
      "execution_count": 8
    },
    {
      "cell_type": "code",
      "source": "count_new_data = lets_scrapping(api_key, latitude, longitude, radius, place_type)\nic(count_new_data)",
      "metadata": {
        "cell_id": "a8e7cad03e394a7ea583eceb4e65a012",
        "source_hash": "5180cd60",
        "execution_start": 1684607053620,
        "execution_millis": 2278,
        "deepnote_to_be_reexecuted": false,
        "deepnote_cell_type": "code"
      },
      "outputs": [
        {
          "name": "stderr",
          "text": "ic| count_new_data: 17\n",
          "output_type": "stream"
        },
        {
          "output_type": "execute_result",
          "execution_count": 9,
          "data": {
            "text/plain": "17"
          },
          "metadata": {}
        }
      ],
      "execution_count": 9
    },
    {
      "cell_type": "code",
      "source": "path = 'business_details'\nlist_dir = os.listdir(path)\nnum_files = len(list_dir)\n\nic(f\"Business Count: {num_files}\")",
      "metadata": {
        "cell_id": "7e5d2e00fbfa4e2395ced80f54629693",
        "source_hash": "55a0498a",
        "execution_start": 1684607055897,
        "execution_millis": 45,
        "deepnote_to_be_reexecuted": false,
        "deepnote_cell_type": "code"
      },
      "outputs": [
        {
          "name": "stderr",
          "text": "ic| f\"Business Count: {num_files}\": 'Business Count: 1203'\n",
          "output_type": "stream"
        },
        {
          "output_type": "execute_result",
          "execution_count": 10,
          "data": {
            "text/plain": "'Business Count: 1203'"
          },
          "metadata": {}
        }
      ],
      "execution_count": 10
    },
    {
      "cell_type": "markdown",
      "source": "<a style='text-decoration:none;line-height:16px;display:flex;color:#5B5B62;padding:10px;justify-content:end;' href='https://deepnote.com?utm_source=created-in-deepnote-cell&projectId=fa0ff5c2-b244-406d-b1f4-a2f4cd653e27' target=\"_blank\">\n<img alt='Created in deepnote.com' style='display:inline;max-height:16px;margin:0px;margin-right:7.5px;' src='data:image/svg+xml;base64,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' > </img>\nCreated in <span style='font-weight:600;margin-left:4px;'>Deepnote</span></a>",
      "metadata": {
        "created_in_deepnote_cell": true,
        "deepnote_cell_type": "markdown"
      }
    }
  ],
  "nbformat": 4,
  "nbformat_minor": 0,
  "metadata": {
    "deepnote": {},
    "orig_nbformat": 2,
    "deepnote_app_layout": "article",
    "deepnote_notebook_id": "148554cc78a84801b7834334c9e0868f",
    "deepnote_persisted_session": {
      "createdAt": "2023-05-20T18:47:18.684Z"
    },
    "deepnote_execution_queue": []
  }
}